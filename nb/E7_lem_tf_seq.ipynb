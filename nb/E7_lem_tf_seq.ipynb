{
 "cells": [
  {
   "cell_type": "code",
   "execution_count": null,
   "metadata": {},
   "outputs": [],
   "source": [
    "#!pip install --upgrade pip imbalanced-learn\n",
    "#!pip install tensorflow-gpu==2.0.0-rc0 \n",
    "\n",
    "#tensorboard --logdir /home/kvassay/data/z/log/E2/scalars/"
   ]
  },
  {
   "cell_type": "code",
   "execution_count": 1,
   "metadata": {},
   "outputs": [],
   "source": [
    "import pickle\n",
    "import os\n",
    "import numpy as np\n",
    "import tensorflow as tf\n",
    "import tensorflow.keras as K\n",
    "from scipy.sparse import hstack\n",
    "from datetime import datetime\n",
    "\n",
    "from sklearn.feature_extraction.text import TfidfVectorizer\n",
    "from sklearn.preprocessing import normalize as scikit_normalize\n",
    "\n",
    "from evaluation import plot_history\n",
    "from evaluation import rmse_report\n",
    "\n",
    "from sampling import UnderSampler\n",
    "\n",
    "%matplotlib inline\n",
    "%load_ext tensorboard"
   ]
  },
  {
   "cell_type": "code",
   "execution_count": 2,
   "metadata": {},
   "outputs": [],
   "source": [
    "DATASET='/home/kvassay/data/z/data/reviews_train_test_dev1_{}.pickle'\n",
    "TYPE='lem_tok'\n",
    "TB_LOG_DIR='/home/kvassay/data/z/log/E2/scalars/'"
   ]
  },
  {
   "cell_type": "markdown",
   "metadata": {},
   "source": [
    "## Load data"
   ]
  },
  {
   "cell_type": "code",
   "execution_count": 3,
   "metadata": {
    "scrolled": true
   },
   "outputs": [
    {
     "name": "stdout",
     "output_type": "stream",
     "text": [
      "CPU times: user 4.75 s, sys: 1.12 s, total: 5.87 s\n",
      "Wall time: 6.08 s\n"
     ]
    }
   ],
   "source": [
    "%%time\n",
    "with open(DATASET.format(TYPE),'rb') as f:\n",
    "    train,dev,_=pickle.load(f)"
   ]
  },
  {
   "cell_type": "markdown",
   "metadata": {},
   "source": [
    "## Train TF model"
   ]
  },
  {
   "cell_type": "code",
   "execution_count": 4,
   "metadata": {},
   "outputs": [],
   "source": [
    "def tf_train(dataset,key, **scikit_kwargs):\n",
    "    vectorizer=TfidfVectorizer(**scikit_kwargs)\n",
    "    vectorizer.fit([' '.join(x[key]) for x in dataset])\n",
    "    return vectorizer\n",
    "\n",
    "def tf_predict(vectorizer,dataset,key):\n",
    "    features=vectorizer.transform([' '.join(x[key]) for x in dataset])\n",
    "    return features\n",
    "\n",
    "def extract_features(dataset,vectorizer_summary,vectorizer_text):\n",
    "    summ_vecs=tf_predict(vectorizer_summary,dataset,'summary')\n",
    "    text_vecs=tf_predict(vectorizer_text,dataset,'text')\n",
    "    return scikit_normalize(hstack([summ_vecs, text_vecs],format='csr'))"
   ]
  },
  {
   "cell_type": "code",
   "execution_count": 5,
   "metadata": {},
   "outputs": [
    {
     "name": "stdout",
     "output_type": "stream",
     "text": [
      "CPU times: user 1min 11s, sys: 1.73 s, total: 1min 13s\n",
      "Wall time: 1min 13s\n"
     ]
    }
   ],
   "source": [
    "%%time\n",
    "vectorizer_text=tf_train(train,'text',max_features=35000,ngram_range=(1,2),max_df=0.99,lowercase=True,use_idf=False)\n",
    "vectorizer_summary=tf_train(train,'summary',max_features=20000,ngram_range=(1,2),max_df=0.99,lowercase=True,use_idf=False)"
   ]
  },
  {
   "cell_type": "markdown",
   "metadata": {},
   "source": [
    "## Extract features"
   ]
  },
  {
   "cell_type": "code",
   "execution_count": 6,
   "metadata": {},
   "outputs": [
    {
     "name": "stdout",
     "output_type": "stream",
     "text": [
      "Train samples shape: (551399, 55000), Dev samples shape: (8527, 55000)\n",
      "CPU times: user 1min, sys: 1.6 s, total: 1min 2s\n",
      "Wall time: 1min 2s\n"
     ]
    }
   ],
   "source": [
    "%%time\n",
    "X_train=extract_features(train, vectorizer_summary,vectorizer_text)\n",
    "X_dev=extract_features(dev, vectorizer_summary,vectorizer_text)\n",
    "y_train=np.array([x['score'] for x in train])\n",
    "y_dev=np.array([x['score'] for x in dev])\n",
    "print('Train samples shape: {}, Dev samples shape: {}'.format(X_train.shape,X_dev.shape))"
   ]
  },
  {
   "cell_type": "markdown",
   "metadata": {},
   "source": [
    "## Training"
   ]
  },
  {
   "cell_type": "code",
   "execution_count": 9,
   "metadata": {},
   "outputs": [],
   "source": [
    "def get_tb_callback():\n",
    "    suffix=datetime.now().strftime(\"%Y%m%d-%H%M%S\")\n",
    "    log_dir= os.path.join(TB_LOG_DIR,suffix)\n",
    "    return K.callbacks.TensorBoard(log_dir=os.path.join(log_dir))\n",
    "\n",
    "def penalized_loss(y_true, y_pred):\n",
    "    return K.backend.mean(K.backend.square(K.backend.abs(y_true - y_pred))/y_true)\n",
    "\n",
    "def train_model(batch_size,learning_rate, epochs,steps):\n",
    "    DROPRATE=0.1\n",
    "    tensorboard_callback = get_tb_callback()\n",
    "    model = K.models.Sequential([\n",
    "        K.layers.Dense(256,activation='relu', input_shape=(X_train.shape[1],)),\n",
    "        K.layers.Dense(1,activation='linear'),\n",
    "    ])\n",
    "    opt=K.optimizers.Adam(lr=learning_rate, decay=learning_rate/epochs)\n",
    "    model.compile(optimizer=opt, loss=penalized_loss, metrics=[penalized_loss])\n",
    "    sampler=UnderSampler(X_train,y_train,batch_size=batch_size)\n",
    "    model.fit_generator(sampler,\n",
    "                        shuffle=False,\n",
    "                        epochs=epochs,\n",
    "                        steps_per_epoch=steps,\n",
    "                        validation_data=(X_dev,y_dev),\n",
    "                        callbacks=[tensorboard_callback])\n",
    "    return model"
   ]
  },
  {
   "cell_type": "markdown",
   "metadata": {},
   "source": [
    "## Experiment"
   ]
  },
  {
   "cell_type": "code",
   "execution_count": 10,
   "metadata": {},
   "outputs": [],
   "source": [
    "def experiment(learning_rate,epochs,batch_size,name,steps):\n",
    "    model=train_model(epochs=epochs,batch_size=batch_size,learning_rate=learning_rate,steps=steps)\n",
    "    y_pred_dev=model.predict(X_dev)\n",
    "    rmse_report(y_dev,y_pred_dev,title='{} - RMSE report'.format(name))\n",
    "    plot_history(model,title='{} - Train/Dev MSE'.format(name))\n",
    "    return model"
   ]
  },
  {
   "cell_type": "code",
   "execution_count": 11,
   "metadata": {
    "scrolled": false
   },
   "outputs": [
    {
     "name": "stdout",
     "output_type": "stream",
     "text": [
      "Epoch 1/60\n",
      "300/300 [==============================] - 74s 247ms/step - loss: 0.3452 - penalized_loss: 0.3452 - val_loss: 0.2565 - val_penalized_loss: 0.2565\n",
      "Epoch 2/60\n",
      "300/300 [==============================] - 74s 246ms/step - loss: 0.2307 - penalized_loss: 0.2307 - val_loss: 0.2599 - val_penalized_loss: 0.2599\n",
      "Epoch 3/60\n",
      "300/300 [==============================] - 73s 244ms/step - loss: 0.1828 - penalized_loss: 0.1828 - val_loss: 0.2183 - val_penalized_loss: 0.2183\n",
      "Epoch 4/60\n",
      "300/300 [==============================] - 75s 249ms/step - loss: 0.1755 - penalized_loss: 0.1755 - val_loss: 0.2007 - val_penalized_loss: 0.2007\n",
      "Epoch 5/60\n",
      "300/300 [==============================] - 73s 243ms/step - loss: 0.1412 - penalized_loss: 0.1412 - val_loss: 0.2226 - val_penalized_loss: 0.2226\n",
      "Epoch 6/60\n",
      "300/300 [==============================] - 74s 247ms/step - loss: 0.1324 - penalized_loss: 0.1324 - val_loss: 0.1787 - val_penalized_loss: 0.1787\n",
      "Epoch 7/60\n",
      "300/300 [==============================] - 73s 242ms/step - loss: 0.1165 - penalized_loss: 0.1165 - val_loss: 0.1709 - val_penalized_loss: 0.1709\n",
      "Epoch 8/60\n",
      "300/300 [==============================] - 74s 247ms/step - loss: 0.1066 - penalized_loss: 0.1066 - val_loss: 0.1826 - val_penalized_loss: 0.1826\n",
      "Epoch 9/60\n",
      "300/300 [==============================] - 73s 245ms/step - loss: 0.0983 - penalized_loss: 0.0983 - val_loss: 0.1647 - val_penalized_loss: 0.1647\n",
      "Epoch 10/60\n",
      "300/300 [==============================] - 74s 246ms/step - loss: 0.0874 - penalized_loss: 0.0874 - val_loss: 0.1630 - val_penalized_loss: 0.1630\n",
      "Epoch 11/60\n",
      "300/300 [==============================] - 73s 244ms/step - loss: 0.0827 - penalized_loss: 0.0827 - val_loss: 0.1621 - val_penalized_loss: 0.1621\n",
      "Epoch 12/60\n",
      "300/300 [==============================] - 74s 248ms/step - loss: 0.0743 - penalized_loss: 0.0743 - val_loss: 0.1608 - val_penalized_loss: 0.1608\n",
      "Epoch 13/60\n",
      "300/300 [==============================] - 74s 245ms/step - loss: 0.0717 - penalized_loss: 0.0717 - val_loss: 0.1539 - val_penalized_loss: 0.1539\n",
      "Epoch 14/60\n",
      "300/300 [==============================] - 75s 248ms/step - loss: 0.0610 - penalized_loss: 0.0610 - val_loss: 0.1459 - val_penalized_loss: 0.1459\n",
      "Epoch 15/60\n",
      "300/300 [==============================] - 73s 244ms/step - loss: 0.0609 - penalized_loss: 0.0609 - val_loss: 0.1444 - val_penalized_loss: 0.1444\n",
      "Epoch 16/60\n",
      "300/300 [==============================] - 74s 245ms/step - loss: 0.0524 - penalized_loss: 0.0524 - val_loss: 0.1429 - val_penalized_loss: 0.1429\n",
      "Epoch 17/60\n",
      "300/300 [==============================] - 74s 247ms/step - loss: 0.0520 - penalized_loss: 0.0520 - val_loss: 0.1422 - val_penalized_loss: 0.1422\n",
      "Epoch 18/60\n",
      "300/300 [==============================] - 73s 243ms/step - loss: 0.0445 - penalized_loss: 0.0445 - val_loss: 0.1391 - val_penalized_loss: 0.1391\n",
      "Epoch 19/60\n",
      "300/300 [==============================] - 75s 249ms/step - loss: 0.0451 - penalized_loss: 0.0451 - val_loss: 0.1403 - val_penalized_loss: 0.1403\n",
      "Epoch 20/60\n",
      "300/300 [==============================] - 74s 245ms/step - loss: 0.0410 - penalized_loss: 0.0410 - val_loss: 0.1401 - val_penalized_loss: 0.1401\n",
      "Epoch 21/60\n",
      "300/300 [==============================] - 74s 247ms/step - loss: 0.0402 - penalized_loss: 0.0402 - val_loss: 0.1413 - val_penalized_loss: 0.1413\n",
      "Epoch 22/60\n",
      "300/300 [==============================] - 73s 243ms/step - loss: 0.0369 - penalized_loss: 0.0369 - val_loss: 0.1390 - val_penalized_loss: 0.1390\n",
      "Epoch 23/60\n",
      "300/300 [==============================] - 75s 249ms/step - loss: 0.0354 - penalized_loss: 0.0354 - val_loss: 0.1381 - val_penalized_loss: 0.1381\n",
      "Epoch 24/60\n",
      "300/300 [==============================] - 74s 246ms/step - loss: 0.0341 - penalized_loss: 0.0341 - val_loss: 0.1396 - val_penalized_loss: 0.1396\n",
      "Epoch 25/60\n",
      "300/300 [==============================] - 75s 249ms/step - loss: 0.0317 - penalized_loss: 0.0317 - val_loss: 0.1379 - val_penalized_loss: 0.1379\n",
      "Epoch 26/60\n",
      "300/300 [==============================] - 73s 243ms/step - loss: 0.0303 - penalized_loss: 0.0303 - val_loss: 0.1350 - val_penalized_loss: 0.1350\n",
      "Epoch 27/60\n",
      "300/300 [==============================] - 73s 245ms/step - loss: 0.0284 - penalized_loss: 0.0284 - val_loss: 0.1359 - val_penalized_loss: 0.1359\n",
      "Epoch 28/60\n",
      "300/300 [==============================] - 74s 245ms/step - loss: 0.0279 - penalized_loss: 0.0279 - val_loss: 0.1329 - val_penalized_loss: 0.1329\n",
      "Epoch 29/60\n",
      "300/300 [==============================] - 74s 248ms/step - loss: 0.0255 - penalized_loss: 0.0255 - val_loss: 0.1340 - val_penalized_loss: 0.1340\n",
      "Epoch 30/60\n",
      "300/300 [==============================] - 73s 244ms/step - loss: 0.0260 - penalized_loss: 0.0260 - val_loss: 0.1329 - val_penalized_loss: 0.1329\n",
      "Epoch 31/60\n",
      "300/300 [==============================] - 74s 247ms/step - loss: 0.0229 - penalized_loss: 0.0229 - val_loss: 0.1325 - val_penalized_loss: 0.1325\n",
      "Epoch 32/60\n",
      "300/300 [==============================] - 74s 248ms/step - loss: 0.0233 - penalized_loss: 0.0233 - val_loss: 0.1339 - val_penalized_loss: 0.1339\n",
      "Epoch 33/60\n",
      "300/300 [==============================] - 73s 245ms/step - loss: 0.0204 - penalized_loss: 0.0204 - val_loss: 0.1335 - val_penalized_loss: 0.1335\n",
      "Epoch 34/60\n",
      "300/300 [==============================] - 74s 248ms/step - loss: 0.0215 - penalized_loss: 0.0215 - val_loss: 0.1328 - val_penalized_loss: 0.1328\n",
      "Epoch 35/60\n",
      "300/300 [==============================] - 73s 244ms/step - loss: 0.0193 - penalized_loss: 0.0193 - val_loss: 0.1328 - val_penalized_loss: 0.1328\n",
      "Epoch 36/60\n",
      "300/300 [==============================] - 75s 248ms/step - loss: 0.0190 - penalized_loss: 0.0190 - val_loss: 0.1358 - val_penalized_loss: 0.1358\n",
      "Epoch 37/60\n",
      "300/300 [==============================] - 74s 246ms/step - loss: 0.0182 - penalized_loss: 0.0182 - val_loss: 0.1359 - val_penalized_loss: 0.1359\n",
      "Epoch 38/60\n",
      "300/300 [==============================] - 74s 248ms/step - loss: 0.0181 - penalized_loss: 0.0181 - val_loss: 0.1345 - val_penalized_loss: 0.1345\n",
      "Epoch 39/60\n",
      "300/300 [==============================] - 73s 245ms/step - loss: 0.0168 - penalized_loss: 0.0168 - val_loss: 0.1335 - val_penalized_loss: 0.1335\n",
      "Epoch 40/60\n",
      "300/300 [==============================] - 74s 246ms/step - loss: 0.0166 - penalized_loss: 0.0166 - val_loss: 0.1351 - val_penalized_loss: 0.1351\n",
      "Epoch 41/60\n",
      "300/300 [==============================] - 73s 243ms/step - loss: 0.0156 - penalized_loss: 0.0156 - val_loss: 0.1331 - val_penalized_loss: 0.1331\n",
      "Epoch 42/60\n",
      "300/300 [==============================] - 74s 246ms/step - loss: 0.0154 - penalized_loss: 0.0154 - val_loss: 0.1334 - val_penalized_loss: 0.1334\n",
      "Epoch 43/60\n",
      "300/300 [==============================] - 74s 246ms/step - loss: 0.0152 - penalized_loss: 0.0152 - val_loss: 0.1351 - val_penalized_loss: 0.1351\n",
      "Epoch 44/60\n",
      "300/300 [==============================] - 74s 248ms/step - loss: 0.0141 - penalized_loss: 0.0141 - val_loss: 0.1334 - val_penalized_loss: 0.1334\n",
      "Epoch 45/60\n",
      "300/300 [==============================] - 73s 244ms/step - loss: 0.0143 - penalized_loss: 0.0143 - val_loss: 0.1336 - val_penalized_loss: 0.1336\n",
      "Epoch 46/60\n",
      "300/300 [==============================] - 73s 245ms/step - loss: 0.0131 - penalized_loss: 0.0131 - val_loss: 0.1341 - val_penalized_loss: 0.1341\n",
      "Epoch 47/60\n",
      "300/300 [==============================] - 73s 243ms/step - loss: 0.0134 - penalized_loss: 0.0134 - val_loss: 0.1353 - val_penalized_loss: 0.1353\n",
      "Epoch 48/60\n",
      "300/300 [==============================] - 73s 245ms/step - loss: 0.0136 - penalized_loss: 0.0136 - val_loss: 0.1338 - val_penalized_loss: 0.1338\n",
      "Epoch 49/60\n",
      "300/300 [==============================] - 74s 247ms/step - loss: 0.0123 - penalized_loss: 0.0123 - val_loss: 0.1340 - val_penalized_loss: 0.1340\n",
      "Epoch 50/60\n",
      "300/300 [==============================] - 72s 241ms/step - loss: 0.0116 - penalized_loss: 0.0116 - val_loss: 0.1344 - val_penalized_loss: 0.1344\n",
      "Epoch 51/60\n",
      "300/300 [==============================] - 74s 246ms/step - loss: 0.0117 - penalized_loss: 0.0117 - val_loss: 0.1378 - val_penalized_loss: 0.1378\n",
      "Epoch 52/60\n",
      "300/300 [==============================] - 73s 244ms/step - loss: 0.0111 - penalized_loss: 0.0111 - val_loss: 0.1345 - val_penalized_loss: 0.1345\n",
      "Epoch 53/60\n",
      "300/300 [==============================] - 75s 249ms/step - loss: 0.0115 - penalized_loss: 0.0115 - val_loss: 0.1342 - val_penalized_loss: 0.1342\n",
      "Epoch 54/60\n",
      "300/300 [==============================] - 73s 244ms/step - loss: 0.0110 - penalized_loss: 0.0110 - val_loss: 0.1366 - val_penalized_loss: 0.1366\n",
      "Epoch 55/60\n",
      "300/300 [==============================] - 74s 247ms/step - loss: 0.0107 - penalized_loss: 0.0107 - val_loss: 0.1336 - val_penalized_loss: 0.1336\n",
      "Epoch 56/60\n",
      "300/300 [==============================] - 73s 243ms/step - loss: 0.0101 - penalized_loss: 0.0101 - val_loss: 0.1336 - val_penalized_loss: 0.1336\n",
      "Epoch 57/60\n",
      "300/300 [==============================] - 74s 248ms/step - loss: 0.0098 - penalized_loss: 0.0098 - val_loss: 0.1344 - val_penalized_loss: 0.1344\n",
      "Epoch 58/60\n",
      "300/300 [==============================] - 73s 245ms/step - loss: 0.0094 - penalized_loss: 0.0094 - val_loss: 0.1346 - val_penalized_loss: 0.1346\n",
      "Epoch 59/60\n",
      "300/300 [==============================] - 73s 245ms/step - loss: 0.0091 - penalized_loss: 0.0091 - val_loss: 0.1345 - val_penalized_loss: 0.1345\n",
      "Epoch 60/60\n",
      "300/300 [==============================] - 73s 243ms/step - loss: 0.0093 - penalized_loss: 0.0093 - val_loss: 0.1354 - val_penalized_loss: 0.1354\n"
     ]
    },
    {
     "name": "stderr",
     "output_type": "stream",
     "text": [
      "WARNING: Logging before flag parsing goes to stderr.\n",
      "W0825 23:24:57.405574 140311920195392 training.py:510] Falling back from v2 loop because of error: Failed to find data adapter that can handle input: <class 'scipy.sparse.csr.csr_matrix'>, <class 'NoneType'>\n"
     ]
    },
    {
     "data": {
      "text/html": [
       "\n",
       "    <h2> model - RMSE report </h2>\n",
       "    <h3> RMSE </h3>\n",
       "    <hr>\n",
       "    <div>\n",
       "        <table>\n",
       "            <tr>\n",
       "                <td>RMSE (baseline &forall;1.0)</td>\n",
       "                <td>1.53</td>\n",
       "            </tr>\n",
       "            <tr>\n",
       "                <td>RMSE</td>\n",
       "                <td>0.58</td>\n",
       "            </tr>\n",
       "        </table>\n",
       "    <hr>\n",
       "    <h3> Partial RMSE </h3>\n",
       "        <table>\n",
       "            <tr>\n",
       "                <td>Mean partial RMSE (baseline &forall;1.0)</td>\n",
       "                <td>2.0</td>\n",
       "            </tr>\n",
       "            <tr>\n",
       "                <td>Max partial RMSE (baseline &forall;1.0)</td>\n",
       "                <td>1.414</td>\n",
       "            </tr>\n",
       "            <tr>\n",
       "                <td>St.dev. partial RMSE (baseline &forall;1.0)</td>\n",
       "                <td>4.0</td>\n",
       "            </tr>\n",
       "            <tr>\n",
       "                <td>Mean partial RMSE</td>\n",
       "                <td><b>0.688</b></td>\n",
       "            </tr>\n",
       "            <tr>\n",
       "                <td>Max partial RMSE</td>\n",
       "                <td>0.123</td>\n",
       "            </tr>\n",
       "            <tr>\n",
       "                <td>St.dev. partial RMSE</td>\n",
       "                <td>0.833</td>\n",
       "            </tr>            \n",
       "        </table>\n",
       "    </div>\n",
       "    <h3> Improvement over baseline (&forall;1.0) </h3>\n",
       "    <hr>\n",
       "    <div>\n",
       "        <table>\n",
       "            <tr>\n",
       "                <td>RMSE</td>\n",
       "                <td>0.95</td>\n",
       "            </tr>\n",
       "            <tr>\n",
       "                <td>Mean partial RMSE</td>\n",
       "                <td><b>1.312</b></td>\n",
       "            </tr>\n",
       "            <tr>\n",
       "                <td>Max partial RMSE</td>\n",
       "                <td>3.167</td>\n",
       "            </tr>\n",
       "        </table>\n",
       "    </div>\n",
       "    \n",
       "    <h3> Partial RMSE detailed</h3>\n",
       "    <hr>\n",
       "    <div>\n",
       "        <table>\n",
       "            <tr>\n",
       "                <th>Review Score</th>\n",
       "                <th>RMSE</th>\n",
       "                <th>RMSE baseline (&forall;1.0)</th>\n",
       "                <th>Improvement over baseline</th>\n",
       "            </tr>\n",
       "            \n",
       "    <tr>\n",
       "        <td>\n",
       "            5.0\n",
       "        </td>\n",
       "        <td>\n",
       "            0.48\n",
       "        </td>\n",
       "        <td>\n",
       "            0.0\n",
       "        </td>\n",
       "        <td>\n",
       "            -0.48\n",
       "        </td>\n",
       "    </tr>\n",
       "    \n",
       "\n",
       "    <tr>\n",
       "        <td>\n",
       "            4.0\n",
       "        </td>\n",
       "        <td>\n",
       "            0.625\n",
       "        </td>\n",
       "        <td>\n",
       "            1.0\n",
       "        </td>\n",
       "        <td>\n",
       "            0.375\n",
       "        </td>\n",
       "    </tr>\n",
       "    \n",
       "\n",
       "    <tr>\n",
       "        <td>\n",
       "            3.0\n",
       "        </td>\n",
       "        <td>\n",
       "            0.746\n",
       "        </td>\n",
       "        <td>\n",
       "            2.0\n",
       "        </td>\n",
       "        <td>\n",
       "            1.254\n",
       "        </td>\n",
       "    </tr>\n",
       "    \n",
       "\n",
       "    <tr>\n",
       "        <td>\n",
       "            2.0\n",
       "        </td>\n",
       "        <td>\n",
       "            0.754\n",
       "        </td>\n",
       "        <td>\n",
       "            3.0\n",
       "        </td>\n",
       "        <td>\n",
       "            2.246\n",
       "        </td>\n",
       "    </tr>\n",
       "    \n",
       "\n",
       "    <tr>\n",
       "        <td>\n",
       "            1.0\n",
       "        </td>\n",
       "        <td>\n",
       "            0.833\n",
       "        </td>\n",
       "        <td>\n",
       "            4.0\n",
       "        </td>\n",
       "        <td>\n",
       "            3.167\n",
       "        </td>\n",
       "    </tr>\n",
       "    \n",
       "        </table>\n",
       "    </div>\n",
       "    "
      ],
      "text/plain": [
       "<IPython.core.display.HTML object>"
      ]
     },
     "metadata": {},
     "output_type": "display_data"
    },
    {
     "data": {
      "image/png": "[encoded data removed]",
      "text/plain": [
       "<Figure size 432x288 with 1 Axes>"
      ]
     },
     "metadata": {
      "needs_background": "light"
     },
     "output_type": "display_data"
    }
   ],
   "source": [
    "model=experiment(learning_rate=0.04,epochs=60,batch_size=256,steps=300,name='model')"
   ]
  },
  {
   "cell_type": "code",
   "execution_count": 12,
   "metadata": {},
   "outputs": [
    {
     "name": "stdout",
     "output_type": "stream",
     "text": [
      "Model: \"sequential\"\n",
      "_________________________________________________________________\n",
      "Layer (type)                 Output Shape              Param #   \n",
      "=================================================================\n",
      "dense (Dense)                (None, 256)               14080256  \n",
      "_________________________________________________________________\n",
      "dense_1 (Dense)              (None, 1)                 257       \n",
      "=================================================================\n",
      "Total params: 14,080,513\n",
      "Trainable params: 14,080,513\n",
      "Non-trainable params: 0\n",
      "_________________________________________________________________\n"
     ]
    }
   ],
   "source": [
    "model.summary()"
   ]
  },
  {
   "cell_type": "markdown",
   "metadata": {},
   "source": [
    "## Persist"
   ]
  },
  {
   "cell_type": "code",
   "execution_count": 13,
   "metadata": {},
   "outputs": [
    {
     "ename": "FileNotFoundError",
     "evalue": "[Errno 2] No such file or directory: '/home/kvassay/data/z/models/E7/vectorizer_summary.pickle'",
     "output_type": "error",
     "traceback": [
      "\u001b[0;31m---------------------------------------------------------------------\u001b[0m",
      "\u001b[0;31mFileNotFoundError\u001b[0m                   Traceback (most recent call last)",
      "\u001b[0;32m<ipython-input-13-80de5f123060>\u001b[0m in \u001b[0;36m<module>\u001b[0;34m\u001b[0m\n\u001b[0;32m----> 1\u001b[0;31m \u001b[0;32mwith\u001b[0m \u001b[0mopen\u001b[0m\u001b[0;34m(\u001b[0m\u001b[0;34m'/home/kvassay/data/z/models/E7/vectorizer_summary.pickle'\u001b[0m\u001b[0;34m,\u001b[0m\u001b[0;34m'wb'\u001b[0m\u001b[0;34m)\u001b[0m \u001b[0;32mas\u001b[0m \u001b[0mf\u001b[0m\u001b[0;34m:\u001b[0m\u001b[0;34m\u001b[0m\u001b[0;34m\u001b[0m\u001b[0m\n\u001b[0m\u001b[1;32m      2\u001b[0m     \u001b[0mpickle\u001b[0m\u001b[0;34m.\u001b[0m\u001b[0mdump\u001b[0m\u001b[0;34m(\u001b[0m\u001b[0mvectorizer_summary\u001b[0m\u001b[0;34m,\u001b[0m\u001b[0mf\u001b[0m\u001b[0;34m)\u001b[0m\u001b[0;34m\u001b[0m\u001b[0;34m\u001b[0m\u001b[0m\n\u001b[1;32m      3\u001b[0m \u001b[0;32mwith\u001b[0m \u001b[0mopen\u001b[0m\u001b[0;34m(\u001b[0m\u001b[0;34m'/home/kvassay/data/z/models/E7/vectorizer_text.pickle'\u001b[0m\u001b[0;34m,\u001b[0m\u001b[0;34m'wb'\u001b[0m\u001b[0;34m)\u001b[0m \u001b[0;32mas\u001b[0m \u001b[0mf\u001b[0m\u001b[0;34m:\u001b[0m\u001b[0;34m\u001b[0m\u001b[0;34m\u001b[0m\u001b[0m\n\u001b[1;32m      4\u001b[0m     \u001b[0mpickle\u001b[0m\u001b[0;34m.\u001b[0m\u001b[0mdump\u001b[0m\u001b[0;34m(\u001b[0m\u001b[0mvectorizer_text\u001b[0m\u001b[0;34m,\u001b[0m\u001b[0mf\u001b[0m\u001b[0;34m)\u001b[0m\u001b[0;34m\u001b[0m\u001b[0;34m\u001b[0m\u001b[0m\n\u001b[1;32m      5\u001b[0m \u001b[0mmodel\u001b[0m\u001b[0;34m.\u001b[0m\u001b[0msave\u001b[0m\u001b[0;34m(\u001b[0m\u001b[0;34m'/home/kvassay/data/z/models/E7/keras_regressor.h5'\u001b[0m\u001b[0;34m)\u001b[0m\u001b[0;34m\u001b[0m\u001b[0;34m\u001b[0m\u001b[0m\n",
      "\u001b[0;31mFileNotFoundError\u001b[0m: [Errno 2] No such file or directory: '/home/kvassay/data/z/models/E7/vectorizer_summary.pickle'"
     ]
    }
   ],
   "source": [
    "with open('/home/kvassay/data/z/models/E7/vectorizer_summary.pickle','wb') as f:\n",
    "    pickle.dump(vectorizer_summary,f)\n",
    "with open('/home/kvassay/data/z/models/E7/vectorizer_text.pickle','wb') as f:\n",
    "    pickle.dump(vectorizer_text,f)\n",
    "model.save('/home/kvassay/data/z/models/E7/keras_regressor.h5')"
   ]
  }
 ],
 "metadata": {
  "kernelspec": {
   "display_name": "Python 3",
   "language": "python",
   "name": "python3"
  },
  "language_info": {
   "codemirror_mode": {
    "name": "ipython",
    "version": 3
   },
   "file_extension": ".py",
   "mimetype": "text/x-python",
   "name": "python",
   "nbconvert_exporter": "python",
   "pygments_lexer": "ipython3",
   "version": "3.6.7"
  }
 },
 "nbformat": 4,
 "nbformat_minor": 2
}
