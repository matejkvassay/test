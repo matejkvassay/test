{
 "cells": [
  {
   "cell_type": "code",
   "execution_count": 1,
   "metadata": {},
   "outputs": [],
   "source": [
    "import pickle\n",
    "import os\n",
    "import re\n",
    "import numpy as np\n",
    "import spacy\n",
    "import tensorflow as tf\n",
    "import tensorflow.keras as K\n",
    "from datetime import datetime\n",
    "from sklearn.preprocessing import normalize as scikit_normalize\n",
    "from evaluation import plot_history\n",
    "from evaluation import rmse_report\n",
    "from sampling import UnderSampler\n",
    "from fasttext_embedding import FastTextEmbeddingBag\n",
    "from spacy.lang.en.stop_words import STOP_WORDS\n",
    "from tqdm import tqdm\n",
    "\n",
    "%matplotlib inline\n",
    "%load_ext tensorboard"
   ]
  },
  {
   "cell_type": "code",
   "execution_count": 2,
   "metadata": {},
   "outputs": [],
   "source": [
    "DATASET='/home/kvassay/data/z/data/reviews_train_test_dev1_{}.pickle'\n",
    "TYPE='tok'\n",
    "TB_LOG_DIR='/home/kvassay/data/z/log/E3a/scalars/'\n",
    "VEC_DIM=300\n",
    "FASTTEXT='/home/kvassay/data/z/models/fasttext/cbow_{}_e{}_w{}.bin'.format(VEC_DIM,20,5)\n",
    "ALLOWED_SPECIAL=tuple(['?','!',':(', ':)', ':D',':-)',':-D',':\\'(',':/',':-/','<3',':-P',':P'])"
   ]
  },
  {
   "cell_type": "markdown",
   "metadata": {},
   "source": [
    "## Read data"
   ]
  },
  {
   "cell_type": "code",
   "execution_count": 3,
   "metadata": {},
   "outputs": [
    {
     "name": "stdout",
     "output_type": "stream",
     "text": [
      "CPU times: user 4.7 s, sys: 1.06 s, total: 5.76 s\n",
      "Wall time: 5.73 s\n"
     ]
    }
   ],
   "source": [
    "%%time\n",
    "with open(DATASET.format(TYPE),'rb') as f:\n",
    "    train,dev,_=pickle.load(f)"
   ]
  },
  {
   "cell_type": "markdown",
   "metadata": {},
   "source": [
    "## Load models"
   ]
  },
  {
   "cell_type": "code",
   "execution_count": 4,
   "metadata": {},
   "outputs": [
    {
     "name": "stderr",
     "output_type": "stream",
     "text": [
      "\n"
     ]
    },
    {
     "name": "stdout",
     "output_type": "stream",
     "text": [
      "CPU times: user 6.5 s, sys: 3.88 s, total: 10.4 s\n",
      "Wall time: 22.4 s\n"
     ]
    }
   ],
   "source": [
    "%%time\n",
    "fasttext=FastTextEmbeddingBag(FASTTEXT)"
   ]
  },
  {
   "cell_type": "markdown",
   "metadata": {},
   "source": [
    "## Preprocess text + extract features\n",
    "- filter out EN stop-words (and, or, ...)\n",
    "- filter out non-allowed special tokens (we want to keep smileys and !,?)\n",
    "- filter out short words (1-2 characters)"
   ]
  },
  {
   "cell_type": "code",
   "execution_count": 5,
   "metadata": {},
   "outputs": [],
   "source": [
    "rx_special= re.compile(\"|\".join(re.escape(s) for s in ALLOWED_SPECIAL))\n",
    "\n",
    "def word_filter(word):\n",
    "    if word in STOP_WORDS:\n",
    "        return False\n",
    "    if not word.isalpha():\n",
    "        if not rx_special.findall(word):\n",
    "            return False\n",
    "    else:\n",
    "        if len(word)<3:\n",
    "            return False\n",
    "    return True\n",
    "\n",
    "def preprocess_text(text):\n",
    "    return [x.lower() for x in text if word_filter(x.lower())]\n",
    "\n",
    "def preprocess_texts(dataset,text_keys=['summary','text']):\n",
    "    for sample in tqdm(dataset):\n",
    "        for key in text_keys:\n",
    "            sample[key]=preprocess_text(sample[key])\n",
    "    return dataset"
   ]
  },
  {
   "cell_type": "code",
   "execution_count": 6,
   "metadata": {},
   "outputs": [
    {
     "name": "stderr",
     "output_type": "stream",
     "text": [
      "100%|██████████| 551399/551399 [00:18<00:00, 29409.46it/s]\n",
      "100%|██████████| 8527/8527 [00:00<00:00, 30238.71it/s]"
     ]
    },
    {
     "name": "stdout",
     "output_type": "stream",
     "text": [
      "CPU times: user 19.1 s, sys: 108 ms, total: 19.2 s\n",
      "Wall time: 19 s\n"
     ]
    },
    {
     "name": "stderr",
     "output_type": "stream",
     "text": [
      "\n"
     ]
    }
   ],
   "source": [
    "%%time\n",
    "train=preprocess_texts(train)\n",
    "dev=preprocess_texts(dev)"
   ]
  },
  {
   "cell_type": "markdown",
   "metadata": {},
   "source": [
    "## Extract features\n",
    "- transform texts to averages of their fastText vectors\n",
    "- concatenate summary & text average vectors into single one"
   ]
  },
  {
   "cell_type": "code",
   "execution_count": 7,
   "metadata": {},
   "outputs": [],
   "source": [
    "def extract_features(dataset, fasttext):\n",
    "    default_vec=np.zeros(VEC_DIM,dtype=np.float32)\n",
    "    vecs=[]\n",
    "    for sample in tqdm(dataset):\n",
    "        if sample['summary']:\n",
    "            vecs_summary=fasttext.forward([x for x in sample['summary']])\n",
    "        else:\n",
    "            vecs_summary=[default_vec]\n",
    "        if sample['text']:\n",
    "            vecs_text = fasttext.forward([x for x in sample['text']])\n",
    "        else:\n",
    "            vecs_text=[default_vec]\n",
    "        avg_summary = np.mean(vecs_summary,axis=0)\n",
    "        avg_text = np.mean(vecs_text,axis=0)\n",
    "        vecs.append(np.concatenate((avg_summary,avg_text), axis=0))\n",
    "    vecs=np.array(vecs)\n",
    "    return scikit_normalize(vecs)"
   ]
  },
  {
   "cell_type": "code",
   "execution_count": 8,
   "metadata": {},
   "outputs": [
    {
     "name": "stderr",
     "output_type": "stream",
     "text": [
      "100%|██████████| 551399/551399 [06:43<00:00, 1367.19it/s]\n",
      "100%|██████████| 8527/8527 [00:06<00:00, 1325.20it/s]\n"
     ]
    },
    {
     "name": "stdout",
     "output_type": "stream",
     "text": [
      "Train samples shape: (551399, 600), Dev samples shape: (8527, 600)\n",
      "CPU times: user 11min 21s, sys: 13 s, total: 11min 34s\n",
      "Wall time: 6min 51s\n"
     ]
    }
   ],
   "source": [
    "%%time\n",
    "X_train=extract_features(train,fasttext)\n",
    "X_dev=extract_features(dev,fasttext)\n",
    "y_train=np.array([x['score'] for x in train])\n",
    "y_dev=np.array([x['score'] for x in dev])\n",
    "print('Train samples shape: {}, Dev samples shape: {}'.format(X_train.shape,X_dev.shape))"
   ]
  },
  {
   "cell_type": "markdown",
   "metadata": {},
   "source": [
    "## Train\n",
    "- shallow sequential NN"
   ]
  },
  {
   "cell_type": "code",
   "execution_count": 9,
   "metadata": {},
   "outputs": [],
   "source": [
    "def get_tb_callback():\n",
    "    suffix=datetime.now().strftime(\"%Y%m%d-%H%M%S\")\n",
    "    log_dir= os.path.join(TB_LOG_DIR,suffix)\n",
    "    return K.callbacks.TensorBoard(log_dir=os.path.join(log_dir))\n",
    "\n",
    "def penalized_loss(y_true, y_pred):\n",
    "    return K.backend.mean(K.backend.square(K.backend.abs(y_true - y_pred))/y_true)\n",
    "\n",
    "def train_model(batch_size,learning_rate, epochs,steps):\n",
    "    DROPRATE=0.1\n",
    "    tensorboard_callback = get_tb_callback()\n",
    "    model = K.models.Sequential([\n",
    "        K.layers.Dense(256,activation='relu', input_shape=(X_train.shape[1],)),\n",
    "        K.layers.Dense(1,activation='linear'),\n",
    "    ])\n",
    "    opt=K.optimizers.Adam(lr=learning_rate, decay=learning_rate/epochs)\n",
    "    model.compile(optimizer=opt, loss=penalized_loss,metrics=[penalized_loss])\n",
    "    sampler=UnderSampler(X_train,y_train,batch_size=batch_size)\n",
    "    model.fit_generator(sampler,\n",
    "                        shuffle=False,\n",
    "                        epochs=epochs,\n",
    "                        steps_per_epoch=steps,\n",
    "                        validation_data=(X_dev,y_dev),\n",
    "                        callbacks=[tensorboard_callback])\n",
    "    return model"
   ]
  },
  {
   "cell_type": "markdown",
   "metadata": {},
   "source": [
    "## Experiment"
   ]
  },
  {
   "cell_type": "code",
   "execution_count": 10,
   "metadata": {},
   "outputs": [],
   "source": [
    "def experiment(learning_rate,epochs,batch_size,name,steps):\n",
    "    model=train_model(epochs=epochs,batch_size=batch_size,learning_rate=learning_rate,steps=steps)\n",
    "    y_pred_dev=model.predict(X_dev)\n",
    "    rmse_report(y_dev,y_pred_dev,title='{} - RMSE report'.format(name))\n",
    "    plot_history(model,title='{} - Train/Dev MSE'.format(name))\n",
    "    return model"
   ]
  },
  {
   "cell_type": "code",
   "execution_count": 15,
   "metadata": {},
   "outputs": [
    {
     "name": "stdout",
     "output_type": "stream",
     "text": [
      "Epoch 1/120\n",
      "300/300 [==============================] - 4s 13ms/step - loss: 0.4525 - penalized_loss: 0.4525 - val_loss: 0.4887 - val_penalized_loss: 0.4887\n",
      "Epoch 2/120\n",
      "300/300 [==============================] - 5s 17ms/step - loss: 0.3773 - penalized_loss: 0.3773 - val_loss: 0.4197 - val_penalized_loss: 0.4197\n",
      "Epoch 3/120\n",
      "300/300 [==============================] - 4s 12ms/step - loss: 0.3576 - penalized_loss: 0.3576 - val_loss: 0.3961 - val_penalized_loss: 0.3961\n",
      "Epoch 4/120\n",
      "300/300 [==============================] - 4s 15ms/step - loss: 0.3511 - penalized_loss: 0.3511 - val_loss: 0.5101 - val_penalized_loss: 0.5101\n",
      "Epoch 5/120\n",
      "300/300 [==============================] - 4s 12ms/step - loss: 0.3376 - penalized_loss: 0.3376 - val_loss: 0.4809 - val_penalized_loss: 0.4809\n",
      "Epoch 6/120\n",
      "300/300 [==============================] - 5s 15ms/step - loss: 0.3343 - penalized_loss: 0.3343 - val_loss: 0.4140 - val_penalized_loss: 0.4140\n",
      "Epoch 7/120\n",
      "300/300 [==============================] - 4s 14ms/step - loss: 0.3245 - penalized_loss: 0.3245 - val_loss: 0.3763 - val_penalized_loss: 0.3763\n",
      "Epoch 8/120\n",
      "300/300 [==============================] - 5s 15ms/step - loss: 0.3193 - penalized_loss: 0.3193 - val_loss: 0.3450 - val_penalized_loss: 0.3450\n",
      "Epoch 9/120\n",
      "300/300 [==============================] - 4s 12ms/step - loss: 0.3134 - penalized_loss: 0.3134 - val_loss: 0.3891 - val_penalized_loss: 0.3891\n",
      "Epoch 10/120\n",
      "300/300 [==============================] - 5s 15ms/step - loss: 0.3018 - penalized_loss: 0.3018 - val_loss: 0.3698 - val_penalized_loss: 0.3698\n",
      "Epoch 11/120\n",
      "300/300 [==============================] - 4s 12ms/step - loss: 0.2993 - penalized_loss: 0.2993 - val_loss: 0.3298 - val_penalized_loss: 0.3298\n",
      "Epoch 12/120\n",
      "300/300 [==============================] - 5s 16ms/step - loss: 0.2939 - penalized_loss: 0.2939 - val_loss: 0.3845 - val_penalized_loss: 0.3845\n",
      "Epoch 13/120\n",
      "300/300 [==============================] - 4s 14ms/step - loss: 0.2891 - penalized_loss: 0.2891 - val_loss: 0.3319 - val_penalized_loss: 0.3319\n",
      "Epoch 14/120\n",
      "300/300 [==============================] - 4s 14ms/step - loss: 0.2853 - penalized_loss: 0.2853 - val_loss: 0.3675 - val_penalized_loss: 0.3675\n",
      "Epoch 15/120\n",
      "300/300 [==============================] - 4s 12ms/step - loss: 0.2828 - penalized_loss: 0.2828 - val_loss: 0.3134 - val_penalized_loss: 0.3134\n",
      "Epoch 16/120\n",
      "300/300 [==============================] - 5s 15ms/step - loss: 0.2728 - penalized_loss: 0.2728 - val_loss: 0.3160 - val_penalized_loss: 0.3160\n",
      "Epoch 17/120\n",
      "300/300 [==============================] - 4s 14ms/step - loss: 0.2757 - penalized_loss: 0.2757 - val_loss: 0.3103 - val_penalized_loss: 0.3103\n",
      "Epoch 18/120\n",
      "300/300 [==============================] - 4s 14ms/step - loss: 0.2675 - penalized_loss: 0.2675 - val_loss: 0.3162 - val_penalized_loss: 0.3162\n",
      "Epoch 19/120\n",
      "300/300 [==============================] - 4s 15ms/step - loss: 0.2689 - penalized_loss: 0.2689 - val_loss: 0.3472 - val_penalized_loss: 0.3472\n",
      "Epoch 20/120\n",
      "300/300 [==============================] - 3s 12ms/step - loss: 0.2615 - penalized_loss: 0.2615 - val_loss: 0.3596 - val_penalized_loss: 0.3596\n",
      "Epoch 21/120\n",
      "300/300 [==============================] - 4s 15ms/step - loss: 0.2587 - penalized_loss: 0.2587 - val_loss: 0.2965 - val_penalized_loss: 0.2965\n",
      "Epoch 22/120\n",
      "300/300 [==============================] - 4s 12ms/step - loss: 0.2584 - penalized_loss: 0.2584 - val_loss: 0.3169 - val_penalized_loss: 0.3169\n",
      "Epoch 23/120\n",
      "300/300 [==============================] - 5s 16ms/step - loss: 0.2534 - penalized_loss: 0.2534 - val_loss: 0.3136 - val_penalized_loss: 0.3136\n",
      "Epoch 24/120\n",
      "300/300 [==============================] - 4s 15ms/step - loss: 0.2530 - penalized_loss: 0.2530 - val_loss: 0.2824 - val_penalized_loss: 0.2824\n",
      "Epoch 25/120\n",
      "300/300 [==============================] - 4s 15ms/step - loss: 0.2495 - penalized_loss: 0.2495 - val_loss: 0.2974 - val_penalized_loss: 0.2974\n",
      "Epoch 26/120\n",
      "300/300 [==============================] - 4s 13ms/step - loss: 0.2425 - penalized_loss: 0.2425 - val_loss: 0.2941 - val_penalized_loss: 0.2941\n",
      "Epoch 27/120\n",
      "300/300 [==============================] - 4s 15ms/step - loss: 0.2420 - penalized_loss: 0.2420 - val_loss: 0.2777 - val_penalized_loss: 0.2777\n",
      "Epoch 28/120\n",
      "300/300 [==============================] - 4s 12ms/step - loss: 0.2391 - penalized_loss: 0.2391 - val_loss: 0.2899 - val_penalized_loss: 0.2899\n",
      "Epoch 29/120\n",
      "300/300 [==============================] - 5s 17ms/step - loss: 0.2327 - penalized_loss: 0.2327 - val_loss: 0.3287 - val_penalized_loss: 0.3287\n",
      "Epoch 30/120\n",
      "300/300 [==============================] - 4s 12ms/step - loss: 0.2384 - penalized_loss: 0.2384 - val_loss: 0.2907 - val_penalized_loss: 0.2907\n",
      "Epoch 31/120\n",
      "300/300 [==============================] - 5s 15ms/step - loss: 0.2304 - penalized_loss: 0.2304 - val_loss: 0.2992 - val_penalized_loss: 0.2992\n",
      "Epoch 32/120\n",
      "300/300 [==============================] - 4s 14ms/step - loss: 0.2300 - penalized_loss: 0.2300 - val_loss: 0.2741 - val_penalized_loss: 0.2741\n",
      "Epoch 33/120\n",
      "300/300 [==============================] - 4s 12ms/step - loss: 0.2236 - penalized_loss: 0.2236 - val_loss: 0.2941 - val_penalized_loss: 0.2941\n",
      "Epoch 34/120\n",
      "300/300 [==============================] - 5s 16ms/step - loss: 0.2276 - penalized_loss: 0.2276 - val_loss: 0.2808 - val_penalized_loss: 0.2808\n",
      "Epoch 35/120\n",
      "300/300 [==============================] - 4s 14ms/step - loss: 0.2206 - penalized_loss: 0.2206 - val_loss: 0.3080 - val_penalized_loss: 0.3080\n",
      "Epoch 36/120\n",
      "300/300 [==============================] - 5s 15ms/step - loss: 0.2209 - penalized_loss: 0.2209 - val_loss: 0.2823 - val_penalized_loss: 0.2823\n",
      "Epoch 37/120\n",
      "300/300 [==============================] - 4s 12ms/step - loss: 0.2179 - penalized_loss: 0.2179 - val_loss: 0.2921 - val_penalized_loss: 0.2921\n",
      "Epoch 38/120\n",
      "300/300 [==============================] - 4s 15ms/step - loss: 0.2173 - penalized_loss: 0.2173 - val_loss: 0.2749 - val_penalized_loss: 0.2749\n",
      "Epoch 39/120\n",
      "300/300 [==============================] - 4s 12ms/step - loss: 0.2165 - penalized_loss: 0.2165 - val_loss: 0.2812 - val_penalized_loss: 0.2812\n",
      "Epoch 40/120\n",
      "300/300 [==============================] - 5s 17ms/step - loss: 0.2144 - penalized_loss: 0.2144 - val_loss: 0.3211 - val_penalized_loss: 0.3211\n",
      "Epoch 41/120\n",
      "300/300 [==============================] - 4s 12ms/step - loss: 0.2136 - penalized_loss: 0.2136 - val_loss: 0.2789 - val_penalized_loss: 0.2789\n",
      "Epoch 42/120\n",
      "300/300 [==============================] - 4s 15ms/step - loss: 0.2114 - penalized_loss: 0.2114 - val_loss: 0.2883 - val_penalized_loss: 0.2883\n",
      "Epoch 43/120\n",
      "300/300 [==============================] - 4s 12ms/step - loss: 0.2102 - penalized_loss: 0.2102 - val_loss: 0.2674 - val_penalized_loss: 0.2674\n",
      "Epoch 44/120\n",
      "300/300 [==============================] - 4s 14ms/step - loss: 0.2054 - penalized_loss: 0.2054 - val_loss: 0.2729 - val_penalized_loss: 0.2729\n",
      "Epoch 45/120\n",
      "300/300 [==============================] - 4s 12ms/step - loss: 0.2063 - penalized_loss: 0.2063 - val_loss: 0.2875 - val_penalized_loss: 0.2875\n",
      "Epoch 46/120\n",
      "300/300 [==============================] - 5s 17ms/step - loss: 0.2023 - penalized_loss: 0.2023 - val_loss: 0.2828 - val_penalized_loss: 0.2828\n",
      "Epoch 47/120\n",
      "300/300 [==============================] - 4s 12ms/step - loss: 0.2060 - penalized_loss: 0.2060 - val_loss: 0.2767 - val_penalized_loss: 0.2767\n",
      "Epoch 48/120\n",
      "300/300 [==============================] - 4s 14ms/step - loss: 0.1990 - penalized_loss: 0.1990 - val_loss: 0.2720 - val_penalized_loss: 0.2720\n",
      "Epoch 49/120\n",
      "300/300 [==============================] - 4s 15ms/step - loss: 0.2023 - penalized_loss: 0.2023 - val_loss: 0.2614 - val_penalized_loss: 0.2614\n",
      "Epoch 50/120\n",
      "300/300 [==============================] - 4s 12ms/step - loss: 0.1951 - penalized_loss: 0.1951 - val_loss: 0.2960 - val_penalized_loss: 0.2960\n",
      "Epoch 51/120\n",
      "300/300 [==============================] - 5s 16ms/step - loss: 0.1985 - penalized_loss: 0.1985 - val_loss: 0.2759 - val_penalized_loss: 0.2759\n",
      "Epoch 52/120\n",
      "300/300 [==============================] - 4s 13ms/step - loss: 0.1935 - penalized_loss: 0.1935 - val_loss: 0.2609 - val_penalized_loss: 0.2609\n",
      "Epoch 53/120\n",
      "300/300 [==============================] - 4s 15ms/step - loss: 0.1953 - penalized_loss: 0.1953 - val_loss: 0.2769 - val_penalized_loss: 0.2769\n",
      "Epoch 54/120\n",
      "300/300 [==============================] - 4s 12ms/step - loss: 0.1926 - penalized_loss: 0.1926 - val_loss: 0.2665 - val_penalized_loss: 0.2665\n",
      "Epoch 55/120\n",
      "300/300 [==============================] - 4s 15ms/step - loss: 0.1915 - penalized_loss: 0.1915 - val_loss: 0.2653 - val_penalized_loss: 0.2653\n",
      "Epoch 56/120\n",
      "300/300 [==============================] - 4s 12ms/step - loss: 0.1903 - penalized_loss: 0.1903 - val_loss: 0.2590 - val_penalized_loss: 0.2590\n",
      "Epoch 57/120\n",
      "300/300 [==============================] - 5s 17ms/step - loss: 0.1892 - penalized_loss: 0.1892 - val_loss: 0.2918 - val_penalized_loss: 0.2918\n",
      "Epoch 58/120\n",
      "300/300 [==============================] - 3s 12ms/step - loss: 0.1915 - penalized_loss: 0.1915 - val_loss: 0.2733 - val_penalized_loss: 0.2733\n",
      "Epoch 59/120\n",
      "300/300 [==============================] - 4s 15ms/step - loss: 0.1863 - penalized_loss: 0.1863 - val_loss: 0.2520 - val_penalized_loss: 0.2520\n",
      "Epoch 60/120\n",
      "300/300 [==============================] - 4s 12ms/step - loss: 0.1884 - penalized_loss: 0.1884 - val_loss: 0.2680 - val_penalized_loss: 0.2680\n",
      "Epoch 61/120\n",
      "300/300 [==============================] - 4s 15ms/step - loss: 0.1846 - penalized_loss: 0.1846 - val_loss: 0.2896 - val_penalized_loss: 0.2896\n",
      "Epoch 62/120\n",
      "300/300 [==============================] - 4s 13ms/step - loss: 0.1878 - penalized_loss: 0.1878 - val_loss: 0.2644 - val_penalized_loss: 0.2644\n",
      "Epoch 63/120\n",
      "300/300 [==============================] - 5s 16ms/step - loss: 0.1806 - penalized_loss: 0.1806 - val_loss: 0.2679 - val_penalized_loss: 0.2679\n",
      "Epoch 64/120\n",
      "300/300 [==============================] - 4s 15ms/step - loss: 0.1846 - penalized_loss: 0.1846 - val_loss: 0.2708 - val_penalized_loss: 0.2708\n",
      "Epoch 65/120\n",
      "300/300 [==============================] - 4s 12ms/step - loss: 0.1804 - penalized_loss: 0.1804 - val_loss: 0.2657 - val_penalized_loss: 0.2657\n",
      "Epoch 66/120\n",
      "300/300 [==============================] - 5s 15ms/step - loss: 0.1813 - penalized_loss: 0.1813 - val_loss: 0.2767 - val_penalized_loss: 0.2767\n",
      "Epoch 67/120\n",
      "300/300 [==============================] - 4s 12ms/step - loss: 0.1811 - penalized_loss: 0.1811 - val_loss: 0.2890 - val_penalized_loss: 0.2890\n",
      "Epoch 68/120\n",
      "300/300 [==============================] - 5s 17ms/step - loss: 0.1763 - penalized_loss: 0.1763 - val_loss: 0.2577 - val_penalized_loss: 0.2577\n",
      "Epoch 69/120\n",
      "300/300 [==============================] - 4s 12ms/step - loss: 0.1789 - penalized_loss: 0.1789 - val_loss: 0.2825 - val_penalized_loss: 0.2825\n",
      "Epoch 70/120\n",
      "300/300 [==============================] - 4s 15ms/step - loss: 0.1782 - penalized_loss: 0.1782 - val_loss: 0.2699 - val_penalized_loss: 0.2699\n",
      "Epoch 71/120\n",
      "300/300 [==============================] - 4s 13ms/step - loss: 0.1778 - penalized_loss: 0.1778 - val_loss: 0.2584 - val_penalized_loss: 0.2584\n",
      "Epoch 72/120\n",
      "300/300 [==============================] - 5s 16ms/step - loss: 0.1766 - penalized_loss: 0.1766 - val_loss: 0.2823 - val_penalized_loss: 0.2823\n",
      "Epoch 73/120\n",
      "300/300 [==============================] - 4s 14ms/step - loss: 0.1777 - penalized_loss: 0.1777 - val_loss: 0.2784 - val_penalized_loss: 0.2784\n",
      "Epoch 74/120\n",
      "300/300 [==============================] - 5s 16ms/step - loss: 0.1745 - penalized_loss: 0.1745 - val_loss: 0.2706 - val_penalized_loss: 0.2706\n",
      "Epoch 75/120\n",
      "300/300 [==============================] - 4s 13ms/step - loss: 0.1762 - penalized_loss: 0.1762 - val_loss: 0.2862 - val_penalized_loss: 0.2862\n",
      "Epoch 76/120\n",
      "300/300 [==============================] - 5s 15ms/step - loss: 0.1742 - penalized_loss: 0.1742 - val_loss: 0.2734 - val_penalized_loss: 0.2734\n",
      "Epoch 77/120\n",
      "300/300 [==============================] - 4s 12ms/step - loss: 0.1741 - penalized_loss: 0.1741 - val_loss: 0.2702 - val_penalized_loss: 0.2702\n",
      "Epoch 78/120\n",
      "300/300 [==============================] - 4s 15ms/step - loss: 0.1706 - penalized_loss: 0.1706 - val_loss: 0.2782 - val_penalized_loss: 0.2782\n",
      "Epoch 79/120\n",
      "300/300 [==============================] - 5s 17ms/step - loss: 0.1746 - penalized_loss: 0.1746 - val_loss: 0.2624 - val_penalized_loss: 0.2624\n",
      "Epoch 80/120\n",
      "300/300 [==============================] - 4s 12ms/step - loss: 0.1695 - penalized_loss: 0.1695 - val_loss: 0.2625 - val_penalized_loss: 0.2625\n",
      "Epoch 81/120\n",
      "300/300 [==============================] - 4s 15ms/step - loss: 0.1698 - penalized_loss: 0.1698 - val_loss: 0.2611 - val_penalized_loss: 0.2611\n",
      "Epoch 82/120\n",
      "300/300 [==============================] - 4s 12ms/step - loss: 0.1668 - penalized_loss: 0.1668 - val_loss: 0.2741 - val_penalized_loss: 0.2741\n",
      "Epoch 83/120\n",
      "300/300 [==============================] - 4s 15ms/step - loss: 0.1696 - penalized_loss: 0.1696 - val_loss: 0.2823 - val_penalized_loss: 0.2823\n",
      "Epoch 84/120\n",
      "300/300 [==============================] - 4s 14ms/step - loss: 0.1682 - penalized_loss: 0.1682 - val_loss: 0.2749 - val_penalized_loss: 0.2749\n",
      "Epoch 85/120\n",
      "300/300 [==============================] - 5s 16ms/step - loss: 0.1709 - penalized_loss: 0.1709 - val_loss: 0.2603 - val_penalized_loss: 0.2603\n",
      "Epoch 86/120\n",
      "300/300 [==============================] - 4s 12ms/step - loss: 0.1689 - penalized_loss: 0.1689 - val_loss: 0.2697 - val_penalized_loss: 0.2697\n",
      "Epoch 87/120\n",
      "300/300 [==============================] - 4s 14ms/step - loss: 0.1677 - penalized_loss: 0.1677 - val_loss: 0.2626 - val_penalized_loss: 0.2626\n",
      "Epoch 88/120\n",
      "300/300 [==============================] - 4s 12ms/step - loss: 0.1671 - penalized_loss: 0.1671 - val_loss: 0.2630 - val_penalized_loss: 0.2630\n",
      "Epoch 89/120\n",
      "300/300 [==============================] - 5s 16ms/step - loss: 0.1657 - penalized_loss: 0.1657 - val_loss: 0.2645 - val_penalized_loss: 0.2645\n",
      "Epoch 90/120\n",
      "300/300 [==============================] - 4s 14ms/step - loss: 0.1661 - penalized_loss: 0.1661 - val_loss: 0.2639 - val_penalized_loss: 0.2639\n",
      "Epoch 91/120\n",
      "300/300 [==============================] - 4s 15ms/step - loss: 0.1654 - penalized_loss: 0.1654 - val_loss: 0.2699 - val_penalized_loss: 0.2699\n",
      "Epoch 92/120\n",
      "300/300 [==============================] - 4s 12ms/step - loss: 0.1668 - penalized_loss: 0.1668 - val_loss: 0.2655 - val_penalized_loss: 0.2655\n",
      "Epoch 93/120\n",
      "300/300 [==============================] - 5s 15ms/step - loss: 0.1612 - penalized_loss: 0.1612 - val_loss: 0.2714 - val_penalized_loss: 0.2714\n",
      "Epoch 94/120\n",
      "300/300 [==============================] - 4s 13ms/step - loss: 0.1660 - penalized_loss: 0.1660 - val_loss: 0.2614 - val_penalized_loss: 0.2614\n",
      "Epoch 95/120\n",
      "300/300 [==============================] - 5s 16ms/step - loss: 0.1609 - penalized_loss: 0.1609 - val_loss: 0.2932 - val_penalized_loss: 0.2932\n",
      "Epoch 96/120\n",
      "300/300 [==============================] - 5s 15ms/step - loss: 0.1656 - penalized_loss: 0.1656 - val_loss: 0.2783 - val_penalized_loss: 0.2783\n",
      "Epoch 97/120\n",
      "300/300 [==============================] - 4s 12ms/step - loss: 0.1604 - penalized_loss: 0.1604 - val_loss: 0.2675 - val_penalized_loss: 0.2675\n",
      "Epoch 98/120\n",
      "300/300 [==============================] - 5s 15ms/step - loss: 0.1633 - penalized_loss: 0.1633 - val_loss: 0.2603 - val_penalized_loss: 0.2603\n",
      "Epoch 99/120\n",
      "300/300 [==============================] - 4s 13ms/step - loss: 0.1624 - penalized_loss: 0.1624 - val_loss: 0.2579 - val_penalized_loss: 0.2579\n",
      "Epoch 100/120\n",
      "300/300 [==============================] - 5s 16ms/step - loss: 0.1591 - penalized_loss: 0.1591 - val_loss: 0.2629 - val_penalized_loss: 0.2629\n",
      "Epoch 101/120\n",
      "300/300 [==============================] - 4s 13ms/step - loss: 0.1599 - penalized_loss: 0.1599 - val_loss: 0.2684 - val_penalized_loss: 0.2684\n",
      "Epoch 102/120\n",
      "300/300 [==============================] - 4s 15ms/step - loss: 0.1620 - penalized_loss: 0.1620 - val_loss: 0.2722 - val_penalized_loss: 0.2722\n",
      "Epoch 103/120\n",
      "300/300 [==============================] - 4s 12ms/step - loss: 0.1599 - penalized_loss: 0.1599 - val_loss: 0.2719 - val_penalized_loss: 0.2719\n",
      "Epoch 104/120\n",
      "300/300 [==============================] - 4s 15ms/step - loss: 0.1600 - penalized_loss: 0.1600 - val_loss: 0.2743 - val_penalized_loss: 0.2743\n",
      "Epoch 105/120\n",
      "300/300 [==============================] - 4s 12ms/step - loss: 0.1600 - penalized_loss: 0.1600 - val_loss: 0.2681 - val_penalized_loss: 0.2681\n",
      "Epoch 106/120\n",
      "300/300 [==============================] - 5s 17ms/step - loss: 0.1576 - penalized_loss: 0.1576 - val_loss: 0.2716 - val_penalized_loss: 0.2716\n",
      "Epoch 107/120\n",
      "300/300 [==============================] - 4s 13ms/step - loss: 0.1582 - penalized_loss: 0.1582 - val_loss: 0.2833 - val_penalized_loss: 0.2833\n",
      "Epoch 108/120\n",
      "300/300 [==============================] - 4s 15ms/step - loss: 0.1554 - penalized_loss: 0.1554 - val_loss: 0.2756 - val_penalized_loss: 0.2756\n",
      "Epoch 109/120\n",
      "300/300 [==============================] - 4s 13ms/step - loss: 0.1562 - penalized_loss: 0.1562 - val_loss: 0.2699 - val_penalized_loss: 0.2699\n",
      "Epoch 110/120\n",
      "300/300 [==============================] - 4s 15ms/step - loss: 0.1551 - penalized_loss: 0.1551 - val_loss: 0.2697 - val_penalized_loss: 0.2697\n",
      "Epoch 111/120\n",
      "300/300 [==============================] - 5s 16ms/step - loss: 0.1593 - penalized_loss: 0.1593 - val_loss: 0.2531 - val_penalized_loss: 0.2531\n",
      "Epoch 112/120\n",
      "300/300 [==============================] - 4s 13ms/step - loss: 0.1556 - penalized_loss: 0.1556 - val_loss: 0.2687 - val_penalized_loss: 0.2687\n",
      "Epoch 113/120\n",
      "300/300 [==============================] - 4s 14ms/step - loss: 0.1565 - penalized_loss: 0.1565 - val_loss: 0.2583 - val_penalized_loss: 0.2583\n",
      "Epoch 114/120\n",
      "300/300 [==============================] - 4s 12ms/step - loss: 0.1552 - penalized_loss: 0.1552 - val_loss: 0.2798 - val_penalized_loss: 0.2798\n",
      "Epoch 115/120\n",
      "300/300 [==============================] - 4s 15ms/step - loss: 0.1564 - penalized_loss: 0.1564 - val_loss: 0.2654 - val_penalized_loss: 0.2654\n",
      "Epoch 116/120\n",
      "300/300 [==============================] - 4s 12ms/step - loss: 0.1541 - penalized_loss: 0.1541 - val_loss: 0.2585 - val_penalized_loss: 0.2585\n",
      "Epoch 117/120\n",
      "300/300 [==============================] - 5s 17ms/step - loss: 0.1540 - penalized_loss: 0.1540 - val_loss: 0.2685 - val_penalized_loss: 0.2685\n",
      "Epoch 118/120\n",
      "300/300 [==============================] - 4s 13ms/step - loss: 0.1567 - penalized_loss: 0.1567 - val_loss: 0.2800 - val_penalized_loss: 0.2800\n",
      "Epoch 119/120\n",
      "300/300 [==============================] - 4s 14ms/step - loss: 0.1510 - penalized_loss: 0.1510 - val_loss: 0.2743 - val_penalized_loss: 0.2743\n",
      "Epoch 120/120\n",
      "300/300 [==============================] - 4s 12ms/step - loss: 0.1531 - penalized_loss: 0.1531 - val_loss: 0.2548 - val_penalized_loss: 0.2548\n"
     ]
    },
    {
     "data": {
      "text/html": [
       "\n",
       "    <h2> model - RMSE report </h2>\n",
       "    <h3> RMSE </h3>\n",
       "    <hr>\n",
       "    <div>\n",
       "        <table>\n",
       "            <tr>\n",
       "                <td>RMSE (baseline &forall;1.0)</td>\n",
       "                <td>1.53</td>\n",
       "            </tr>\n",
       "            <tr>\n",
       "                <td>RMSE</td>\n",
       "                <td>0.984</td>\n",
       "            </tr>\n",
       "        </table>\n",
       "    <hr>\n",
       "    <h3> Partial RMSE </h3>\n",
       "        <table>\n",
       "            <tr>\n",
       "                <td>Mean partial RMSE (baseline &forall;1.0)</td>\n",
       "                <td>2.0</td>\n",
       "            </tr>\n",
       "            <tr>\n",
       "                <td>Max partial RMSE (baseline &forall;1.0)</td>\n",
       "                <td>1.414</td>\n",
       "            </tr>\n",
       "            <tr>\n",
       "                <td>St.dev. partial RMSE (baseline &forall;1.0)</td>\n",
       "                <td>4.0</td>\n",
       "            </tr>\n",
       "            <tr>\n",
       "                <td>Mean partial RMSE</td>\n",
       "                <td><b>0.865</b></td>\n",
       "            </tr>\n",
       "            <tr>\n",
       "                <td>Max partial RMSE</td>\n",
       "                <td>0.117</td>\n",
       "            </tr>\n",
       "            <tr>\n",
       "                <td>St.dev. partial RMSE</td>\n",
       "                <td>1.053</td>\n",
       "            </tr>            \n",
       "        </table>\n",
       "    </div>\n",
       "    <h3> Improvement over baseline (&forall;1.0) </h3>\n",
       "    <hr>\n",
       "    <div>\n",
       "        <table>\n",
       "            <tr>\n",
       "                <td>RMSE</td>\n",
       "                <td>0.546</td>\n",
       "            </tr>\n",
       "            <tr>\n",
       "                <td>Mean partial RMSE</td>\n",
       "                <td><b>1.135</b></td>\n",
       "            </tr>\n",
       "            <tr>\n",
       "                <td>Max partial RMSE</td>\n",
       "                <td>2.947</td>\n",
       "            </tr>\n",
       "        </table>\n",
       "    </div>\n",
       "    \n",
       "    <h3> Partial RMSE detailed</h3>\n",
       "    <hr>\n",
       "    <div>\n",
       "        <table>\n",
       "            <tr>\n",
       "                <th>Review Score</th>\n",
       "                <th>RMSE</th>\n",
       "                <th>RMSE baseline (&forall;1.0)</th>\n",
       "                <th>Improvement over baseline</th>\n",
       "            </tr>\n",
       "            \n",
       "    <tr>\n",
       "        <td>\n",
       "            5.0\n",
       "        </td>\n",
       "        <td>\n",
       "            1.053\n",
       "        </td>\n",
       "        <td>\n",
       "            0.0\n",
       "        </td>\n",
       "        <td>\n",
       "            -1.053\n",
       "        </td>\n",
       "    </tr>\n",
       "    \n",
       "\n",
       "    <tr>\n",
       "        <td>\n",
       "            4.0\n",
       "        </td>\n",
       "        <td>\n",
       "            0.933\n",
       "        </td>\n",
       "        <td>\n",
       "            1.0\n",
       "        </td>\n",
       "        <td>\n",
       "            0.067\n",
       "        </td>\n",
       "    </tr>\n",
       "    \n",
       "\n",
       "    <tr>\n",
       "        <td>\n",
       "            3.0\n",
       "        </td>\n",
       "        <td>\n",
       "            0.841\n",
       "        </td>\n",
       "        <td>\n",
       "            2.0\n",
       "        </td>\n",
       "        <td>\n",
       "            1.159\n",
       "        </td>\n",
       "    </tr>\n",
       "    \n",
       "\n",
       "    <tr>\n",
       "        <td>\n",
       "            2.0\n",
       "        </td>\n",
       "        <td>\n",
       "            0.746\n",
       "        </td>\n",
       "        <td>\n",
       "            3.0\n",
       "        </td>\n",
       "        <td>\n",
       "            2.254\n",
       "        </td>\n",
       "    </tr>\n",
       "    \n",
       "\n",
       "    <tr>\n",
       "        <td>\n",
       "            1.0\n",
       "        </td>\n",
       "        <td>\n",
       "            0.751\n",
       "        </td>\n",
       "        <td>\n",
       "            4.0\n",
       "        </td>\n",
       "        <td>\n",
       "            3.249\n",
       "        </td>\n",
       "    </tr>\n",
       "    \n",
       "        </table>\n",
       "    </div>\n",
       "    "
      ],
      "text/plain": [
       "<IPython.core.display.HTML object>"
      ]
     },
     "metadata": {},
     "output_type": "display_data"
    },
    {
     "data": {
      "image/png": "[encoded data removed]",
      "text/plain": [
       "<Figure size 432x288 with 1 Axes>"
      ]
     },
     "metadata": {
      "needs_background": "light"
     },
     "output_type": "display_data"
    }
   ],
   "source": [
    "model=experiment(learning_rate=0.02,epochs=120,batch_size=256,steps=300,name='model')"
   ]
  },
  {
   "cell_type": "code",
   "execution_count": 16,
   "metadata": {},
   "outputs": [
    {
     "name": "stdout",
     "output_type": "stream",
     "text": [
      "Model: \"sequential_1\"\n",
      "_________________________________________________________________\n",
      "Layer (type)                 Output Shape              Param #   \n",
      "=================================================================\n",
      "dense_2 (Dense)              (None, 256)               153856    \n",
      "_________________________________________________________________\n",
      "dense_3 (Dense)              (None, 1)                 257       \n",
      "=================================================================\n",
      "Total params: 154,113\n",
      "Trainable params: 154,113\n",
      "Non-trainable params: 0\n",
      "_________________________________________________________________\n"
     ]
    }
   ],
   "source": [
    "model.summary()"
   ]
  },
  {
   "cell_type": "code",
   "execution_count": 17,
   "metadata": {},
   "outputs": [],
   "source": [
    "## Persist model"
   ]
  },
  {
   "cell_type": "code",
   "execution_count": 18,
   "metadata": {},
   "outputs": [],
   "source": [
    "model.save('/home/kvassay/data/z/models/E3a/keras_regressor.h5')"
   ]
  },
  {
   "cell_type": "code",
   "execution_count": null,
   "metadata": {},
   "outputs": [],
   "source": []
  }
 ],
 "metadata": {
  "kernelspec": {
   "display_name": "Python 3",
   "language": "python",
   "name": "python3"
  },
  "language_info": {
   "codemirror_mode": {
    "name": "ipython",
    "version": 3
   },
   "file_extension": ".py",
   "mimetype": "text/x-python",
   "name": "python",
   "nbconvert_exporter": "python",
   "pygments_lexer": "ipython3",
   "version": "3.6.7"
  }
 },
 "nbformat": 4,
 "nbformat_minor": 2
}
