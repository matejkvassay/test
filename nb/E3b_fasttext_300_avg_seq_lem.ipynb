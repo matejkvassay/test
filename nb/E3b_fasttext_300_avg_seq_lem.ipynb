{
 "cells": [
  {
   "cell_type": "code",
   "execution_count": 1,
   "metadata": {},
   "outputs": [],
   "source": [
    "import pickle\n",
    "import os\n",
    "import re\n",
    "import numpy as np\n",
    "import spacy\n",
    "import tensorflow as tf\n",
    "import tensorflow.keras as K\n",
    "from datetime import datetime\n",
    "from sklearn.preprocessing import normalize as scikit_normalize\n",
    "from evaluation import plot_history\n",
    "from evaluation import rmse_report\n",
    "from sampling import UnderSampler\n",
    "from fasttext_embedding import FastTextEmbeddingBag\n",
    "from spacy.lang.en.stop_words import STOP_WORDS\n",
    "from tqdm import tqdm\n",
    "\n",
    "%matplotlib inline\n",
    "%load_ext tensorboard"
   ]
  },
  {
   "cell_type": "code",
   "execution_count": 2,
   "metadata": {},
   "outputs": [],
   "source": [
    "DATASET='/home/kvassay/data/z/data/reviews_train_test_dev1_{}.pickle'\n",
    "TYPE='lem_tok'\n",
    "TB_LOG_DIR='/home/kvassay/data/z/log/E3b/scalars/'\n",
    "VEC_DIM=100\n",
    "FASTTEXT='/home/kvassay/data/z/models/fasttext/cbow_{}_e{}_w{}.bin'.format(VEC_DIM,50,5)\n",
    "ALLOWED_SPECIAL=tuple(['?','!',':(', ':)', ':D',':-)',':-D',':\\'(',':/',':-/','<3',':-P',':P'])"
   ]
  },
  {
   "cell_type": "markdown",
   "metadata": {},
   "source": [
    "## Read data"
   ]
  },
  {
   "cell_type": "code",
   "execution_count": 3,
   "metadata": {},
   "outputs": [
    {
     "name": "stdout",
     "output_type": "stream",
     "text": [
      "CPU times: user 4.56 s, sys: 998 ms, total: 5.56 s\n",
      "Wall time: 5.74 s\n"
     ]
    }
   ],
   "source": [
    "%%time\n",
    "with open(DATASET.format(TYPE),'rb') as f:\n",
    "    train,dev,_=pickle.load(f)"
   ]
  },
  {
   "cell_type": "markdown",
   "metadata": {},
   "source": [
    "## Load models"
   ]
  },
  {
   "cell_type": "code",
   "execution_count": 4,
   "metadata": {},
   "outputs": [
    {
     "name": "stderr",
     "output_type": "stream",
     "text": [
      "\n"
     ]
    },
    {
     "name": "stdout",
     "output_type": "stream",
     "text": [
      "CPU times: user 2.21 s, sys: 1.34 s, total: 3.55 s\n",
      "Wall time: 7.85 s\n"
     ]
    }
   ],
   "source": [
    "%%time\n",
    "fasttext=FastTextEmbeddingBag(FASTTEXT)"
   ]
  },
  {
   "cell_type": "markdown",
   "metadata": {},
   "source": [
    "## Preprocess text + extract features\n",
    "- filter out EN stop-words (and, or, ...)\n",
    "- filter out non-allowed special tokens (we want to keep smileys and !,?)\n",
    "- filter out short words (1-2 characters)"
   ]
  },
  {
   "cell_type": "code",
   "execution_count": 5,
   "metadata": {},
   "outputs": [],
   "source": [
    "rx_special= re.compile(\"|\".join(re.escape(s) for s in ALLOWED_SPECIAL))\n",
    "\n",
    "def word_filter(word):\n",
    "    if word in STOP_WORDS:\n",
    "        return False\n",
    "    if not word.isalpha():\n",
    "        if not rx_special.findall(word):\n",
    "            return False\n",
    "    else:\n",
    "        if len(word)<3:\n",
    "            return False\n",
    "    return True\n",
    "\n",
    "def preprocess_text(text):\n",
    "    return [x.lower() for x in text if word_filter(x.lower())]\n",
    "\n",
    "def preprocess_texts(dataset,text_keys=['summary','text']):\n",
    "    for sample in tqdm(dataset):\n",
    "        for key in text_keys:\n",
    "            sample[key]=preprocess_text(sample[key])\n",
    "    return dataset"
   ]
  },
  {
   "cell_type": "code",
   "execution_count": 6,
   "metadata": {},
   "outputs": [
    {
     "name": "stderr",
     "output_type": "stream",
     "text": [
      "100%|██████████| 551399/551399 [00:18<00:00, 30623.25it/s]\n",
      "100%|██████████| 8527/8527 [00:00<00:00, 31837.54it/s]"
     ]
    },
    {
     "name": "stdout",
     "output_type": "stream",
     "text": [
      "CPU times: user 18.4 s, sys: 67.1 ms, total: 18.4 s\n",
      "Wall time: 18.3 s\n"
     ]
    },
    {
     "name": "stderr",
     "output_type": "stream",
     "text": [
      "\n"
     ]
    }
   ],
   "source": [
    "%%time\n",
    "train=preprocess_texts(train)\n",
    "dev=preprocess_texts(dev)"
   ]
  },
  {
   "cell_type": "markdown",
   "metadata": {},
   "source": [
    "## Extract features\n",
    "- transform texts to averages of their fastText vectors\n",
    "- concatenate summary & text average vectors into single one"
   ]
  },
  {
   "cell_type": "code",
   "execution_count": 7,
   "metadata": {},
   "outputs": [],
   "source": [
    "def extract_features(dataset, fasttext):\n",
    "    default_vec=np.zeros(VEC_DIM,dtype=np.float32)\n",
    "    vecs=[]\n",
    "    for sample in tqdm(dataset):\n",
    "        if sample['summary']:\n",
    "            vecs_summary=fasttext.forward([x for x in sample['summary']])\n",
    "        else:\n",
    "            vecs_summary=[default_vec]\n",
    "        if sample['text']:\n",
    "            vecs_text = fasttext.forward([x for x in sample['text']])\n",
    "        else:\n",
    "            vecs_text=[default_vec]\n",
    "        avg_summary = np.mean(vecs_summary,axis=0)\n",
    "        avg_text = np.mean(vecs_text,axis=0)\n",
    "        vecs.append(np.concatenate((avg_summary,avg_text), axis=0))\n",
    "    vecs=np.array(vecs)\n",
    "    return scikit_normalize(vecs)"
   ]
  },
  {
   "cell_type": "code",
   "execution_count": 8,
   "metadata": {},
   "outputs": [
    {
     "name": "stderr",
     "output_type": "stream",
     "text": [
      "100%|██████████| 551399/551399 [05:43<00:00, 1603.62it/s]\n",
      "100%|██████████| 8527/8527 [00:05<00:00, 1490.14it/s]\n"
     ]
    },
    {
     "name": "stdout",
     "output_type": "stream",
     "text": [
      "Train samples shape: (551399, 200), Dev samples shape: (8527, 200)\n",
      "CPU times: user 5min 52s, sys: 11.4 s, total: 6min 3s\n",
      "Wall time: 5min 50s\n"
     ]
    }
   ],
   "source": [
    "%%time\n",
    "X_train=extract_features(train,fasttext)\n",
    "X_dev=extract_features(dev,fasttext)\n",
    "y_train=np.array([x['score'] for x in train])\n",
    "y_dev=np.array([x['score'] for x in dev])\n",
    "print('Train samples shape: {}, Dev samples shape: {}'.format(X_train.shape,X_dev.shape))"
   ]
  },
  {
   "cell_type": "markdown",
   "metadata": {},
   "source": [
    "## Train\n",
    "- shallow sequential NN"
   ]
  },
  {
   "cell_type": "code",
   "execution_count": 21,
   "metadata": {},
   "outputs": [],
   "source": [
    "def get_tb_callback():\n",
    "    suffix=datetime.now().strftime(\"%Y%m%d-%H%M%S\")\n",
    "    log_dir= os.path.join(TB_LOG_DIR,suffix)\n",
    "    return K.callbacks.TensorBoard(log_dir=os.path.join(log_dir))\n",
    "\n",
    "def penalized_loss(y_true, y_pred):\n",
    "    return K.backend.mean(K.backend.square(K.backend.abs(y_true - y_pred))/y_true)\n",
    "\n",
    "def train_model(batch_size,learning_rate, epochs,steps):\n",
    "    DROPRATE=0.1\n",
    "    tensorboard_callback = get_tb_callback()\n",
    "    model = K.models.Sequential([\n",
    "        K.layers.Dense(256,activation='relu', input_shape=(X_train.shape[1],)),\n",
    "        K.layers.Dense(1,activation='linear'),\n",
    "    ])\n",
    "    opt=K.optimizers.Adam(lr=learning_rate, decay=learning_rate/epochs)\n",
    "    model.compile(optimizer=opt, loss=penalized_loss,metrics=[penalized_loss])\n",
    "    sampler=UnderSampler(X_train,y_train,batch_size=batch_size)\n",
    "    model.fit_generator(sampler,\n",
    "                        shuffle=False,\n",
    "                        epochs=epochs,\n",
    "                        steps_per_epoch=steps,\n",
    "                        validation_data=(X_dev,y_dev),\n",
    "                        callbacks=[tensorboard_callback])\n",
    "    return model"
   ]
  },
  {
   "cell_type": "markdown",
   "metadata": {},
   "source": [
    "## Experiment"
   ]
  },
  {
   "cell_type": "code",
   "execution_count": 22,
   "metadata": {},
   "outputs": [],
   "source": [
    "def experiment(learning_rate,epochs,batch_size,name,steps):\n",
    "    model=train_model(epochs=epochs,batch_size=batch_size,learning_rate=learning_rate,steps=steps)\n",
    "    y_pred_dev=model.predict(X_dev)\n",
    "    rmse_report(y_dev,y_pred_dev,title='{} - RMSE report'.format(name))\n",
    "    plot_history(model,title='{} - Train/Dev MSE'.format(name))\n",
    "    return model"
   ]
  },
  {
   "cell_type": "code",
   "execution_count": 23,
   "metadata": {},
   "outputs": [
    {
     "name": "stdout",
     "output_type": "stream",
     "text": [
      "Epoch 1/60\n",
      "300/300 [==============================] - 3s 11ms/step - loss: 0.4682 - penalized_loss: 0.4682 - val_loss: 0.4342 - val_penalized_loss: 0.4342\n",
      "Epoch 2/60\n",
      "300/300 [==============================] - 4s 13ms/step - loss: 0.4026 - penalized_loss: 0.4026 - val_loss: 0.4632 - val_penalized_loss: 0.4632\n",
      "Epoch 3/60\n",
      "300/300 [==============================] - 4s 13ms/step - loss: 0.3892 - penalized_loss: 0.3892 - val_loss: 0.4358 - val_penalized_loss: 0.4358\n",
      "Epoch 4/60\n",
      "300/300 [==============================] - 4s 15ms/step - loss: 0.3795 - penalized_loss: 0.3795 - val_loss: 0.4547 - val_penalized_loss: 0.4547\n",
      "Epoch 5/60\n",
      "300/300 [==============================] - 4s 13ms/step - loss: 0.3700 - penalized_loss: 0.3700 - val_loss: 0.4414 - val_penalized_loss: 0.4414\n",
      "Epoch 6/60\n",
      "300/300 [==============================] - 4s 13ms/step - loss: 0.3608 - penalized_loss: 0.3608 - val_loss: 0.3948 - val_penalized_loss: 0.3948\n",
      "Epoch 7/60\n",
      "300/300 [==============================] - 3s 12ms/step - loss: 0.3577 - penalized_loss: 0.3577 - val_loss: 0.4449 - val_penalized_loss: 0.4449\n",
      "Epoch 8/60\n",
      "300/300 [==============================] - 4s 13ms/step - loss: 0.3487 - penalized_loss: 0.3487 - val_loss: 0.3549 - val_penalized_loss: 0.3548\n",
      "Epoch 9/60\n",
      "300/300 [==============================] - 4s 12ms/step - loss: 0.3437 - penalized_loss: 0.3437 - val_loss: 0.4017 - val_penalized_loss: 0.4017\n",
      "Epoch 10/60\n",
      "300/300 [==============================] - 4s 15ms/step - loss: 0.3372 - penalized_loss: 0.3372 - val_loss: 0.3787 - val_penalized_loss: 0.3787\n",
      "Epoch 11/60\n",
      "300/300 [==============================] - 4s 13ms/step - loss: 0.3345 - penalized_loss: 0.3345 - val_loss: 0.4031 - val_penalized_loss: 0.4031\n",
      "Epoch 12/60\n",
      "300/300 [==============================] - 4s 13ms/step - loss: 0.3266 - penalized_loss: 0.3266 - val_loss: 0.4132 - val_penalized_loss: 0.4132\n",
      "Epoch 13/60\n",
      "300/300 [==============================] - 4s 12ms/step - loss: 0.3277 - penalized_loss: 0.3277 - val_loss: 0.3836 - val_penalized_loss: 0.3836\n",
      "Epoch 14/60\n",
      "300/300 [==============================] - 4s 13ms/step - loss: 0.3171 - penalized_loss: 0.3171 - val_loss: 0.3520 - val_penalized_loss: 0.3520\n",
      "Epoch 15/60\n",
      "300/300 [==============================] - 4s 13ms/step - loss: 0.3178 - penalized_loss: 0.3178 - val_loss: 0.4046 - val_penalized_loss: 0.4046\n",
      "Epoch 16/60\n",
      "300/300 [==============================] - 4s 14ms/step - loss: 0.3121 - penalized_loss: 0.3121 - val_loss: 0.4361 - val_penalized_loss: 0.4361\n",
      "Epoch 17/60\n",
      "300/300 [==============================] - 5s 15ms/step - loss: 0.3094 - penalized_loss: 0.3094 - val_loss: 0.3589 - val_penalized_loss: 0.3589\n",
      "Epoch 18/60\n",
      "300/300 [==============================] - 3s 11ms/step - loss: 0.3016 - penalized_loss: 0.3016 - val_loss: 0.3752 - val_penalized_loss: 0.3752\n",
      "Epoch 19/60\n",
      "300/300 [==============================] - 4s 13ms/step - loss: 0.3026 - penalized_loss: 0.3026 - val_loss: 0.3756 - val_penalized_loss: 0.3756\n",
      "Epoch 20/60\n",
      "300/300 [==============================] - 3s 11ms/step - loss: 0.2971 - penalized_loss: 0.2971 - val_loss: 0.3695 - val_penalized_loss: 0.3695\n",
      "Epoch 21/60\n",
      "300/300 [==============================] - 4s 14ms/step - loss: 0.2987 - penalized_loss: 0.2987 - val_loss: 0.3618 - val_penalized_loss: 0.3618\n",
      "Epoch 22/60\n",
      "300/300 [==============================] - 4s 12ms/step - loss: 0.2962 - penalized_loss: 0.2962 - val_loss: 0.3328 - val_penalized_loss: 0.3328\n",
      "Epoch 23/60\n",
      "300/300 [==============================] - 4s 14ms/step - loss: 0.2942 - penalized_loss: 0.2942 - val_loss: 0.3424 - val_penalized_loss: 0.3424\n",
      "Epoch 24/60\n",
      "300/300 [==============================] - 3s 11ms/step - loss: 0.2934 - penalized_loss: 0.2934 - val_loss: 0.3702 - val_penalized_loss: 0.3702\n",
      "Epoch 25/60\n",
      "300/300 [==============================] - 4s 13ms/step - loss: 0.2894 - penalized_loss: 0.2894 - val_loss: 0.3657 - val_penalized_loss: 0.3657\n",
      "Epoch 26/60\n",
      "300/300 [==============================] - 3s 11ms/step - loss: 0.2859 - penalized_loss: 0.2859 - val_loss: 0.3573 - val_penalized_loss: 0.3573\n",
      "Epoch 27/60\n",
      "300/300 [==============================] - 4s 14ms/step - loss: 0.2865 - penalized_loss: 0.2865 - val_loss: 0.3561 - val_penalized_loss: 0.3561\n",
      "Epoch 28/60\n",
      "300/300 [==============================] - 4s 13ms/step - loss: 0.2810 - penalized_loss: 0.2810 - val_loss: 0.3447 - val_penalized_loss: 0.3447\n",
      "Epoch 29/60\n",
      "300/300 [==============================] - 4s 14ms/step - loss: 0.2797 - penalized_loss: 0.2797 - val_loss: 0.3509 - val_penalized_loss: 0.3509\n",
      "Epoch 30/60\n",
      "300/300 [==============================] - 3s 11ms/step - loss: 0.2798 - penalized_loss: 0.2798 - val_loss: 0.3618 - val_penalized_loss: 0.3618\n",
      "Epoch 31/60\n",
      "300/300 [==============================] - 4s 13ms/step - loss: 0.2794 - penalized_loss: 0.2794 - val_loss: 0.3572 - val_penalized_loss: 0.3572\n",
      "Epoch 32/60\n",
      "300/300 [==============================] - 4s 14ms/step - loss: 0.2757 - penalized_loss: 0.2757 - val_loss: 0.3338 - val_penalized_loss: 0.3338\n",
      "Epoch 33/60\n",
      "300/300 [==============================] - 4s 12ms/step - loss: 0.2769 - penalized_loss: 0.2769 - val_loss: 0.3883 - val_penalized_loss: 0.3883\n",
      "Epoch 34/60\n",
      "300/300 [==============================] - 4s 15ms/step - loss: 0.2763 - penalized_loss: 0.2763 - val_loss: 0.3429 - val_penalized_loss: 0.3429\n",
      "Epoch 35/60\n",
      "300/300 [==============================] - 4s 12ms/step - loss: 0.2711 - penalized_loss: 0.2711 - val_loss: 0.3348 - val_penalized_loss: 0.3348\n",
      "Epoch 36/60\n",
      "300/300 [==============================] - 4s 13ms/step - loss: 0.2718 - penalized_loss: 0.2718 - val_loss: 0.3416 - val_penalized_loss: 0.3416\n",
      "Epoch 37/60\n",
      "300/300 [==============================] - 3s 12ms/step - loss: 0.2715 - penalized_loss: 0.2715 - val_loss: 0.3319 - val_penalized_loss: 0.3319\n",
      "Epoch 38/60\n",
      "300/300 [==============================] - 4s 13ms/step - loss: 0.2684 - penalized_loss: 0.2684 - val_loss: 0.4000 - val_penalized_loss: 0.4000\n",
      "Epoch 39/60\n",
      "300/300 [==============================] - 4s 13ms/step - loss: 0.2670 - penalized_loss: 0.2670 - val_loss: 0.3447 - val_penalized_loss: 0.3447\n",
      "Epoch 40/60\n",
      "300/300 [==============================] - 5s 15ms/step - loss: 0.2658 - penalized_loss: 0.2658 - val_loss: 0.3661 - val_penalized_loss: 0.3661\n",
      "Epoch 41/60\n",
      "300/300 [==============================] - 4s 13ms/step - loss: 0.2698 - penalized_loss: 0.2698 - val_loss: 0.3583 - val_penalized_loss: 0.3583\n",
      "Epoch 42/60\n",
      "300/300 [==============================] - 4s 13ms/step - loss: 0.2607 - penalized_loss: 0.2607 - val_loss: 0.3180 - val_penalized_loss: 0.3180\n",
      "Epoch 43/60\n",
      "300/300 [==============================] - 3s 11ms/step - loss: 0.2656 - penalized_loss: 0.2656 - val_loss: 0.3273 - val_penalized_loss: 0.3273\n",
      "Epoch 44/60\n",
      "300/300 [==============================] - 4s 13ms/step - loss: 0.2616 - penalized_loss: 0.2616 - val_loss: 0.3332 - val_penalized_loss: 0.3332\n",
      "Epoch 45/60\n",
      "300/300 [==============================] - 4s 13ms/step - loss: 0.2637 - penalized_loss: 0.2637 - val_loss: 0.3240 - val_penalized_loss: 0.3240\n",
      "Epoch 46/60\n",
      "300/300 [==============================] - 4s 14ms/step - loss: 0.2601 - penalized_loss: 0.2601 - val_loss: 0.3408 - val_penalized_loss: 0.3408\n",
      "Epoch 47/60\n",
      "300/300 [==============================] - 4s 13ms/step - loss: 0.2583 - penalized_loss: 0.2583 - val_loss: 0.3258 - val_penalized_loss: 0.3258\n",
      "Epoch 48/60\n",
      "300/300 [==============================] - 4s 12ms/step - loss: 0.2579 - penalized_loss: 0.2579 - val_loss: 0.3375 - val_penalized_loss: 0.3375\n",
      "Epoch 49/60\n",
      "300/300 [==============================] - 4s 13ms/step - loss: 0.2610 - penalized_loss: 0.2610 - val_loss: 0.3531 - val_penalized_loss: 0.3531\n",
      "Epoch 50/60\n",
      "300/300 [==============================] - 3s 11ms/step - loss: 0.2591 - penalized_loss: 0.2591 - val_loss: 0.3340 - val_penalized_loss: 0.3340\n",
      "Epoch 51/60\n",
      "300/300 [==============================] - 4s 15ms/step - loss: 0.2575 - penalized_loss: 0.2575 - val_loss: 0.3488 - val_penalized_loss: 0.3488\n",
      "Epoch 52/60\n",
      "300/300 [==============================] - 4s 12ms/step - loss: 0.2562 - penalized_loss: 0.2562 - val_loss: 0.3229 - val_penalized_loss: 0.3229\n",
      "Epoch 53/60\n",
      "300/300 [==============================] - 4s 14ms/step - loss: 0.2570 - penalized_loss: 0.2570 - val_loss: 0.3297 - val_penalized_loss: 0.3297\n",
      "Epoch 54/60\n",
      "300/300 [==============================] - 4s 12ms/step - loss: 0.2573 - penalized_loss: 0.2573 - val_loss: 0.3200 - val_penalized_loss: 0.3200\n",
      "Epoch 55/60\n",
      "300/300 [==============================] - 4s 13ms/step - loss: 0.2533 - penalized_loss: 0.2533 - val_loss: 0.3274 - val_penalized_loss: 0.3274\n",
      "Epoch 56/60\n",
      "300/300 [==============================] - 3s 12ms/step - loss: 0.2534 - penalized_loss: 0.2534 - val_loss: 0.3401 - val_penalized_loss: 0.3401\n",
      "Epoch 57/60\n",
      "300/300 [==============================] - 4s 15ms/step - loss: 0.2509 - penalized_loss: 0.2509 - val_loss: 0.3361 - val_penalized_loss: 0.3361\n",
      "Epoch 58/60\n",
      "300/300 [==============================] - 4s 12ms/step - loss: 0.2543 - penalized_loss: 0.2543 - val_loss: 0.3354 - val_penalized_loss: 0.3354\n",
      "Epoch 59/60\n",
      "300/300 [==============================] - 4s 14ms/step - loss: 0.2526 - penalized_loss: 0.2526 - val_loss: 0.3294 - val_penalized_loss: 0.3294\n",
      "Epoch 60/60\n",
      "300/300 [==============================] - 3s 12ms/step - loss: 0.2504 - penalized_loss: 0.2504 - val_loss: 0.3456 - val_penalized_loss: 0.3456\n"
     ]
    },
    {
     "data": {
      "text/html": [
       "\n",
       "    <h2> model - RMSE report </h2>\n",
       "    <h3> RMSE </h3>\n",
       "    <hr>\n",
       "    <div>\n",
       "        <table>\n",
       "            <tr>\n",
       "                <td>RMSE (baseline &forall;1.0)</td>\n",
       "                <td>1.53</td>\n",
       "            </tr>\n",
       "            <tr>\n",
       "                <td>RMSE</td>\n",
       "                <td>1.191</td>\n",
       "            </tr>\n",
       "        </table>\n",
       "    <hr>\n",
       "    <h3> Partial RMSE </h3>\n",
       "        <table>\n",
       "            <tr>\n",
       "                <td>Mean partial RMSE (baseline &forall;1.0)</td>\n",
       "                <td>2.0</td>\n",
       "            </tr>\n",
       "            <tr>\n",
       "                <td>Max partial RMSE (baseline &forall;1.0)</td>\n",
       "                <td>1.414</td>\n",
       "            </tr>\n",
       "            <tr>\n",
       "                <td>St.dev. partial RMSE (baseline &forall;1.0)</td>\n",
       "                <td>4.0</td>\n",
       "            </tr>\n",
       "            <tr>\n",
       "                <td>Mean partial RMSE</td>\n",
       "                <td><b>0.918</b></td>\n",
       "            </tr>\n",
       "            <tr>\n",
       "                <td>Max partial RMSE</td>\n",
       "                <td>0.241</td>\n",
       "            </tr>\n",
       "            <tr>\n",
       "                <td>St.dev. partial RMSE</td>\n",
       "                <td>1.337</td>\n",
       "            </tr>            \n",
       "        </table>\n",
       "    </div>\n",
       "    <h3> Improvement over baseline (&forall;1.0) </h3>\n",
       "    <hr>\n",
       "    <div>\n",
       "        <table>\n",
       "            <tr>\n",
       "                <td>RMSE</td>\n",
       "                <td>0.339</td>\n",
       "            </tr>\n",
       "            <tr>\n",
       "                <td>Mean partial RMSE</td>\n",
       "                <td><b>1.082</b></td>\n",
       "            </tr>\n",
       "            <tr>\n",
       "                <td>Max partial RMSE</td>\n",
       "                <td>2.663</td>\n",
       "            </tr>\n",
       "        </table>\n",
       "    </div>\n",
       "    \n",
       "    <h3> Partial RMSE detailed</h3>\n",
       "    <hr>\n",
       "    <div>\n",
       "        <table>\n",
       "            <tr>\n",
       "                <th>Review Score</th>\n",
       "                <th>RMSE</th>\n",
       "                <th>RMSE baseline (&forall;1.0)</th>\n",
       "                <th>Improvement over baseline</th>\n",
       "            </tr>\n",
       "            \n",
       "    <tr>\n",
       "        <td>\n",
       "            5.0\n",
       "        </td>\n",
       "        <td>\n",
       "            1.337\n",
       "        </td>\n",
       "        <td>\n",
       "            0.0\n",
       "        </td>\n",
       "        <td>\n",
       "            -1.337\n",
       "        </td>\n",
       "    </tr>\n",
       "    \n",
       "\n",
       "    <tr>\n",
       "        <td>\n",
       "            4.0\n",
       "        </td>\n",
       "        <td>\n",
       "            1.009\n",
       "        </td>\n",
       "        <td>\n",
       "            1.0\n",
       "        </td>\n",
       "        <td>\n",
       "            -0.009\n",
       "        </td>\n",
       "    </tr>\n",
       "    \n",
       "\n",
       "    <tr>\n",
       "        <td>\n",
       "            3.0\n",
       "        </td>\n",
       "        <td>\n",
       "            0.852\n",
       "        </td>\n",
       "        <td>\n",
       "            2.0\n",
       "        </td>\n",
       "        <td>\n",
       "            1.148\n",
       "        </td>\n",
       "    </tr>\n",
       "    \n",
       "\n",
       "    <tr>\n",
       "        <td>\n",
       "            2.0\n",
       "        </td>\n",
       "        <td>\n",
       "            0.652\n",
       "        </td>\n",
       "        <td>\n",
       "            3.0\n",
       "        </td>\n",
       "        <td>\n",
       "            2.348\n",
       "        </td>\n",
       "    </tr>\n",
       "    \n",
       "\n",
       "    <tr>\n",
       "        <td>\n",
       "            1.0\n",
       "        </td>\n",
       "        <td>\n",
       "            0.74\n",
       "        </td>\n",
       "        <td>\n",
       "            4.0\n",
       "        </td>\n",
       "        <td>\n",
       "            3.26\n",
       "        </td>\n",
       "    </tr>\n",
       "    \n",
       "        </table>\n",
       "    </div>\n",
       "    "
      ],
      "text/plain": [
       "<IPython.core.display.HTML object>"
      ]
     },
     "metadata": {},
     "output_type": "display_data"
    },
    {
     "data": {
      "image/png": "[encoded data removed]",
      "text/plain": [
       "<Figure size 432x288 with 1 Axes>"
      ]
     },
     "metadata": {
      "needs_background": "light"
     },
     "output_type": "display_data"
    }
   ],
   "source": [
    "model=experiment(learning_rate=0.04,epochs=60,batch_size=256,steps=300,name='model')"
   ]
  },
  {
   "cell_type": "code",
   "execution_count": 24,
   "metadata": {},
   "outputs": [
    {
     "name": "stdout",
     "output_type": "stream",
     "text": [
      "Model: \"sequential_2\"\n",
      "_________________________________________________________________\n",
      "Layer (type)                 Output Shape              Param #   \n",
      "=================================================================\n",
      "dense_4 (Dense)              (None, 256)               51456     \n",
      "_________________________________________________________________\n",
      "dense_5 (Dense)              (None, 1)                 257       \n",
      "=================================================================\n",
      "Total params: 51,713\n",
      "Trainable params: 51,713\n",
      "Non-trainable params: 0\n",
      "_________________________________________________________________\n"
     ]
    }
   ],
   "source": [
    "model.summary()"
   ]
  },
  {
   "cell_type": "code",
   "execution_count": 25,
   "metadata": {},
   "outputs": [],
   "source": [
    "## Persist model"
   ]
  },
  {
   "cell_type": "code",
   "execution_count": 27,
   "metadata": {},
   "outputs": [],
   "source": [
    "model.save('/home/kvassay/data/z/models/E3b/keras_regressor.h5')"
   ]
  },
  {
   "cell_type": "code",
   "execution_count": null,
   "metadata": {},
   "outputs": [],
   "source": []
  }
 ],
 "metadata": {
  "kernelspec": {
   "display_name": "Python 3",
   "language": "python",
   "name": "python3"
  },
  "language_info": {
   "codemirror_mode": {
    "name": "ipython",
    "version": 3
   },
   "file_extension": ".py",
   "mimetype": "text/x-python",
   "name": "python",
   "nbconvert_exporter": "python",
   "pygments_lexer": "ipython3",
   "version": "3.6.7"
  }
 },
 "nbformat": 4,
 "nbformat_minor": 2
}
