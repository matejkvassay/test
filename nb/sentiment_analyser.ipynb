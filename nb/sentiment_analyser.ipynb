{
 "cells": [
  {
   "cell_type": "markdown",
   "metadata": {},
   "source": [
    "## Sentiment Analyser"
   ]
  },
  {
   "cell_type": "code",
   "execution_count": 1,
   "metadata": {},
   "outputs": [],
   "source": [
    "import pickle\n",
    "import os\n",
    "import numpy as np\n",
    "import tensorflow.keras as K\n",
    "from scipy.sparse import hstack\n",
    "from sklearn.preprocessing import normalize as scikit_normalize\n",
    "import spacy \n",
    "%matplotlib inline"
   ]
  },
  {
   "cell_type": "code",
   "execution_count": 2,
   "metadata": {},
   "outputs": [],
   "source": [
    "MODEL_FOLDER='/home/kvassay/data/z/models/best_model/'"
   ]
  },
  {
   "cell_type": "code",
   "execution_count": 3,
   "metadata": {},
   "outputs": [],
   "source": [
    "KEY_SUMMARY='summary'\n",
    "KEY_CONTENT='text'\n",
    "VECTORIZER_SUMMARY_FNAME='vectorizer_summary.pickle'\n",
    "VECTORIZER_CONTENT_FNAME='vectorizer_text.pickle'\n",
    "KERAS_MODEL_FNAME='keras_regressor.h5'\n",
    "LOSS_F_NAME='penalized_loss'\n",
    "\n",
    "def penalized_loss(y_true, y_pred):\n",
    "    return K.backend.mean(K.backend.square(K.backend.abs(y_true - y_pred))/y_true)\n",
    "\n",
    "\n",
    "class SentimentPredictionModel:\n",
    "    def __init__(self,model_folder):\n",
    "        with open(os.path.join(model_folder, VECTORIZER_SUMMARY_FNAME),'rb') as f:\n",
    "            self.vectorizer_summary=pickle.load(f)\n",
    "        with open(os.path.join(model_folder,VECTORIZER_CONTENT_FNAME), 'rb') as f:\n",
    "            self.vectorizer_text=pickle.load(f)\n",
    "        self.model = K.models.load_model(os.path.join(model_folder,KERAS_MODEL_FNAME),\n",
    "                                          custom_objects={LOSS_F_NAME: penalized_loss})\n",
    "        \n",
    "    @staticmethod\n",
    "    def _tf_predict(vectorizer,dataset,key):\n",
    "        features=vectorizer.transform([' '.join(x[key]) for x in dataset])\n",
    "        return features\n",
    "\n",
    "    def _extract_features(self,dataset):\n",
    "        summ_vecs=self._tf_predict(self.vectorizer_summary,dataset, KEY_SUMMARY)\n",
    "        text_vecs=self._tf_predict(self.vectorizer_text,dataset, KEY_CONTENT)\n",
    "        return scikit_normalize(hstack([summ_vecs, text_vecs],format='csr'))\n",
    "\n",
    "    @staticmethod\n",
    "    def _fix_ratings_over_limit(y_pred,cast_f=float):\n",
    "        for i in range(y_pred.shape[0]):\n",
    "            # fix values over limit (>5, <1)\n",
    "            if y_pred[i]>5:\n",
    "                y_pred[i]=cast_f(5)\n",
    "            if y_pred[i]<1:\n",
    "                y_pred[i]=cast_f(1)\n",
    "        return y_pred\n",
    "    \n",
    "    def predict(self, dataset_tokenized, fix_overlimit=False,\n",
    "                integer=False):\n",
    "        X_pred=self._extract_features(dataset_tokenized)\n",
    "        y_pred=self.model.predict(X_pred.todense())\n",
    "        if integer:\n",
    "            y_pred= np.rint(y_pred)\n",
    "            if fix_overlimit:\n",
    "                y_pred=self._fix_ratings_over_limit(y_pred,cast_f=int)\n",
    "        else:\n",
    "            if fix_overlimit:\n",
    "                y_pred=self._fix_ratings_over_limit(y_pred,cast_f=float)\n",
    "        return y_pred"
   ]
  },
  {
   "cell_type": "markdown",
   "metadata": {},
   "source": [
    "## Load models"
   ]
  },
  {
   "cell_type": "markdown",
   "metadata": {},
   "source": [
    "#### Sentiment predictor"
   ]
  },
  {
   "cell_type": "code",
   "execution_count": 51,
   "metadata": {},
   "outputs": [
    {
     "name": "stdout",
     "output_type": "stream",
     "text": [
      "CPU times: user 2.41 s, sys: 255 ms, total: 2.67 s\n",
      "Wall time: 2.64 s\n"
     ]
    }
   ],
   "source": [
    "%%time\n",
    "model=SentimentPredictionModel(MODEL_FOLDER)"
   ]
  },
  {
   "cell_type": "markdown",
   "metadata": {},
   "source": [
    "#### Spacy NLP"
   ]
  },
  {
   "cell_type": "code",
   "execution_count": 52,
   "metadata": {},
   "outputs": [
    {
     "name": "stdout",
     "output_type": "stream",
     "text": [
      "CPU times: user 5.86 s, sys: 545 ms, total: 6.4 s\n",
      "Wall time: 6.37 s\n"
     ]
    }
   ],
   "source": [
    "%%time\n",
    "spacy_nlp=spacy.load('en_core_web_lg',disable=[\"ner\",\"tagger\"])"
   ]
  },
  {
   "cell_type": "markdown",
   "metadata": {},
   "source": [
    "## Sentiment predictor"
   ]
  },
  {
   "cell_type": "code",
   "execution_count": 78,
   "metadata": {},
   "outputs": [],
   "source": [
    "class SentimentPredictor:\n",
    "    def __init__(self,spacy_nlp,model):\n",
    "        self.model=model\n",
    "        self.nlp = spacy_nlp\n",
    "        \n",
    "    def _preprocess_text(self,text):\n",
    "        return tuple([str(x.lemma_) for x in self.nlp(text)])\n",
    "    \n",
    "    def detect_sentiment(self,review_summary,review_content,binary=False,round_to_closest=True):\n",
    "        summ=self._preprocess_text(review_summary)\n",
    "        cont=self._preprocess_text(review_content)\n",
    "        prediction=self.model.predict([{KEY_SUMMARY: summ, KEY_CONTENT:cont}])\n",
    "        prediction=np.rint(prediction[0][0])\n",
    "        if prediction> 5:\n",
    "            prediction=5.0\n",
    "        if prediction < 1:\n",
    "            prediction=1.0\n",
    "        if binary:\n",
    "            prediction = 1.0 if prediction <3 else 0.0\n",
    "        return prediction"
   ]
  },
  {
   "cell_type": "markdown",
   "metadata": {},
   "source": [
    "## Demo"
   ]
  },
  {
   "cell_type": "code",
   "execution_count": null,
   "metadata": {},
   "outputs": [],
   "source": [
    "_,_,test="
   ]
  }
 ],
 "metadata": {
  "kernelspec": {
   "display_name": "Python 3",
   "language": "python",
   "name": "python3"
  },
  "language_info": {
   "codemirror_mode": {
    "name": "ipython",
    "version": 3
   },
   "file_extension": ".py",
   "mimetype": "text/x-python",
   "name": "python",
   "nbconvert_exporter": "python",
   "pygments_lexer": "ipython3",
   "version": "3.6.7"
  }
 },
 "nbformat": 4,
 "nbformat_minor": 2
}
