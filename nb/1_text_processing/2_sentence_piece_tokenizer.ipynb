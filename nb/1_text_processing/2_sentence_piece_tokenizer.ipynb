{
 "cells": [
  {
   "cell_type": "code",
   "execution_count": 1,
   "metadata": {},
   "outputs": [],
   "source": [
    "#!pip install --upgrade sentencepiece"
   ]
  },
  {
   "cell_type": "code",
   "execution_count": 2,
   "metadata": {},
   "outputs": [],
   "source": [
    "import pickle\n",
    "import sentencepiece as spm\n",
    "from time import time"
   ]
  },
  {
   "cell_type": "code",
   "execution_count": 3,
   "metadata": {},
   "outputs": [],
   "source": [
    "MODEL_SAVE='/Users/matejkvassay/data/sz/models/sentencepiece/sp_{}' \n",
    "DATASET='/Users/matejkvassay/data/sz/data/reviews_train_test_dev1.pickle'\n",
    "TMP_DATASET_FILE='/tmp/spt_train.txt'\n",
    "VOCAB_SIZES=[1000,8000]"
   ]
  },
  {
   "cell_type": "markdown",
   "metadata": {},
   "source": [
    "## Load data"
   ]
  },
  {
   "cell_type": "code",
   "execution_count": 4,
   "metadata": {},
   "outputs": [],
   "source": [
    "with open(DATASET,'rb') as f:\n",
    "    train,dev,_=pickle.load(f)"
   ]
  },
  {
   "cell_type": "markdown",
   "metadata": {},
   "source": [
    "## Train model"
   ]
  },
  {
   "cell_type": "code",
   "execution_count": 5,
   "metadata": {},
   "outputs": [],
   "source": [
    "def prepare_training_file(dataset, save_path, limit_data=None):\n",
    "    with open(TMP_DATASET_FILE, 'w') as f:\n",
    "        if limit_data is None:\n",
    "            limit=10000000000\n",
    "        else:\n",
    "            limit=limit_data\n",
    "        f.writelines([x['text']+'\\n' for x in dataset if x][:limit])\n",
    "        \n",
    "def train_sentpiece(dataset_path, vocab_size, save_path):\n",
    "    spm.SentencePieceTrainer.Train(\n",
    "        '--input={} --model_prefix={} --vocab_size={}'.format(\n",
    "            dataset_path,\n",
    "            save_path,\n",
    "            vocab_size))\n",
    "        "
   ]
  },
  {
   "cell_type": "markdown",
   "metadata": {},
   "source": [
    "## Prepare training dataset"
   ]
  },
  {
   "cell_type": "code",
   "execution_count": 6,
   "metadata": {},
   "outputs": [],
   "source": [
    "prepare_training_file(train,TMP_DATASET_FILE, limit_data=None)"
   ]
  },
  {
   "cell_type": "markdown",
   "metadata": {},
   "source": [
    "## Train models"
   ]
  },
  {
   "cell_type": "code",
   "execution_count": 7,
   "metadata": {
    "scrolled": true
   },
   "outputs": [
    {
     "name": "stdout",
     "output_type": "stream",
     "text": [
      "Training 1000 tokens model took 288.54957485198975 seconds.\n",
      "Training 8000 tokens model took 246.3753662109375 seconds.\n"
     ]
    }
   ],
   "source": [
    "for vocab_size in VOCAB_SIZES:\n",
    "    start=time()\n",
    "    train_sentpiece(TMP_DATASET_FILE, vocab_size, MODEL_SAVE.format(vocab_size))\n",
    "    end=time()\n",
    "    print('Training {} tokens model took {} seconds.'.format(vocab_size,end-start))"
   ]
  },
  {
   "cell_type": "markdown",
   "metadata": {},
   "source": [
    "## Sanity check"
   ]
  },
  {
   "cell_type": "code",
   "execution_count": 8,
   "metadata": {},
   "outputs": [],
   "source": [
    "test_model='/Users/matejkvassay/data/sz/models/sentencepiece/sp_8000.model'"
   ]
  },
  {
   "cell_type": "code",
   "execution_count": 9,
   "metadata": {},
   "outputs": [],
   "source": [
    "ID=1125"
   ]
  },
  {
   "cell_type": "code",
   "execution_count": 10,
   "metadata": {},
   "outputs": [
    {
     "data": {
      "text/plain": [
       "'First off, I just have to say that this was a large bag of dog food, so if you\\'ve got a smaller dog or a canine friend with a smaller appetite, this bag will go a long way. Also, be careful when carrying this, as the top of this is resealable (yay!) with a ziplock top and this could scratch your neck if you\\'re not a little wary. (Just saying this because I ended up with a long scratch down my neck from carrying this on my shoulder and wanted others to avoid the same fate.)\\n\\n\\n\\nMy friend\\'s canine is a little picky about what he eats, with dry dog food being his \"last resort\". I figured that if I could get this dog to eat and even remotely enjoy this food, then it would be a pretty good recommendation. Now while he didn\\'t take to the Beneful like a fish to water or a cat to milk, he did eat it, which says quite a bit considering how he can be about food.\\n\\n\\n\\nI don\\'t think that Beneful will become a regular addition to the dog\\'s diet but that he eats this means that my friend will have another brand of dogfood that he can guarantee that his dog will nom on. This dog food is a little on the expensive side in the stores in my area and while I can\\'t guarantee what the prices will be in your neck of the woods (Amazon price not withstanding since that can change rapidly sometimes), you might want to do a little pricechecking on various different dogfoods. Beneful is definitely healthier than store brand dog food, but if you\\'re going to spend the money then there\\'s some better stuff out there that\\'s a little more organic and natural.  Castor & Pollux has a slightly higher protein value, for example.'"
      ]
     },
     "execution_count": 10,
     "metadata": {},
     "output_type": "execute_result"
    }
   ],
   "source": [
    "dev[ID]['text']"
   ]
  },
  {
   "cell_type": "code",
   "execution_count": 11,
   "metadata": {},
   "outputs": [
    {
     "data": {
      "text/plain": [
       "True"
      ]
     },
     "execution_count": 11,
     "metadata": {},
     "output_type": "execute_result"
    }
   ],
   "source": [
    "tokenizer = spm.SentencePieceProcessor()\n",
    "tokenizer.Load(test_model)"
   ]
  },
  {
   "cell_type": "markdown",
   "metadata": {},
   "source": [
    "#### Encode"
   ]
  },
  {
   "cell_type": "code",
   "execution_count": 12,
   "metadata": {
    "scrolled": false
   },
   "outputs": [
    {
     "data": {
      "text/plain": [
       "['▁First',\n",
       " '▁off',\n",
       " ',',\n",
       " '▁I',\n",
       " '▁just',\n",
       " '▁have',\n",
       " '▁to',\n",
       " '▁say',\n",
       " '▁that',\n",
       " '▁this',\n",
       " '▁was',\n",
       " '▁a',\n",
       " '▁large',\n",
       " '▁bag',\n",
       " '▁of',\n",
       " '▁dog',\n",
       " '▁food',\n",
       " ',',\n",
       " '▁so',\n",
       " '▁if',\n",
       " '▁you',\n",
       " \"'\",\n",
       " 've',\n",
       " '▁got',\n",
       " '▁a',\n",
       " '▁smaller',\n",
       " '▁dog',\n",
       " '▁or',\n",
       " '▁a',\n",
       " '▁can',\n",
       " 'ine',\n",
       " '▁friend',\n",
       " '▁with',\n",
       " '▁a',\n",
       " '▁smaller',\n",
       " '▁appetite',\n",
       " ',',\n",
       " '▁this',\n",
       " '▁bag',\n",
       " '▁will',\n",
       " '▁go',\n",
       " '▁a',\n",
       " '▁long',\n",
       " '▁way',\n",
       " '.',\n",
       " '▁Also',\n",
       " ',',\n",
       " '▁be',\n",
       " '▁careful',\n",
       " '▁when',\n",
       " '▁carrying',\n",
       " '▁this',\n",
       " ',',\n",
       " '▁as',\n",
       " '▁the',\n",
       " '▁top',\n",
       " '▁of',\n",
       " '▁this',\n",
       " '▁is',\n",
       " '▁resealable',\n",
       " '▁(',\n",
       " 'y',\n",
       " 'ay',\n",
       " '!)',\n",
       " '▁with',\n",
       " '▁a',\n",
       " '▁ziplock',\n",
       " '▁top',\n",
       " '▁and',\n",
       " '▁this',\n",
       " '▁could',\n",
       " '▁scratch',\n",
       " '▁your',\n",
       " '▁neck',\n",
       " '▁if',\n",
       " '▁you',\n",
       " \"'\",\n",
       " 're',\n",
       " '▁not',\n",
       " '▁a',\n",
       " '▁little',\n",
       " '▁war',\n",
       " 'y',\n",
       " '.',\n",
       " '▁(',\n",
       " 'J',\n",
       " 'ust',\n",
       " '▁saying',\n",
       " '▁this',\n",
       " '▁because',\n",
       " '▁I',\n",
       " '▁ended',\n",
       " '▁up',\n",
       " '▁with',\n",
       " '▁a',\n",
       " '▁long',\n",
       " '▁scratch',\n",
       " '▁down',\n",
       " '▁my',\n",
       " '▁neck',\n",
       " '▁from',\n",
       " '▁carrying',\n",
       " '▁this',\n",
       " '▁on',\n",
       " '▁my',\n",
       " '▁should',\n",
       " 'er',\n",
       " '▁and',\n",
       " '▁wanted',\n",
       " '▁others',\n",
       " '▁to',\n",
       " '▁avoid',\n",
       " '▁the',\n",
       " '▁same',\n",
       " '▁fat',\n",
       " 'e',\n",
       " '.',\n",
       " ')',\n",
       " '▁My',\n",
       " '▁friend',\n",
       " \"'\",\n",
       " 's',\n",
       " '▁can',\n",
       " 'ine',\n",
       " '▁is',\n",
       " '▁a',\n",
       " '▁little',\n",
       " '▁picky',\n",
       " '▁about',\n",
       " '▁what',\n",
       " '▁he',\n",
       " '▁eats',\n",
       " ',',\n",
       " '▁with',\n",
       " '▁dry',\n",
       " '▁dog',\n",
       " '▁food',\n",
       " '▁being',\n",
       " '▁his',\n",
       " '▁\"',\n",
       " 'last',\n",
       " '▁resort',\n",
       " '\"',\n",
       " '.',\n",
       " '▁I',\n",
       " '▁figured',\n",
       " '▁that',\n",
       " '▁if',\n",
       " '▁I',\n",
       " '▁could',\n",
       " '▁get',\n",
       " '▁this',\n",
       " '▁dog',\n",
       " '▁to',\n",
       " '▁eat',\n",
       " '▁and',\n",
       " '▁even',\n",
       " '▁re',\n",
       " 'mo',\n",
       " 'te',\n",
       " 'ly',\n",
       " '▁enjoy',\n",
       " '▁this',\n",
       " '▁food',\n",
       " ',',\n",
       " '▁then',\n",
       " '▁it',\n",
       " '▁would',\n",
       " '▁be',\n",
       " '▁a',\n",
       " '▁pretty',\n",
       " '▁good',\n",
       " '▁recommendation',\n",
       " '.',\n",
       " '▁Now',\n",
       " '▁while',\n",
       " '▁he',\n",
       " '▁didn',\n",
       " \"'\",\n",
       " 't',\n",
       " '▁take',\n",
       " '▁to',\n",
       " '▁the',\n",
       " '▁Beneful',\n",
       " '▁like',\n",
       " '▁a',\n",
       " '▁fish',\n",
       " '▁to',\n",
       " '▁water',\n",
       " '▁or',\n",
       " '▁a',\n",
       " '▁cat',\n",
       " '▁to',\n",
       " '▁milk',\n",
       " ',',\n",
       " '▁he',\n",
       " '▁did',\n",
       " '▁eat',\n",
       " '▁it',\n",
       " ',',\n",
       " '▁which',\n",
       " '▁says',\n",
       " '▁quite',\n",
       " '▁a',\n",
       " '▁bit',\n",
       " '▁considering',\n",
       " '▁how',\n",
       " '▁he',\n",
       " '▁can',\n",
       " '▁be',\n",
       " '▁about',\n",
       " '▁food',\n",
       " '.',\n",
       " '▁I',\n",
       " '▁don',\n",
       " \"'\",\n",
       " 't',\n",
       " '▁think',\n",
       " '▁that',\n",
       " '▁Beneful',\n",
       " '▁will',\n",
       " '▁become',\n",
       " '▁a',\n",
       " '▁regular',\n",
       " '▁addition',\n",
       " '▁to',\n",
       " '▁the',\n",
       " '▁dog',\n",
       " \"'\",\n",
       " 's',\n",
       " '▁diet',\n",
       " '▁but',\n",
       " '▁that',\n",
       " '▁he',\n",
       " '▁eats',\n",
       " '▁this',\n",
       " '▁means',\n",
       " '▁that',\n",
       " '▁my',\n",
       " '▁friend',\n",
       " '▁will',\n",
       " '▁have',\n",
       " '▁another',\n",
       " '▁brand',\n",
       " '▁of',\n",
       " '▁dog',\n",
       " 'food',\n",
       " '▁that',\n",
       " '▁he',\n",
       " '▁can',\n",
       " '▁guarantee',\n",
       " '▁that',\n",
       " '▁his',\n",
       " '▁dog',\n",
       " '▁will',\n",
       " '▁no',\n",
       " 'm',\n",
       " '▁on',\n",
       " '.',\n",
       " '▁This',\n",
       " '▁dog',\n",
       " '▁food',\n",
       " '▁is',\n",
       " '▁a',\n",
       " '▁little',\n",
       " '▁on',\n",
       " '▁the',\n",
       " '▁expensive',\n",
       " '▁side',\n",
       " '▁in',\n",
       " '▁the',\n",
       " '▁stores',\n",
       " '▁in',\n",
       " '▁my',\n",
       " '▁area',\n",
       " '▁and',\n",
       " '▁while',\n",
       " '▁I',\n",
       " '▁can',\n",
       " \"'\",\n",
       " 't',\n",
       " '▁guarantee',\n",
       " '▁what',\n",
       " '▁the',\n",
       " '▁prices',\n",
       " '▁will',\n",
       " '▁be',\n",
       " '▁in',\n",
       " '▁your',\n",
       " '▁neck',\n",
       " '▁of',\n",
       " '▁the',\n",
       " '▁wood',\n",
       " 's',\n",
       " '▁(',\n",
       " 'Amazon',\n",
       " '▁price',\n",
       " '▁not',\n",
       " '▁with',\n",
       " 's',\n",
       " 't',\n",
       " 'and',\n",
       " 'ing',\n",
       " '▁since',\n",
       " '▁that',\n",
       " '▁can',\n",
       " '▁change',\n",
       " '▁rapid',\n",
       " 'ly',\n",
       " '▁sometimes',\n",
       " '),',\n",
       " '▁you',\n",
       " '▁might',\n",
       " '▁want',\n",
       " '▁to',\n",
       " '▁do',\n",
       " '▁a',\n",
       " '▁little',\n",
       " '▁price',\n",
       " 'che',\n",
       " 'ck',\n",
       " 'ing',\n",
       " '▁on',\n",
       " '▁various',\n",
       " '▁different',\n",
       " '▁dog',\n",
       " 'food',\n",
       " 's',\n",
       " '.',\n",
       " '▁Beneful',\n",
       " '▁is',\n",
       " '▁definitely',\n",
       " '▁healthier',\n",
       " '▁than',\n",
       " '▁store',\n",
       " '▁brand',\n",
       " '▁dog',\n",
       " '▁food',\n",
       " ',',\n",
       " '▁but',\n",
       " '▁if',\n",
       " '▁you',\n",
       " \"'\",\n",
       " 're',\n",
       " '▁going',\n",
       " '▁to',\n",
       " '▁spend',\n",
       " '▁the',\n",
       " '▁money',\n",
       " '▁then',\n",
       " '▁there',\n",
       " \"'\",\n",
       " 's',\n",
       " '▁some',\n",
       " '▁better',\n",
       " '▁stuff',\n",
       " '▁out',\n",
       " '▁there',\n",
       " '▁that',\n",
       " \"'\",\n",
       " 's',\n",
       " '▁a',\n",
       " '▁little',\n",
       " '▁more',\n",
       " '▁organic',\n",
       " '▁and',\n",
       " '▁natural',\n",
       " '.',\n",
       " '▁Ca',\n",
       " 's',\n",
       " 't',\n",
       " 'or',\n",
       " '▁&',\n",
       " '▁Po',\n",
       " 'll',\n",
       " 'ux',\n",
       " '▁has',\n",
       " '▁a',\n",
       " '▁slightly',\n",
       " '▁higher',\n",
       " '▁protein',\n",
       " '▁value',\n",
       " ',',\n",
       " '▁for',\n",
       " '▁example',\n",
       " '.']"
      ]
     },
     "execution_count": 12,
     "metadata": {},
     "output_type": "execute_result"
    }
   ],
   "source": [
    "tokenizer.EncodeAsPieces(dev[ID]['text'])"
   ]
  },
  {
   "cell_type": "markdown",
   "metadata": {},
   "source": [
    "#### Decode"
   ]
  },
  {
   "cell_type": "code",
   "execution_count": 13,
   "metadata": {
    "scrolled": true
   },
   "outputs": [
    {
     "data": {
      "text/plain": [
       "'First off, I just have to say that this was a large bag of dog food, so if you\\'ve got a smaller dog or a canine friend with a smaller appetite, this bag will go a long way. Also, be careful when carrying this, as the top of this is resealable (yay!) with a ziplock top and this could scratch your neck if you\\'re not a little wary. (Just saying this because I ended up with a long scratch down my neck from carrying this on my shoulder and wanted others to avoid the same fate.) My friend\\'s canine is a little picky about what he eats, with dry dog food being his \"last resort\". I figured that if I could get this dog to eat and even remotely enjoy this food, then it would be a pretty good recommendation. Now while he didn\\'t take to the Beneful like a fish to water or a cat to milk, he did eat it, which says quite a bit considering how he can be about food. I don\\'t think that Beneful will become a regular addition to the dog\\'s diet but that he eats this means that my friend will have another brand of dogfood that he can guarantee that his dog will nom on. This dog food is a little on the expensive side in the stores in my area and while I can\\'t guarantee what the prices will be in your neck of the woods (Amazon price not withstanding since that can change rapidly sometimes), you might want to do a little pricechecking on various different dogfoods. Beneful is definitely healthier than store brand dog food, but if you\\'re going to spend the money then there\\'s some better stuff out there that\\'s a little more organic and natural. Castor & Pollux has a slightly higher protein value, for example.'"
      ]
     },
     "execution_count": 13,
     "metadata": {},
     "output_type": "execute_result"
    }
   ],
   "source": [
    "tokenizer.DecodePieces(tokenizer.EncodeAsPieces(dev[ID]['text']))"
   ]
  }
 ],
 "metadata": {
  "kernelspec": {
   "display_name": "Python 3",
   "language": "python",
   "name": "python3"
  },
  "language_info": {
   "codemirror_mode": {
    "name": "ipython",
    "version": 3
   },
   "file_extension": ".py",
   "mimetype": "text/x-python",
   "name": "python",
   "nbconvert_exporter": "python",
   "pygments_lexer": "ipython3",
   "version": "3.6.5"
  }
 },
 "nbformat": 4,
 "nbformat_minor": 2
}
