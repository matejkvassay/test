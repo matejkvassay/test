{
 "cells": [
  {
   "cell_type": "code",
   "execution_count": 1,
   "metadata": {},
   "outputs": [],
   "source": [
    "import pandas as pd\n",
    "from sklearn.model_selection import train_test_split\n",
    "import pickle\n",
    "%matplotlib inline"
   ]
  },
  {
   "cell_type": "code",
   "execution_count": 2,
   "metadata": {},
   "outputs": [],
   "source": [
    "DATA_RAW_IN='/home/kvassay/data/z/data/reviews_raw.txt'\n",
    "ENCODING='iso-8859-1'\n",
    "DATASET_OUT='/home/kvassay/data/z/data/reviews_train_test_dev1.pickle'"
   ]
  },
  {
   "cell_type": "code",
   "execution_count": 3,
   "metadata": {},
   "outputs": [],
   "source": [
    "def parse_line(line):\n",
    "    splitted_line=line.split(':')\n",
    "    return {splitted_line[0]:':'.join(splitted_line[1:]).strip()}\n",
    "\n",
    "def read_dataset(path):\n",
    "    records=[]\n",
    "    with open(path, 'rb') as f:\n",
    "        current_record={}\n",
    "        first=True\n",
    "        iteration=0\n",
    "        for x in f.readlines():\n",
    "            line=x.decode(ENCODING)\n",
    "            if line.startswith('product/'):\n",
    "                if not first:\n",
    "                    records.append(current_record)\n",
    "                first=False\n",
    "                current_record=parse_line(line)\n",
    "                current_record['review_id']=iteration\n",
    "                iteration+=1\n",
    "                continue\n",
    "            if line.startswith('review/'):\n",
    "                current_record.update(parse_line(line))\n",
    "    return pd.DataFrame(records)\n",
    "\n",
    "def normalize_data(df):\n",
    "    df['score']=df['review/score'].astype(float)\n",
    "    df['summary']=df['review/summary']\n",
    "    df['text']=df['review/text']\n",
    "    df['text']=df['text'].str.replace('<br />','\\n\\n')\n",
    "    df.drop(df.columns.difference(['review_id','score','summary','text']), 1, inplace=True)\n",
    "    return df\n",
    "    \n",
    "    \n",
    "def train_dev_test_split(df,dev_train_size=0.2):\n",
    "    train, x =train_test_split(df, test_size=dev_train_size,shuffle=True)\n",
    "    dev, test = train_test_split(x, test_size=0.5,shuffle=True)\n",
    "    return train,dev,test"
   ]
  },
  {
   "cell_type": "code",
   "execution_count": 4,
   "metadata": {},
   "outputs": [],
   "source": [
    "df=read_dataset(DATA_RAW_IN)\n",
    "df=normalize_data(df)\n",
    "train,dev,test=train_dev_test_split(df,dev_train_size=0.03)"
   ]
  },
  {
   "cell_type": "code",
   "execution_count": 11,
   "metadata": {},
   "outputs": [
    {
     "data": {
      "text/html": [
       "<div>\n",
       "<style scoped>\n",
       "    .dataframe tbody tr th:only-of-type {\n",
       "        vertical-align: middle;\n",
       "    }\n",
       "\n",
       "    .dataframe tbody tr th {\n",
       "        vertical-align: top;\n",
       "    }\n",
       "\n",
       "    .dataframe thead th {\n",
       "        text-align: right;\n",
       "    }\n",
       "</style>\n",
       "<table border=\"1\" class=\"dataframe\">\n",
       "  <thead>\n",
       "    <tr style=\"text-align: right;\">\n",
       "      <th></th>\n",
       "      <th>review_id</th>\n",
       "      <th>score</th>\n",
       "      <th>summary</th>\n",
       "      <th>text</th>\n",
       "    </tr>\n",
       "  </thead>\n",
       "  <tbody>\n",
       "    <tr>\n",
       "      <th>185662</th>\n",
       "      <td>185662</td>\n",
       "      <td>3.0</td>\n",
       "      <td>Not enough maple flavor</td>\n",
       "      <td>It was a good Maple syrup, but not enough mapl...</td>\n",
       "    </tr>\n",
       "    <tr>\n",
       "      <th>293662</th>\n",
       "      <td>293662</td>\n",
       "      <td>1.0</td>\n",
       "      <td>MAYBE a step above Stouffers</td>\n",
       "      <td>Some of the beef tips were so gristly, I had t...</td>\n",
       "    </tr>\n",
       "  </tbody>\n",
       "</table>\n",
       "</div>"
      ],
      "text/plain": [
       "        review_id  score                       summary  \\\n",
       "185662     185662    3.0       Not enough maple flavor   \n",
       "293662     293662    1.0  MAYBE a step above Stouffers   \n",
       "\n",
       "                                                     text  \n",
       "185662  It was a good Maple syrup, but not enough mapl...  \n",
       "293662  Some of the beef tips were so gristly, I had t...  "
      ]
     },
     "execution_count": 11,
     "metadata": {},
     "output_type": "execute_result"
    }
   ],
   "source": [
    "train.head(2)"
   ]
  },
  {
   "cell_type": "markdown",
   "metadata": {},
   "source": [
    "#### Train label balance"
   ]
  },
  {
   "cell_type": "code",
   "execution_count": 5,
   "metadata": {},
   "outputs": [
    {
     "name": "stdout",
     "output_type": "stream",
     "text": [
      "5.0    352226\n",
      "4.0     78240\n",
      "1.0     50743\n",
      "3.0     41336\n",
      "2.0     28854\n",
      "Name: score, dtype: int64\n"
     ]
    },
    {
     "data": {
      "text/plain": [
       "<matplotlib.axes._subplots.AxesSubplot at 0x16cdab588>"
      ]
     },
     "execution_count": 5,
     "metadata": {},
     "output_type": "execute_result"
    },
    {
     "data": {
      "image/png": "[encoded data removed]",
      "text/plain": [
       "<Figure size 432x288 with 1 Axes>"
      ]
     },
     "metadata": {
      "needs_background": "light"
     },
     "output_type": "display_data"
    }
   ],
   "source": [
    "print(train['score'].value_counts())\n",
    "train['score'].value_counts().plot.bar()"
   ]
  },
  {
   "cell_type": "markdown",
   "metadata": {},
   "source": [
    "#### Dev label balance"
   ]
  },
  {
   "cell_type": "code",
   "execution_count": 6,
   "metadata": {},
   "outputs": [
    {
     "name": "stdout",
     "output_type": "stream",
     "text": [
      "5.0    5446\n",
      "4.0    1190\n",
      "1.0     776\n",
      "3.0     659\n",
      "2.0     456\n",
      "Name: score, dtype: int64\n"
     ]
    },
    {
     "data": {
      "text/plain": [
       "<matplotlib.axes._subplots.AxesSubplot at 0x176040828>"
      ]
     },
     "execution_count": 6,
     "metadata": {},
     "output_type": "execute_result"
    },
    {
     "data": {
      "image/png": "[encoded data removed]",
      "text/plain": [
       "<Figure size 432x288 with 1 Axes>"
      ]
     },
     "metadata": {
      "needs_background": "light"
     },
     "output_type": "display_data"
    }
   ],
   "source": [
    "print(dev['score'].value_counts())\n",
    "dev['score'].value_counts().plot.bar()"
   ]
  },
  {
   "cell_type": "markdown",
   "metadata": {},
   "source": [
    "#### Test label balance"
   ]
  },
  {
   "cell_type": "code",
   "execution_count": 7,
   "metadata": {
    "scrolled": false
   },
   "outputs": [
    {
     "name": "stdout",
     "output_type": "stream",
     "text": [
      "5.0    5449\n",
      "4.0    1225\n",
      "1.0     749\n",
      "3.0     645\n",
      "2.0     459\n",
      "Name: score, dtype: int64\n"
     ]
    },
    {
     "data": {
      "text/plain": [
       "<matplotlib.axes._subplots.AxesSubplot at 0x175fa2f60>"
      ]
     },
     "execution_count": 7,
     "metadata": {},
     "output_type": "execute_result"
    },
    {
     "data": {
      "image/png": "[encoded data removed]",
      "text/plain": [
       "<Figure size 432x288 with 1 Axes>"
      ]
     },
     "metadata": {
      "needs_background": "light"
     },
     "output_type": "display_data"
    }
   ],
   "source": [
    "print(test['score'].value_counts())\n",
    "test['score'].value_counts().plot.bar()"
   ]
  },
  {
   "cell_type": "markdown",
   "metadata": {},
   "source": [
    "## Persist"
   ]
  },
  {
   "cell_type": "code",
   "execution_count": 8,
   "metadata": {},
   "outputs": [],
   "source": [
    "with open(DATASET_OUT,'wb') as f:\n",
    "    pickle.dump((train.to_dict(orient='records'), dev.to_dict(orient='records'), test.to_dict(orient='records')), f)"
   ]
  }
 ],
 "metadata": {
  "kernelspec": {
   "display_name": "Python 3",
   "language": "python",
   "name": "python3"
  },
  "language_info": {
   "codemirror_mode": {
    "name": "ipython",
    "version": 3
   },
   "file_extension": ".py",
   "mimetype": "text/x-python",
   "name": "python",
   "nbconvert_exporter": "python",
   "pygments_lexer": "ipython3",
   "version": "3.6.7"
  }
 },
 "nbformat": 4,
 "nbformat_minor": 2
}
