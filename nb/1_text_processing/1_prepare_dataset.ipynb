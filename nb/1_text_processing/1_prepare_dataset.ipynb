{
 "cells": [
  {
   "cell_type": "code",
   "execution_count": 1,
   "metadata": {},
   "outputs": [],
   "source": [
    "import pandas as pd\n",
    "from sklearn.model_selection import train_test_split\n",
    "import pickle\n",
    "import spacy\n",
    "from tqdm import tqdm\n",
    "%matplotlib inline\n"
   ]
  },
  {
   "cell_type": "code",
   "execution_count": 2,
   "metadata": {},
   "outputs": [],
   "source": [
    "nlp = spacy.load('en_core_web_lg',disable=[\"ner\",\"tagger\"])"
   ]
  },
  {
   "cell_type": "code",
   "execution_count": 3,
   "metadata": {},
   "outputs": [],
   "source": [
    "doc=nlp('This is another doc. And this is another one.')"
   ]
  },
  {
   "cell_type": "code",
   "execution_count": 9,
   "metadata": {},
   "outputs": [
    {
     "data": {
      "text/plain": [
       "[This is another doc., And this is another one.]"
      ]
     },
     "execution_count": 9,
     "metadata": {},
     "output_type": "execute_result"
    }
   ],
   "source": [
    "list(doc.sents)"
   ]
  },
  {
   "cell_type": "code",
   "execution_count": 11,
   "metadata": {},
   "outputs": [
    {
     "data": {
      "text/plain": [
       "generator"
      ]
     },
     "execution_count": 11,
     "metadata": {},
     "output_type": "execute_result"
    }
   ],
   "source": [
    "type(doc.sents)"
   ]
  },
  {
   "cell_type": "code",
   "execution_count": 15,
   "metadata": {},
   "outputs": [
    {
     "data": {
      "text/plain": [
       "['This',\n",
       " 'be',\n",
       " 'another',\n",
       " 'doc',\n",
       " '.',\n",
       " 'And',\n",
       " 'this',\n",
       " 'be',\n",
       " 'another',\n",
       " 'one',\n",
       " '.']"
      ]
     },
     "execution_count": 15,
     "metadata": {},
     "output_type": "execute_result"
    }
   ],
   "source": [
    "[x.lemma_ for x in doc]"
   ]
  },
  {
   "cell_type": "code",
   "execution_count": 3,
   "metadata": {},
   "outputs": [],
   "source": [
    "DATA_RAW_IN='/home/kvassay/data/z/data/reviews_raw.txt'\n",
    "ENCODING='iso-8859-1'\n",
    "DATASET_OUT='/home/kvassay/data/z/data/reviews_train_test_dev1.pickle'\n"
   ]
  },
  {
   "cell_type": "code",
   "execution_count": 4,
   "metadata": {},
   "outputs": [],
   "source": [
    "def parse_line(line):\n",
    "    splitted_line=line.split(':')\n",
    "    return {splitted_line[0]:':'.join(splitted_line[1:]).strip()}\n",
    "\n",
    "def read_dataset(path):\n",
    "    records=[]\n",
    "    with open(path, 'rb') as f:\n",
    "        current_record={}\n",
    "        first=True\n",
    "        iteration=0\n",
    "        for x in f.readlines():\n",
    "            line=x.decode(ENCODING)\n",
    "            if line.startswith('product/'):\n",
    "                if not first:\n",
    "                    records.append(current_record)\n",
    "                first=False\n",
    "                current_record=parse_line(line)\n",
    "                current_record['review_id']=iteration\n",
    "                iteration+=1\n",
    "                continue\n",
    "            if line.startswith('review/'):\n",
    "                current_record.update(parse_line(line))\n",
    "    return pd.DataFrame(records)\n",
    "\n",
    "def normalize_data(df):\n",
    "    df['score']=df['review/score'].astype(float)\n",
    "    df['summary']=df['review/summary']\n",
    "    df['text']=df['review/text']\n",
    "    df['text']=df['text'].str.replace('<br />','\\n\\n')\n",
    "    df.drop(df.columns.difference(['review_id','score','summary','text']), 1, inplace=True)\n",
    "    return df\n",
    "    \n",
    "    \n",
    "def train_dev_test_split(df,dev_train_size=0.2):\n",
    "    train, x =train_test_split(df, test_size=dev_train_size,shuffle=True)\n",
    "    dev, test = train_test_split(x, test_size=0.5,shuffle=True)\n",
    "    return train,dev,test"
   ]
  },
  {
   "cell_type": "code",
   "execution_count": 5,
   "metadata": {},
   "outputs": [],
   "source": [
    "df=read_dataset(DATA_RAW_IN)\n",
    "df=normalize_data(df)"
   ]
  },
  {
   "cell_type": "markdown",
   "metadata": {},
   "source": [
    "#### NLP analysis"
   ]
  },
  {
   "cell_type": "code",
   "execution_count": 7,
   "metadata": {},
   "outputs": [
    {
     "name": "stderr",
     "output_type": "stream",
     "text": [
      "SpaCy NLP analysis - Text: 100%|██████████| 568453/568453 [59:55<00:00, 158.09it/s]  "
     ]
    },
    {
     "name": "stdout",
     "output_type": "stream",
     "text": [
      "CPU times: user 59min 59s, sys: 19.1 s, total: 1h 18s\n",
      "Wall time: 59min 55s\n"
     ]
    },
    {
     "name": "stderr",
     "output_type": "stream",
     "text": [
      "\n"
     ]
    }
   ],
   "source": [
    "%%time\n",
    "tqdm.pandas(desc=\"SpaCy NLP analysis - Text\",)\n",
    "df['nlp_text']=df['text'].progress_apply(nlp)"
   ]
  },
  {
   "cell_type": "code",
   "execution_count": 8,
   "metadata": {},
   "outputs": [
    {
     "name": "stderr",
     "output_type": "stream",
     "text": [
      "SpaCy NLP analysis - Summary:   0%|          | 0/568453 [00:00<?, ?it/s]\n",
      "TqdmDeprecationWarning: Except func, normal arguments are intentionally not supported by `(DataFrame|Series|GroupBy).progress_apply`. Use keyword arguments instead.\n",
      "SpaCy NLP analysis - Summary: 100%|██████████| 568453/568453 [22:28<00:00, 421.51it/s]"
     ]
    },
    {
     "name": "stdout",
     "output_type": "stream",
     "text": [
      "CPU times: user 22min 29s, sys: 10.3 s, total: 22min 40s\n",
      "Wall time: 22min 28s\n"
     ]
    },
    {
     "name": "stderr",
     "output_type": "stream",
     "text": [
      "\n"
     ]
    }
   ],
   "source": [
    "%%time\n",
    "tqdm.pandas(desc=\"SpaCy NLP analysis - Summary\",)\n",
    "df['nlp_summary']=df['summary'].progress_apply(nlp,'tqdm_notebook')"
   ]
  },
  {
   "cell_type": "markdown",
   "metadata": {},
   "source": [
    "#### Train/Dev/Test split"
   ]
  },
  {
   "cell_type": "code",
   "execution_count": 9,
   "metadata": {},
   "outputs": [
    {
     "data": {
      "text/html": [
       "<div>\n",
       "<style scoped>\n",
       "    .dataframe tbody tr th:only-of-type {\n",
       "        vertical-align: middle;\n",
       "    }\n",
       "\n",
       "    .dataframe tbody tr th {\n",
       "        vertical-align: top;\n",
       "    }\n",
       "\n",
       "    .dataframe thead th {\n",
       "        text-align: right;\n",
       "    }\n",
       "</style>\n",
       "<table border=\"1\" class=\"dataframe\">\n",
       "  <thead>\n",
       "    <tr style=\"text-align: right;\">\n",
       "      <th></th>\n",
       "      <th>review_id</th>\n",
       "      <th>score</th>\n",
       "      <th>summary</th>\n",
       "      <th>text</th>\n",
       "      <th>nlp_text</th>\n",
       "      <th>nlp_summary</th>\n",
       "    </tr>\n",
       "  </thead>\n",
       "  <tbody>\n",
       "    <tr>\n",
       "      <td>568252</td>\n",
       "      <td>568252</td>\n",
       "      <td>5.0</td>\n",
       "      <td>The best Stevia sweetener! NO FUNKY AFTERTASTE!!!</td>\n",
       "      <td>I've tried for years and years to like stevia,...</td>\n",
       "      <td>(I, 've, tried, for, years, and, years, to, li...</td>\n",
       "      <td>(The, best, Stevia, sweetener, !, NO, FUNKY, A...</td>\n",
       "    </tr>\n",
       "    <tr>\n",
       "      <td>311884</td>\n",
       "      <td>311884</td>\n",
       "      <td>5.0</td>\n",
       "      <td>Awesome Candy from Paris</td>\n",
       "      <td>I recently bought a bag of Michoko Carmel Cand...</td>\n",
       "      <td>(I, recently, bought, a, bag, of, Michoko, Car...</td>\n",
       "      <td>(Awesome, Candy, from, Paris)</td>\n",
       "    </tr>\n",
       "  </tbody>\n",
       "</table>\n",
       "</div>"
      ],
      "text/plain": [
       "        review_id  score                                            summary  \\\n",
       "568252     568252    5.0  The best Stevia sweetener! NO FUNKY AFTERTASTE!!!   \n",
       "311884     311884    5.0                           Awesome Candy from Paris   \n",
       "\n",
       "                                                     text  \\\n",
       "568252  I've tried for years and years to like stevia,...   \n",
       "311884  I recently bought a bag of Michoko Carmel Cand...   \n",
       "\n",
       "                                                 nlp_text  \\\n",
       "568252  (I, 've, tried, for, years, and, years, to, li...   \n",
       "311884  (I, recently, bought, a, bag, of, Michoko, Car...   \n",
       "\n",
       "                                              nlp_summary  \n",
       "568252  (The, best, Stevia, sweetener, !, NO, FUNKY, A...  \n",
       "311884                      (Awesome, Candy, from, Paris)  "
      ]
     },
     "execution_count": 9,
     "metadata": {},
     "output_type": "execute_result"
    }
   ],
   "source": [
    "train,dev,test=train_dev_test_split(df,dev_train_size=0.03)\n",
    "train.head(2)"
   ]
  },
  {
   "cell_type": "markdown",
   "metadata": {},
   "source": [
    "#### Train label balance"
   ]
  },
  {
   "cell_type": "code",
   "execution_count": 10,
   "metadata": {},
   "outputs": [
    {
     "name": "stdout",
     "output_type": "stream",
     "text": [
      "5.0    352178\n",
      "4.0     78247\n",
      "1.0     50743\n",
      "3.0     41357\n",
      "2.0     28874\n",
      "Name: score, dtype: int64\n"
     ]
    },
    {
     "data": {
      "text/plain": [
       "<matplotlib.axes._subplots.AxesSubplot at 0x7f7d38904828>"
      ]
     },
     "execution_count": 10,
     "metadata": {},
     "output_type": "execute_result"
    },
    {
     "data": {
      "image/png": "[encoded data removed]",
      "text/plain": [
       "<Figure size 432x288 with 1 Axes>"
      ]
     },
     "metadata": {
      "needs_background": "light"
     },
     "output_type": "display_data"
    }
   ],
   "source": [
    "print(train['score'].value_counts())\n",
    "train['score'].value_counts().plot.bar()"
   ]
  },
  {
   "cell_type": "markdown",
   "metadata": {},
   "source": [
    "#### Dev label balance"
   ]
  },
  {
   "cell_type": "code",
   "execution_count": 11,
   "metadata": {},
   "outputs": [
    {
     "name": "stdout",
     "output_type": "stream",
     "text": [
      "5.0    5485\n",
      "4.0    1193\n",
      "1.0     767\n",
      "3.0     648\n",
      "2.0     434\n",
      "Name: score, dtype: int64\n"
     ]
    },
    {
     "data": {
      "text/plain": [
       "<matplotlib.axes._subplots.AxesSubplot at 0x7f7d389da320>"
      ]
     },
     "execution_count": 11,
     "metadata": {},
     "output_type": "execute_result"
    },
    {
     "data": {
      "image/png": "[encoded data removed]",
      "text/plain": [
       "<Figure size 432x288 with 1 Axes>"
      ]
     },
     "metadata": {
      "needs_background": "light"
     },
     "output_type": "display_data"
    }
   ],
   "source": [
    "print(dev['score'].value_counts())\n",
    "dev['score'].value_counts().plot.bar()"
   ]
  },
  {
   "cell_type": "markdown",
   "metadata": {},
   "source": [
    "#### Test label balance"
   ]
  },
  {
   "cell_type": "code",
   "execution_count": 12,
   "metadata": {
    "scrolled": false
   },
   "outputs": [
    {
     "name": "stdout",
     "output_type": "stream",
     "text": [
      "5.0    5458\n",
      "4.0    1215\n",
      "1.0     758\n",
      "3.0     635\n",
      "2.0     461\n",
      "Name: score, dtype: int64\n"
     ]
    },
    {
     "data": {
      "text/plain": [
       "<matplotlib.axes._subplots.AxesSubplot at 0x7f7d38a4af28>"
      ]
     },
     "execution_count": 12,
     "metadata": {},
     "output_type": "execute_result"
    },
    {
     "data": {
      "image/png": "[encoded data removed]",
      "text/plain": [
       "<Figure size 432x288 with 1 Axes>"
      ]
     },
     "metadata": {
      "needs_background": "light"
     },
     "output_type": "display_data"
    }
   ],
   "source": [
    "print(test['score'].value_counts())\n",
    "test['score'].value_counts().plot.bar()"
   ]
  },
  {
   "cell_type": "markdown",
   "metadata": {},
   "source": [
    "## Persist"
   ]
  },
  {
   "cell_type": "code",
   "execution_count": 13,
   "metadata": {},
   "outputs": [],
   "source": [
    "%%time\n",
    "with open(DATASET_OUT,'wb') as f:\n",
    "    pickle.dump((train.to_dict(orient='records'), dev.to_dict(orient='records'), test.to_dict(orient='records')), f)"
   ]
  }
 ],
 "metadata": {
  "kernelspec": {
   "display_name": "Python 3",
   "language": "python",
   "name": "python3"
  },
  "language_info": {
   "codemirror_mode": {
    "name": "ipython",
    "version": 3
   },
   "file_extension": ".py",
   "mimetype": "text/x-python",
   "name": "python",
   "nbconvert_exporter": "python",
   "pygments_lexer": "ipython3",
   "version": "3.6.7"
  }
 },
 "nbformat": 4,
 "nbformat_minor": 2
}
