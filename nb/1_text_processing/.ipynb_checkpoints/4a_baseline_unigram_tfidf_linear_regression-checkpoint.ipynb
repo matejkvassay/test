{
 "cells": [
  {
   "cell_type": "code",
   "execution_count": null,
   "metadata": {},
   "outputs": [],
   "source": [
    "#!pip install --upgrade sentencepiece"
   ]
  },
  {
   "cell_type": "code",
   "execution_count": 73,
   "metadata": {},
   "outputs": [],
   "source": [
    "import pickle\n",
    "from nltk.tokenize import word_tokenize\n",
    "from collections import Counter\n",
    "from sklearn.feature_extraction.text import TfidfVectorizer\n",
    "from sklearn.svm import LinearSVC\n",
    "from sklearn.metrics import mean_squared_error\n",
    "from sklearn.linear_model import LinearRegression\n",
    "import tensorflow.keras as k\n",
    "from sklearn.preprocessing import normalize\n",
    "import matplotlib.pyplot as plt\n",
    "import numpy as np\n",
    "import pandas as pd\n",
    "from IPython.core.display import display, HTML\n",
    "from math import sqrt"
   ]
  },
  {
   "cell_type": "code",
   "execution_count": 2,
   "metadata": {},
   "outputs": [],
   "source": [
    "DATASET='/home/kvassay/data/z/data/reviews_train_test_dev1.pickle'"
   ]
  },
  {
   "cell_type": "markdown",
   "metadata": {},
   "source": [
    "## Load data"
   ]
  },
  {
   "cell_type": "code",
   "execution_count": 3,
   "metadata": {
    "scrolled": true
   },
   "outputs": [],
   "source": [
    "with open(DATASET,'rb') as f:\n",
    "    train,dev,test=pickle.load(f)"
   ]
  },
  {
   "cell_type": "markdown",
   "metadata": {},
   "source": [
    "## Feature extraction"
   ]
  },
  {
   "cell_type": "code",
   "execution_count": 4,
   "metadata": {},
   "outputs": [],
   "source": [
    "vectorizer=TfidfVectorizer(lowercase=True, max_features=100000,max_df=0.8)"
   ]
  },
  {
   "cell_type": "code",
   "execution_count": 5,
   "metadata": {},
   "outputs": [
    {
     "name": "stdout",
     "output_type": "stream",
     "text": [
      "CPU times: user 24.4 s, sys: 801 ms, total: 25.2 s\n",
      "Wall time: 25.3 s\n"
     ]
    }
   ],
   "source": [
    "%%time\n",
    "X_train=vectorizer.fit_transform([x['text'] for x in train])"
   ]
  },
  {
   "cell_type": "code",
   "execution_count": 6,
   "metadata": {},
   "outputs": [],
   "source": [
    "X_train=normalize(X_train)"
   ]
  },
  {
   "cell_type": "code",
   "execution_count": 7,
   "metadata": {
    "scrolled": true
   },
   "outputs": [
    {
     "name": "stdout",
     "output_type": "stream",
     "text": [
      "CPU times: user 401 ms, sys: 7.43 ms, total: 408 ms\n",
      "Wall time: 406 ms\n"
     ]
    }
   ],
   "source": [
    "%%time\n",
    "X_dev=vectorizer.transform([x['text'] for x in dev])"
   ]
  },
  {
   "cell_type": "code",
   "execution_count": 8,
   "metadata": {},
   "outputs": [],
   "source": [
    "X_dev=normalize(X_dev)"
   ]
  },
  {
   "cell_type": "code",
   "execution_count": 9,
   "metadata": {},
   "outputs": [],
   "source": [
    "y_train=[x['score'] for x in train]\n",
    "y_dev=[x['score'] for x in dev]"
   ]
  },
  {
   "cell_type": "markdown",
   "metadata": {},
   "source": [
    "## Training"
   ]
  },
  {
   "cell_type": "code",
   "execution_count": 10,
   "metadata": {},
   "outputs": [],
   "source": [
    "def plot_history(history):\n",
    "    loss = history.history['loss']\n",
    "    val_loss = history.history['val_loss']\n",
    "    epochs = range(1, len(loss) + 1)\n",
    "    plt.plot(epochs, loss, color='red', label='Training loss')\n",
    "    plt.plot(epochs, val_loss, color='green', label='Validation loss')\n",
    "    plt.title('Training and validation loss')\n",
    "    plt.xlabel('Epochs')\n",
    "    plt.ylabel('Loss')\n",
    "    plt.legend()\n",
    "    plt.show()"
   ]
  },
  {
   "cell_type": "code",
   "execution_count": 11,
   "metadata": {},
   "outputs": [
    {
     "name": "stdout",
     "output_type": "stream",
     "text": [
      "Train on 551399 samples, validate on 8527 samples\n",
      "551399/551399 [==============================] - 407s 739us/sample - loss: 1.1507 - mean_squared_error: 1.1507 - val_loss: 0.7280 - val_mean_squared_error: 0.7280\n"
     ]
    }
   ],
   "source": [
    "model = k.models.Sequential([\n",
    "    k.layers.Dense(1000, input_shape=(X_train.shape[1],)),\n",
    "    k.layers.Activation('relu'),\n",
    "    k.layers.Dense(100),\n",
    "    k.layers.Activation('relu'),\n",
    "    k.layers.Dense(1),\n",
    "    k.layers.Activation('linear'),\n",
    "])\n",
    "model.compile(optimizer='adam',loss='mean_squared_error',metrics=['mean_squared_error'])\n",
    "history=model.fit(x=X_train, y=y_train, shuffle=True,epochs=1,batch_size=1000, validation_data=(X_dev,y_dev))"
   ]
  },
  {
   "cell_type": "code",
   "execution_count": 12,
   "metadata": {},
   "outputs": [
    {
     "data": {
      "image/png": "[encoded data removed]",
      "text/plain": [
       "<Figure size 432x288 with 1 Axes>"
      ]
     },
     "metadata": {
      "needs_background": "light"
     },
     "output_type": "display_data"
    }
   ],
   "source": [
    "plot_history(history)"
   ]
  },
  {
   "cell_type": "markdown",
   "metadata": {},
   "source": [
    "## Evaluate RMSE"
   ]
  },
  {
   "cell_type": "code",
   "execution_count": 27,
   "metadata": {},
   "outputs": [
    {
     "data": {
      "text/plain": [
       "'1.0'"
      ]
     },
     "execution_count": 27,
     "metadata": {},
     "output_type": "execute_result"
    }
   ],
   "source": [
    "str(y_dev[0])"
   ]
  },
  {
   "cell_type": "code",
   "execution_count": 33,
   "metadata": {},
   "outputs": [],
   "source": [
    "d={1.0:2424}"
   ]
  },
  {
   "cell_type": "code",
   "execution_count": 160,
   "metadata": {},
   "outputs": [],
   "source": [
    "def rmse(y_true,y_pred):\n",
    "    return sqrt(mean_squared_error(y_true,y_pred))\n",
    "\n",
    "def rmse_partial(y_true, y_pred):\n",
    "    all_scores=list(set(y_true))\n",
    "    y_true_dict={x:[] for x in all_scores}\n",
    "    y_pred_dict={x:[] for x in all_scores}\n",
    "    for i, score in enumerate(y_true):\n",
    "        y_true_dict[score].append(score)\n",
    "        y_pred_dict[score].append(y_pred[i])\n",
    "    return {score: rmse(y_true_dict[score],y_pred_dict[score]) for score in all_scores}\n",
    "        \n",
    "def rmse_partial_avg(y_true, y_pred):\n",
    "    rmse_dict=rmse_partial(y_true,y_pred)\n",
    "    values=list(rmse_dict.values())\n",
    "    return np.mean(values), np.std(values)\n",
    "\n",
    "def rmse_partial_max(y_true, y_pred):\n",
    "    rmse_dict=rmse_partial(y_true,y_pred)\n",
    "    values=list(rmse_dict.values())\n",
    "    return np.max(values)\n",
    "\n",
    "def rmse_report(y_true,y_pred,round_decimals=3):\n",
    "    def ar(x):\n",
    "        return np.around(x,decimals=round_decimals)\n",
    "    baseline=rmse(y_true,[5.0]*len(y_true))\n",
    "    HTML_TEMPLATE=\"\"\"\n",
    "    <h2> RMSE report </h2>\n",
    "    <h3> RMSE </h3>\n",
    "    <hr>\n",
    "    <div>\n",
    "        <table>\n",
    "            <tr>\n",
    "                <td>RMSE (baseline &forall;1.0)</td>\n",
    "                <td>{}</td>\n",
    "            </tr>\n",
    "            <tr>\n",
    "                <td>RMSE</td>\n",
    "                <td>{}</td>\n",
    "            </tr>\n",
    "        </table>\n",
    "    <hr>\n",
    "    <h3> Partial RMSE </h3>\n",
    "        <table>\n",
    "            <tr>\n",
    "                <td>Mean partial RMSE (baseline &forall;1.0)</td>\n",
    "                <td>{}</td>\n",
    "            </tr>\n",
    "            <tr>\n",
    "                <td>Max partial RMSE (baseline &forall;1.0)</td>\n",
    "                <td>{}</td>\n",
    "            </tr>\n",
    "            <tr>\n",
    "                <td>St.dev. partial RMSE (baseline &forall;1.0)</td>\n",
    "                <td>{}</td>\n",
    "            </tr>\n",
    "            <tr>\n",
    "                <td>Mean partial RMSE</td>\n",
    "                <td>{}</td>\n",
    "            </tr>\n",
    "            <tr>\n",
    "                <td>Max partial RMSE</td>\n",
    "                <td>{}</td>\n",
    "            </tr>\n",
    "            <tr>\n",
    "                <td>St.dev. partial RMSE</td>\n",
    "                <td>{}</td>\n",
    "            </tr>            \n",
    "        </table>\n",
    "    </div>\n",
    "    <h3> Improvement over baseline (&forall;1.0) </h3>\n",
    "    <hr>\n",
    "    <div>\n",
    "        <table>\n",
    "            <tr>\n",
    "                <td>RMSE</td>\n",
    "                <td>{}</td>\n",
    "            </tr>\n",
    "            <tr>\n",
    "                <td>Mean partial RMSE</td>\n",
    "                <td><b>{}</b></td>\n",
    "            </tr>\n",
    "            <tr>\n",
    "                <td>Max partial RMSE</td>\n",
    "                <td>{}</td>\n",
    "            </tr>\n",
    "        </table>\n",
    "    </div>\n",
    "    \n",
    "    <h3> Partial RMSE detailed</h3>\n",
    "    <hr>\n",
    "    <div>\n",
    "        <table>\n",
    "            <tr>\n",
    "                <th>Review Score</th>\n",
    "                <th>RMSE</th>\n",
    "                <th>Baseline (&forall;1.0)</th>\n",
    "                <th>Improvement over baseline</th>\n",
    "            </tr>\n",
    "            {}\n",
    "        </table>\n",
    "    </div>\n",
    "    \"\"\"\n",
    "    PARTIAL_ROW_TEMPLATE='''\n",
    "    <tr>\n",
    "        <td>\n",
    "            {}\n",
    "        </td>\n",
    "        <td>\n",
    "            {}\n",
    "        </td>\n",
    "        <td>\n",
    "            {}\n",
    "        </td>\n",
    "        <td>\n",
    "            {}\n",
    "        </td>\n",
    "    </tr>\n",
    "    '''\n",
    "    overall=rmse(y_true,y_pred)\n",
    "    partial_avg,partial_std=rmse_partial_avg(y_true,y_pred)\n",
    "    partial_max=rmse_partial_max(y_true,y_pred)\n",
    "    partial_avg_baseline,partial_std_baseline=rmse_partial_avg(y_true,[5.0]*len(y_true))\n",
    "    partial_max_baseline=rmse_partial_max(y_true,[5.0]*len(y_true))\n",
    "    improvement_marmse=partial_avg_baseline-partial_avg\n",
    "    improvement_rmse=baseline-overall\n",
    "    improvement_rmse_partial_max=partial_max_baseline - partial_max\n",
    "    \n",
    "    #partial rows\n",
    "    partial=rmse_partial(y_true,y_pred)\n",
    "    partial_baseline=rmse_partial(y_true, [5.0]*len(y_true))\n",
    "    partial=sorted(partial.items(),key=lambda x:x[0],reverse=True)\n",
    "    partial_table_rows=[]\n",
    "    for key,value in partial:\n",
    "        value_baseline=partial_baseline[key]\n",
    "        diff_baseline=value_baseline-value\n",
    "        partial_table_rows.append(PARTIAL_ROW_TEMPLATE.format(key,ar(value),ar(value_baseline),ar(diff_baseline)))\n",
    "    partial_table_rows='\\n'.join(partial_table_rows)\n",
    "    \n",
    "    html=HTML_TEMPLATE.format(ar(baseline),\n",
    "                              ar(overall),\n",
    "                              ar(partial_avg_baseline),\n",
    "                              ar(partial_std_baseline),\n",
    "                              ar(partial_max_baseline),\n",
    "                              ar(partial_avg),\n",
    "                              ar(partial_std),\n",
    "                              ar(partial_max),\n",
    "                              ar(improvement_marmse),\n",
    "                              ar(improvement_rmse),\n",
    "                              ar(improvement_rmse_partial_max),\n",
    "                              partial_table_rows)\n",
    "    display(HTML(html))\n",
    "    "
   ]
  },
  {
   "cell_type": "code",
   "execution_count": 158,
   "metadata": {},
   "outputs": [],
   "source": [
    "y_pred_dev=model.predict(X_dev)"
   ]
  },
  {
   "cell_type": "markdown",
   "metadata": {},
   "source": [
    "#### Dev set error"
   ]
  },
  {
   "cell_type": "code",
   "execution_count": 161,
   "metadata": {},
   "outputs": [
    {
     "data": {
      "text/html": [
       "\n",
       "    <h2> RMSE report </h2>\n",
       "    <h3> RMSE </h3>\n",
       "    <hr>\n",
       "    <div>\n",
       "        <table>\n",
       "            <tr>\n",
       "                <td>RMSE (baseline &forall;1.0)</td>\n",
       "                <td>1.536</td>\n",
       "            </tr>\n",
       "            <tr>\n",
       "                <td>RMSE</td>\n",
       "                <td>0.853</td>\n",
       "            </tr>\n",
       "        </table>\n",
       "    <hr>\n",
       "    <h3> Partial RMSE </h3>\n",
       "        <table>\n",
       "            <tr>\n",
       "                <td>Mean partial RMSE (baseline &forall;1.0)</td>\n",
       "                <td>2.0</td>\n",
       "            </tr>\n",
       "            <tr>\n",
       "                <td>Max partial RMSE (baseline &forall;1.0)</td>\n",
       "                <td>1.414</td>\n",
       "            </tr>\n",
       "            <tr>\n",
       "                <td>St.dev. partial RMSE (baseline &forall;1.0)</td>\n",
       "                <td>4.0</td>\n",
       "            </tr>\n",
       "            <tr>\n",
       "                <td>Mean partial RMSE</td>\n",
       "                <td>0.976</td>\n",
       "            </tr>\n",
       "            <tr>\n",
       "                <td>Max partial RMSE</td>\n",
       "                <td>0.353</td>\n",
       "            </tr>\n",
       "            <tr>\n",
       "                <td>St.dev. partial RMSE</td>\n",
       "                <td>1.596</td>\n",
       "            </tr>            \n",
       "        </table>\n",
       "    </div>\n",
       "    <h3> Improvement over baseline (&forall;1.0) </h3>\n",
       "    <hr>\n",
       "    <div>\n",
       "        <table>\n",
       "            <tr>\n",
       "                <td>RMSE</td>\n",
       "                <td>1.024</td>\n",
       "            </tr>\n",
       "            <tr>\n",
       "                <td>Mean partial RMSE</td>\n",
       "                <td><b>0.683</b></td>\n",
       "            </tr>\n",
       "            <tr>\n",
       "                <td>Max partial RMSE</td>\n",
       "                <td>2.404</td>\n",
       "            </tr>\n",
       "        </table>\n",
       "    </div>\n",
       "    \n",
       "    <h3> Partial RMSE detailed</h3>\n",
       "    <hr>\n",
       "    <div>\n",
       "        <table>\n",
       "            <tr>\n",
       "                <th>Review Score</th>\n",
       "                <th>RMSE</th>\n",
       "                <th>Baseline (&forall;1.0)</th>\n",
       "                <th>Improvement over baseline</th>\n",
       "            </tr>\n",
       "            \n",
       "    <tr>\n",
       "        <td>\n",
       "            5.0\n",
       "        </td>\n",
       "        <td>\n",
       "            0.707\n",
       "        </td>\n",
       "        <td>\n",
       "            0.0\n",
       "        </td>\n",
       "        <td>\n",
       "            -0.707\n",
       "        </td>\n",
       "    </tr>\n",
       "    \n",
       "\n",
       "    <tr>\n",
       "        <td>\n",
       "            4.0\n",
       "        </td>\n",
       "        <td>\n",
       "            0.655\n",
       "        </td>\n",
       "        <td>\n",
       "            1.0\n",
       "        </td>\n",
       "        <td>\n",
       "            0.345\n",
       "        </td>\n",
       "    </tr>\n",
       "    \n",
       "\n",
       "    <tr>\n",
       "        <td>\n",
       "            3.0\n",
       "        </td>\n",
       "        <td>\n",
       "            0.782\n",
       "        </td>\n",
       "        <td>\n",
       "            2.0\n",
       "        </td>\n",
       "        <td>\n",
       "            1.218\n",
       "        </td>\n",
       "    </tr>\n",
       "    \n",
       "\n",
       "    <tr>\n",
       "        <td>\n",
       "            2.0\n",
       "        </td>\n",
       "        <td>\n",
       "            1.137\n",
       "        </td>\n",
       "        <td>\n",
       "            3.0\n",
       "        </td>\n",
       "        <td>\n",
       "            1.863\n",
       "        </td>\n",
       "    </tr>\n",
       "    \n",
       "\n",
       "    <tr>\n",
       "        <td>\n",
       "            1.0\n",
       "        </td>\n",
       "        <td>\n",
       "            1.596\n",
       "        </td>\n",
       "        <td>\n",
       "            4.0\n",
       "        </td>\n",
       "        <td>\n",
       "            2.404\n",
       "        </td>\n",
       "    </tr>\n",
       "    \n",
       "        </table>\n",
       "    </div>\n",
       "    "
      ],
      "text/plain": [
       "<IPython.core.display.HTML object>"
      ]
     },
     "metadata": {},
     "output_type": "display_data"
    }
   ],
   "source": [
    "rmse_report(y_dev,y_pred_dev)"
   ]
  },
  {
   "cell_type": "code",
   "execution_count": null,
   "metadata": {},
   "outputs": [],
   "source": []
  }
 ],
 "metadata": {
  "kernelspec": {
   "display_name": "Python 3",
   "language": "python",
   "name": "python3"
  },
  "language_info": {
   "codemirror_mode": {
    "name": "ipython",
    "version": 3
   },
   "file_extension": ".py",
   "mimetype": "text/x-python",
   "name": "python",
   "nbconvert_exporter": "python",
   "pygments_lexer": "ipython3",
   "version": "3.6.7"
  }
 },
 "nbformat": 4,
 "nbformat_minor": 2
}
