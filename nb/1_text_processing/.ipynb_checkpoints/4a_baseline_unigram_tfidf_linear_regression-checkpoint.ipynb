{
 "cells": [
  {
   "cell_type": "code",
   "execution_count": 57,
   "metadata": {},
   "outputs": [],
   "source": [
    "#!pip install --upgrade pip imbalanced-learn"
   ]
  },
  {
   "cell_type": "code",
   "execution_count": 58,
   "metadata": {},
   "outputs": [],
   "source": [
    "import pickle\n",
    "from imblearn.under_sampling import RandomUnderSampler\n",
    "from nltk.tokenize import word_tokenize\n",
    "from collections import Counter\n",
    "from sklearn.feature_extraction.text import TfidfVectorizer\n",
    "from sklearn.svm import LinearSVC\n",
    "from sklearn.metrics import mean_squared_error\n",
    "from sklearn.linear_model import LinearRegression\n",
    "import tensorflow.keras as k\n",
    "from sklearn.preprocessing import normalize as scikit_normalize\n",
    "import matplotlib.pyplot as plt\n",
    "import numpy as np\n",
    "import pandas as pd\n",
    "from IPython.core.display import display, HTML\n",
    "from math import sqrt\n",
    "from imblearn.under_sampling import RandomUnderSampler\n",
    "%matplotlib inline"
   ]
  },
  {
   "cell_type": "code",
   "execution_count": 3,
   "metadata": {},
   "outputs": [],
   "source": [
    "DATASET='/home/kvassay/data/z/data/reviews_train_test_dev1.pickle'"
   ]
  },
  {
   "cell_type": "markdown",
   "metadata": {},
   "source": [
    "## Load data"
   ]
  },
  {
   "cell_type": "code",
   "execution_count": 4,
   "metadata": {
    "scrolled": true
   },
   "outputs": [],
   "source": [
    "with open(DATASET,'rb') as f:\n",
    "    train,dev,test=pickle.load(f)"
   ]
  },
  {
   "cell_type": "markdown",
   "metadata": {},
   "source": [
    "## Train TF-IDF model"
   ]
  },
  {
   "cell_type": "code",
   "execution_count": 5,
   "metadata": {},
   "outputs": [],
   "source": [
    "def tfidf_train(dataset, **scikit_kwargs):\n",
    "    vectorizer=TfidfVectorizer(**scikit_kwargs)\n",
    "    vectorizer.fit([x['text'] for x in dataset])\n",
    "    return vectorizer\n",
    "\n",
    "def tfidf_predict(dataset, apply_norm=True):\n",
    "    features=vectorizer.transform([x['text'] for x in dataset])\n",
    "    if apply_norm is True:\n",
    "        features=scikit_normalize(features)\n",
    "    return features"
   ]
  },
  {
   "cell_type": "code",
   "execution_count": 6,
   "metadata": {},
   "outputs": [
    {
     "name": "stdout",
     "output_type": "stream",
     "text": [
      "CPU times: user 25.5 s, sys: 652 ms, total: 26.2 s\n",
      "Wall time: 26.2 s\n"
     ]
    }
   ],
   "source": [
    "%%time\n",
    "vectorizer=tfidf_train(train,max_features=10000,max_df=0.8)"
   ]
  },
  {
   "cell_type": "markdown",
   "metadata": {},
   "source": [
    "## Extract features"
   ]
  },
  {
   "cell_type": "code",
   "execution_count": 7,
   "metadata": {},
   "outputs": [
    {
     "name": "stdout",
     "output_type": "stream",
     "text": [
      "Train samples shape: (551399, 10000), Dev samples shape: (8527, 10000)\n",
      "CPU times: user 29.3 s, sys: 464 ms, total: 29.7 s\n",
      "Wall time: 29.7 s\n"
     ]
    }
   ],
   "source": [
    "%%time\n",
    "X_train=tfidf_predict(train)\n",
    "X_dev=tfidf_predict(dev)\n",
    "y_train=np.array([x['score'] for x in train])\n",
    "y_dev=np.array([x['score'] for x in dev])\n",
    "print('Train samples shape: {}, Dev samples shape: {}'.format(X_train.shape,X_dev.shape))"
   ]
  },
  {
   "cell_type": "markdown",
   "metadata": {},
   "source": [
    "## Training"
   ]
  },
  {
   "cell_type": "code",
   "execution_count": 59,
   "metadata": {},
   "outputs": [],
   "source": [
    "RandomUnderSampler?"
   ]
  },
  {
   "cell_type": "code",
   "execution_count": 44,
   "metadata": {},
   "outputs": [],
   "source": [
    "def plot_history(history):\n",
    "    loss = history.history['loss']\n",
    "    val_loss = history.history['val_loss']\n",
    "    epochs = range(1, len(loss) + 1)\n",
    "    plt.plot(epochs, loss, color='red', label='MSE Train')\n",
    "    plt.plot(epochs, val_loss, color='green', label='MSE Dev')\n",
    "    plt.title('Training and validation loss')\n",
    "    plt.xlabel('Epochs')\n",
    "    plt.ylabel('MSE')\n",
    "    plt.legend()\n",
    "    plt.show()"
   ]
  },
  {
   "cell_type": "code",
   "execution_count": 38,
   "metadata": {},
   "outputs": [],
   "source": [
    "def train_model(batch_size):\n",
    "    model = k.models.Sequential([\n",
    "        k.layers.Dense(1000,activation='relu', input_shape=(X_train.shape[1],)),\n",
    "        k.layers.Dense(100,activation='relu'),\n",
    "        k.layers.Dense(50,activation='relu'),\n",
    "        k.layers.Dense(1,activation='linear'),\n",
    "        k.layers.Activation('linear'),\n",
    "    ])\n",
    "    model.compile(optimizer='adam',loss='mean_squared_error',metrics=['mean_squared_error'])\n",
    "    history=model.fit(x=X_train, y=y_train, shuffle=True,epochs=5,batch_size=batch_size, validation_data=(X_dev,y_dev))\n",
    "    return model,history"
   ]
  },
  {
   "cell_type": "code",
   "execution_count": 39,
   "metadata": {},
   "outputs": [
    {
     "name": "stdout",
     "output_type": "stream",
     "text": [
      "Train on 551399 samples, validate on 8527 samples\n",
      "Epoch 1/5\n",
      "551399/551399 [==============================] - 57s 103us/sample - loss: 1.1742 - mean_squared_error: 1.1742 - val_loss: 0.7297 - val_mean_squared_error: 0.7297\n",
      "Epoch 2/5\n",
      "551399/551399 [==============================] - 50s 90us/sample - loss: 0.5666 - mean_squared_error: 0.5666 - val_loss: 0.5997 - val_mean_squared_error: 0.5997\n",
      "Epoch 3/5\n",
      "551399/551399 [==============================] - 50s 90us/sample - loss: 0.3150 - mean_squared_error: 0.3150 - val_loss: 0.5036 - val_mean_squared_error: 0.5036\n",
      "Epoch 4/5\n",
      "551399/551399 [==============================] - 50s 90us/sample - loss: 0.1310 - mean_squared_error: 0.1310 - val_loss: 0.4926 - val_mean_squared_error: 0.4926\n",
      "Epoch 5/5\n",
      "551399/551399 [==============================] - 50s 90us/sample - loss: 0.0709 - mean_squared_error: 0.0709 - val_loss: 0.5015 - val_mean_squared_error: 0.5015\n"
     ]
    }
   ],
   "source": [
    "model,history=train_model(batch_size=1000)"
   ]
  },
  {
   "cell_type": "code",
   "execution_count": 45,
   "metadata": {},
   "outputs": [
    {
     "data": {
      "image/png": "[encoded data removed]",
      "text/plain": [
       "<Figure size 432x288 with 1 Axes>"
      ]
     },
     "metadata": {
      "needs_background": "light"
     },
     "output_type": "display_data"
    }
   ],
   "source": [
    "plot_history(history)"
   ]
  },
  {
   "cell_type": "markdown",
   "metadata": {},
   "source": [
    "## Evaluate RMSE"
   ]
  },
  {
   "cell_type": "code",
   "execution_count": 51,
   "metadata": {},
   "outputs": [],
   "source": [
    "def rmse(y_true,y_pred):\n",
    "    return sqrt(mean_squared_error(y_true,y_pred))\n",
    "\n",
    "def rmse_partial(y_true, y_pred):\n",
    "    all_scores=list(set(y_true))\n",
    "    y_true_dict={x:[] for x in all_scores}\n",
    "    y_pred_dict={x:[] for x in all_scores}\n",
    "    for i, score in enumerate(y_true):\n",
    "        y_true_dict[score].append(score)\n",
    "        y_pred_dict[score].append(y_pred[i])\n",
    "    return {score: rmse(y_true_dict[score],y_pred_dict[score]) for score in all_scores}\n",
    "        \n",
    "def rmse_partial_avg(y_true, y_pred):\n",
    "    rmse_dict=rmse_partial(y_true,y_pred)\n",
    "    values=list(rmse_dict.values())\n",
    "    return np.mean(values), np.std(values)\n",
    "\n",
    "def rmse_partial_max(y_true, y_pred):\n",
    "    rmse_dict=rmse_partial(y_true,y_pred)\n",
    "    values=list(rmse_dict.values())\n",
    "    return np.max(values)\n",
    "\n",
    "def rmse_report(y_true,y_pred,round_decimals=3):\n",
    "    def ar(x):\n",
    "        return np.around(x,decimals=round_decimals)\n",
    "    baseline=rmse(y_true,[5.0]*len(y_true))\n",
    "    HTML_TEMPLATE=\"\"\"\n",
    "    <h2> RMSE report </h2>\n",
    "    <h3> RMSE </h3>\n",
    "    <hr>\n",
    "    <div>\n",
    "        <table>\n",
    "            <tr>\n",
    "                <td>RMSE (baseline &forall;1.0)</td>\n",
    "                <td>{}</td>\n",
    "            </tr>\n",
    "            <tr>\n",
    "                <td>RMSE</td>\n",
    "                <td>{}</td>\n",
    "            </tr>\n",
    "        </table>\n",
    "    <hr>\n",
    "    <h3> Partial RMSE </h3>\n",
    "        <table>\n",
    "            <tr>\n",
    "                <td>Mean partial RMSE (baseline &forall;1.0)</td>\n",
    "                <td>{}</td>\n",
    "            </tr>\n",
    "            <tr>\n",
    "                <td>Max partial RMSE (baseline &forall;1.0)</td>\n",
    "                <td>{}</td>\n",
    "            </tr>\n",
    "            <tr>\n",
    "                <td>St.dev. partial RMSE (baseline &forall;1.0)</td>\n",
    "                <td>{}</td>\n",
    "            </tr>\n",
    "            <tr>\n",
    "                <td>Mean partial RMSE</td>\n",
    "                <td><b>{}</b></td>\n",
    "            </tr>\n",
    "            <tr>\n",
    "                <td>Max partial RMSE</td>\n",
    "                <td>{}</td>\n",
    "            </tr>\n",
    "            <tr>\n",
    "                <td>St.dev. partial RMSE</td>\n",
    "                <td>{}</td>\n",
    "            </tr>            \n",
    "        </table>\n",
    "    </div>\n",
    "    <h3> Improvement over baseline (&forall;1.0) </h3>\n",
    "    <hr>\n",
    "    <div>\n",
    "        <table>\n",
    "            <tr>\n",
    "                <td>RMSE</td>\n",
    "                <td>{}</td>\n",
    "            </tr>\n",
    "            <tr>\n",
    "                <td>Mean partial RMSE</td>\n",
    "                <td><b>{}</b></td>\n",
    "            </tr>\n",
    "            <tr>\n",
    "                <td>Max partial RMSE</td>\n",
    "                <td>{}</td>\n",
    "            </tr>\n",
    "        </table>\n",
    "    </div>\n",
    "    \n",
    "    <h3> Partial RMSE detailed</h3>\n",
    "    <hr>\n",
    "    <div>\n",
    "        <table>\n",
    "            <tr>\n",
    "                <th>Review Score</th>\n",
    "                <th>RMSE</th>\n",
    "                <th>RMSE baseline (&forall;1.0)</th>\n",
    "                <th>Improvement over baseline</th>\n",
    "            </tr>\n",
    "            {}\n",
    "        </table>\n",
    "    </div>\n",
    "    \"\"\"\n",
    "    PARTIAL_ROW_TEMPLATE='''\n",
    "    <tr>\n",
    "        <td>\n",
    "            {}\n",
    "        </td>\n",
    "        <td>\n",
    "            {}\n",
    "        </td>\n",
    "        <td>\n",
    "            {}\n",
    "        </td>\n",
    "        <td>\n",
    "            {}\n",
    "        </td>\n",
    "    </tr>\n",
    "    '''\n",
    "    overall=rmse(y_true,y_pred)\n",
    "    partial_avg,partial_std=rmse_partial_avg(y_true,y_pred)\n",
    "    partial_max=rmse_partial_max(y_true,y_pred)\n",
    "    partial_avg_baseline,partial_std_baseline=rmse_partial_avg(y_true,[5.0]*len(y_true))\n",
    "    partial_max_baseline=rmse_partial_max(y_true,[5.0]*len(y_true))\n",
    "    improvement_marmse=partial_avg_baseline-partial_avg\n",
    "    improvement_rmse=baseline-overall\n",
    "    improvement_rmse_partial_max=partial_max_baseline - partial_max\n",
    "    \n",
    "    #partial rows\n",
    "    partial=rmse_partial(y_true,y_pred)\n",
    "    partial_baseline=rmse_partial(y_true, [5.0]*len(y_true))\n",
    "    partial=sorted(partial.items(),key=lambda x:x[0],reverse=True)\n",
    "    partial_table_rows=[]\n",
    "    for key,value in partial:\n",
    "        value_baseline=partial_baseline[key]\n",
    "        diff_baseline=value_baseline-value\n",
    "        partial_table_rows.append(PARTIAL_ROW_TEMPLATE.format(key,ar(value),ar(value_baseline),ar(diff_baseline)))\n",
    "    partial_table_rows='\\n'.join(partial_table_rows)\n",
    "    \n",
    "    html=HTML_TEMPLATE.format(ar(baseline),\n",
    "                              ar(overall),\n",
    "                              ar(partial_avg_baseline),\n",
    "                              ar(partial_std_baseline),\n",
    "                              ar(partial_max_baseline),\n",
    "                              ar(partial_avg),\n",
    "                              ar(partial_std),\n",
    "                              ar(partial_max),\n",
    "                              ar(improvement_rmse),\n",
    "                              ar(improvement_marmse),\n",
    "                              ar(improvement_rmse_partial_max),\n",
    "                              partial_table_rows)\n",
    "    display(HTML(html))\n",
    "    "
   ]
  },
  {
   "cell_type": "code",
   "execution_count": 47,
   "metadata": {},
   "outputs": [],
   "source": [
    "y_pred_dev=model.predict(X_dev)"
   ]
  },
  {
   "cell_type": "markdown",
   "metadata": {},
   "source": [
    "#### Dev set error"
   ]
  },
  {
   "cell_type": "code",
   "execution_count": 53,
   "metadata": {},
   "outputs": [
    {
     "data": {
      "text/html": [
       "\n",
       "    <h2> RMSE report </h2>\n",
       "    <h3> RMSE </h3>\n",
       "    <hr>\n",
       "    <div>\n",
       "        <table>\n",
       "            <tr>\n",
       "                <td>RMSE (baseline &forall;1.0)</td>\n",
       "                <td>1.536</td>\n",
       "            </tr>\n",
       "            <tr>\n",
       "                <td>RMSE</td>\n",
       "                <td>0.708</td>\n",
       "            </tr>\n",
       "        </table>\n",
       "    <hr>\n",
       "    <h3> Partial RMSE </h3>\n",
       "        <table>\n",
       "            <tr>\n",
       "                <td>Mean partial RMSE (baseline &forall;1.0)</td>\n",
       "                <td>2.0</td>\n",
       "            </tr>\n",
       "            <tr>\n",
       "                <td>Max partial RMSE (baseline &forall;1.0)</td>\n",
       "                <td>1.414</td>\n",
       "            </tr>\n",
       "            <tr>\n",
       "                <td>St.dev. partial RMSE (baseline &forall;1.0)</td>\n",
       "                <td>4.0</td>\n",
       "            </tr>\n",
       "            <tr>\n",
       "                <td>Mean partial RMSE</td>\n",
       "                <td><b>0.842</b></td>\n",
       "            </tr>\n",
       "            <tr>\n",
       "                <td>Max partial RMSE</td>\n",
       "                <td>0.226</td>\n",
       "            </tr>\n",
       "            <tr>\n",
       "                <td>St.dev. partial RMSE</td>\n",
       "                <td>1.22</td>\n",
       "            </tr>            \n",
       "        </table>\n",
       "    </div>\n",
       "    <h3> Improvement over baseline (&forall;1.0) </h3>\n",
       "    <hr>\n",
       "    <div>\n",
       "        <table>\n",
       "            <tr>\n",
       "                <td>RMSE</td>\n",
       "                <td>0.828</td>\n",
       "            </tr>\n",
       "            <tr>\n",
       "                <td>Mean partial RMSE</td>\n",
       "                <td><b>1.158</b></td>\n",
       "            </tr>\n",
       "            <tr>\n",
       "                <td>Max partial RMSE</td>\n",
       "                <td>2.78</td>\n",
       "            </tr>\n",
       "        </table>\n",
       "    </div>\n",
       "    \n",
       "    <h3> Partial RMSE detailed</h3>\n",
       "    <hr>\n",
       "    <div>\n",
       "        <table>\n",
       "            <tr>\n",
       "                <th>Review Score</th>\n",
       "                <th>RMSE</th>\n",
       "                <th>RMSE baseline (&forall;1.0)</th>\n",
       "                <th>Improvement over baseline</th>\n",
       "            </tr>\n",
       "            \n",
       "    <tr>\n",
       "        <td>\n",
       "            5.0\n",
       "        </td>\n",
       "        <td>\n",
       "            0.569\n",
       "        </td>\n",
       "        <td>\n",
       "            0.0\n",
       "        </td>\n",
       "        <td>\n",
       "            -0.569\n",
       "        </td>\n",
       "    </tr>\n",
       "    \n",
       "\n",
       "    <tr>\n",
       "        <td>\n",
       "            4.0\n",
       "        </td>\n",
       "        <td>\n",
       "            0.673\n",
       "        </td>\n",
       "        <td>\n",
       "            1.0\n",
       "        </td>\n",
       "        <td>\n",
       "            0.327\n",
       "        </td>\n",
       "    </tr>\n",
       "    \n",
       "\n",
       "    <tr>\n",
       "        <td>\n",
       "            3.0\n",
       "        </td>\n",
       "        <td>\n",
       "            0.811\n",
       "        </td>\n",
       "        <td>\n",
       "            2.0\n",
       "        </td>\n",
       "        <td>\n",
       "            1.189\n",
       "        </td>\n",
       "    </tr>\n",
       "    \n",
       "\n",
       "    <tr>\n",
       "        <td>\n",
       "            2.0\n",
       "        </td>\n",
       "        <td>\n",
       "            0.937\n",
       "        </td>\n",
       "        <td>\n",
       "            3.0\n",
       "        </td>\n",
       "        <td>\n",
       "            2.063\n",
       "        </td>\n",
       "    </tr>\n",
       "    \n",
       "\n",
       "    <tr>\n",
       "        <td>\n",
       "            1.0\n",
       "        </td>\n",
       "        <td>\n",
       "            1.22\n",
       "        </td>\n",
       "        <td>\n",
       "            4.0\n",
       "        </td>\n",
       "        <td>\n",
       "            2.78\n",
       "        </td>\n",
       "    </tr>\n",
       "    \n",
       "        </table>\n",
       "    </div>\n",
       "    "
      ],
      "text/plain": [
       "<IPython.core.display.HTML object>"
      ]
     },
     "metadata": {},
     "output_type": "display_data"
    }
   ],
   "source": [
    "rmse_report(y_dev,y_pred_dev)"
   ]
  }
 ],
 "metadata": {
  "kernelspec": {
   "display_name": "Python 3",
   "language": "python",
   "name": "python3"
  },
  "language_info": {
   "codemirror_mode": {
    "name": "ipython",
    "version": 3
   },
   "file_extension": ".py",
   "mimetype": "text/x-python",
   "name": "python",
   "nbconvert_exporter": "python",
   "pygments_lexer": "ipython3",
   "version": "3.6.7"
  }
 },
 "nbformat": 4,
 "nbformat_minor": 2
}
