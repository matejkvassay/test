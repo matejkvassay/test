{
 "cells": [
  {
   "cell_type": "code",
   "execution_count": 24,
   "metadata": {},
   "outputs": [],
   "source": [
    "import pickle"
   ]
  },
  {
   "cell_type": "code",
   "execution_count": 25,
   "metadata": {},
   "outputs": [],
   "source": [
    "DATASET='/home/kvassay/data/z/data/reviews_train_test_dev1_{}.pickle'\n",
    "TYPE='sent'\n",
    "FASTTEXT_INPUT='/home/kvassay/data/z/data/fasttext/train.txt'\n",
    "FASTTEXT_MODEL_SAVE='/home/kvassay/data/z/models/fasttext/model1_300'"
   ]
  },
  {
   "cell_type": "code",
   "execution_count": 26,
   "metadata": {},
   "outputs": [
    {
     "name": "stdout",
     "output_type": "stream",
     "text": [
      "CPU times: user 2.47 s, sys: 368 ms, total: 2.83 s\n",
      "Wall time: 2.83 s\n"
     ]
    }
   ],
   "source": [
    "%%time\n",
    "with open(DATASET.format(TYPE),'rb') as f:\n",
    "    train,_,_=pickle.load(f)"
   ]
  },
  {
   "cell_type": "markdown",
   "metadata": {},
   "source": [
    "## Prepare training data"
   ]
  },
  {
   "cell_type": "code",
   "execution_count": 27,
   "metadata": {},
   "outputs": [],
   "source": [
    "all_sents=[]\n",
    "for sample in train:\n",
    "    for sent in sample['text']:\n",
    "        all_sents.append(sent.lower()+'\\n')"
   ]
  },
  {
   "cell_type": "code",
   "execution_count": 28,
   "metadata": {},
   "outputs": [],
   "source": [
    "with open(FASTTEXT_INPUT, 'w') as f:\n",
    "    f.writelines(all_sents)"
   ]
  },
  {
   "cell_type": "markdown",
   "metadata": {},
   "source": [
    "## Train fastText"
   ]
  },
  {
   "cell_type": "code",
   "execution_count": 31,
   "metadata": {},
   "outputs": [
    {
     "name": "stdout",
     "output_type": "stream",
     "text": [
      "Read 47M words\n",
      "Number of words:  104088\n",
      "Number of labels: 0\n",
      "Progress: 100.0% words/sec/thread:   81420 lr:  0.000000 loss:  1.989253 ETA:   0h 0m loss:  2.546912 ETA:   0h 4m lr:  0.046255 loss:  2.481287 ETA:   0h 4m  78658 lr:  0.038159 loss:  2.452437 ETA:   0h 3m 0.037020 loss:  2.448684 ETA:   0h 3m 0.034219 loss:  2.441324 ETA:   0h 2m 2.439053 ETA:   0h 2m 0.031214 loss:  2.435311 ETA:   0h 2m 0.029083 loss:  2.427939 ETA:   0h 2m 0.026950 loss:  2.421146 ETA:   0h 2m 0.026039 loss:  2.418398 ETA:   0h 2m lr:  0.025454 loss:  2.416492 ETA:   0h 2m 0.024829 loss:  2.415017 ETA:   0h 2m 0.022920 loss:  2.410304 ETA:   0h 1m loss:  2.407604 ETA:   0h 1m loss:  2.397332 ETA:   0h 1m 0.013175 loss:  2.393606 ETA:   0h 1m lr:  0.011000 loss:  2.347417 ETA:   0h 0m lr:  0.010356 loss:  2.320989 ETA:   0h 0m 0.006905 loss:  2.192049 ETA:   0h 0m lr:  0.004453 loss:  2.112773 ETA:   0h 0m\n"
     ]
    }
   ],
   "source": [
    "!cd ~/project/fastText && ./fasttext skipgram -dim 100 -neg 10 -epoch 10 -input $FASTTEXT_INPUT -output $FASTTEXT_MODEL_SAVE"
   ]
  },
  {
   "cell_type": "code",
   "execution_count": null,
   "metadata": {},
   "outputs": [],
   "source": []
  }
 ],
 "metadata": {
  "kernelspec": {
   "display_name": "Python 3",
   "language": "python",
   "name": "python3"
  },
  "language_info": {
   "codemirror_mode": {
    "name": "ipython",
    "version": 3
   },
   "file_extension": ".py",
   "mimetype": "text/x-python",
   "name": "python",
   "nbconvert_exporter": "python",
   "pygments_lexer": "ipython3",
   "version": "3.6.7"
  }
 },
 "nbformat": 4,
 "nbformat_minor": 2
}
