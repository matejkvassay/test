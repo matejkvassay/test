{
 "cells": [
  {
   "cell_type": "code",
   "execution_count": 1,
   "metadata": {},
   "outputs": [],
   "source": [
    "import pickle\n",
    "from tqdm import tqdm\n",
    "import spacy "
   ]
  },
  {
   "cell_type": "code",
   "execution_count": null,
   "metadata": {},
   "outputs": [],
   "source": [
    "DATASET='/home/kvassay/data/z/data/reviews_train_test_dev1.pickle'\n",
    "SAVE_PATH='/home/kvassay/data/z/data/reviews_train_test_dev1_{}.pickle'"
   ]
  },
  {
   "cell_type": "code",
   "execution_count": null,
   "metadata": {},
   "outputs": [],
   "source": [
    "%%time\n",
    "with open(DATASET,'rb') as f:\n",
    "    train,dev,test=pickle.load(f)"
   ]
  },
  {
   "cell_type": "code",
   "execution_count": null,
   "metadata": {},
   "outputs": [],
   "source": [
    "nlp = spacy.load('en_core_web_lg',disable=[\"ner\",\"tagger\"])\n",
    "tokenizer = nlp.Defaults.create_tokenizer(nlp)"
   ]
  },
  {
   "cell_type": "markdown",
   "metadata": {},
   "source": [
    "#### Dataset - sentences"
   ]
  },
  {
   "cell_type": "code",
   "execution_count": null,
   "metadata": {},
   "outputs": [],
   "source": [
    "# Spacy output extractors\n",
    "def tokenize_sent(sent):\n",
    "    return [str(x) for x in tokenizer(sent)]\n",
    "\n",
    "def get_sents(sample):\n",
    "    return tuple([str(x).strip() for x in sample['nlp_text'].sents])\n",
    "\n",
    "def get_sents_tokenized(sample):\n",
    "    return tuple([tokenize_sent(str(x).strip()) for x in sample['nlp_text'].sents])\n",
    "    \n",
    "\n",
    "def get_lemmatized_tokens(sample,key):\n",
    "    return tuple([str(x.lemma_) for x in sample['nlp_'+key]])\n",
    "\n",
    "def get_tokens(sample,key):\n",
    "    return tuple([str(x) for x in sample['nlp_'+key]])\n",
    "\n",
    "def get_lemmatized(sample,key):\n",
    "    return ' '.join([str(x.lemma_) for x in sample['nlp_'+key]])\n",
    "\n",
    "def to_sents(x):\n",
    "    return {'review_id':x['review_id'], \n",
    "             'score':x['score'],\n",
    "             'summary':x['summary'],\n",
    "             'text':get_sents(x),\n",
    "            } \n",
    "\n",
    "def to_sents_tokenized(x):\n",
    "    return {'review_id':x['review_id'], \n",
    "             'score':x['score'],\n",
    "             'summary':get_tokens(x,'summary'),\n",
    "             'text':get_sents_tokenized(x),\n",
    "            } \n",
    "\n",
    "# Dataset reducers\n",
    "def to_lemmatized(x):\n",
    "    return {'review_id':x['review_id'], \n",
    "             'score':x['score'],\n",
    "             'summary':get_lemmatized(x,'summary'),\n",
    "             'text':get_lemmatized(x,'text'),\n",
    "            } \n",
    "\n",
    "def to_lemmatized_tokens(x):\n",
    "    return {'review_id':x['review_id'], \n",
    "             'score':x['score'],\n",
    "             'summary':get_lemmatized_tokens(x,'summary'),\n",
    "             'text':get_lemmatized_tokens(x,'text'),\n",
    "            } \n",
    "\n",
    "def to_tokens(x):\n",
    "    return {'review_id':x['review_id'], \n",
    "             'score':x['score'],\n",
    "             'summary':get_tokens(x,'summary'),\n",
    "             'text':get_tokens(x,'text'),\n",
    "            } \n",
    "\n",
    "def to_raw(x):\n",
    "    return {'review_id':x['review_id'], \n",
    "             'score':x['score'],\n",
    "             'summary':x['summary'],\n",
    "             'text':x['text'],\n",
    "            } \n",
    "\n",
    "def write(ds, name):\n",
    "    with open(SAVE_PATH.format(name), 'wb') as f:\n",
    "        pickle.dump((ds[0],ds[1],ds[2]), f) "
   ]
  },
  {
   "cell_type": "markdown",
   "metadata": {},
   "source": [
    "#### Prepare datasets:\n",
    "- raw\n",
    "- lemmatized\n",
    "- tokenized\n",
    "- lemmatized tokenized\n",
    "- sentences"
   ]
  },
  {
   "cell_type": "code",
   "execution_count": null,
   "metadata": {},
   "outputs": [],
   "source": [
    "%%time\n",
    "raw=([],[],[])\n",
    "lem=([],[],[])\n",
    "tok=([],[],[])\n",
    "lem_tok=([],[],[])\n",
    "sent=([],[],[])\n",
    "sent_tok=([],[],[])\n",
    "original=(train,dev,test)\n",
    "\n",
    "for j,dataset in enumerate(original):\n",
    "    for sample in tqdm(dataset):\n",
    "        raw[j].append(to_raw(sample))\n",
    "        lem[j].append(to_lemmatized(sample))\n",
    "        tok[j].append(to_tokens(sample))\n",
    "        lem_tok[j].append(to_lemmatized_tokens(sample))\n",
    "        sent[j].append(to_sents(sample))    \n",
    "        sent_tok[j].append(to_sents_tokenized(sample))    "
   ]
  },
  {
   "cell_type": "markdown",
   "metadata": {},
   "source": [
    "#### Persist"
   ]
  },
  {
   "cell_type": "code",
   "execution_count": null,
   "metadata": {},
   "outputs": [],
   "source": [
    "WRITE_PAIRS=[\n",
    "    (raw,'raw'),\n",
    "    (lem,'lem'),\n",
    "    (tok,'tok'),\n",
    "    (lem_tok,'lem_tok'),\n",
    "    (sent,'sent'),\n",
    "    (sent_tok,'sent_tok')\n",
    "]"
   ]
  },
  {
   "cell_type": "code",
   "execution_count": null,
   "metadata": {},
   "outputs": [],
   "source": [
    "%%time\n",
    "for ds, name in WRITE_PAIRS:\n",
    "    write(ds,name)"
   ]
  }
 ],
 "metadata": {
  "kernelspec": {
   "display_name": "Python 3",
   "language": "python",
   "name": "python3"
  },
  "language_info": {
   "codemirror_mode": {
    "name": "ipython",
    "version": 3
   },
   "file_extension": ".py",
   "mimetype": "text/x-python",
   "name": "python",
   "nbconvert_exporter": "python",
   "pygments_lexer": "ipython3",
   "version": "3.6.7"
  }
 },
 "nbformat": 4,
 "nbformat_minor": 2
}
