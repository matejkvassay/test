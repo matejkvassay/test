{
 "cells": [
  {
   "cell_type": "code",
   "execution_count": 1,
   "metadata": {},
   "outputs": [],
   "source": [
    "import pickle\n",
    "import os\n",
    "import re\n",
    "import numpy as np\n",
    "import spacy\n",
    "import tensorflow as tf\n",
    "import tensorflow.keras as K\n",
    "from tensorflow.keras.preprocessing.sequence import pad_sequences\n",
    "from datetime import datetime\n",
    "from sklearn.preprocessing import normalize as scikit_normalize\n",
    "from evaluation import plot_history\n",
    "from evaluation import rmse_report\n",
    "from sampling import UnderSampler3D\n",
    "from fasttext_embedding import FastTextEmbeddingBag\n",
    "from spacy.lang.en.stop_words import STOP_WORDS\n",
    "from tqdm import tqdm\n",
    "\n",
    "%matplotlib inline\n",
    "%load_ext tensorboard"
   ]
  },
  {
   "cell_type": "code",
   "execution_count": 2,
   "metadata": {},
   "outputs": [],
   "source": [
    "FROM_CHECKPOINT=True\n",
    "\n",
    "DATASET='/home/kvassay/data/z/data/reviews_train_test_dev1_{}.pickle'\n",
    "TYPE='tok'\n",
    "TB_LOG_DIR='/home/kvassay/data/z/log/E4/scalars/'\n",
    "VEC_DIM=100\n",
    "FASTTEXT='/home/kvassay/data/z/models/fasttext/cbow_{}_e{}_w{}.bin'.format(VEC_DIM,50,5)\n",
    "SEQ_PADDING=50\n",
    "CHECKPOINT_DIR='/tmp/z/checkpoint_dim{}_pad{}/'.format(VEC_DIM,SEQ_PADDING)\n",
    "ALLOWED_SPECIAL=tuple(['?','!',':(', ':)', ':D',':-)',':-D',':\\'(',':/',':-/','<3',':-P',':P'])"
   ]
  },
  {
   "cell_type": "markdown",
   "metadata": {},
   "source": [
    "## Read data"
   ]
  },
  {
   "cell_type": "code",
   "execution_count": 3,
   "metadata": {},
   "outputs": [
    {
     "name": "stdout",
     "output_type": "stream",
     "text": [
      "CPU times: user 4.93 s, sys: 1.2 s, total: 6.13 s\n",
      "Wall time: 6.13 s\n"
     ]
    }
   ],
   "source": [
    "%%time\n",
    "with open(DATASET.format(TYPE),'rb') as f:\n",
    "    train,dev,_=pickle.load(f)"
   ]
  },
  {
   "cell_type": "markdown",
   "metadata": {},
   "source": [
    "## Load models"
   ]
  },
  {
   "cell_type": "code",
   "execution_count": 4,
   "metadata": {},
   "outputs": [
    {
     "name": "stdout",
     "output_type": "stream",
     "text": [
      "CPU times: user 2 µs, sys: 0 ns, total: 2 µs\n",
      "Wall time: 4.05 µs\n"
     ]
    }
   ],
   "source": [
    "%%time\n",
    "if not FROM_CHECKPOINT:\n",
    "    fasttext=FastTextEmbeddingBag(FASTTEXT)"
   ]
  },
  {
   "cell_type": "markdown",
   "metadata": {},
   "source": [
    "## Preprocess text + extract features\n",
    "- filter out EN stop-words (and, or, ...)\n",
    "- filter out non-allowed special tokens (we want to keep smileys and !,?)"
   ]
  },
  {
   "cell_type": "code",
   "execution_count": 5,
   "metadata": {},
   "outputs": [],
   "source": [
    "rx_special= re.compile(\"|\".join(re.escape(s) for s in ALLOWED_SPECIAL))\n",
    "\n",
    "def word_filter(word):\n",
    "    if word in STOP_WORDS:\n",
    "        return False\n",
    "    if not word.isalpha():\n",
    "        if not rx_special.findall(word):\n",
    "            return False\n",
    "    else:\n",
    "        if len(word)<3:\n",
    "            return False\n",
    "    return True\n",
    "\n",
    "def preprocess_text(text):\n",
    "    return [x.lower() for x in text if word_filter(x.lower())]\n",
    "\n",
    "def preprocess_texts(dataset,text_keys=['summary','text']):\n",
    "    for sample in tqdm(dataset):\n",
    "        for key in text_keys:\n",
    "            sample[key]=preprocess_text(sample[key])\n",
    "    return dataset"
   ]
  },
  {
   "cell_type": "code",
   "execution_count": 6,
   "metadata": {},
   "outputs": [
    {
     "name": "stdout",
     "output_type": "stream",
     "text": [
      "CPU times: user 5 µs, sys: 1e+03 ns, total: 6 µs\n",
      "Wall time: 10.5 µs\n"
     ]
    }
   ],
   "source": [
    "%%time\n",
    "if not FROM_CHECKPOINT:\n",
    "    train=preprocess_texts(train)\n",
    "    dev=preprocess_texts(dev)"
   ]
  },
  {
   "cell_type": "markdown",
   "metadata": {},
   "source": [
    "## Extract features\n",
    "- transform texts to averages of their fastText vectors\n",
    "- concatenate summary & text average vectors into single one"
   ]
  },
  {
   "cell_type": "code",
   "execution_count": 7,
   "metadata": {},
   "outputs": [],
   "source": [
    "def pad_vecs(vecs_mtx,length):\n",
    "    return pad_sequences(vecs_mtx,\n",
    "                         maxlen=length,\n",
    "                         dtype='float32',\n",
    "                        padding='post',\n",
    "                        truncating='post')\n",
    "\n",
    "def extract_features(dataset, fasttext):\n",
    "    default_vec=np.zeros(VEC_DIM,dtype=np.float32)\n",
    "    vecs_all=[]\n",
    "    for sample in tqdm(dataset):\n",
    "        all_words=sample['summary']+sample['text']\n",
    "        if all_words:\n",
    "            vecs=fasttext.forward([x for x in all_words])\n",
    "        else:\n",
    "            vecs=np.array([default_vec])\n",
    "        vecs=scikit_normalize(vecs)\n",
    "        vecs=vecs.reshape(1,vecs.shape[0],vecs.shape[1])         \n",
    "        vecs = pad_vecs(vecs, SEQ_PADDING)\n",
    "        vecs_all.append(vecs)\n",
    "    vecs_all=np.array(vecs_all)\n",
    "    vecs_all=vecs_all.reshape(vecs_all.shape[0],vecs_all.shape[2],vecs_all.shape[3])\n",
    "    return vecs_all"
   ]
  },
  {
   "cell_type": "code",
   "execution_count": 8,
   "metadata": {},
   "outputs": [],
   "source": [
    "def load_checkpoint():\n",
    "    with open(CHECKPOINT_DIR+'X_train.npy','rb') as f:\n",
    "        X_train=np.load(f)\n",
    "    with open(CHECKPOINT_DIR+'X_dev.npy','rb') as f:\n",
    "        X_dev=np.load(f)\n",
    "    with open(CHECKPOINT_DIR+'y_train.npy','rb') as f:\n",
    "        y_train=np.load(f)\n",
    "    with open(CHECKPOINT_DIR+'y_dev.npy','rb') as f:\n",
    "        y_dev=np.load(f)\n",
    "    return X_train,X_dev,y_train,y_dev\n",
    "        \n",
    "def checkpoint(X_train,X_dev,y_train,y_dev):\n",
    "    if not os.path.exists(CHECKPOINT_DIR):\n",
    "        os.makedirs(CHECKPOINT_DIR)\n",
    "    with open(CHECKPOINT_DIR+'X_train.npy','wb') as f:\n",
    "        np.save(f,X_train)\n",
    "    with open(CHECKPOINT_DIR+'X_dev.npy','wb') as f:\n",
    "        np.save(f,X_dev)\n",
    "    with open(CHECKPOINT_DIR+'y_train.npy','wb') as f:\n",
    "        np.save(f,y_train)\n",
    "    with open(CHECKPOINT_DIR+'y_dev.npy','wb') as f:\n",
    "        np.save(f,y_dev)"
   ]
  },
  {
   "cell_type": "code",
   "execution_count": 9,
   "metadata": {},
   "outputs": [
    {
     "name": "stdout",
     "output_type": "stream",
     "text": [
      "CPU times: user 0 ns, sys: 4.1 s, total: 4.1 s\n",
      "Wall time: 4.1 s\n"
     ]
    }
   ],
   "source": [
    "%%time\n",
    "if not FROM_CHECKPOINT:\n",
    "    X_train=extract_features(train,fasttext)\n",
    "    X_dev=extract_features(dev,fasttext)\n",
    "    y_train=np.array([x['score'] for x in train])\n",
    "    y_dev=np.array([x['score'] for x in dev])\n",
    "    print('Train samples shape: {}, Dev samples shape: {}'.format(X_train.shape,X_dev.shape))\n",
    "else:\n",
    "    X_train,X_dev,y_train,y_dev=load_checkpoint()"
   ]
  },
  {
   "cell_type": "code",
   "execution_count": 10,
   "metadata": {},
   "outputs": [
    {
     "name": "stdout",
     "output_type": "stream",
     "text": [
      "CPU times: user 0 ns, sys: 2 µs, total: 2 µs\n",
      "Wall time: 3.58 µs\n"
     ]
    }
   ],
   "source": [
    "%%time\n",
    "if not FROM_CHECKPOINT:\n",
    "    checkpoint(X_train,X_dev,y_train,y_dev)"
   ]
  },
  {
   "cell_type": "markdown",
   "metadata": {},
   "source": [
    "## Experiment"
   ]
  },
  {
   "cell_type": "code",
   "execution_count": 21,
   "metadata": {},
   "outputs": [],
   "source": [
    "def experiment(learning_rate,epochs,batch_size,name,steps):\n",
    "    model=train_model(epochs=epochs,batch_size=batch_size,learning_rate=learning_rate,steps=steps)\n",
    "    y_pred_dev=model.predict(X_dev)\n",
    "    rmse_report(y_dev,y_pred_dev,title='{} - RMSE report'.format(name))\n",
    "    plot_history(model,title='{} - Train/Dev MSE'.format(name))\n",
    "    return model"
   ]
  },
  {
   "cell_type": "code",
   "execution_count": 32,
   "metadata": {},
   "outputs": [],
   "source": [
    "def get_tb_callback():\n",
    "    suffix=datetime.now().strftime(\"%Y%m%d-%H%M%S\")\n",
    "    log_dir= os.path.join(TB_LOG_DIR,suffix)\n",
    "    return K.callbacks.TensorBoard(log_dir=os.path.join(log_dir))\n",
    "\n",
    "def penalized_loss(y_true, y_pred):\n",
    "    return K.backend.mean(K.backend.square(K.backend.abs(y_true - y_pred))/y_true)\n",
    "\n",
    "def train_model(batch_size,learning_rate, epochs,steps):\n",
    "    DROPRATE=0.1\n",
    "    tensorboard_callback = get_tb_callback()\n",
    "    model = K.models.Sequential([\n",
    "        K.layers.Conv1D(256, 10, activation='relu',strides=2,padding='same',\n",
    "                        input_shape=(X_train.shape[1],X_train.shape[2])),\n",
    "        K.layers.GlobalMaxPooling1D(),\n",
    "        K.layers.Dense(256,activation='relu'),\n",
    "        K.layers.Dense(1,activation='linear')])\n",
    "    opt=K.optimizers.Adam(lr=learning_rate, decay=learning_rate/epochs)\n",
    "    model.compile(optimizer=opt, loss=penalized_loss,metrics=[penalized_loss])\n",
    "    sampler=UnderSampler3D(X_train,y_train,batch_size=batch_size)\n",
    "    model.fit_generator(sampler,\n",
    "                        shuffle=False,\n",
    "                        epochs=epochs,\n",
    "                        steps_per_epoch=steps,\n",
    "                        validation_data=(X_dev,y_dev),\n",
    "                        callbacks=[tensorboard_callback])\n",
    "    return model"
   ]
  },
  {
   "cell_type": "code",
   "execution_count": null,
   "metadata": {},
   "outputs": [
    {
     "name": "stdout",
     "output_type": "stream",
     "text": [
      "Epoch 1/30\n",
      "300/300 [==============================] - 6s 19ms/step - loss: 8.9239 - penalized_loss: 8.9239 - val_loss: 0.4419 - val_penalized_loss: 0.4419\n",
      "Epoch 2/30\n",
      "300/300 [==============================] - 10s 34ms/step - loss: 0.3777 - penalized_loss: 0.3777 - val_loss: 0.3879 - val_penalized_loss: 0.3879\n",
      "Epoch 3/30\n",
      "300/300 [==============================] - 6s 19ms/step - loss: 0.3390 - penalized_loss: 0.3390 - val_loss: 0.3472 - val_penalized_loss: 0.3472\n",
      "Epoch 4/30\n",
      "300/300 [==============================] - 10s 33ms/step - loss: 0.3201 - penalized_loss: 0.3201 - val_loss: 0.3418 - val_penalized_loss: 0.3418\n",
      "Epoch 5/30\n",
      "300/300 [==============================] - 5s 17ms/step - loss: 0.2927 - penalized_loss: 0.2927 - val_loss: 0.3688 - val_penalized_loss: 0.3688\n",
      "Epoch 6/30\n",
      "300/300 [==============================] - 10s 34ms/step - loss: 0.2846 - penalized_loss: 0.2846 - val_loss: 0.3392 - val_penalized_loss: 0.3392\n",
      "Epoch 7/30\n",
      "300/300 [==============================] - 6s 19ms/step - loss: 0.2693 - penalized_loss: 0.2693 - val_loss: 0.3750 - val_penalized_loss: 0.3750\n",
      "Epoch 8/30\n",
      "300/300 [==============================] - 10s 34ms/step - loss: 0.2513 - penalized_loss: 0.2513 - val_loss: 0.3392 - val_penalized_loss: 0.3392\n",
      "Epoch 9/30\n",
      "300/300 [==============================] - 6s 19ms/step - loss: 0.2377 - penalized_loss: 0.2377 - val_loss: 0.3104 - val_penalized_loss: 0.3104\n",
      "Epoch 10/30\n",
      "300/300 [==============================] - 10s 35ms/step - loss: 0.2252 - penalized_loss: 0.2252 - val_loss: 0.3063 - val_penalized_loss: 0.3063\n",
      "Epoch 11/30\n",
      "300/300 [==============================] - 5s 17ms/step - loss: 0.2211 - penalized_loss: 0.2211 - val_loss: 0.2910 - val_penalized_loss: 0.2910\n",
      "Epoch 12/30\n",
      "300/300 [==============================] - 10s 34ms/step - loss: 0.2050 - penalized_loss: 0.2050 - val_loss: 0.2964 - val_penalized_loss: 0.2964\n",
      "Epoch 13/30\n",
      "300/300 [==============================] - 6s 19ms/step - loss: 0.2041 - penalized_loss: 0.2041 - val_loss: 0.3391 - val_penalized_loss: 0.3391\n",
      "Epoch 14/30\n",
      "300/300 [==============================] - 10s 35ms/step - loss: 0.1895 - penalized_loss: 0.1895 - val_loss: 0.3133 - val_penalized_loss: 0.3133\n",
      "Epoch 15/30\n",
      "153/300 [==============>...............] - ETA: 2s - loss: 0.1901 - penalized_loss: 0.1901"
     ]
    }
   ],
   "source": [
    "model=experiment(learning_rate=0.04,epochs=30,batch_size=256,steps=300,name='model')"
   ]
  },
  {
   "cell_type": "code",
   "execution_count": 17,
   "metadata": {},
   "outputs": [
    {
     "name": "stdout",
     "output_type": "stream",
     "text": [
      "Model: \"sequential\"\n",
      "_________________________________________________________________\n",
      "Layer (type)                 Output Shape              Param #   \n",
      "=================================================================\n",
      "conv1d (Conv1D)              (None, 25, 256)           256256    \n",
      "_________________________________________________________________\n",
      "global_max_pooling1d (Global (None, 256)               0         \n",
      "_________________________________________________________________\n",
      "dense (Dense)                (None, 256)               65792     \n",
      "_________________________________________________________________\n",
      "dense_1 (Dense)              (None, 1)                 257       \n",
      "=================================================================\n",
      "Total params: 322,305\n",
      "Trainable params: 322,305\n",
      "Non-trainable params: 0\n",
      "_________________________________________________________________\n"
     ]
    }
   ],
   "source": [
    "model.summary()"
   ]
  },
  {
   "cell_type": "code",
   "execution_count": 15,
   "metadata": {},
   "outputs": [],
   "source": [
    "## Persist"
   ]
  },
  {
   "cell_type": "code",
   "execution_count": 16,
   "metadata": {},
   "outputs": [
    {
     "ename": "OSError",
     "evalue": "Unable to create file (unable to open file: name = '/home/kvassay/data/z/models/E4/keras_cnn.h5', errno = 2, error message = 'No such file or directory', flags = 13, o_flags = 242)",
     "output_type": "error",
     "traceback": [
      "\u001b[0;31m---------------------------------------------------------------------------\u001b[0m",
      "\u001b[0;31mOSError\u001b[0m                                   Traceback (most recent call last)",
      "\u001b[0;32m<ipython-input-16-66c185a524eb>\u001b[0m in \u001b[0;36m<module>\u001b[0;34m\u001b[0m\n\u001b[0;32m----> 1\u001b[0;31m \u001b[0mmodel\u001b[0m\u001b[0;34m.\u001b[0m\u001b[0msave\u001b[0m\u001b[0;34m(\u001b[0m\u001b[0;34m'/home/kvassay/data/z/models/E4/keras_cnn.h5'\u001b[0m\u001b[0;34m)\u001b[0m\u001b[0;34m\u001b[0m\u001b[0;34m\u001b[0m\u001b[0m\n\u001b[0m",
      "\u001b[0;32m~/.virtualenvs/main/lib/python3.6/site-packages/tensorflow_core/python/keras/engine/network.py\u001b[0m in \u001b[0;36msave\u001b[0;34m(self, filepath, overwrite, include_optimizer, save_format, signatures)\u001b[0m\n\u001b[1;32m   1167\u001b[0m     \"\"\"\n\u001b[1;32m   1168\u001b[0m     saving.save_model(self, filepath, overwrite, include_optimizer, save_format,\n\u001b[0;32m-> 1169\u001b[0;31m                       signatures)\n\u001b[0m\u001b[1;32m   1170\u001b[0m \u001b[0;34m\u001b[0m\u001b[0m\n\u001b[1;32m   1171\u001b[0m   \u001b[0;32mdef\u001b[0m \u001b[0msave_weights\u001b[0m\u001b[0;34m(\u001b[0m\u001b[0mself\u001b[0m\u001b[0;34m,\u001b[0m \u001b[0mfilepath\u001b[0m\u001b[0;34m,\u001b[0m \u001b[0moverwrite\u001b[0m\u001b[0;34m=\u001b[0m\u001b[0;32mTrue\u001b[0m\u001b[0;34m,\u001b[0m \u001b[0msave_format\u001b[0m\u001b[0;34m=\u001b[0m\u001b[0;32mNone\u001b[0m\u001b[0;34m)\u001b[0m\u001b[0;34m:\u001b[0m\u001b[0;34m\u001b[0m\u001b[0;34m\u001b[0m\u001b[0m\n",
      "\u001b[0;32m~/.virtualenvs/main/lib/python3.6/site-packages/tensorflow_core/python/keras/saving/save.py\u001b[0m in \u001b[0;36msave_model\u001b[0;34m(model, filepath, overwrite, include_optimizer, save_format, signatures)\u001b[0m\n\u001b[1;32m    107\u001b[0m           'or using `save_weights`.')\n\u001b[1;32m    108\u001b[0m     hdf5_format.save_model_to_hdf5(\n\u001b[0;32m--> 109\u001b[0;31m         model, filepath, overwrite, include_optimizer)\n\u001b[0m\u001b[1;32m    110\u001b[0m   \u001b[0;32melse\u001b[0m\u001b[0;34m:\u001b[0m\u001b[0;34m\u001b[0m\u001b[0;34m\u001b[0m\u001b[0m\n\u001b[1;32m    111\u001b[0m     saved_model_save.save(model, filepath, overwrite, include_optimizer,\n",
      "\u001b[0;32m~/.virtualenvs/main/lib/python3.6/site-packages/tensorflow_core/python/keras/saving/hdf5_format.py\u001b[0m in \u001b[0;36msave_model_to_hdf5\u001b[0;34m(model, filepath, overwrite, include_optimizer)\u001b[0m\n\u001b[1;32m     84\u001b[0m         \u001b[0;32mreturn\u001b[0m\u001b[0;34m\u001b[0m\u001b[0;34m\u001b[0m\u001b[0m\n\u001b[1;32m     85\u001b[0m \u001b[0;34m\u001b[0m\u001b[0m\n\u001b[0;32m---> 86\u001b[0;31m     \u001b[0mf\u001b[0m \u001b[0;34m=\u001b[0m \u001b[0mh5py\u001b[0m\u001b[0;34m.\u001b[0m\u001b[0mFile\u001b[0m\u001b[0;34m(\u001b[0m\u001b[0mfilepath\u001b[0m\u001b[0;34m,\u001b[0m \u001b[0mmode\u001b[0m\u001b[0;34m=\u001b[0m\u001b[0;34m'w'\u001b[0m\u001b[0;34m)\u001b[0m\u001b[0;34m\u001b[0m\u001b[0;34m\u001b[0m\u001b[0m\n\u001b[0m\u001b[1;32m     87\u001b[0m     \u001b[0mopened_new_file\u001b[0m \u001b[0;34m=\u001b[0m \u001b[0;32mTrue\u001b[0m\u001b[0;34m\u001b[0m\u001b[0;34m\u001b[0m\u001b[0m\n\u001b[1;32m     88\u001b[0m   \u001b[0;32melse\u001b[0m\u001b[0;34m:\u001b[0m\u001b[0;34m\u001b[0m\u001b[0;34m\u001b[0m\u001b[0m\n",
      "\u001b[0;32m~/.virtualenvs/main/lib/python3.6/site-packages/h5py/_hl/files.py\u001b[0m in \u001b[0;36m__init__\u001b[0;34m(self, name, mode, driver, libver, userblock_size, swmr, rdcc_nslots, rdcc_nbytes, rdcc_w0, track_order, **kwds)\u001b[0m\n\u001b[1;32m    392\u001b[0m                 fid = make_fid(name, mode, userblock_size,\n\u001b[1;32m    393\u001b[0m                                \u001b[0mfapl\u001b[0m\u001b[0;34m,\u001b[0m \u001b[0mfcpl\u001b[0m\u001b[0;34m=\u001b[0m\u001b[0mmake_fcpl\u001b[0m\u001b[0;34m(\u001b[0m\u001b[0mtrack_order\u001b[0m\u001b[0;34m=\u001b[0m\u001b[0mtrack_order\u001b[0m\u001b[0;34m)\u001b[0m\u001b[0;34m,\u001b[0m\u001b[0;34m\u001b[0m\u001b[0;34m\u001b[0m\u001b[0m\n\u001b[0;32m--> 394\u001b[0;31m                                swmr=swmr)\n\u001b[0m\u001b[1;32m    395\u001b[0m \u001b[0;34m\u001b[0m\u001b[0m\n\u001b[1;32m    396\u001b[0m             \u001b[0;32mif\u001b[0m \u001b[0mswmr_support\u001b[0m\u001b[0;34m:\u001b[0m\u001b[0;34m\u001b[0m\u001b[0;34m\u001b[0m\u001b[0m\n",
      "\u001b[0;32m~/.virtualenvs/main/lib/python3.6/site-packages/h5py/_hl/files.py\u001b[0m in \u001b[0;36mmake_fid\u001b[0;34m(name, mode, userblock_size, fapl, fcpl, swmr)\u001b[0m\n\u001b[1;32m    174\u001b[0m         \u001b[0mfid\u001b[0m \u001b[0;34m=\u001b[0m \u001b[0mh5f\u001b[0m\u001b[0;34m.\u001b[0m\u001b[0mcreate\u001b[0m\u001b[0;34m(\u001b[0m\u001b[0mname\u001b[0m\u001b[0;34m,\u001b[0m \u001b[0mh5f\u001b[0m\u001b[0;34m.\u001b[0m\u001b[0mACC_EXCL\u001b[0m\u001b[0;34m,\u001b[0m \u001b[0mfapl\u001b[0m\u001b[0;34m=\u001b[0m\u001b[0mfapl\u001b[0m\u001b[0;34m,\u001b[0m \u001b[0mfcpl\u001b[0m\u001b[0;34m=\u001b[0m\u001b[0mfcpl\u001b[0m\u001b[0;34m)\u001b[0m\u001b[0;34m\u001b[0m\u001b[0;34m\u001b[0m\u001b[0m\n\u001b[1;32m    175\u001b[0m     \u001b[0;32melif\u001b[0m \u001b[0mmode\u001b[0m \u001b[0;34m==\u001b[0m \u001b[0;34m'w'\u001b[0m\u001b[0;34m:\u001b[0m\u001b[0;34m\u001b[0m\u001b[0;34m\u001b[0m\u001b[0m\n\u001b[0;32m--> 176\u001b[0;31m         \u001b[0mfid\u001b[0m \u001b[0;34m=\u001b[0m \u001b[0mh5f\u001b[0m\u001b[0;34m.\u001b[0m\u001b[0mcreate\u001b[0m\u001b[0;34m(\u001b[0m\u001b[0mname\u001b[0m\u001b[0;34m,\u001b[0m \u001b[0mh5f\u001b[0m\u001b[0;34m.\u001b[0m\u001b[0mACC_TRUNC\u001b[0m\u001b[0;34m,\u001b[0m \u001b[0mfapl\u001b[0m\u001b[0;34m=\u001b[0m\u001b[0mfapl\u001b[0m\u001b[0;34m,\u001b[0m \u001b[0mfcpl\u001b[0m\u001b[0;34m=\u001b[0m\u001b[0mfcpl\u001b[0m\u001b[0;34m)\u001b[0m\u001b[0;34m\u001b[0m\u001b[0;34m\u001b[0m\u001b[0m\n\u001b[0m\u001b[1;32m    177\u001b[0m     \u001b[0;32melif\u001b[0m \u001b[0mmode\u001b[0m \u001b[0;34m==\u001b[0m \u001b[0;34m'a'\u001b[0m\u001b[0;34m:\u001b[0m\u001b[0;34m\u001b[0m\u001b[0;34m\u001b[0m\u001b[0m\n\u001b[1;32m    178\u001b[0m         \u001b[0;31m# Open in append mode (read/write).\u001b[0m\u001b[0;34m\u001b[0m\u001b[0;34m\u001b[0m\u001b[0;34m\u001b[0m\u001b[0m\n",
      "\u001b[0;32mh5py/_objects.pyx\u001b[0m in \u001b[0;36mh5py._objects.with_phil.wrapper\u001b[0;34m()\u001b[0m\n",
      "\u001b[0;32mh5py/_objects.pyx\u001b[0m in \u001b[0;36mh5py._objects.with_phil.wrapper\u001b[0;34m()\u001b[0m\n",
      "\u001b[0;32mh5py/h5f.pyx\u001b[0m in \u001b[0;36mh5py.h5f.create\u001b[0;34m()\u001b[0m\n",
      "\u001b[0;31mOSError\u001b[0m: Unable to create file (unable to open file: name = '/home/kvassay/data/z/models/E4/keras_cnn.h5', errno = 2, error message = 'No such file or directory', flags = 13, o_flags = 242)"
     ]
    }
   ],
   "source": [
    "model.save('/home/kvassay/data/z/models/E4/keras_cnn.h5')"
   ]
  }
 ],
 "metadata": {
  "kernelspec": {
   "display_name": "Python 3",
   "language": "python",
   "name": "python3"
  },
  "language_info": {
   "codemirror_mode": {
    "name": "ipython",
    "version": 3
   },
   "file_extension": ".py",
   "mimetype": "text/x-python",
   "name": "python",
   "nbconvert_exporter": "python",
   "pygments_lexer": "ipython3",
   "version": "3.6.7"
  }
 },
 "nbformat": 4,
 "nbformat_minor": 2
}
