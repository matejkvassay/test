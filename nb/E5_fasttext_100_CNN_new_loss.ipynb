{
 "cells": [
  {
   "cell_type": "code",
   "execution_count": 1,
   "metadata": {},
   "outputs": [],
   "source": [
    "import pickle\n",
    "import os\n",
    "import re\n",
    "import numpy as np\n",
    "import spacy\n",
    "import tensorflow as tf\n",
    "import tensorflow.keras as K\n",
    "from tensorflow.keras.preprocessing.sequence import pad_sequences\n",
    "from datetime import datetime\n",
    "from sklearn.preprocessing import normalize as scikit_normalize\n",
    "from evaluation import plot_history\n",
    "from evaluation import rmse_report\n",
    "from sampling import UnderSampler3D\n",
    "from fasttext_embedding import FastTextEmbeddingBag\n",
    "from spacy.lang.en.stop_words import STOP_WORDS\n",
    "from tqdm import tqdm\n",
    "\n",
    "%matplotlib inline\n",
    "%load_ext tensorboard"
   ]
  },
  {
   "cell_type": "code",
   "execution_count": 2,
   "metadata": {},
   "outputs": [],
   "source": [
    "FROM_CHECKPOINT=True\n",
    "\n",
    "DATASET='/home/kvassay/data/z/data/reviews_train_test_dev1_{}.pickle'\n",
    "TYPE='tok'\n",
    "TB_LOG_DIR='/home/kvassay/data/z/log/E5/scalars/'\n",
    "VEC_DIM=100\n",
    "FASTTEXT='/home/kvassay/data/z/models/fasttext/cbow_{}_e{}_w{}.bin'.format(VEC_DIM,50,5)\n",
    "SEQ_PADDING=50\n",
    "CHECKPOINT_DIR='/tmp/z/checkpoint_dim{}_pad{}/'.format(VEC_DIM,SEQ_PADDING)\n",
    "ALLOWED_SPECIAL=tuple(['?','!',':(', ':)', ':D',':-)',':-D',':\\'(',':/',':-/','<3',':-P',':P'])"
   ]
  },
  {
   "cell_type": "markdown",
   "metadata": {},
   "source": [
    "## Read data"
   ]
  },
  {
   "cell_type": "code",
   "execution_count": 3,
   "metadata": {},
   "outputs": [
    {
     "name": "stdout",
     "output_type": "stream",
     "text": [
      "CPU times: user 4.93 s, sys: 1.2 s, total: 6.13 s\n",
      "Wall time: 6.13 s\n"
     ]
    }
   ],
   "source": [
    "%%time\n",
    "with open(DATASET.format(TYPE),'rb') as f:\n",
    "    train,dev,_=pickle.load(f)"
   ]
  },
  {
   "cell_type": "markdown",
   "metadata": {},
   "source": [
    "## Load models"
   ]
  },
  {
   "cell_type": "code",
   "execution_count": 4,
   "metadata": {},
   "outputs": [
    {
     "name": "stdout",
     "output_type": "stream",
     "text": [
      "CPU times: user 2 µs, sys: 0 ns, total: 2 µs\n",
      "Wall time: 4.05 µs\n"
     ]
    }
   ],
   "source": [
    "%%time\n",
    "if not FROM_CHECKPOINT:\n",
    "    fasttext=FastTextEmbeddingBag(FASTTEXT)"
   ]
  },
  {
   "cell_type": "markdown",
   "metadata": {},
   "source": [
    "## Preprocess text + extract features\n",
    "- filter out EN stop-words (and, or, ...)\n",
    "- filter out non-allowed special tokens (we want to keep smileys and !,?)"
   ]
  },
  {
   "cell_type": "code",
   "execution_count": 5,
   "metadata": {},
   "outputs": [],
   "source": [
    "rx_special= re.compile(\"|\".join(re.escape(s) for s in ALLOWED_SPECIAL))\n",
    "\n",
    "def word_filter(word):\n",
    "    if word in STOP_WORDS:\n",
    "        return False\n",
    "    if not word.isalpha():\n",
    "        if not rx_special.findall(word):\n",
    "            return False\n",
    "    else:\n",
    "        if len(word)<3:\n",
    "            return False\n",
    "    return True\n",
    "\n",
    "def preprocess_text(text):\n",
    "    return [x.lower() for x in text if word_filter(x.lower())]\n",
    "\n",
    "def preprocess_texts(dataset,text_keys=['summary','text']):\n",
    "    for sample in tqdm(dataset):\n",
    "        for key in text_keys:\n",
    "            sample[key]=preprocess_text(sample[key])\n",
    "    return dataset"
   ]
  },
  {
   "cell_type": "code",
   "execution_count": 6,
   "metadata": {},
   "outputs": [
    {
     "name": "stdout",
     "output_type": "stream",
     "text": [
      "CPU times: user 5 µs, sys: 1e+03 ns, total: 6 µs\n",
      "Wall time: 10.5 µs\n"
     ]
    }
   ],
   "source": [
    "%%time\n",
    "if not FROM_CHECKPOINT:\n",
    "    train=preprocess_texts(train)\n",
    "    dev=preprocess_texts(dev)"
   ]
  },
  {
   "cell_type": "markdown",
   "metadata": {},
   "source": [
    "## Extract features\n",
    "- transform texts to averages of their fastText vectors\n",
    "- concatenate summary & text average vectors into single one"
   ]
  },
  {
   "cell_type": "code",
   "execution_count": 7,
   "metadata": {},
   "outputs": [],
   "source": [
    "def pad_vecs(vecs_mtx,length):\n",
    "    return pad_sequences(vecs_mtx,\n",
    "                         maxlen=length,\n",
    "                         dtype='float32',\n",
    "                        padding='post',\n",
    "                        truncating='post')\n",
    "\n",
    "def extract_features(dataset, fasttext):\n",
    "    default_vec=np.zeros(VEC_DIM,dtype=np.float32)\n",
    "    vecs_all=[]\n",
    "    for sample in tqdm(dataset):\n",
    "        all_words=sample['summary']+sample['text']\n",
    "        if all_words:\n",
    "            vecs=fasttext.forward([x for x in all_words])\n",
    "        else:\n",
    "            vecs=np.array([default_vec])\n",
    "        vecs=scikit_normalize(vecs)\n",
    "        vecs=vecs.reshape(1,vecs.shape[0],vecs.shape[1])         \n",
    "        vecs = pad_vecs(vecs, SEQ_PADDING)\n",
    "        vecs_all.append(vecs)\n",
    "    vecs_all=np.array(vecs_all)\n",
    "    vecs_all=vecs_all.reshape(vecs_all.shape[0],vecs_all.shape[2],vecs_all.shape[3])\n",
    "    return vecs_all"
   ]
  },
  {
   "cell_type": "code",
   "execution_count": 8,
   "metadata": {},
   "outputs": [],
   "source": [
    "def load_checkpoint():\n",
    "    with open(CHECKPOINT_DIR+'X_train.npy','rb') as f:\n",
    "        X_train=np.load(f)\n",
    "    with open(CHECKPOINT_DIR+'X_dev.npy','rb') as f:\n",
    "        X_dev=np.load(f)\n",
    "    with open(CHECKPOINT_DIR+'y_train.npy','rb') as f:\n",
    "        y_train=np.load(f)\n",
    "    with open(CHECKPOINT_DIR+'y_dev.npy','rb') as f:\n",
    "        y_dev=np.load(f)\n",
    "    return X_train,X_dev,y_train,y_dev\n",
    "        \n",
    "def checkpoint(X_train,X_dev,y_train,y_dev):\n",
    "    if not os.path.exists(CHECKPOINT_DIR):\n",
    "        os.makedirs(CHECKPOINT_DIR)\n",
    "    with open(CHECKPOINT_DIR+'X_train.npy','wb') as f:\n",
    "        np.save(f,X_train)\n",
    "    with open(CHECKPOINT_DIR+'X_dev.npy','wb') as f:\n",
    "        np.save(f,X_dev)\n",
    "    with open(CHECKPOINT_DIR+'y_train.npy','wb') as f:\n",
    "        np.save(f,y_train)\n",
    "    with open(CHECKPOINT_DIR+'y_dev.npy','wb') as f:\n",
    "        np.save(f,y_dev)"
   ]
  },
  {
   "cell_type": "code",
   "execution_count": 9,
   "metadata": {},
   "outputs": [
    {
     "name": "stdout",
     "output_type": "stream",
     "text": [
      "CPU times: user 0 ns, sys: 4.1 s, total: 4.1 s\n",
      "Wall time: 4.1 s\n"
     ]
    }
   ],
   "source": [
    "%%time\n",
    "if not FROM_CHECKPOINT:\n",
    "    X_train=extract_features(train,fasttext)\n",
    "    X_dev=extract_features(dev,fasttext)\n",
    "    y_train=np.array([x['score'] for x in train])\n",
    "    y_dev=np.array([x['score'] for x in dev])\n",
    "    print('Train samples shape: {}, Dev samples shape: {}'.format(X_train.shape,X_dev.shape))\n",
    "else:\n",
    "    X_train,X_dev,y_train,y_dev=load_checkpoint()"
   ]
  },
  {
   "cell_type": "code",
   "execution_count": 10,
   "metadata": {},
   "outputs": [
    {
     "name": "stdout",
     "output_type": "stream",
     "text": [
      "CPU times: user 0 ns, sys: 2 µs, total: 2 µs\n",
      "Wall time: 3.58 µs\n"
     ]
    }
   ],
   "source": [
    "%%time\n",
    "if not FROM_CHECKPOINT:\n",
    "    checkpoint(X_train,X_dev,y_train,y_dev)"
   ]
  },
  {
   "cell_type": "markdown",
   "metadata": {},
   "source": [
    "## Experiment"
   ]
  },
  {
   "cell_type": "code",
   "execution_count": 21,
   "metadata": {},
   "outputs": [],
   "source": [
    "def experiment(learning_rate,epochs,batch_size,name,steps):\n",
    "    model=train_model(epochs=epochs,batch_size=batch_size,learning_rate=learning_rate,steps=steps)\n",
    "    y_pred_dev=model.predict(X_dev)\n",
    "    rmse_report(y_dev,y_pred_dev,title='{} - RMSE report'.format(name))\n",
    "    plot_history(model,title='{} - Train/Dev MSE'.format(name))\n",
    "    return model"
   ]
  },
  {
   "cell_type": "code",
   "execution_count": 32,
   "metadata": {},
   "outputs": [],
   "source": [
    "def get_tb_callback():\n",
    "    suffix=datetime.now().strftime(\"%Y%m%d-%H%M%S\")\n",
    "    log_dir= os.path.join(TB_LOG_DIR,suffix)\n",
    "    return K.callbacks.TensorBoard(log_dir=os.path.join(log_dir))\n",
    "\n",
    "def penalized_loss(y_true, y_pred):\n",
    "    return K.backend.mean(K.backend.square(K.backend.abs(y_true - y_pred))/y_true)\n",
    "\n",
    "def train_model(batch_size,learning_rate, epochs,steps):\n",
    "    DROPRATE=0.1\n",
    "    tensorboard_callback = get_tb_callback()\n",
    "    model = K.models.Sequential([\n",
    "        K.layers.Conv1D(256, 10, activation='relu',strides=2,padding='same',\n",
    "                        input_shape=(X_train.shape[1],X_train.shape[2])),\n",
    "        K.layers.GlobalMaxPooling1D(),\n",
    "        K.layers.Dense(256,activation='relu'),\n",
    "        K.layers.Dense(1,activation='linear')])\n",
    "    opt=K.optimizers.Adam(lr=learning_rate, decay=learning_rate/epochs)\n",
    "    model.compile(optimizer=opt, loss=penalized_loss,metrics=[penalized_loss])\n",
    "    sampler=UnderSampler3D(X_train,y_train,batch_size=batch_size)\n",
    "    model.fit_generator(sampler,\n",
    "                        shuffle=False,\n",
    "                        epochs=epochs,\n",
    "                        steps_per_epoch=steps,\n",
    "                        validation_data=(X_dev,y_dev),\n",
    "                        callbacks=[tensorboard_callback])\n",
    "    return model"
   ]
  },
  {
   "cell_type": "code",
   "execution_count": 34,
   "metadata": {},
   "outputs": [
    {
     "name": "stdout",
     "output_type": "stream",
     "text": [
      "Epoch 1/60\n",
      "300/300 [==============================] - 6s 19ms/step - loss: 10.8532 - penalized_loss: 10.8532 - val_loss: 0.4923 - val_penalized_loss: 0.4923\n",
      "Epoch 2/60\n",
      "300/300 [==============================] - 10s 34ms/step - loss: 0.3792 - penalized_loss: 0.3792 - val_loss: 0.4535 - val_penalized_loss: 0.4535\n",
      "Epoch 3/60\n",
      "300/300 [==============================] - 6s 18ms/step - loss: 0.3426 - penalized_loss: 0.3426 - val_loss: 0.4226 - val_penalized_loss: 0.4226\n",
      "Epoch 4/60\n",
      "300/300 [==============================] - 10s 34ms/step - loss: 0.3228 - penalized_loss: 0.3228 - val_loss: 0.3856 - val_penalized_loss: 0.3856\n",
      "Epoch 5/60\n",
      "300/300 [==============================] - 5s 17ms/step - loss: 0.3017 - penalized_loss: 0.3017 - val_loss: 0.3461 - val_penalized_loss: 0.3461\n",
      "Epoch 6/60\n",
      "300/300 [==============================] - 10s 34ms/step - loss: 0.2854 - penalized_loss: 0.2854 - val_loss: 0.3455 - val_penalized_loss: 0.3455\n",
      "Epoch 7/60\n",
      "300/300 [==============================] - 6s 19ms/step - loss: 0.2714 - penalized_loss: 0.2714 - val_loss: 0.3799 - val_penalized_loss: 0.3799\n",
      "Epoch 8/60\n",
      "300/300 [==============================] - 10s 33ms/step - loss: 0.2583 - penalized_loss: 0.2583 - val_loss: 0.3245 - val_penalized_loss: 0.3245\n",
      "Epoch 9/60\n",
      "300/300 [==============================] - 6s 19ms/step - loss: 0.2417 - penalized_loss: 0.2417 - val_loss: 0.3295 - val_penalized_loss: 0.3295\n",
      "Epoch 10/60\n",
      "300/300 [==============================] - 10s 34ms/step - loss: 0.2329 - penalized_loss: 0.2329 - val_loss: 0.2636 - val_penalized_loss: 0.2636\n",
      "Epoch 11/60\n",
      "300/300 [==============================] - 5s 17ms/step - loss: 0.2218 - penalized_loss: 0.2218 - val_loss: 0.2868 - val_penalized_loss: 0.2868\n",
      "Epoch 12/60\n",
      "300/300 [==============================] - 10s 33ms/step - loss: 0.2020 - penalized_loss: 0.2020 - val_loss: 0.2754 - val_penalized_loss: 0.2754\n",
      "Epoch 13/60\n",
      "300/300 [==============================] - 5s 18ms/step - loss: 0.2060 - penalized_loss: 0.2060 - val_loss: 0.2746 - val_penalized_loss: 0.2746\n",
      "Epoch 14/60\n",
      "300/300 [==============================] - 10s 33ms/step - loss: 0.1880 - penalized_loss: 0.1880 - val_loss: 0.2826 - val_penalized_loss: 0.2826\n",
      "Epoch 15/60\n",
      "300/300 [==============================] - 6s 18ms/step - loss: 0.1903 - penalized_loss: 0.1903 - val_loss: 0.2709 - val_penalized_loss: 0.2709\n",
      "Epoch 16/60\n",
      "300/300 [==============================] - 10s 34ms/step - loss: 0.1673 - penalized_loss: 0.1673 - val_loss: 0.2541 - val_penalized_loss: 0.2541\n",
      "Epoch 17/60\n",
      "300/300 [==============================] - 10s 34ms/step - loss: 0.1732 - penalized_loss: 0.1732 - val_loss: 0.2410 - val_penalized_loss: 0.2410\n",
      "Epoch 18/60\n",
      "300/300 [==============================] - 5s 17ms/step - loss: 0.1558 - penalized_loss: 0.1558 - val_loss: 0.2506 - val_penalized_loss: 0.2506\n",
      "Epoch 19/60\n",
      "300/300 [==============================] - 10s 35ms/step - loss: 0.1629 - penalized_loss: 0.1629 - val_loss: 0.2709 - val_penalized_loss: 0.2709\n",
      "Epoch 20/60\n",
      "300/300 [==============================] - 6s 19ms/step - loss: 0.1496 - penalized_loss: 0.1496 - val_loss: 0.2367 - val_penalized_loss: 0.2367\n",
      "Epoch 21/60\n",
      "300/300 [==============================] - 10s 35ms/step - loss: 0.1479 - penalized_loss: 0.1479 - val_loss: 0.2655 - val_penalized_loss: 0.2655\n",
      "Epoch 22/60\n",
      "300/300 [==============================] - 5s 17ms/step - loss: 0.1423 - penalized_loss: 0.1423 - val_loss: 0.2488 - val_penalized_loss: 0.2488\n",
      "Epoch 23/60\n",
      "300/300 [==============================] - 10s 34ms/step - loss: 0.1359 - penalized_loss: 0.1359 - val_loss: 0.2310 - val_penalized_loss: 0.2310\n",
      "Epoch 24/60\n",
      "300/300 [==============================] - 5s 18ms/step - loss: 0.1317 - penalized_loss: 0.1317 - val_loss: 0.2606 - val_penalized_loss: 0.2606\n",
      "Epoch 25/60\n",
      "300/300 [==============================] - 10s 34ms/step - loss: 0.1271 - penalized_loss: 0.1271 - val_loss: 0.2407 - val_penalized_loss: 0.2407\n",
      "Epoch 26/60\n",
      "300/300 [==============================] - 6s 19ms/step - loss: 0.1259 - penalized_loss: 0.1259 - val_loss: 0.2459 - val_penalized_loss: 0.2459\n",
      "Epoch 27/60\n",
      "300/300 [==============================] - 10s 35ms/step - loss: 0.1198 - penalized_loss: 0.1198 - val_loss: 0.2362 - val_penalized_loss: 0.2362\n",
      "Epoch 28/60\n",
      "300/300 [==============================] - 5s 17ms/step - loss: 0.1199 - penalized_loss: 0.1199 - val_loss: 0.2757 - val_penalized_loss: 0.2757\n",
      "Epoch 29/60\n",
      "300/300 [==============================] - 10s 34ms/step - loss: 0.1110 - penalized_loss: 0.1110 - val_loss: 0.2449 - val_penalized_loss: 0.2449\n",
      "Epoch 30/60\n",
      "300/300 [==============================] - 6s 19ms/step - loss: 0.1141 - penalized_loss: 0.1141 - val_loss: 0.2357 - val_penalized_loss: 0.2357\n",
      "Epoch 31/60\n",
      "300/300 [==============================] - 10s 33ms/step - loss: 0.1054 - penalized_loss: 0.1054 - val_loss: 0.2306 - val_penalized_loss: 0.2306\n",
      "Epoch 32/60\n",
      "300/300 [==============================] - 10s 35ms/step - loss: 0.1100 - penalized_loss: 0.1100 - val_loss: 0.2448 - val_penalized_loss: 0.2448\n",
      "Epoch 33/60\n",
      "300/300 [==============================] - 6s 19ms/step - loss: 0.0984 - penalized_loss: 0.0984 - val_loss: 0.2337 - val_penalized_loss: 0.2337\n",
      "Epoch 34/60\n",
      "300/300 [==============================] - 10s 34ms/step - loss: 0.1037 - penalized_loss: 0.1037 - val_loss: 0.2412 - val_penalized_loss: 0.2412\n",
      "Epoch 35/60\n",
      "300/300 [==============================] - 6s 18ms/step - loss: 0.0953 - penalized_loss: 0.0953 - val_loss: 0.2336 - val_penalized_loss: 0.2336\n",
      "Epoch 36/60\n",
      "300/300 [==============================] - 10s 34ms/step - loss: 0.0969 - penalized_loss: 0.0969 - val_loss: 0.2264 - val_penalized_loss: 0.2264\n",
      "Epoch 37/60\n",
      "300/300 [==============================] - 5s 17ms/step - loss: 0.0917 - penalized_loss: 0.0917 - val_loss: 0.2268 - val_penalized_loss: 0.2268\n",
      "Epoch 38/60\n",
      "300/300 [==============================] - 10s 35ms/step - loss: 0.0906 - penalized_loss: 0.0906 - val_loss: 0.2278 - val_penalized_loss: 0.2278\n",
      "Epoch 39/60\n",
      "300/300 [==============================] - 6s 19ms/step - loss: 0.0901 - penalized_loss: 0.0901 - val_loss: 0.2427 - val_penalized_loss: 0.2427\n",
      "Epoch 40/60\n",
      "300/300 [==============================] - 10s 34ms/step - loss: 0.0868 - penalized_loss: 0.0868 - val_loss: 0.2201 - val_penalized_loss: 0.2201\n",
      "Epoch 41/60\n",
      "300/300 [==============================] - 5s 17ms/step - loss: 0.0859 - penalized_loss: 0.0859 - val_loss: 0.2274 - val_penalized_loss: 0.2274\n",
      "Epoch 42/60\n",
      "300/300 [==============================] - 10s 34ms/step - loss: 0.0837 - penalized_loss: 0.0837 - val_loss: 0.2253 - val_penalized_loss: 0.2253\n",
      "Epoch 43/60\n",
      "300/300 [==============================] - 5s 18ms/step - loss: 0.0817 - penalized_loss: 0.0817 - val_loss: 0.2203 - val_penalized_loss: 0.2203\n",
      "Epoch 44/60\n",
      "300/300 [==============================] - 10s 35ms/step - loss: 0.0801 - penalized_loss: 0.0801 - val_loss: 0.2254 - val_penalized_loss: 0.2254\n",
      "Epoch 45/60\n",
      "300/300 [==============================] - 5s 17ms/step - loss: 0.0795 - penalized_loss: 0.0795 - val_loss: 0.2301 - val_penalized_loss: 0.2301\n",
      "Epoch 46/60\n",
      "300/300 [==============================] - 10s 34ms/step - loss: 0.0767 - penalized_loss: 0.0767 - val_loss: 0.2319 - val_penalized_loss: 0.2319\n",
      "Epoch 47/60\n",
      "300/300 [==============================] - 5s 17ms/step - loss: 0.0781 - penalized_loss: 0.0781 - val_loss: 0.2249 - val_penalized_loss: 0.2249\n",
      "Epoch 48/60\n",
      "300/300 [==============================] - 10s 32ms/step - loss: 0.0714 - penalized_loss: 0.0714 - val_loss: 0.2219 - val_penalized_loss: 0.2219\n",
      "Epoch 49/60\n",
      "300/300 [==============================] - 10s 34ms/step - loss: 0.0765 - penalized_loss: 0.0765 - val_loss: 0.2215 - val_penalized_loss: 0.2215\n",
      "Epoch 50/60\n",
      "300/300 [==============================] - 6s 19ms/step - loss: 0.0699 - penalized_loss: 0.0699 - val_loss: 0.2324 - val_penalized_loss: 0.2324\n",
      "Epoch 51/60\n",
      "300/300 [==============================] - 10s 33ms/step - loss: 0.0717 - penalized_loss: 0.0717 - val_loss: 0.2321 - val_penalized_loss: 0.2321\n",
      "Epoch 52/60\n",
      "300/300 [==============================] - 6s 19ms/step - loss: 0.0698 - penalized_loss: 0.0698 - val_loss: 0.2198 - val_penalized_loss: 0.2198\n",
      "Epoch 53/60\n",
      "300/300 [==============================] - 10s 34ms/step - loss: 0.0689 - penalized_loss: 0.0689 - val_loss: 0.2221 - val_penalized_loss: 0.2221\n",
      "Epoch 54/60\n",
      "300/300 [==============================] - 5s 17ms/step - loss: 0.0673 - penalized_loss: 0.0673 - val_loss: 0.2190 - val_penalized_loss: 0.2190\n",
      "Epoch 55/60\n",
      "300/300 [==============================] - 10s 34ms/step - loss: 0.0654 - penalized_loss: 0.0654 - val_loss: 0.2175 - val_penalized_loss: 0.2175\n",
      "Epoch 56/60\n",
      "300/300 [==============================] - 6s 19ms/step - loss: 0.0639 - penalized_loss: 0.0639 - val_loss: 0.2158 - val_penalized_loss: 0.2158\n",
      "Epoch 57/60\n",
      "300/300 [==============================] - 10s 33ms/step - loss: 0.0618 - penalized_loss: 0.0618 - val_loss: 0.2211 - val_penalized_loss: 0.2211\n",
      "Epoch 58/60\n",
      "300/300 [==============================] - 6s 19ms/step - loss: 0.0629 - penalized_loss: 0.0629 - val_loss: 0.2246 - val_penalized_loss: 0.2246\n",
      "Epoch 59/60\n",
      "300/300 [==============================] - 10s 34ms/step - loss: 0.0600 - penalized_loss: 0.0600 - val_loss: 0.2215 - val_penalized_loss: 0.2215\n",
      "Epoch 60/60\n",
      "300/300 [==============================] - 5s 17ms/step - loss: 0.0618 - penalized_loss: 0.0618 - val_loss: 0.2226 - val_penalized_loss: 0.2226\n"
     ]
    },
    {
     "data": {
      "text/html": [
       "\n",
       "    <h2> model - RMSE report </h2>\n",
       "    <h3> RMSE </h3>\n",
       "    <hr>\n",
       "    <div>\n",
       "        <table>\n",
       "            <tr>\n",
       "                <td>RMSE (baseline &forall;1.0)</td>\n",
       "                <td>1.53</td>\n",
       "            </tr>\n",
       "            <tr>\n",
       "                <td>RMSE</td>\n",
       "                <td>0.829</td>\n",
       "            </tr>\n",
       "        </table>\n",
       "    <hr>\n",
       "    <h3> Partial RMSE </h3>\n",
       "        <table>\n",
       "            <tr>\n",
       "                <td>Mean partial RMSE (baseline &forall;1.0)</td>\n",
       "                <td>2.0</td>\n",
       "            </tr>\n",
       "            <tr>\n",
       "                <td>Max partial RMSE (baseline &forall;1.0)</td>\n",
       "                <td>1.414</td>\n",
       "            </tr>\n",
       "            <tr>\n",
       "                <td>St.dev. partial RMSE (baseline &forall;1.0)</td>\n",
       "                <td>4.0</td>\n",
       "            </tr>\n",
       "            <tr>\n",
       "                <td>Mean partial RMSE</td>\n",
       "                <td><b>0.846</b></td>\n",
       "            </tr>\n",
       "            <tr>\n",
       "                <td>Max partial RMSE</td>\n",
       "                <td>0.082</td>\n",
       "            </tr>\n",
       "            <tr>\n",
       "                <td>St.dev. partial RMSE</td>\n",
       "                <td>0.934</td>\n",
       "            </tr>            \n",
       "        </table>\n",
       "    </div>\n",
       "    <h3> Improvement over baseline (&forall;1.0) </h3>\n",
       "    <hr>\n",
       "    <div>\n",
       "        <table>\n",
       "            <tr>\n",
       "                <td>RMSE</td>\n",
       "                <td>0.701</td>\n",
       "            </tr>\n",
       "            <tr>\n",
       "                <td>Mean partial RMSE</td>\n",
       "                <td><b>1.154</b></td>\n",
       "            </tr>\n",
       "            <tr>\n",
       "                <td>Max partial RMSE</td>\n",
       "                <td>3.066</td>\n",
       "            </tr>\n",
       "        </table>\n",
       "    </div>\n",
       "    \n",
       "    <h3> Partial RMSE detailed</h3>\n",
       "    <hr>\n",
       "    <div>\n",
       "        <table>\n",
       "            <tr>\n",
       "                <th>Review Score</th>\n",
       "                <th>RMSE</th>\n",
       "                <th>RMSE baseline (&forall;1.0)</th>\n",
       "                <th>Improvement over baseline</th>\n",
       "            </tr>\n",
       "            \n",
       "    <tr>\n",
       "        <td>\n",
       "            5.0\n",
       "        </td>\n",
       "        <td>\n",
       "            0.83\n",
       "        </td>\n",
       "        <td>\n",
       "            0.0\n",
       "        </td>\n",
       "        <td>\n",
       "            -0.83\n",
       "        </td>\n",
       "    </tr>\n",
       "    \n",
       "\n",
       "    <tr>\n",
       "        <td>\n",
       "            4.0\n",
       "        </td>\n",
       "        <td>\n",
       "            0.709\n",
       "        </td>\n",
       "        <td>\n",
       "            1.0\n",
       "        </td>\n",
       "        <td>\n",
       "            0.291\n",
       "        </td>\n",
       "    </tr>\n",
       "    \n",
       "\n",
       "    <tr>\n",
       "        <td>\n",
       "            3.0\n",
       "        </td>\n",
       "        <td>\n",
       "            0.828\n",
       "        </td>\n",
       "        <td>\n",
       "            2.0\n",
       "        </td>\n",
       "        <td>\n",
       "            1.172\n",
       "        </td>\n",
       "    </tr>\n",
       "    \n",
       "\n",
       "    <tr>\n",
       "        <td>\n",
       "            2.0\n",
       "        </td>\n",
       "        <td>\n",
       "            0.934\n",
       "        </td>\n",
       "        <td>\n",
       "            3.0\n",
       "        </td>\n",
       "        <td>\n",
       "            2.066\n",
       "        </td>\n",
       "    </tr>\n",
       "    \n",
       "\n",
       "    <tr>\n",
       "        <td>\n",
       "            1.0\n",
       "        </td>\n",
       "        <td>\n",
       "            0.929\n",
       "        </td>\n",
       "        <td>\n",
       "            4.0\n",
       "        </td>\n",
       "        <td>\n",
       "            3.071\n",
       "        </td>\n",
       "    </tr>\n",
       "    \n",
       "        </table>\n",
       "    </div>\n",
       "    "
      ],
      "text/plain": [
       "<IPython.core.display.HTML object>"
      ]
     },
     "metadata": {},
     "output_type": "display_data"
    },
    {
     "data": {
      "image/png": "[encoded data removed]",
      "text/plain": [
       "<Figure size 432x288 with 1 Axes>"
      ]
     },
     "metadata": {
      "needs_background": "light"
     },
     "output_type": "display_data"
    }
   ],
   "source": [
    "model=experiment(learning_rate=0.04,epochs=60,batch_size=256,steps=300,name='model')"
   ]
  },
  {
   "cell_type": "code",
   "execution_count": 35,
   "metadata": {},
   "outputs": [
    {
     "name": "stdout",
     "output_type": "stream",
     "text": [
      "Model: \"sequential_11\"\n",
      "_________________________________________________________________\n",
      "Layer (type)                 Output Shape              Param #   \n",
      "=================================================================\n",
      "conv1d_11 (Conv1D)           (None, 25, 256)           256256    \n",
      "_________________________________________________________________\n",
      "global_max_pooling1d_11 (Glo (None, 256)               0         \n",
      "_________________________________________________________________\n",
      "dense_22 (Dense)             (None, 256)               65792     \n",
      "_________________________________________________________________\n",
      "dense_23 (Dense)             (None, 1)                 257       \n",
      "=================================================================\n",
      "Total params: 322,305\n",
      "Trainable params: 322,305\n",
      "Non-trainable params: 0\n",
      "_________________________________________________________________\n"
     ]
    }
   ],
   "source": [
    "model.summary()"
   ]
  },
  {
   "cell_type": "code",
   "execution_count": 15,
   "metadata": {},
   "outputs": [],
   "source": [
    "## Persist"
   ]
  },
  {
   "cell_type": "code",
   "execution_count": 36,
   "metadata": {},
   "outputs": [],
   "source": [
    "model.save('/home/kvassay/data/z/models/E5/keras_cnn.h5')"
   ]
  }
 ],
 "metadata": {
  "kernelspec": {
   "display_name": "Python 3",
   "language": "python",
   "name": "python3"
  },
  "language_info": {
   "codemirror_mode": {
    "name": "ipython",
    "version": 3
   },
   "file_extension": ".py",
   "mimetype": "text/x-python",
   "name": "python",
   "nbconvert_exporter": "python",
   "pygments_lexer": "ipython3",
   "version": "3.6.7"
  }
 },
 "nbformat": 4,
 "nbformat_minor": 2
}
