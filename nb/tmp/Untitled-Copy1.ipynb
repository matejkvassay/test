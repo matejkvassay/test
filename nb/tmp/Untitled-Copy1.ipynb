{
 "cells": [
  {
   "cell_type": "markdown",
   "metadata": {},
   "source": [
    "#### Notes:\n",
    "- smiley in text could be potentially very predictive. Same as number of !!!, !? ?! and ...\n",
    "- there are html tags in the text\n",
    "- there is review text and review summary, both might be useful\n",
    "- we predict the review score\n",
    "- we should evaluate correlation between review usefulness and review score, possible feature\n",
    "- if users review a lot they can be very critical person, user ID can be also an predictive feature\n",
    "- helpfulness should be kept along with it's numerator and denominator to model scale of rating, in case it is also a feauture (24/24 vs 1/1 might mean something)"
   ]
  },
  {
   "cell_type": "code",
   "execution_count": 1,
   "metadata": {},
   "outputs": [],
   "source": [
    "import pandas as pd\n",
    "import numpy as np\n",
    "%matplotlib inline"
   ]
  },
  {
   "cell_type": "markdown",
   "metadata": {},
   "source": [
    "## Read records"
   ]
  },
  {
   "cell_type": "code",
   "execution_count": 2,
   "metadata": {},
   "outputs": [],
   "source": [
    "DATA='/Users/matejkvassay/data/s.txt'\n",
    "ENCODING='iso-8859-1'"
   ]
  },
  {
   "cell_type": "code",
   "execution_count": 3,
   "metadata": {},
   "outputs": [],
   "source": [
    "def parse_line(line):\n",
    "    splitted_line=line.split(':')\n",
    "    return {splitted_line[0]:':'.join(splitted_line[1:]).strip()}\n",
    "\n",
    "def read_dataset(path):\n",
    "    records=[]\n",
    "    with open(path, 'rb') as f:\n",
    "        current_record={}\n",
    "        first=True\n",
    "        for x in f.readlines():\n",
    "            line=x.decode(ENCODING)\n",
    "            if line.startswith('product/'):\n",
    "                if not first:\n",
    "                    records.append(current_record)\n",
    "                first=False\n",
    "                current_record=parse_line(line)\n",
    "                continue\n",
    "            if line.startswith('review/'):\n",
    "                current_record.update(parse_line(line))\n",
    "    return records"
   ]
  },
  {
   "cell_type": "code",
   "execution_count": 4,
   "metadata": {},
   "outputs": [
    {
     "name": "stdout",
     "output_type": "stream",
     "text": [
      "CPU times: user 8.6 s, sys: 742 ms, total: 9.35 s\n",
      "Wall time: 9.53 s\n"
     ]
    }
   ],
   "source": [
    "%%time\n",
    "records=read_dataset(DATA)"
   ]
  },
  {
   "cell_type": "code",
   "execution_count": 5,
   "metadata": {},
   "outputs": [
    {
     "data": {
      "text/plain": [
       "{'product/productId': 'B001E4KFG0',\n",
       " 'review/userId': 'A3SGXH7AUHU8GW',\n",
       " 'review/profileName': 'delmartian',\n",
       " 'review/helpfulness': '1/1',\n",
       " 'review/score': '5.0',\n",
       " 'review/time': '1303862400',\n",
       " 'review/summary': 'Good Quality Dog Food',\n",
       " 'review/text': 'I have bought several of the Vitality canned dog food products and have found them all to be of good quality. The product looks more like a stew than a processed meat and it smells better. My Labrador is finicky and she appreciates this product better than  most.'}"
      ]
     },
     "execution_count": 5,
     "metadata": {},
     "output_type": "execute_result"
    }
   ],
   "source": [
    "records[0]"
   ]
  },
  {
   "cell_type": "markdown",
   "metadata": {},
   "source": [
    "## Analyze & normalize data"
   ]
  },
  {
   "cell_type": "code",
   "execution_count": 6,
   "metadata": {},
   "outputs": [],
   "source": [
    "take_columns=[]"
   ]
  },
  {
   "cell_type": "code",
   "execution_count": 7,
   "metadata": {
    "scrolled": false
   },
   "outputs": [],
   "source": [
    "df=pd.DataFrame(records)"
   ]
  },
  {
   "cell_type": "markdown",
   "metadata": {},
   "source": [
    "### Initial normalization"
   ]
  },
  {
   "cell_type": "code",
   "execution_count": 11,
   "metadata": {},
   "outputs": [],
   "source": [
    "df['help1']=df['review/helpfulness'].apply(parse_helpfulness).apply(lambda x: x[0])\n",
    "df['help2']=df['review/helpfulness'].apply(parse_helpfulness).apply(lambda x: x[1])\n",
    "df.loc[df['help1'] > df['help2'], 'help1']=np.nan\n",
    "df.loc[df['help1']>df['help2'], 'help2']=np.nan\n",
    "df['help']=df['help1']//df['help2'] # helpfulness ratio"
   ]
  },
  {
   "cell_type": "code",
   "execution_count": 12,
   "metadata": {},
   "outputs": [
    {
     "data": {
      "text/plain": [
       "count    298400.000000\n",
       "mean          0.614306\n",
       "std           0.486760\n",
       "min           0.000000\n",
       "25%           0.000000\n",
       "50%           1.000000\n",
       "75%           1.000000\n",
       "max           1.000000\n",
       "Name: help, dtype: float64"
      ]
     },
     "execution_count": 12,
     "metadata": {},
     "output_type": "execute_result"
    }
   ],
   "source": [
    "df['help'].describe()"
   ]
  },
  {
   "cell_type": "code",
   "execution_count": 13,
   "metadata": {},
   "outputs": [
    {
     "data": {
      "text/plain": [
       "<matplotlib.axes._subplots.AxesSubplot at 0x10d075cf8>"
      ]
     },
     "execution_count": 13,
     "metadata": {},
     "output_type": "execute_result"
    },
    {
     "data": {
      "image/png": "[encoded data removed]",
      "text/plain": [
       "<Figure size 432x288 with 1 Axes>"
      ]
     },
     "metadata": {
      "needs_background": "light"
     },
     "output_type": "display_data"
    }
   ],
   "source": [
    "df['help'].hist()"
   ]
  },
  {
   "cell_type": "markdown",
   "metadata": {},
   "source": [
    "- helpfulness is almost binary feature\n",
    "- values missed in almost 50% of samples\n",
    "- not clear how rating system works, different rating scales appear\n",
    "- can be predictive of the sentiment"
   ]
  },
  {
   "cell_type": "code",
   "execution_count": 14,
   "metadata": {},
   "outputs": [],
   "source": [
    "take_columns+=['help','help1','help2']"
   ]
  },
  {
   "cell_type": "markdown",
   "metadata": {},
   "source": [
    "#### Review score\n",
    "(prediction target)"
   ]
  },
  {
   "cell_type": "code",
   "execution_count": 15,
   "metadata": {},
   "outputs": [
    {
     "data": {
      "text/plain": [
       "count     568453\n",
       "unique         5\n",
       "top          5.0\n",
       "freq      363121\n",
       "Name: review/score, dtype: object"
      ]
     },
     "execution_count": 15,
     "metadata": {},
     "output_type": "execute_result"
    }
   ],
   "source": [
    "df['review/score'].describe()"
   ]
  },
  {
   "cell_type": "code",
   "execution_count": 16,
   "metadata": {},
   "outputs": [
    {
     "name": "stdout",
     "output_type": "stream",
     "text": [
      "5.0    363121\n",
      "4.0     80655\n",
      "1.0     52268\n",
      "3.0     42640\n",
      "2.0     29769\n",
      "Name: y, dtype: int64\n"
     ]
    },
    {
     "data": {
      "text/plain": [
       "<matplotlib.axes._subplots.AxesSubplot at 0x118e9af98>"
      ]
     },
     "execution_count": 16,
     "metadata": {},
     "output_type": "execute_result"
    },
    {
     "data": {
      "image/png": "[encoded data removed]",
      "text/plain": [
       "<Figure size 432x288 with 1 Axes>"
      ]
     },
     "metadata": {
      "needs_background": "light"
     },
     "output_type": "display_data"
    }
   ],
   "source": [
    "df['y']=df['review/score']\n",
    "print(df['y'].value_counts())\n",
    "df['y'].value_counts().plot.bar()"
   ]
  },
  {
   "cell_type": "markdown",
   "metadata": {},
   "source": [
    "- high label imbalance, most people are positive\n",
    "- algorithm which assigns 5.0 to all reviews could be a baseline"
   ]
  },
  {
   "cell_type": "code",
   "execution_count": 17,
   "metadata": {},
   "outputs": [],
   "source": [
    "take_columns+=['y']"
   ]
  },
  {
   "cell_type": "markdown",
   "metadata": {},
   "source": [
    "#### Correlation between helpfulness and review score"
   ]
  },
  {
   "cell_type": "code",
   "execution_count": null,
   "metadata": {},
   "outputs": [],
   "source": []
  }
 ],
 "metadata": {
  "kernelspec": {
   "display_name": "Python 3",
   "language": "python",
   "name": "python3"
  },
  "language_info": {
   "codemirror_mode": {
    "name": "ipython",
    "version": 3
   },
   "file_extension": ".py",
   "mimetype": "text/x-python",
   "name": "python",
   "nbconvert_exporter": "python",
   "pygments_lexer": "ipython3",
   "version": "3.6.5"
  }
 },
 "nbformat": 4,
 "nbformat_minor": 2
}
