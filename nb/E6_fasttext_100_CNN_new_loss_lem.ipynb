{
 "cells": [
  {
   "cell_type": "code",
   "execution_count": 1,
   "metadata": {},
   "outputs": [],
   "source": [
    "import pickle\n",
    "import os\n",
    "import re\n",
    "import numpy as np\n",
    "import spacy\n",
    "import tensorflow as tf\n",
    "import tensorflow.keras as K\n",
    "from tensorflow.keras.preprocessing.sequence import pad_sequences\n",
    "from datetime import datetime\n",
    "from sklearn.preprocessing import normalize as scikit_normalize\n",
    "from evaluation import plot_history\n",
    "from evaluation import rmse_report\n",
    "from sampling import UnderSampler3D\n",
    "from fasttext_embedding import FastTextEmbeddingBag\n",
    "from spacy.lang.en.stop_words import STOP_WORDS\n",
    "from tqdm import tqdm\n",
    "\n",
    "%matplotlib inline\n",
    "%load_ext tensorboard"
   ]
  },
  {
   "cell_type": "code",
   "execution_count": 2,
   "metadata": {},
   "outputs": [],
   "source": [
    "FROM_CHECKPOINT=False\n",
    "\n",
    "DATASET='/home/kvassay/data/z/data/reviews_train_test_dev1_{}.pickle'\n",
    "TYPE='lem_tok'\n",
    "TB_LOG_DIR='/home/kvassay/data/z/log/E6/scalars/'\n",
    "VEC_DIM=100\n",
    "FASTTEXT='/home/kvassay/data/z/models/fasttext/cbow_lem_{}_e{}_w{}.bin'.format(VEC_DIM,50,5)\n",
    "SEQ_PADDING=30\n",
    "CHECKPOINT_DIR='/tmp/z/checkpoint_dim{}_pad{}_lem/'.format(VEC_DIM,SEQ_PADDING)\n",
    "ALLOWED_SPECIAL=tuple(['?','!',':(', ':)', ':D',':-)',':-D',':\\'(',':/',':-/','<3',':-P',':P'])"
   ]
  },
  {
   "cell_type": "markdown",
   "metadata": {},
   "source": [
    "## Read data"
   ]
  },
  {
   "cell_type": "code",
   "execution_count": 3,
   "metadata": {},
   "outputs": [
    {
     "name": "stdout",
     "output_type": "stream",
     "text": [
      "CPU times: user 4.54 s, sys: 984 ms, total: 5.52 s\n",
      "Wall time: 5.48 s\n"
     ]
    }
   ],
   "source": [
    "%%time\n",
    "with open(DATASET.format(TYPE),'rb') as f:\n",
    "    train,dev,_=pickle.load(f)"
   ]
  },
  {
   "cell_type": "markdown",
   "metadata": {},
   "source": [
    "## Load models"
   ]
  },
  {
   "cell_type": "code",
   "execution_count": 4,
   "metadata": {},
   "outputs": [
    {
     "name": "stderr",
     "output_type": "stream",
     "text": [
      "\n"
     ]
    },
    {
     "name": "stdout",
     "output_type": "stream",
     "text": [
      "CPU times: user 2.07 s, sys: 933 ms, total: 3.01 s\n",
      "Wall time: 2.76 s\n"
     ]
    }
   ],
   "source": [
    "%%time\n",
    "if not FROM_CHECKPOINT:\n",
    "    fasttext=FastTextEmbeddingBag(FASTTEXT)"
   ]
  },
  {
   "cell_type": "markdown",
   "metadata": {},
   "source": [
    "## Preprocess text + extract features\n",
    "- filter out EN stop-words (and, or, ...)\n",
    "- filter out non-allowed special tokens (we want to keep smileys and !,?)"
   ]
  },
  {
   "cell_type": "code",
   "execution_count": 5,
   "metadata": {},
   "outputs": [],
   "source": [
    "rx_special= re.compile(\"|\".join(re.escape(s) for s in ALLOWED_SPECIAL))\n",
    "\n",
    "def word_filter(word):\n",
    "    if word in STOP_WORDS:\n",
    "        return False\n",
    "    if not word.isalpha():\n",
    "        if not rx_special.findall(word):\n",
    "            return False\n",
    "    else:\n",
    "        if len(word)<3:\n",
    "            return False\n",
    "    return True\n",
    "\n",
    "def preprocess_text(text):\n",
    "    return [x.lower() for x in text if word_filter(x.lower())]\n",
    "\n",
    "def preprocess_texts(dataset,text_keys=['summary','text']):\n",
    "    for sample in tqdm(dataset):\n",
    "        for key in text_keys:\n",
    "            sample[key]=preprocess_text(sample[key])\n",
    "    return dataset"
   ]
  },
  {
   "cell_type": "code",
   "execution_count": 6,
   "metadata": {},
   "outputs": [
    {
     "name": "stderr",
     "output_type": "stream",
     "text": [
      "100%|██████████| 551399/551399 [00:18<00:00, 30132.41it/s]\n",
      "100%|██████████| 8527/8527 [00:00<00:00, 33131.47it/s]"
     ]
    },
    {
     "name": "stdout",
     "output_type": "stream",
     "text": [
      "CPU times: user 18.6 s, sys: 141 ms, total: 18.7 s\n",
      "Wall time: 18.6 s\n"
     ]
    },
    {
     "name": "stderr",
     "output_type": "stream",
     "text": [
      "\n"
     ]
    }
   ],
   "source": [
    "%%time\n",
    "if not FROM_CHECKPOINT:\n",
    "    train=preprocess_texts(train)\n",
    "    dev=preprocess_texts(dev)"
   ]
  },
  {
   "cell_type": "markdown",
   "metadata": {},
   "source": [
    "## Extract features\n",
    "- transform texts to averages of their fastText vectors\n",
    "- concatenate summary & text average vectors into single one"
   ]
  },
  {
   "cell_type": "code",
   "execution_count": 7,
   "metadata": {},
   "outputs": [],
   "source": [
    "def pad_vecs(vecs_mtx,length):\n",
    "    return pad_sequences(vecs_mtx,\n",
    "                         maxlen=length,\n",
    "                         dtype='float32',\n",
    "                        padding='post',\n",
    "                        truncating='post')\n",
    "\n",
    "def extract_features(dataset, fasttext):\n",
    "    default_vec=np.zeros(VEC_DIM,dtype=np.float32)\n",
    "    vecs_all=[]\n",
    "    for sample in tqdm(dataset):\n",
    "        all_words=sample['summary']+sample['text']\n",
    "        if all_words:\n",
    "            vecs=fasttext.forward([x for x in all_words])\n",
    "        else:\n",
    "            vecs=np.array([default_vec])\n",
    "        vecs=scikit_normalize(vecs)\n",
    "        vecs=vecs.reshape(1,vecs.shape[0],vecs.shape[1])         \n",
    "        vecs = pad_vecs(vecs, SEQ_PADDING)\n",
    "        vecs_all.append(vecs)\n",
    "    vecs_all=np.array(vecs_all)\n",
    "    vecs_all=vecs_all.reshape(vecs_all.shape[0],vecs_all.shape[2],vecs_all.shape[3])\n",
    "    return vecs_all"
   ]
  },
  {
   "cell_type": "code",
   "execution_count": 8,
   "metadata": {},
   "outputs": [],
   "source": [
    "def load_checkpoint():\n",
    "    with open(CHECKPOINT_DIR+'X_train.npy','rb') as f:\n",
    "        X_train=np.load(f)\n",
    "    with open(CHECKPOINT_DIR+'X_dev.npy','rb') as f:\n",
    "        X_dev=np.load(f)\n",
    "    with open(CHECKPOINT_DIR+'y_train.npy','rb') as f:\n",
    "        y_train=np.load(f)\n",
    "    with open(CHECKPOINT_DIR+'y_dev.npy','rb') as f:\n",
    "        y_dev=np.load(f)\n",
    "    return X_train,X_dev,y_train,y_dev\n",
    "        \n",
    "def checkpoint(X_train,X_dev,y_train,y_dev):\n",
    "    if not os.path.exists(CHECKPOINT_DIR):\n",
    "        os.makedirs(CHECKPOINT_DIR)\n",
    "    with open(CHECKPOINT_DIR+'X_train.npy','wb') as f:\n",
    "        np.save(f,X_train)\n",
    "    with open(CHECKPOINT_DIR+'X_dev.npy','wb') as f:\n",
    "        np.save(f,X_dev)\n",
    "    with open(CHECKPOINT_DIR+'y_train.npy','wb') as f:\n",
    "        np.save(f,y_train)\n",
    "    with open(CHECKPOINT_DIR+'y_dev.npy','wb') as f:\n",
    "        np.save(f,y_dev)"
   ]
  },
  {
   "cell_type": "code",
   "execution_count": 9,
   "metadata": {},
   "outputs": [
    {
     "name": "stderr",
     "output_type": "stream",
     "text": [
      "100%|██████████| 551399/551399 [05:45<00:00, 1596.18it/s]\n",
      "100%|██████████| 8527/8527 [00:05<00:00, 1567.43it/s]\n"
     ]
    },
    {
     "name": "stdout",
     "output_type": "stream",
     "text": [
      "Train samples shape: (551399, 30, 100), Dev samples shape: (8527, 30, 100)\n",
      "CPU times: user 5min 54s, sys: 15 s, total: 6min 9s\n",
      "Wall time: 5min 54s\n"
     ]
    }
   ],
   "source": [
    "%%time\n",
    "if not FROM_CHECKPOINT:\n",
    "    X_train=extract_features(train,fasttext)\n",
    "    X_dev=extract_features(dev,fasttext)\n",
    "    y_train=np.array([x['score'] for x in train])\n",
    "    y_dev=np.array([x['score'] for x in dev])\n",
    "    print('Train samples shape: {}, Dev samples shape: {}'.format(X_train.shape,X_dev.shape))\n",
    "else:\n",
    "    X_train,X_dev,y_train,y_dev=load_checkpoint()"
   ]
  },
  {
   "cell_type": "code",
   "execution_count": 10,
   "metadata": {},
   "outputs": [
    {
     "name": "stdout",
     "output_type": "stream",
     "text": [
      "CPU times: user 1.81 s, sys: 1.78 s, total: 3.59 s\n",
      "Wall time: 22 s\n"
     ]
    }
   ],
   "source": [
    "%%time\n",
    "if not FROM_CHECKPOINT:\n",
    "    checkpoint(X_train,X_dev,y_train,y_dev)"
   ]
  },
  {
   "cell_type": "markdown",
   "metadata": {},
   "source": [
    "## Experiment"
   ]
  },
  {
   "cell_type": "code",
   "execution_count": 11,
   "metadata": {},
   "outputs": [],
   "source": [
    "def experiment(learning_rate,epochs,batch_size,name,steps):\n",
    "    model=train_model(epochs=epochs,batch_size=batch_size,learning_rate=learning_rate,steps=steps)\n",
    "    y_pred_dev=model.predict(X_dev)\n",
    "    rmse_report(y_dev,y_pred_dev,title='{} - RMSE report'.format(name))\n",
    "    plot_history(model,title='{} - Train/Dev MSE'.format(name))\n",
    "    return model"
   ]
  },
  {
   "cell_type": "code",
   "execution_count": 26,
   "metadata": {},
   "outputs": [],
   "source": [
    "def get_tb_callback():\n",
    "    suffix=datetime.now().strftime(\"%Y%m%d-%H%M%S\")\n",
    "    log_dir= os.path.join(TB_LOG_DIR,suffix)\n",
    "    return K.callbacks.TensorBoard(log_dir=os.path.join(log_dir))\n",
    "\n",
    "def penalized_loss(y_true, y_pred):\n",
    "    return K.backend.mean(K.backend.square(K.backend.abs(y_true - y_pred))/y_true)\n",
    "\n",
    "def train_model(batch_size,learning_rate, epochs,steps):\n",
    "    DROPRATE=0.1\n",
    "    tensorboard_callback = get_tb_callback()\n",
    "    model = K.models.Sequential([\n",
    "        K.layers.Conv1D(256, 3, activation='relu',strides=1,padding='same',\n",
    "                        input_shape=(X_train.shape[1],X_train.shape[2])),\n",
    "        K.layers.GlobalMaxPooling1D(),\n",
    "        K.layers.Dense(256,activation='relu'),\n",
    "        K.layers.Dense(1,activation='linear')])\n",
    "    opt=K.optimizers.Adam(lr=learning_rate, decay=learning_rate/epochs)\n",
    "    model.compile(optimizer=opt, loss=penalized_loss,metrics=[penalized_loss])\n",
    "    sampler=UnderSampler3D(X_train,y_train,batch_size=batch_size)\n",
    "    model.fit_generator(sampler,\n",
    "                        shuffle=False,\n",
    "                        epochs=epochs,\n",
    "                        steps_per_epoch=steps,\n",
    "                        validation_data=(X_dev,y_dev),\n",
    "                        callbacks=[tensorboard_callback])\n",
    "    return model"
   ]
  },
  {
   "cell_type": "code",
   "execution_count": 27,
   "metadata": {},
   "outputs": [
    {
     "name": "stdout",
     "output_type": "stream",
     "text": [
      "Epoch 1/30\n",
      "300/300 [==============================] - 8s 28ms/step - loss: 3.4646 - penalized_loss: 3.4646 - val_loss: 0.7022 - val_penalized_loss: 0.7022\n",
      "Epoch 2/30\n",
      "300/300 [==============================] - 9s 29ms/step - loss: 0.5154 - penalized_loss: 0.5154 - val_loss: 0.5546 - val_penalized_loss: 0.5546\n",
      "Epoch 3/30\n",
      "300/300 [==============================] - 8s 27ms/step - loss: 0.4529 - penalized_loss: 0.4529 - val_loss: 0.4970 - val_penalized_loss: 0.4970\n",
      "Epoch 4/30\n",
      "300/300 [==============================] - 8s 28ms/step - loss: 0.4469 - penalized_loss: 0.4469 - val_loss: 0.4994 - val_penalized_loss: 0.4994\n",
      "Epoch 5/30\n",
      "300/300 [==============================] - 9s 29ms/step - loss: 0.4430 - penalized_loss: 0.4430 - val_loss: 0.5055 - val_penalized_loss: 0.5055\n",
      "Epoch 6/30\n",
      "300/300 [==============================] - 8s 28ms/step - loss: 0.4335 - penalized_loss: 0.4335 - val_loss: 0.5464 - val_penalized_loss: 0.5464\n",
      "Epoch 7/30\n",
      "300/300 [==============================] - 8s 28ms/step - loss: 0.4306 - penalized_loss: 0.4306 - val_loss: 0.5310 - val_penalized_loss: 0.5310\n",
      "Epoch 8/30\n",
      "300/300 [==============================] - 9s 29ms/step - loss: 0.4197 - penalized_loss: 0.4197 - val_loss: 0.5465 - val_penalized_loss: 0.5465\n",
      "Epoch 9/30\n",
      "300/300 [==============================] - 8s 27ms/step - loss: 0.4143 - penalized_loss: 0.4143 - val_loss: 0.4641 - val_penalized_loss: 0.4641\n",
      "Epoch 10/30\n",
      "300/300 [==============================] - 9s 30ms/step - loss: 0.4121 - penalized_loss: 0.4121 - val_loss: 0.4678 - val_penalized_loss: 0.4678\n",
      "Epoch 11/30\n",
      "300/300 [==============================] - 8s 28ms/step - loss: 0.4049 - penalized_loss: 0.4049 - val_loss: 0.4667 - val_penalized_loss: 0.4667\n",
      "Epoch 12/30\n",
      "300/300 [==============================] - 8s 28ms/step - loss: 0.4025 - penalized_loss: 0.4025 - val_loss: 0.5410 - val_penalized_loss: 0.5410\n",
      "Epoch 13/30\n",
      "300/300 [==============================] - 9s 29ms/step - loss: 0.3985 - penalized_loss: 0.3985 - val_loss: 0.4696 - val_penalized_loss: 0.4696\n",
      "Epoch 14/30\n",
      "300/300 [==============================] - 8s 27ms/step - loss: 0.3953 - penalized_loss: 0.3953 - val_loss: 0.5135 - val_penalized_loss: 0.5135\n",
      "Epoch 15/30\n",
      "300/300 [==============================] - 9s 30ms/step - loss: 0.3887 - penalized_loss: 0.3887 - val_loss: 0.4616 - val_penalized_loss: 0.4616\n",
      "Epoch 16/30\n",
      "300/300 [==============================] - 11s 38ms/step - loss: 0.3834 - penalized_loss: 0.3834 - val_loss: 0.4539 - val_penalized_loss: 0.4539\n",
      "Epoch 17/30\n",
      "300/300 [==============================] - 8s 28ms/step - loss: 0.3805 - penalized_loss: 0.3805 - val_loss: 0.4626 - val_penalized_loss: 0.4626\n",
      "Epoch 18/30\n",
      "300/300 [==============================] - 9s 29ms/step - loss: 0.3760 - penalized_loss: 0.3760 - val_loss: 0.4555 - val_penalized_loss: 0.4555\n",
      "Epoch 19/30\n",
      "300/300 [==============================] - 8s 28ms/step - loss: 0.3711 - penalized_loss: 0.3711 - val_loss: 0.4881 - val_penalized_loss: 0.4881\n",
      "Epoch 20/30\n",
      "300/300 [==============================] - 8s 28ms/step - loss: 0.3672 - penalized_loss: 0.3672 - val_loss: 0.4645 - val_penalized_loss: 0.4645\n",
      "Epoch 21/30\n",
      "300/300 [==============================] - 9s 29ms/step - loss: 0.3685 - penalized_loss: 0.3685 - val_loss: 0.4548 - val_penalized_loss: 0.4548\n",
      "Epoch 22/30\n",
      "300/300 [==============================] - 8s 28ms/step - loss: 0.3638 - penalized_loss: 0.3638 - val_loss: 0.4238 - val_penalized_loss: 0.4238\n",
      "Epoch 23/30\n",
      "300/300 [==============================] - 9s 29ms/step - loss: 0.3609 - penalized_loss: 0.3609 - val_loss: 0.4435 - val_penalized_loss: 0.4435\n",
      "Epoch 24/30\n",
      "300/300 [==============================] - 9s 29ms/step - loss: 0.3552 - penalized_loss: 0.3552 - val_loss: 0.4431 - val_penalized_loss: 0.4431\n",
      "Epoch 25/30\n",
      "300/300 [==============================] - 8s 28ms/step - loss: 0.3552 - penalized_loss: 0.3552 - val_loss: 0.4334 - val_penalized_loss: 0.4334\n",
      "Epoch 26/30\n",
      "300/300 [==============================] - 9s 29ms/step - loss: 0.3505 - penalized_loss: 0.3505 - val_loss: 0.4457 - val_penalized_loss: 0.4457\n",
      "Epoch 27/30\n",
      "300/300 [==============================] - 8s 28ms/step - loss: 0.3511 - penalized_loss: 0.3511 - val_loss: 0.4376 - val_penalized_loss: 0.4376\n",
      "Epoch 28/30\n",
      "300/300 [==============================] - 9s 29ms/step - loss: 0.3473 - penalized_loss: 0.3473 - val_loss: 0.4483 - val_penalized_loss: 0.4483\n",
      "Epoch 29/30\n",
      "300/300 [==============================] - 9s 29ms/step - loss: 0.3413 - penalized_loss: 0.3413 - val_loss: 0.4339 - val_penalized_loss: 0.4339\n",
      "Epoch 30/30\n",
      "300/300 [==============================] - 8s 27ms/step - loss: 0.3406 - penalized_loss: 0.3406 - val_loss: 0.4316 - val_penalized_loss: 0.4316\n"
     ]
    },
    {
     "data": {
      "text/html": [
       "\n",
       "    <h2> model - RMSE report </h2>\n",
       "    <h3> RMSE </h3>\n",
       "    <hr>\n",
       "    <div>\n",
       "        <table>\n",
       "            <tr>\n",
       "                <td>RMSE (baseline &forall;1.0)</td>\n",
       "                <td>1.53</td>\n",
       "            </tr>\n",
       "            <tr>\n",
       "                <td>RMSE</td>\n",
       "                <td>1.344</td>\n",
       "            </tr>\n",
       "        </table>\n",
       "    <hr>\n",
       "    <h3> Partial RMSE </h3>\n",
       "        <table>\n",
       "            <tr>\n",
       "                <td>Mean partial RMSE (baseline &forall;1.0)</td>\n",
       "                <td>2.0</td>\n",
       "            </tr>\n",
       "            <tr>\n",
       "                <td>Max partial RMSE (baseline &forall;1.0)</td>\n",
       "                <td>1.414</td>\n",
       "            </tr>\n",
       "            <tr>\n",
       "                <td>St.dev. partial RMSE (baseline &forall;1.0)</td>\n",
       "                <td>4.0</td>\n",
       "            </tr>\n",
       "            <tr>\n",
       "                <td>Mean partial RMSE</td>\n",
       "                <td><b>1.007</b></td>\n",
       "            </tr>\n",
       "            <tr>\n",
       "                <td>Max partial RMSE</td>\n",
       "                <td>0.287</td>\n",
       "            </tr>\n",
       "            <tr>\n",
       "                <td>St.dev. partial RMSE</td>\n",
       "                <td>1.524</td>\n",
       "            </tr>            \n",
       "        </table>\n",
       "    </div>\n",
       "    <h3> Improvement over baseline (&forall;1.0) </h3>\n",
       "    <hr>\n",
       "    <div>\n",
       "        <table>\n",
       "            <tr>\n",
       "                <td>RMSE</td>\n",
       "                <td>0.186</td>\n",
       "            </tr>\n",
       "            <tr>\n",
       "                <td>Mean partial RMSE</td>\n",
       "                <td><b>0.993</b></td>\n",
       "            </tr>\n",
       "            <tr>\n",
       "                <td>Max partial RMSE</td>\n",
       "                <td>2.476</td>\n",
       "            </tr>\n",
       "        </table>\n",
       "    </div>\n",
       "    \n",
       "    <h3> Partial RMSE detailed</h3>\n",
       "    <hr>\n",
       "    <div>\n",
       "        <table>\n",
       "            <tr>\n",
       "                <th>Review Score</th>\n",
       "                <th>RMSE</th>\n",
       "                <th>RMSE baseline (&forall;1.0)</th>\n",
       "                <th>Improvement over baseline</th>\n",
       "            </tr>\n",
       "            \n",
       "    <tr>\n",
       "        <td>\n",
       "            5.0\n",
       "        </td>\n",
       "        <td>\n",
       "            1.524\n",
       "        </td>\n",
       "        <td>\n",
       "            0.0\n",
       "        </td>\n",
       "        <td>\n",
       "            -1.524\n",
       "        </td>\n",
       "    </tr>\n",
       "    \n",
       "\n",
       "    <tr>\n",
       "        <td>\n",
       "            4.0\n",
       "        </td>\n",
       "        <td>\n",
       "            1.107\n",
       "        </td>\n",
       "        <td>\n",
       "            1.0\n",
       "        </td>\n",
       "        <td>\n",
       "            -0.107\n",
       "        </td>\n",
       "    </tr>\n",
       "    \n",
       "\n",
       "    <tr>\n",
       "        <td>\n",
       "            3.0\n",
       "        </td>\n",
       "        <td>\n",
       "            0.869\n",
       "        </td>\n",
       "        <td>\n",
       "            2.0\n",
       "        </td>\n",
       "        <td>\n",
       "            1.131\n",
       "        </td>\n",
       "    </tr>\n",
       "    \n",
       "\n",
       "    <tr>\n",
       "        <td>\n",
       "            2.0\n",
       "        </td>\n",
       "        <td>\n",
       "            0.741\n",
       "        </td>\n",
       "        <td>\n",
       "            3.0\n",
       "        </td>\n",
       "        <td>\n",
       "            2.259\n",
       "        </td>\n",
       "    </tr>\n",
       "    \n",
       "\n",
       "    <tr>\n",
       "        <td>\n",
       "            1.0\n",
       "        </td>\n",
       "        <td>\n",
       "            0.794\n",
       "        </td>\n",
       "        <td>\n",
       "            4.0\n",
       "        </td>\n",
       "        <td>\n",
       "            3.206\n",
       "        </td>\n",
       "    </tr>\n",
       "    \n",
       "        </table>\n",
       "    </div>\n",
       "    "
      ],
      "text/plain": [
       "<IPython.core.display.HTML object>"
      ]
     },
     "metadata": {},
     "output_type": "display_data"
    },
    {
     "data": {
      "image/png": "[encoded data removed]",
      "text/plain": [
       "<Figure size 432x288 with 1 Axes>"
      ]
     },
     "metadata": {
      "needs_background": "light"
     },
     "output_type": "display_data"
    }
   ],
   "source": [
    "model=experiment(learning_rate=0.04,epochs=30,batch_size=512,steps=300,name='model')"
   ]
  },
  {
   "cell_type": "code",
   "execution_count": null,
   "metadata": {},
   "outputs": [],
   "source": [
    "model.summary()"
   ]
  },
  {
   "cell_type": "code",
   "execution_count": 15,
   "metadata": {},
   "outputs": [],
   "source": [
    "## Persist"
   ]
  },
  {
   "cell_type": "code",
   "execution_count": 16,
   "metadata": {},
   "outputs": [],
   "source": [
    "model.save('/home/kvassay/data/z/models/E6/keras_cnn.h5')"
   ]
  }
 ],
 "metadata": {
  "kernelspec": {
   "display_name": "Python 3",
   "language": "python",
   "name": "python3"
  },
  "language_info": {
   "codemirror_mode": {
    "name": "ipython",
    "version": 3
   },
   "file_extension": ".py",
   "mimetype": "text/x-python",
   "name": "python",
   "nbconvert_exporter": "python",
   "pygments_lexer": "ipython3",
   "version": "3.6.7"
  }
 },
 "nbformat": 4,
 "nbformat_minor": 2
}
