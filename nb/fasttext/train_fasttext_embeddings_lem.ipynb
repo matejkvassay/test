{
 "cells": [
  {
   "cell_type": "code",
   "execution_count": 1,
   "metadata": {},
   "outputs": [],
   "source": [
    "import pickle\n",
    "import os\n",
    "import numpy as np\n",
    "from fasttext import load_model\n",
    "import torch\n",
    "from torch.nn.modules.sparse import EmbeddingBag\n",
    "from torch.autograd import Variable\n",
    "import numpy as np"
   ]
  },
  {
   "cell_type": "code",
   "execution_count": 2,
   "metadata": {},
   "outputs": [],
   "source": [
    "DATASET='/home/kvassay/data/z/data/reviews_train_test_dev1_{}.pickle'\n",
    "TYPE='lem_tok'\n",
    "VEC_DIM=100\n",
    "EPOCHS=50\n",
    "WIN_SIZE=5\n",
    "FASTTEXT_INPUT='/home/kvassay/data/z/data/fasttext/train_lem.txt'\n",
    "FASTTEXT_MODEL_SAVE='/home/kvassay/data/z/models/fasttext/cbow_lem_{}_e{}_w{}'.format(VEC_DIM,EPOCHS,WIN_SIZE)"
   ]
  },
  {
   "cell_type": "code",
   "execution_count": 3,
   "metadata": {},
   "outputs": [
    {
     "name": "stdout",
     "output_type": "stream",
     "text": [
      "CPU times: user 4.7 s, sys: 1.11 s, total: 5.82 s\n",
      "Wall time: 6.62 s\n"
     ]
    }
   ],
   "source": [
    "%%time\n",
    "with open(DATASET.format(TYPE),'rb') as f:\n",
    "    train,_,_=pickle.load(f)"
   ]
  },
  {
   "cell_type": "markdown",
   "metadata": {},
   "source": [
    "## Prepare training data"
   ]
  },
  {
   "cell_type": "code",
   "execution_count": 4,
   "metadata": {},
   "outputs": [],
   "source": [
    "all_sents=[]\n",
    "for sample in train:\n",
    "    for sent in sample['text']:\n",
    "        all_sents.append(' '.join(sent).lower()+'\\n')\n",
    "    all_sents.append(' '.join(sample['summary']).lower()+'\\n')\n",
    "np.random.shuffle(all_sents)"
   ]
  },
  {
   "cell_type": "code",
   "execution_count": 5,
   "metadata": {},
   "outputs": [],
   "source": [
    "with open(FASTTEXT_INPUT, 'w') as f:\n",
    "    f.writelines(all_sents)"
   ]
  },
  {
   "cell_type": "markdown",
   "metadata": {},
   "source": [
    "## Train fastText"
   ]
  },
  {
   "cell_type": "code",
   "execution_count": 6,
   "metadata": {},
   "outputs": [
    {
     "name": "stdout",
     "output_type": "stream",
     "text": [
      "Read 243M words\n",
      "Number of words:  11075\n",
      "Number of labels: 0\n",
      "Progress: 100.0% words/sec/thread: 6269311 lr:  0.000000 loss:  1.473020 ETA:   0h 0m\n"
     ]
    }
   ],
   "source": [
    "!cd ~/project/fastText && ./fasttext cbow -thread 12 -ws $WIN_SIZE -dim $VEC_DIM -epoch $EPOCHS -input $FASTTEXT_INPUT -output $FASTTEXT_MODEL_SAVE"
   ]
  },
  {
   "cell_type": "markdown",
   "metadata": {},
   "source": [
    "## Sanity check\n",
    "https://github.com/facebookresearch/fastText/blob/master/python/doc/examples/FastTextEmbeddingBag.py"
   ]
  },
  {
   "cell_type": "code",
   "execution_count": 7,
   "metadata": {},
   "outputs": [],
   "source": [
    "class FastTextEmbeddingBag(EmbeddingBag):\n",
    "    def __init__(self, model_path):\n",
    "        self.model = load_model(model_path)\n",
    "        input_matrix = self.model.get_input_matrix()\n",
    "        input_matrix_shape = input_matrix.shape\n",
    "        super().__init__(input_matrix_shape[0], input_matrix_shape[1])\n",
    "        self.weight.data.copy_(torch.FloatTensor(input_matrix))\n",
    "\n",
    "    def forward(self, words):\n",
    "        word_subinds = np.empty([0], dtype=np.int64)\n",
    "        word_offsets = [0]\n",
    "        for word in words:\n",
    "            _, subinds = self.model.get_subwords(word)\n",
    "            word_subinds = np.concatenate((word_subinds, subinds))\n",
    "            word_offsets.append(word_offsets[-1] + len(subinds))\n",
    "        word_offsets = word_offsets[:-1]\n",
    "        ind = Variable(torch.LongTensor(word_subinds))\n",
    "        offsets = Variable(torch.LongTensor(word_offsets))\n",
    "        return super().forward(ind, offsets)"
   ]
  },
  {
   "cell_type": "code",
   "execution_count": 8,
   "metadata": {},
   "outputs": [
    {
     "name": "stderr",
     "output_type": "stream",
     "text": [
      "\n"
     ]
    }
   ],
   "source": [
    "model=FastTextEmbeddingBag(FASTTEXT_MODEL_SAVE+'.bin')"
   ]
  },
  {
   "cell_type": "code",
   "execution_count": 9,
   "metadata": {},
   "outputs": [
    {
     "data": {
      "text/plain": [
       "torch.Size([3, 100])"
      ]
     },
     "execution_count": 9,
     "metadata": {},
     "output_type": "execute_result"
    }
   ],
   "source": [
    "model.forward(['this','is','!!!']).shape"
   ]
  },
  {
   "cell_type": "markdown",
   "metadata": {},
   "source": [
    "Command to evaluate k-NN:\n",
    "./fasttext nn /home/kvassay/data/z/models/fasttext/cbow_lem_100_e50_w5.bin"
   ]
  },
  {
   "cell_type": "code",
   "execution_count": null,
   "metadata": {},
   "outputs": [],
   "source": []
  }
 ],
 "metadata": {
  "kernelspec": {
   "display_name": "Python 3",
   "language": "python",
   "name": "python3"
  },
  "language_info": {
   "codemirror_mode": {
    "name": "ipython",
    "version": 3
   },
   "file_extension": ".py",
   "mimetype": "text/x-python",
   "name": "python",
   "nbconvert_exporter": "python",
   "pygments_lexer": "ipython3",
   "version": "3.6.7"
  }
 },
 "nbformat": 4,
 "nbformat_minor": 2
}
