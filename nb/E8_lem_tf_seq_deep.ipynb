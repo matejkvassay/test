{
 "cells": [
  {
   "cell_type": "code",
   "execution_count": 1,
   "metadata": {},
   "outputs": [],
   "source": [
    "#!pip install --upgrade pip imbalanced-learn\n",
    "#!pip install tensorflow-gpu==2.0.0-rc0 \n",
    "\n",
    "#tensorboard --logdir /home/kvassay/data/z/log/E2/scalars/"
   ]
  },
  {
   "cell_type": "code",
   "execution_count": 2,
   "metadata": {},
   "outputs": [],
   "source": [
    "import pickle\n",
    "import os\n",
    "import numpy as np\n",
    "import tensorflow as tf\n",
    "import tensorflow.keras as K\n",
    "from scipy.sparse import hstack\n",
    "from datetime import datetime\n",
    "\n",
    "from sklearn.feature_extraction.text import TfidfVectorizer\n",
    "from sklearn.preprocessing import normalize as scikit_normalize\n",
    "\n",
    "from evaluation import plot_history\n",
    "from evaluation import rmse_report\n",
    "\n",
    "from sampling import UnderSampler\n",
    "\n",
    "%matplotlib inline\n",
    "%load_ext tensorboard"
   ]
  },
  {
   "cell_type": "code",
   "execution_count": 3,
   "metadata": {},
   "outputs": [],
   "source": [
    "DATASET='/home/kvassay/data/z/data/reviews_train_test_dev1_{}.pickle'\n",
    "TYPE='lem_tok'\n",
    "TB_LOG_DIR='/home/kvassay/data/z/log/E2/scalars/'"
   ]
  },
  {
   "cell_type": "markdown",
   "metadata": {},
   "source": [
    "## Load data"
   ]
  },
  {
   "cell_type": "code",
   "execution_count": 4,
   "metadata": {
    "scrolled": true
   },
   "outputs": [
    {
     "name": "stdout",
     "output_type": "stream",
     "text": [
      "CPU times: user 4.43 s, sys: 988 ms, total: 5.42 s\n",
      "Wall time: 5.4 s\n"
     ]
    }
   ],
   "source": [
    "%%time\n",
    "with open(DATASET.format(TYPE),'rb') as f:\n",
    "    train,dev,_=pickle.load(f)"
   ]
  },
  {
   "cell_type": "markdown",
   "metadata": {},
   "source": [
    "## Train TF model"
   ]
  },
  {
   "cell_type": "code",
   "execution_count": 5,
   "metadata": {},
   "outputs": [],
   "source": [
    "def tf_train(dataset,key, **scikit_kwargs):\n",
    "    vectorizer=TfidfVectorizer(**scikit_kwargs)\n",
    "    vectorizer.fit([' '.join(x[key]) for x in dataset])\n",
    "    return vectorizer\n",
    "\n",
    "def tf_predict(vectorizer,dataset,key):\n",
    "    features=vectorizer.transform([' '.join(x[key]) for x in dataset])\n",
    "    return features\n",
    "\n",
    "def extract_features(dataset,vectorizer_summary,vectorizer_text):\n",
    "    summ_vecs=tf_predict(vectorizer_summary,dataset,'summary')\n",
    "    text_vecs=tf_predict(vectorizer_text,dataset,'text')\n",
    "    return scikit_normalize(hstack([summ_vecs, text_vecs],format='csr'))"
   ]
  },
  {
   "cell_type": "code",
   "execution_count": 6,
   "metadata": {},
   "outputs": [
    {
     "name": "stdout",
     "output_type": "stream",
     "text": [
      "CPU times: user 1min 11s, sys: 1.61 s, total: 1min 13s\n",
      "Wall time: 1min 13s\n"
     ]
    }
   ],
   "source": [
    "%%time\n",
    "vectorizer_text=tf_train(train,'text',max_features=35000,ngram_range=(1,2),max_df=0.99,lowercase=True,use_idf=False)\n",
    "vectorizer_summary=tf_train(train,'summary',max_features=20000,ngram_range=(1,2),max_df=0.99,lowercase=True,use_idf=False)"
   ]
  },
  {
   "cell_type": "markdown",
   "metadata": {},
   "source": [
    "## Extract features"
   ]
  },
  {
   "cell_type": "code",
   "execution_count": 7,
   "metadata": {},
   "outputs": [
    {
     "name": "stdout",
     "output_type": "stream",
     "text": [
      "Train samples shape: (551399, 55000), Dev samples shape: (8527, 55000)\n",
      "CPU times: user 1min 1s, sys: 1.53 s, total: 1min 3s\n",
      "Wall time: 1min 3s\n"
     ]
    }
   ],
   "source": [
    "%%time\n",
    "X_train=extract_features(train, vectorizer_summary,vectorizer_text)\n",
    "X_dev=extract_features(dev, vectorizer_summary,vectorizer_text)\n",
    "y_train=np.array([x['score'] for x in train])\n",
    "y_dev=np.array([x['score'] for x in dev])\n",
    "print('Train samples shape: {}, Dev samples shape: {}'.format(X_train.shape,X_dev.shape))"
   ]
  },
  {
   "cell_type": "markdown",
   "metadata": {},
   "source": [
    "## Training"
   ]
  },
  {
   "cell_type": "code",
   "execution_count": 8,
   "metadata": {},
   "outputs": [],
   "source": [
    "def get_tb_callback():\n",
    "    suffix=datetime.now().strftime(\"%Y%m%d-%H%M%S\")\n",
    "    log_dir= os.path.join(TB_LOG_DIR,suffix)\n",
    "    return K.callbacks.TensorBoard(log_dir=os.path.join(log_dir))\n",
    "\n",
    "def penalized_loss(y_true, y_pred):\n",
    "    return K.backend.mean(K.backend.square(K.backend.abs(y_true - y_pred))/y_true)\n",
    "\n",
    "def train_model(batch_size,learning_rate, epochs,steps):\n",
    "    DROPRATE=0.1\n",
    "    tensorboard_callback = get_tb_callback()\n",
    "    model = K.models.Sequential([\n",
    "        K.layers.Dense(256,activation='relu', input_shape=(X_train.shape[1],)),\n",
    "        K.layers.Dropout(DROPRATE),\n",
    "        K.layers.BatchNormalization(),\n",
    "        K.layers.Dense(256,activation='relu', input_shape=(X_train.shape[1],)),\n",
    "        K.layers.Dropout(DROPRATE),\n",
    "        K.layers.BatchNormalization(),\n",
    "        K.layers.Dense(256,activation='relu', input_shape=(X_train.shape[1],)),\n",
    "        K.layers.Dropout(DROPRATE),\n",
    "        K.layers.BatchNormalization(),\n",
    "        K.layers.Dense(1,activation='linear'),\n",
    "    ])\n",
    "    opt=K.optimizers.Adam(lr=learning_rate, decay=learning_rate/epochs)\n",
    "    model.compile(optimizer=opt, loss=penalized_loss, metrics=[penalized_loss])\n",
    "    sampler=UnderSampler(X_train,y_train,batch_size=batch_size)\n",
    "    model.fit_generator(sampler,\n",
    "                        shuffle=False,\n",
    "                        epochs=epochs,\n",
    "                        steps_per_epoch=steps,\n",
    "                        validation_data=(X_dev,y_dev),\n",
    "                        callbacks=[tensorboard_callback])\n",
    "    return model"
   ]
  },
  {
   "cell_type": "markdown",
   "metadata": {},
   "source": [
    "## Experiment"
   ]
  },
  {
   "cell_type": "code",
   "execution_count": 9,
   "metadata": {},
   "outputs": [],
   "source": [
    "def experiment(learning_rate,epochs,batch_size,name,steps):\n",
    "    model=train_model(epochs=epochs,batch_size=batch_size,learning_rate=learning_rate,steps=steps)\n",
    "    y_pred_dev=model.predict(X_dev)\n",
    "    rmse_report(y_dev,y_pred_dev,title='{} - RMSE report'.format(name))\n",
    "    plot_history(model,title='{} - Train/Dev MSE'.format(name))\n",
    "    return model"
   ]
  },
  {
   "cell_type": "code",
   "execution_count": 10,
   "metadata": {
    "scrolled": false
   },
   "outputs": [
    {
     "name": "stdout",
     "output_type": "stream",
     "text": [
      "Epoch 1/30\n",
      "300/300 [==============================] - 72s 241ms/step - loss: 0.3423 - penalized_loss: 0.3423 - val_loss: 0.3313 - val_penalized_loss: 0.3313\n",
      "Epoch 2/30\n",
      "300/300 [==============================] - 74s 246ms/step - loss: 0.2292 - penalized_loss: 0.2292 - val_loss: 0.2410 - val_penalized_loss: 0.2410\n",
      "Epoch 3/30\n",
      "300/300 [==============================] - 73s 242ms/step - loss: 0.1773 - penalized_loss: 0.1773 - val_loss: 0.2311 - val_penalized_loss: 0.2311\n",
      "Epoch 4/30\n",
      "300/300 [==============================] - 74s 248ms/step - loss: 0.1673 - penalized_loss: 0.1673 - val_loss: 0.2001 - val_penalized_loss: 0.2001\n",
      "Epoch 5/30\n",
      "300/300 [==============================] - 73s 242ms/step - loss: 0.1407 - penalized_loss: 0.1407 - val_loss: 0.1825 - val_penalized_loss: 0.1825\n",
      "Epoch 6/30\n",
      "300/300 [==============================] - 74s 247ms/step - loss: 0.1289 - penalized_loss: 0.1289 - val_loss: 0.1766 - val_penalized_loss: 0.1766\n",
      "Epoch 7/30\n",
      "300/300 [==============================] - 73s 243ms/step - loss: 0.1146 - penalized_loss: 0.1146 - val_loss: 0.1737 - val_penalized_loss: 0.1737\n",
      "Epoch 8/30\n",
      "300/300 [==============================] - 75s 249ms/step - loss: 0.1037 - penalized_loss: 0.1037 - val_loss: 0.1715 - val_penalized_loss: 0.1715\n",
      "Epoch 9/30\n",
      "300/300 [==============================] - 73s 243ms/step - loss: 0.0956 - penalized_loss: 0.0956 - val_loss: 0.1607 - val_penalized_loss: 0.1607\n",
      "Epoch 10/30\n",
      "300/300 [==============================] - 74s 245ms/step - loss: 0.0857 - penalized_loss: 0.0857 - val_loss: 0.1565 - val_penalized_loss: 0.1565\n",
      "Epoch 11/30\n",
      "300/300 [==============================] - 73s 244ms/step - loss: 0.0819 - penalized_loss: 0.0819 - val_loss: 0.1517 - val_penalized_loss: 0.1517\n",
      "Epoch 12/30\n",
      "300/300 [==============================] - 74s 248ms/step - loss: 0.0715 - penalized_loss: 0.0715 - val_loss: 0.1501 - val_penalized_loss: 0.1501\n",
      "Epoch 13/30\n",
      "300/300 [==============================] - 73s 244ms/step - loss: 0.0700 - penalized_loss: 0.0700 - val_loss: 0.1492 - val_penalized_loss: 0.1492\n",
      "Epoch 14/30\n",
      "300/300 [==============================] - 75s 248ms/step - loss: 0.0612 - penalized_loss: 0.0612 - val_loss: 0.1472 - val_penalized_loss: 0.1472\n",
      "Epoch 15/30\n",
      "300/300 [==============================] - 73s 244ms/step - loss: 0.0608 - penalized_loss: 0.0608 - val_loss: 0.1436 - val_penalized_loss: 0.1436\n",
      "Epoch 16/30\n",
      "300/300 [==============================] - 74s 246ms/step - loss: 0.0521 - penalized_loss: 0.0521 - val_loss: 0.1428 - val_penalized_loss: 0.1428\n",
      "Epoch 17/30\n",
      "300/300 [==============================] - 74s 246ms/step - loss: 0.0523 - penalized_loss: 0.0523 - val_loss: 0.1405 - val_penalized_loss: 0.1405\n",
      "Epoch 18/30\n",
      "300/300 [==============================] - 73s 243ms/step - loss: 0.0460 - penalized_loss: 0.0460 - val_loss: 0.1402 - val_penalized_loss: 0.1402\n",
      "Epoch 19/30\n",
      "300/300 [==============================] - 74s 247ms/step - loss: 0.0456 - penalized_loss: 0.0456 - val_loss: 0.1394 - val_penalized_loss: 0.1394\n",
      "Epoch 20/30\n",
      "300/300 [==============================] - 73s 243ms/step - loss: 0.0416 - penalized_loss: 0.0416 - val_loss: 0.1378 - val_penalized_loss: 0.1378\n",
      "Epoch 21/30\n",
      "300/300 [==============================] - 74s 247ms/step - loss: 0.0398 - penalized_loss: 0.0398 - val_loss: 0.1384 - val_penalized_loss: 0.1384\n",
      "Epoch 22/30\n",
      "300/300 [==============================] - 73s 244ms/step - loss: 0.0378 - penalized_loss: 0.0378 - val_loss: 0.1374 - val_penalized_loss: 0.1374\n",
      "Epoch 23/30\n",
      "300/300 [==============================] - 74s 246ms/step - loss: 0.0350 - penalized_loss: 0.0350 - val_loss: 0.1347 - val_penalized_loss: 0.1347\n",
      "Epoch 24/30\n",
      "300/300 [==============================] - 73s 244ms/step - loss: 0.0339 - penalized_loss: 0.0339 - val_loss: 0.1336 - val_penalized_loss: 0.1336\n",
      "Epoch 25/30\n",
      "300/300 [==============================] - 74s 247ms/step - loss: 0.0321 - penalized_loss: 0.0321 - val_loss: 0.1337 - val_penalized_loss: 0.1337\n",
      "Epoch 26/30\n",
      "300/300 [==============================] - 72s 241ms/step - loss: 0.0308 - penalized_loss: 0.0308 - val_loss: 0.1341 - val_penalized_loss: 0.1341\n",
      "Epoch 27/30\n",
      "300/300 [==============================] - 74s 247ms/step - loss: 0.0290 - penalized_loss: 0.0290 - val_loss: 0.1332 - val_penalized_loss: 0.1332\n",
      "Epoch 28/30\n",
      "300/300 [==============================] - 73s 243ms/step - loss: 0.0278 - penalized_loss: 0.0278 - val_loss: 0.1317 - val_penalized_loss: 0.1317\n",
      "Epoch 29/30\n",
      "300/300 [==============================] - 74s 246ms/step - loss: 0.0259 - penalized_loss: 0.0259 - val_loss: 0.1321 - val_penalized_loss: 0.1321\n",
      "Epoch 30/30\n",
      "300/300 [==============================] - 72s 240ms/step - loss: 0.0261 - penalized_loss: 0.0261 - val_loss: 0.1329 - val_penalized_loss: 0.1329\n"
     ]
    },
    {
     "name": "stderr",
     "output_type": "stream",
     "text": [
      "WARNING: Logging before flag parsing goes to stderr.\n",
      "W0826 00:08:58.418741 140283502622528 training.py:510] Falling back from v2 loop because of error: Failed to find data adapter that can handle input: <class 'scipy.sparse.csr.csr_matrix'>, <class 'NoneType'>\n"
     ]
    },
    {
     "data": {
      "text/html": [
       "\n",
       "    <h2> model - RMSE report </h2>\n",
       "    <h3> RMSE </h3>\n",
       "    <hr>\n",
       "    <div>\n",
       "        <table>\n",
       "            <tr>\n",
       "                <td>RMSE (baseline &forall;1.0)</td>\n",
       "                <td>1.53</td>\n",
       "            </tr>\n",
       "            <tr>\n",
       "                <td>RMSE</td>\n",
       "                <td>0.629</td>\n",
       "            </tr>\n",
       "        </table>\n",
       "    <hr>\n",
       "    <h3> Partial RMSE </h3>\n",
       "        <table>\n",
       "            <tr>\n",
       "                <td>Mean partial RMSE (baseline &forall;1.0)</td>\n",
       "                <td>2.0</td>\n",
       "            </tr>\n",
       "            <tr>\n",
       "                <td>Max partial RMSE (baseline &forall;1.0)</td>\n",
       "                <td>1.414</td>\n",
       "            </tr>\n",
       "            <tr>\n",
       "                <td>St.dev. partial RMSE (baseline &forall;1.0)</td>\n",
       "                <td>4.0</td>\n",
       "            </tr>\n",
       "            <tr>\n",
       "                <td>Mean partial RMSE</td>\n",
       "                <td><b>0.678</b></td>\n",
       "            </tr>\n",
       "            <tr>\n",
       "                <td>Max partial RMSE</td>\n",
       "                <td>0.049</td>\n",
       "            </tr>\n",
       "            <tr>\n",
       "                <td>St.dev. partial RMSE</td>\n",
       "                <td>0.729</td>\n",
       "            </tr>            \n",
       "        </table>\n",
       "    </div>\n",
       "    <h3> Improvement over baseline (&forall;1.0) </h3>\n",
       "    <hr>\n",
       "    <div>\n",
       "        <table>\n",
       "            <tr>\n",
       "                <td>RMSE</td>\n",
       "                <td>0.901</td>\n",
       "            </tr>\n",
       "            <tr>\n",
       "                <td>Mean partial RMSE</td>\n",
       "                <td><b>1.322</b></td>\n",
       "            </tr>\n",
       "            <tr>\n",
       "                <td>Max partial RMSE</td>\n",
       "                <td>3.271</td>\n",
       "            </tr>\n",
       "        </table>\n",
       "    </div>\n",
       "    \n",
       "    <h3> Partial RMSE detailed</h3>\n",
       "    <hr>\n",
       "    <div>\n",
       "        <table>\n",
       "            <tr>\n",
       "                <th>Review Score</th>\n",
       "                <th>RMSE</th>\n",
       "                <th>RMSE baseline (&forall;1.0)</th>\n",
       "                <th>Improvement over baseline</th>\n",
       "            </tr>\n",
       "            \n",
       "    <tr>\n",
       "        <td>\n",
       "            5.0\n",
       "        </td>\n",
       "        <td>\n",
       "            0.585\n",
       "        </td>\n",
       "        <td>\n",
       "            0.0\n",
       "        </td>\n",
       "        <td>\n",
       "            -0.585\n",
       "        </td>\n",
       "    </tr>\n",
       "    \n",
       "\n",
       "    <tr>\n",
       "        <td>\n",
       "            4.0\n",
       "        </td>\n",
       "        <td>\n",
       "            0.683\n",
       "        </td>\n",
       "        <td>\n",
       "            1.0\n",
       "        </td>\n",
       "        <td>\n",
       "            0.317\n",
       "        </td>\n",
       "    </tr>\n",
       "    \n",
       "\n",
       "    <tr>\n",
       "        <td>\n",
       "            3.0\n",
       "        </td>\n",
       "        <td>\n",
       "            0.707\n",
       "        </td>\n",
       "        <td>\n",
       "            2.0\n",
       "        </td>\n",
       "        <td>\n",
       "            1.293\n",
       "        </td>\n",
       "    </tr>\n",
       "    \n",
       "\n",
       "    <tr>\n",
       "        <td>\n",
       "            2.0\n",
       "        </td>\n",
       "        <td>\n",
       "            0.688\n",
       "        </td>\n",
       "        <td>\n",
       "            3.0\n",
       "        </td>\n",
       "        <td>\n",
       "            2.312\n",
       "        </td>\n",
       "    </tr>\n",
       "    \n",
       "\n",
       "    <tr>\n",
       "        <td>\n",
       "            1.0\n",
       "        </td>\n",
       "        <td>\n",
       "            0.729\n",
       "        </td>\n",
       "        <td>\n",
       "            4.0\n",
       "        </td>\n",
       "        <td>\n",
       "            3.271\n",
       "        </td>\n",
       "    </tr>\n",
       "    \n",
       "        </table>\n",
       "    </div>\n",
       "    "
      ],
      "text/plain": [
       "<IPython.core.display.HTML object>"
      ]
     },
     "metadata": {},
     "output_type": "display_data"
    },
    {
     "data": {
      "image/png": "[encoded data removed]",
      "text/plain": [
       "<Figure size 432x288 with 1 Axes>"
      ]
     },
     "metadata": {
      "needs_background": "light"
     },
     "output_type": "display_data"
    }
   ],
   "source": [
    "model=experiment(learning_rate=0.04,epochs=30,batch_size=256,steps=300,name='model')"
   ]
  },
  {
   "cell_type": "code",
   "execution_count": 11,
   "metadata": {},
   "outputs": [
    {
     "name": "stdout",
     "output_type": "stream",
     "text": [
      "Model: \"sequential\"\n",
      "_________________________________________________________________\n",
      "Layer (type)                 Output Shape              Param #   \n",
      "=================================================================\n",
      "dense (Dense)                (None, 256)               14080256  \n",
      "_________________________________________________________________\n",
      "dense_1 (Dense)              (None, 1)                 257       \n",
      "=================================================================\n",
      "Total params: 14,080,513\n",
      "Trainable params: 14,080,513\n",
      "Non-trainable params: 0\n",
      "_________________________________________________________________\n"
     ]
    }
   ],
   "source": [
    "model.summary()"
   ]
  },
  {
   "cell_type": "markdown",
   "metadata": {},
   "source": [
    "## Persist"
   ]
  },
  {
   "cell_type": "code",
   "execution_count": 12,
   "metadata": {},
   "outputs": [],
   "source": [
    "with open('/home/kvassay/data/z/models/E7/vectorizer_summary.pickle','wb') as f:\n",
    "    pickle.dump(vectorizer_summary,f)\n",
    "with open('/home/kvassay/data/z/models/E7/vectorizer_text.pickle','wb') as f:\n",
    "    pickle.dump(vectorizer_text,f)\n",
    "model.save('/home/kvassay/data/z/models/E7/keras_regressor.h5')"
   ]
  },
  {
   "cell_type": "code",
   "execution_count": null,
   "metadata": {},
   "outputs": [],
   "source": []
  }
 ],
 "metadata": {
  "kernelspec": {
   "display_name": "Python 3",
   "language": "python",
   "name": "python3"
  },
  "language_info": {
   "codemirror_mode": {
    "name": "ipython",
    "version": 3
   },
   "file_extension": ".py",
   "mimetype": "text/x-python",
   "name": "python",
   "nbconvert_exporter": "python",
   "pygments_lexer": "ipython3",
   "version": "3.6.7"
  }
 },
 "nbformat": 4,
 "nbformat_minor": 2
}
