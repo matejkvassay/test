{
 "cells": [
  {
   "cell_type": "code",
   "execution_count": 1,
   "metadata": {},
   "outputs": [],
   "source": [
    "import pickle\n",
    "import os\n",
    "import re\n",
    "import numpy as np\n",
    "import spacy\n",
    "import tensorflow as tf\n",
    "import tensorflow.keras as K\n",
    "from datetime import datetime\n",
    "from sklearn.preprocessing import normalize as scikit_normalize\n",
    "from evaluation import plot_history\n",
    "from evaluation import rmse_report\n",
    "from sampling import UnderSampler\n",
    "from fasttext_embedding import FastTextEmbeddingBag\n",
    "from spacy.lang.en.stop_words import STOP_WORDS\n",
    "from tqdm import tqdm\n",
    "\n",
    "%matplotlib inline\n",
    "%load_ext tensorboard"
   ]
  },
  {
   "cell_type": "code",
   "execution_count": 2,
   "metadata": {},
   "outputs": [],
   "source": [
    "DATASET='/home/kvassay/data/z/data/reviews_train_test_dev1_{}.pickle'\n",
    "TYPE='lem_tok'\n",
    "TB_LOG_DIR='/home/kvassay/data/z/log/E3b/scalars/'\n",
    "VEC_DIM=100\n",
    "FASTTEXT='/home/kvassay/data/z/models/fasttext/cbow_lem_{}_e{}_w{}.bin'.format(VEC_DIM,50,5)\n",
    "ALLOWED_SPECIAL=tuple(['?','!',':(', ':)', ':D',':-)',':-D',':\\'(',':/',':-/','<3',':-P',':P'])"
   ]
  },
  {
   "cell_type": "markdown",
   "metadata": {},
   "source": [
    "## Read data"
   ]
  },
  {
   "cell_type": "code",
   "execution_count": 3,
   "metadata": {},
   "outputs": [
    {
     "name": "stdout",
     "output_type": "stream",
     "text": [
      "CPU times: user 4.65 s, sys: 1.09 s, total: 5.73 s\n",
      "Wall time: 5.71 s\n"
     ]
    }
   ],
   "source": [
    "%%time\n",
    "with open(DATASET.format(TYPE),'rb') as f:\n",
    "    train,dev,_=pickle.load(f)"
   ]
  },
  {
   "cell_type": "markdown",
   "metadata": {},
   "source": [
    "## Load models"
   ]
  },
  {
   "cell_type": "code",
   "execution_count": 4,
   "metadata": {},
   "outputs": [
    {
     "name": "stderr",
     "output_type": "stream",
     "text": [
      "\n"
     ]
    },
    {
     "name": "stdout",
     "output_type": "stream",
     "text": [
      "CPU times: user 2.09 s, sys: 1.32 s, total: 3.41 s\n",
      "Wall time: 8.31 s\n"
     ]
    }
   ],
   "source": [
    "%%time\n",
    "fasttext=FastTextEmbeddingBag(FASTTEXT)"
   ]
  },
  {
   "cell_type": "markdown",
   "metadata": {},
   "source": [
    "## Preprocess text + extract features\n",
    "- filter out EN stop-words (and, or, ...)\n",
    "- filter out non-allowed special tokens (we want to keep smileys and !,?)\n",
    "- filter out short words (1-2 characters)"
   ]
  },
  {
   "cell_type": "code",
   "execution_count": null,
   "metadata": {},
   "outputs": [],
   "source": [
    "rx_special= re.compile(\"|\".join(re.escape(s) for s in ALLOWED_SPECIAL))\n",
    "\n",
    "def word_filter(word):\n",
    "    if word in STOP_WORDS:\n",
    "        return False\n",
    "    if not word.isalpha():\n",
    "        if not rx_special.findall(word):\n",
    "            return False\n",
    "    else:\n",
    "        if len(word)<3:\n",
    "            return False\n",
    "    return True\n",
    "\n",
    "def preprocess_text(text):\n",
    "    return [x.lower() for x in text if word_filter(x.lower())]\n",
    "\n",
    "def preprocess_texts(dataset,text_keys=['summary','text']):\n",
    "    for sample in tqdm(dataset):\n",
    "        for key in text_keys:\n",
    "            sample[key]=preprocess_text(sample[key])\n",
    "    return dataset"
   ]
  },
  {
   "cell_type": "code",
   "execution_count": null,
   "metadata": {},
   "outputs": [
    {
     "name": "stderr",
     "output_type": "stream",
     "text": [
      "100%|██████████| 551399/551399 [00:17<00:00, 30991.49it/s]\n",
      "100%|██████████| 8527/8527 [00:00<00:00, 31252.56it/s]"
     ]
    },
    {
     "name": "stdout",
     "output_type": "stream",
     "text": [
      "CPU times: user 18.1 s, sys: 106 ms, total: 18.2 s\n",
      "Wall time: 18.1 s\n"
     ]
    },
    {
     "name": "stderr",
     "output_type": "stream",
     "text": [
      "\n"
     ]
    }
   ],
   "source": [
    "%%time\n",
    "train=preprocess_texts(train)\n",
    "dev=preprocess_texts(dev)"
   ]
  },
  {
   "cell_type": "markdown",
   "metadata": {},
   "source": [
    "## Extract features\n",
    "- transform texts to averages of their fastText vectors\n",
    "- concatenate summary & text average vectors into single one"
   ]
  },
  {
   "cell_type": "code",
   "execution_count": null,
   "metadata": {},
   "outputs": [],
   "source": [
    "def extract_features(dataset, fasttext):\n",
    "    default_vec=np.zeros(VEC_DIM,dtype=np.float32)\n",
    "    vecs=[]\n",
    "    for sample in tqdm(dataset):\n",
    "        if sample['summary']:\n",
    "            vecs_summary=fasttext.forward([x for x in sample['summary']])\n",
    "        else:\n",
    "            vecs_summary=[default_vec]\n",
    "        if sample['text']:\n",
    "            vecs_text = fasttext.forward([x for x in sample['text']])\n",
    "        else:\n",
    "            vecs_text=[default_vec]\n",
    "        avg_summary = np.mean(vecs_summary,axis=0)\n",
    "        avg_text = np.mean(vecs_text,axis=0)\n",
    "        vecs.append(np.concatenate((avg_summary,avg_text), axis=0))\n",
    "    vecs=np.array(vecs)\n",
    "    return scikit_normalize(vecs)"
   ]
  },
  {
   "cell_type": "code",
   "execution_count": null,
   "metadata": {},
   "outputs": [
    {
     "name": "stderr",
     "output_type": "stream",
     "text": [
      "100%|██████████| 551399/551399 [05:41<00:00, 1616.33it/s]\n",
      "100%|██████████| 8527/8527 [00:05<00:00, 1513.97it/s]\n"
     ]
    },
    {
     "name": "stdout",
     "output_type": "stream",
     "text": [
      "Train samples shape: (551399, 200), Dev samples shape: (8527, 200)\n",
      "CPU times: user 5min 49s, sys: 11.9 s, total: 6min\n",
      "Wall time: 5min 47s\n"
     ]
    }
   ],
   "source": [
    "%%time\n",
    "X_train=extract_features(train,fasttext)\n",
    "X_dev=extract_features(dev,fasttext)\n",
    "y_train=np.array([x['score'] for x in train])\n",
    "y_dev=np.array([x['score'] for x in dev])\n",
    "print('Train samples shape: {}, Dev samples shape: {}'.format(X_train.shape,X_dev.shape))"
   ]
  },
  {
   "cell_type": "markdown",
   "metadata": {},
   "source": [
    "## Train\n",
    "- shallow sequential NN"
   ]
  },
  {
   "cell_type": "code",
   "execution_count": null,
   "metadata": {},
   "outputs": [],
   "source": [
    "def get_tb_callback():\n",
    "    suffix=datetime.now().strftime(\"%Y%m%d-%H%M%S\")\n",
    "    log_dir= os.path.join(TB_LOG_DIR,suffix)\n",
    "    return K.callbacks.TensorBoard(log_dir=os.path.join(log_dir))\n",
    "\n",
    "def penalized_loss(y_true, y_pred):\n",
    "    return K.backend.mean(K.backend.square(K.backend.abs(y_true - y_pred))/y_true)\n",
    "\n",
    "def train_model(batch_size,learning_rate, epochs,steps):\n",
    "    DROPRATE=0.1\n",
    "    tensorboard_callback = get_tb_callback()\n",
    "    model = K.models.Sequential([\n",
    "        K.layers.Dense(256,activation='relu', input_shape=(X_train.shape[1],)),\n",
    "        K.layers.Dense(1,activation='linear'),\n",
    "    ])\n",
    "    opt=K.optimizers.Adam(lr=learning_rate, decay=learning_rate/epochs)\n",
    "    model.compile(optimizer=opt, loss=penalized_loss,metrics=[penalized_loss])\n",
    "    sampler=UnderSampler(X_train,y_train,batch_size=batch_size)\n",
    "    model.fit_generator(sampler,\n",
    "                        shuffle=False,\n",
    "                        epochs=epochs,\n",
    "                        steps_per_epoch=steps,\n",
    "                        validation_data=(X_dev,y_dev),\n",
    "                        callbacks=[tensorboard_callback])\n",
    "    return model"
   ]
  },
  {
   "cell_type": "markdown",
   "metadata": {},
   "source": [
    "## Experiment"
   ]
  },
  {
   "cell_type": "code",
   "execution_count": null,
   "metadata": {},
   "outputs": [],
   "source": [
    "def experiment(learning_rate,epochs,batch_size,name,steps):\n",
    "    model=train_model(epochs=epochs,batch_size=batch_size,learning_rate=learning_rate,steps=steps)\n",
    "    y_pred_dev=model.predict(X_dev)\n",
    "    rmse_report(y_dev,y_pred_dev,title='{} - RMSE report'.format(name))\n",
    "    plot_history(model,title='{} - Train/Dev MSE'.format(name))\n",
    "    return model"
   ]
  },
  {
   "cell_type": "code",
   "execution_count": null,
   "metadata": {},
   "outputs": [
    {
     "name": "stdout",
     "output_type": "stream",
     "text": [
      "Epoch 1/60\n",
      "300/300 [==============================] - 4s 12ms/step - loss: 0.5638 - penalized_loss: 0.5638 - val_loss: 0.6381 - val_penalized_loss: 0.6381\n",
      "Epoch 2/60\n",
      "300/300 [==============================] - 4s 14ms/step - loss: 0.4383 - penalized_loss: 0.4383 - val_loss: 0.5273 - val_penalized_loss: 0.5273\n",
      "Epoch 3/60\n",
      "300/300 [==============================] - 4s 14ms/step - loss: 0.4285 - penalized_loss: 0.4285 - val_loss: 0.5281 - val_penalized_loss: 0.5281\n",
      "Epoch 4/60\n",
      "300/300 [==============================] - 4s 15ms/step - loss: 0.4151 - penalized_loss: 0.4151 - val_loss: 0.5174 - val_penalized_loss: 0.5174\n",
      "Epoch 5/60\n",
      "300/300 [==============================] - 3s 11ms/step - loss: 0.4075 - penalized_loss: 0.4075 - val_loss: 0.4568 - val_penalized_loss: 0.4568\n",
      "Epoch 6/60\n",
      "300/300 [==============================] - 4s 13ms/step - loss: 0.4005 - penalized_loss: 0.4005 - val_loss: 0.4425 - val_penalized_loss: 0.4425\n",
      "Epoch 7/60\n",
      "300/300 [==============================] - 3s 12ms/step - loss: 0.3918 - penalized_loss: 0.3918 - val_loss: 0.4519 - val_penalized_loss: 0.4519\n",
      "Epoch 8/60\n",
      "300/300 [==============================] - 4s 13ms/step - loss: 0.3950 - penalized_loss: 0.3950 - val_loss: 0.4238 - val_penalized_loss: 0.4238\n",
      "Epoch 9/60\n",
      "300/300 [==============================] - 4s 13ms/step - loss: 0.3903 - penalized_loss: 0.3903 - val_loss: 0.4660 - val_penalized_loss: 0.4660\n",
      "Epoch 10/60\n",
      "300/300 [==============================] - 4s 15ms/step - loss: 0.3808 - penalized_loss: 0.3808 - val_loss: 0.4877 - val_penalized_loss: 0.4877\n",
      "Epoch 11/60\n",
      "300/300 [==============================] - 4s 12ms/step - loss: 0.3823 - penalized_loss: 0.3823 - val_loss: 0.4915 - val_penalized_loss: 0.4915\n",
      "Epoch 12/60\n",
      "300/300 [==============================] - 4s 13ms/step - loss: 0.3764 - penalized_loss: 0.3764 - val_loss: 0.4812 - val_penalized_loss: 0.4812\n",
      "Epoch 13/60\n",
      "300/300 [==============================] - 3s 12ms/step - loss: 0.3726 - penalized_loss: 0.3726 - val_loss: 0.4411 - val_penalized_loss: 0.4411\n",
      "Epoch 14/60\n",
      "300/300 [==============================] - 4s 13ms/step - loss: 0.3688 - penalized_loss: 0.3688 - val_loss: 0.4794 - val_penalized_loss: 0.4794\n",
      "Epoch 15/60\n",
      "300/300 [==============================] - 4s 13ms/step - loss: 0.3703 - penalized_loss: 0.3703 - val_loss: 0.4136 - val_penalized_loss: 0.4136\n",
      "Epoch 16/60\n",
      "300/300 [==============================] - 4s 15ms/step - loss: 0.3645 - penalized_loss: 0.3645 - val_loss: 0.3994 - val_penalized_loss: 0.3994\n",
      "Epoch 17/60\n",
      "300/300 [==============================] - 4s 13ms/step - loss: 0.3638 - penalized_loss: 0.3638 - val_loss: 0.4720 - val_penalized_loss: 0.4720\n",
      "Epoch 18/60\n",
      "300/300 [==============================] - 3s 11ms/step - loss: 0.3648 - penalized_loss: 0.3648 - val_loss: 0.4643 - val_penalized_loss: 0.4643\n",
      "Epoch 19/60\n",
      "300/300 [==============================] - 4s 12ms/step - loss: 0.3571 - penalized_loss: 0.3571 - val_loss: 0.4365 - val_penalized_loss: 0.4365\n",
      "Epoch 20/60\n",
      "300/300 [==============================] - 3s 11ms/step - loss: 0.3621 - penalized_loss: 0.3621 - val_loss: 0.4241 - val_penalized_loss: 0.4241\n",
      "Epoch 21/60\n",
      "300/300 [==============================] - 5s 16ms/step - loss: 0.3566 - penalized_loss: 0.3566 - val_loss: 0.4428 - val_penalized_loss: 0.4428\n",
      "Epoch 22/60\n",
      "300/300 [==============================] - 4s 13ms/step - loss: 0.3558 - penalized_loss: 0.3558 - val_loss: 0.4198 - val_penalized_loss: 0.4198\n",
      "Epoch 23/60\n",
      "300/300 [==============================] - 4s 13ms/step - loss: 0.3544 - penalized_loss: 0.3544 - val_loss: 0.4331 - val_penalized_loss: 0.4331\n",
      "Epoch 24/60\n",
      "300/300 [==============================] - 3s 11ms/step - loss: 0.3529 - penalized_loss: 0.3529 - val_loss: 0.5337 - val_penalized_loss: 0.5337\n",
      "Epoch 25/60\n",
      "300/300 [==============================] - 4s 13ms/step - loss: 0.3516 - penalized_loss: 0.3516 - val_loss: 0.4219 - val_penalized_loss: 0.4219\n",
      "Epoch 26/60\n",
      "300/300 [==============================] - 3s 11ms/step - loss: 0.3504 - penalized_loss: 0.3504 - val_loss: 0.4274 - val_penalized_loss: 0.4274\n",
      "Epoch 27/60\n",
      "300/300 [==============================] - 5s 15ms/step - loss: 0.3438 - penalized_loss: 0.3438 - val_loss: 0.3843 - val_penalized_loss: 0.3843\n",
      "Epoch 28/60\n",
      "300/300 [==============================] - 4s 13ms/step - loss: 0.3491 - penalized_loss: 0.3491 - val_loss: 0.3894 - val_penalized_loss: 0.3894\n",
      "Epoch 29/60\n",
      "300/300 [==============================] - 4s 13ms/step - loss: 0.3432 - penalized_loss: 0.3432 - val_loss: 0.4385 - val_penalized_loss: 0.4385\n",
      "Epoch 30/60\n",
      "300/300 [==============================] - 3s 11ms/step - loss: 0.3429 - penalized_loss: 0.3429 - val_loss: 0.4448 - val_penalized_loss: 0.4448\n",
      "Epoch 31/60\n",
      "300/300 [==============================] - 4s 12ms/step - loss: 0.3405 - penalized_loss: 0.3405 - val_loss: 0.4210 - val_penalized_loss: 0.4210\n",
      "Epoch 32/60\n",
      "300/300 [==============================] - 4s 13ms/step - loss: 0.3416 - penalized_loss: 0.3416 - val_loss: 0.3901 - val_penalized_loss: 0.3901\n",
      "Epoch 33/60\n",
      "300/300 [==============================] - 4s 14ms/step - loss: 0.3404 - penalized_loss: 0.3404 - val_loss: 0.4113 - val_penalized_loss: 0.4113\n",
      "Epoch 34/60\n",
      "300/300 [==============================] - 4s 14ms/step - loss: 0.3434 - penalized_loss: 0.3434 - val_loss: 0.4163 - val_penalized_loss: 0.4163\n",
      "Epoch 35/60\n",
      "300/300 [==============================] - 3s 12ms/step - loss: 0.3405 - penalized_loss: 0.3405 - val_loss: 0.3794 - val_penalized_loss: 0.3794\n",
      "Epoch 36/60\n",
      "300/300 [==============================] - 4s 12ms/step - loss: 0.3424 - penalized_loss: 0.3424 - val_loss: 0.4288 - val_penalized_loss: 0.4288\n",
      "Epoch 37/60\n",
      "300/300 [==============================] - 4s 12ms/step - loss: 0.3391 - penalized_loss: 0.3391 - val_loss: 0.4203 - val_penalized_loss: 0.4203\n",
      "Epoch 38/60\n",
      "300/300 [==============================] - 4s 12ms/step - loss: 0.3374 - penalized_loss: 0.3374 - val_loss: 0.4383 - val_penalized_loss: 0.4383\n",
      "Epoch 39/60\n",
      "300/300 [==============================] - 4s 13ms/step - loss: 0.3375 - penalized_loss: 0.3375 - val_loss: 0.4276 - val_penalized_loss: 0.4276\n",
      "Epoch 40/60\n",
      "300/300 [==============================] - 4s 14ms/step - loss: 0.3369 - penalized_loss: 0.3369 - val_loss: 0.4495 - val_penalized_loss: 0.4495\n",
      "Epoch 41/60\n",
      "300/300 [==============================] - 3s 12ms/step - loss: 0.3355 - penalized_loss: 0.3355 - val_loss: 0.4112 - val_penalized_loss: 0.4112\n",
      "Epoch 42/60\n",
      "300/300 [==============================] - 4s 13ms/step - loss: 0.3300 - penalized_loss: 0.3300 - val_loss: 0.3947 - val_penalized_loss: 0.3947\n",
      "Epoch 43/60\n",
      "300/300 [==============================] - 3s 11ms/step - loss: 0.3365 - penalized_loss: 0.3365 - val_loss: 0.4049 - val_penalized_loss: 0.4049\n",
      "Epoch 44/60\n",
      "300/300 [==============================] - 4s 13ms/step - loss: 0.3360 - penalized_loss: 0.3360 - val_loss: 0.4121 - val_penalized_loss: 0.4121\n",
      "Epoch 45/60\n",
      "300/300 [==============================] - 4s 14ms/step - loss: 0.3327 - penalized_loss: 0.3327 - val_loss: 0.4030 - val_penalized_loss: 0.4030\n",
      "Epoch 46/60\n",
      "300/300 [==============================] - 4s 14ms/step - loss: 0.3285 - penalized_loss: 0.3285 - val_loss: 0.3831 - val_penalized_loss: 0.3831\n",
      "Epoch 47/60\n",
      "300/300 [==============================] - 3s 11ms/step - loss: 0.3316 - penalized_loss: 0.3316 - val_loss: 0.3884 - val_penalized_loss: 0.3884\n",
      "Epoch 48/60\n",
      "300/300 [==============================] - 4s 12ms/step - loss: 0.3313 - penalized_loss: 0.3313 - val_loss: 0.4062 - val_penalized_loss: 0.4062\n",
      "Epoch 49/60\n",
      "300/300 [==============================] - 4s 13ms/step - loss: 0.3301 - penalized_loss: 0.3301 - val_loss: 0.3930 - val_penalized_loss: 0.3930\n",
      "Epoch 50/60\n",
      "300/300 [==============================] - 4s 12ms/step - loss: 0.3261 - penalized_loss: 0.3261 - val_loss: 0.3906 - val_penalized_loss: 0.3906\n",
      "Epoch 51/60\n",
      "300/300 [==============================] - 4s 14ms/step - loss: 0.3291 - penalized_loss: 0.3291 - val_loss: 0.4095 - val_penalized_loss: 0.4095\n",
      "Epoch 52/60\n",
      "300/300 [==============================] - 4s 13ms/step - loss: 0.3234 - penalized_loss: 0.3234 - val_loss: 0.4008 - val_penalized_loss: 0.4008\n",
      "Epoch 53/60\n",
      "300/300 [==============================] - 4s 13ms/step - loss: 0.3277 - penalized_loss: 0.3277 - val_loss: 0.3846 - val_penalized_loss: 0.3846\n",
      "Epoch 54/60\n",
      "157/300 [==============>...............] - ETA: 1s - loss: 0.3312 - penalized_loss: 0.3312"
     ]
    }
   ],
   "source": [
    "model=experiment(learning_rate=0.04,epochs=60,batch_size=256,steps=300,name='model')"
   ]
  },
  {
   "cell_type": "code",
   "execution_count": null,
   "metadata": {},
   "outputs": [],
   "source": [
    "model.summary()"
   ]
  },
  {
   "cell_type": "code",
   "execution_count": null,
   "metadata": {},
   "outputs": [],
   "source": [
    "## Persist model"
   ]
  },
  {
   "cell_type": "code",
   "execution_count": null,
   "metadata": {},
   "outputs": [],
   "source": [
    "model.save('/home/kvassay/data/z/models/E3b/keras_regressor.h5')"
   ]
  },
  {
   "cell_type": "code",
   "execution_count": null,
   "metadata": {},
   "outputs": [],
   "source": []
  }
 ],
 "metadata": {
  "kernelspec": {
   "display_name": "Python 3",
   "language": "python",
   "name": "python3"
  },
  "language_info": {
   "codemirror_mode": {
    "name": "ipython",
    "version": 3
   },
   "file_extension": ".py",
   "mimetype": "text/x-python",
   "name": "python",
   "nbconvert_exporter": "python",
   "pygments_lexer": "ipython3",
   "version": "3.6.7"
  }
 },
 "nbformat": 4,
 "nbformat_minor": 2
}
