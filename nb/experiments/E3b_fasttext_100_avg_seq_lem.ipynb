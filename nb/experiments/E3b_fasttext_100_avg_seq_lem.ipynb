{
 "cells": [
  {
   "cell_type": "code",
   "execution_count": 1,
   "metadata": {},
   "outputs": [],
   "source": [
    "import pickle\n",
    "import os\n",
    "import re\n",
    "import numpy as np\n",
    "import spacy\n",
    "import tensorflow as tf\n",
    "import tensorflow.keras as K\n",
    "from datetime import datetime\n",
    "from sklearn.preprocessing import normalize as scikit_normalize\n",
    "from evaluation import plot_history\n",
    "from evaluation import rmse_report\n",
    "from sampling import UnderSampler\n",
    "from fasttext_embedding import FastTextEmbeddingBag\n",
    "from spacy.lang.en.stop_words import STOP_WORDS\n",
    "from tqdm import tqdm\n",
    "\n",
    "%matplotlib inline\n",
    "%load_ext tensorboard"
   ]
  },
  {
   "cell_type": "code",
   "execution_count": 2,
   "metadata": {},
   "outputs": [],
   "source": [
    "DATASET='/home/kvassay/data/z/data/reviews_train_test_dev1_{}.pickle'\n",
    "TYPE='lem_tok'\n",
    "TB_LOG_DIR='/home/kvassay/data/z/log/E3b/scalars/'\n",
    "VEC_DIM=100\n",
    "FASTTEXT='/home/kvassay/data/z/models/fasttext/cbow_lem_{}_e{}_w{}.bin'.format(VEC_DIM,50,5)\n",
    "ALLOWED_SPECIAL=tuple(['?','!',':(', ':)', ':D',':-)',':-D',':\\'(',':/',':-/','<3',':-P',':P'])"
   ]
  },
  {
   "cell_type": "markdown",
   "metadata": {},
   "source": [
    "## Read data"
   ]
  },
  {
   "cell_type": "code",
   "execution_count": 3,
   "metadata": {},
   "outputs": [
    {
     "name": "stdout",
     "output_type": "stream",
     "text": [
      "CPU times: user 4.68 s, sys: 1.04 s, total: 5.73 s\n",
      "Wall time: 5.94 s\n"
     ]
    }
   ],
   "source": [
    "%%time\n",
    "with open(DATASET.format(TYPE),'rb') as f:\n",
    "    train,dev,_=pickle.load(f)"
   ]
  },
  {
   "cell_type": "markdown",
   "metadata": {},
   "source": [
    "## Load models"
   ]
  },
  {
   "cell_type": "code",
   "execution_count": 4,
   "metadata": {},
   "outputs": [
    {
     "name": "stderr",
     "output_type": "stream",
     "text": [
      "\n"
     ]
    },
    {
     "name": "stdout",
     "output_type": "stream",
     "text": [
      "CPU times: user 2.07 s, sys: 1.22 s, total: 3.3 s\n",
      "Wall time: 8.26 s\n"
     ]
    }
   ],
   "source": [
    "%%time\n",
    "fasttext=FastTextEmbeddingBag(FASTTEXT)"
   ]
  },
  {
   "cell_type": "markdown",
   "metadata": {},
   "source": [
    "## Preprocess text + extract features\n",
    "- filter out EN stop-words (and, or, ...)\n",
    "- filter out non-allowed special tokens (we want to keep smileys and !,?)\n",
    "- filter out short words (1-2 characters)"
   ]
  },
  {
   "cell_type": "code",
   "execution_count": 5,
   "metadata": {},
   "outputs": [],
   "source": [
    "rx_special= re.compile(\"|\".join(re.escape(s) for s in ALLOWED_SPECIAL))\n",
    "\n",
    "def word_filter(word):\n",
    "    if word in STOP_WORDS:\n",
    "        return False\n",
    "    if not word.isalpha():\n",
    "        if not rx_special.findall(word):\n",
    "            return False\n",
    "    else:\n",
    "        if len(word)<3:\n",
    "            return False\n",
    "    return True\n",
    "\n",
    "def preprocess_text(text):\n",
    "    return [x.lower() for x in text if word_filter(x.lower())]\n",
    "\n",
    "def preprocess_texts(dataset,text_keys=['summary','text']):\n",
    "    for sample in tqdm(dataset):\n",
    "        for key in text_keys:\n",
    "            sample[key]=preprocess_text(sample[key])\n",
    "    return dataset"
   ]
  },
  {
   "cell_type": "code",
   "execution_count": 6,
   "metadata": {},
   "outputs": [
    {
     "name": "stderr",
     "output_type": "stream",
     "text": [
      "100%|██████████| 551399/551399 [00:17<00:00, 30955.74it/s]\n",
      "100%|██████████| 8527/8527 [00:00<00:00, 27539.37it/s]"
     ]
    },
    {
     "name": "stdout",
     "output_type": "stream",
     "text": [
      "CPU times: user 18.1 s, sys: 114 ms, total: 18.2 s\n",
      "Wall time: 18.1 s\n"
     ]
    },
    {
     "name": "stderr",
     "output_type": "stream",
     "text": [
      "\n"
     ]
    }
   ],
   "source": [
    "%%time\n",
    "train=preprocess_texts(train)\n",
    "dev=preprocess_texts(dev)"
   ]
  },
  {
   "cell_type": "markdown",
   "metadata": {},
   "source": [
    "## Extract features\n",
    "- transform texts to averages of their fastText vectors\n",
    "- concatenate summary & text average vectors into single one"
   ]
  },
  {
   "cell_type": "code",
   "execution_count": 7,
   "metadata": {},
   "outputs": [],
   "source": [
    "def extract_features(dataset, fasttext):\n",
    "    default_vec=np.zeros(VEC_DIM,dtype=np.float32)\n",
    "    vecs=[]\n",
    "    for sample in tqdm(dataset):\n",
    "        if sample['summary']:\n",
    "            vecs_summary=fasttext.forward([x for x in sample['summary']])\n",
    "        else:\n",
    "            vecs_summary=[default_vec]\n",
    "        if sample['text']:\n",
    "            vecs_text = fasttext.forward([x for x in sample['text']])\n",
    "        else:\n",
    "            vecs_text=[default_vec]\n",
    "        avg_summary = np.mean(vecs_summary,axis=0)\n",
    "        avg_text = np.mean(vecs_text,axis=0)\n",
    "        vecs.append(np.concatenate((avg_summary,avg_text), axis=0))\n",
    "    vecs=np.array(vecs)\n",
    "    return scikit_normalize(vecs)"
   ]
  },
  {
   "cell_type": "code",
   "execution_count": 8,
   "metadata": {},
   "outputs": [
    {
     "name": "stderr",
     "output_type": "stream",
     "text": [
      "100%|██████████| 551399/551399 [05:39<00:00, 1622.02it/s]\n",
      "100%|██████████| 8527/8527 [00:05<00:00, 1527.91it/s]"
     ]
    },
    {
     "name": "stdout",
     "output_type": "stream",
     "text": [
      "Train samples shape: (551399, 200), Dev samples shape: (8527, 200)\n",
      "CPU times: user 5min 48s, sys: 10.8 s, total: 5min 59s\n",
      "Wall time: 5min 46s\n"
     ]
    },
    {
     "name": "stderr",
     "output_type": "stream",
     "text": [
      "\n"
     ]
    }
   ],
   "source": [
    "%%time\n",
    "X_train=extract_features(train,fasttext)\n",
    "X_dev=extract_features(dev,fasttext)\n",
    "y_train=np.array([x['score'] for x in train])\n",
    "y_dev=np.array([x['score'] for x in dev])\n",
    "print('Train samples shape: {}, Dev samples shape: {}'.format(X_train.shape,X_dev.shape))"
   ]
  },
  {
   "cell_type": "markdown",
   "metadata": {},
   "source": [
    "## Train\n",
    "- shallow sequential NN"
   ]
  },
  {
   "cell_type": "code",
   "execution_count": 9,
   "metadata": {},
   "outputs": [],
   "source": [
    "def get_tb_callback():\n",
    "    suffix=datetime.now().strftime(\"%Y%m%d-%H%M%S\")\n",
    "    log_dir= os.path.join(TB_LOG_DIR,suffix)\n",
    "    return K.callbacks.TensorBoard(log_dir=os.path.join(log_dir))\n",
    "\n",
    "def penalized_loss(y_true, y_pred):\n",
    "    return K.backend.mean(K.backend.square(K.backend.abs(y_true - y_pred))/y_true)\n",
    "\n",
    "def train_model(batch_size,learning_rate, epochs,steps):\n",
    "    DROPRATE=0.1\n",
    "    tensorboard_callback = get_tb_callback()\n",
    "    model = K.models.Sequential([\n",
    "        K.layers.Dense(256,activation='relu', input_shape=(X_train.shape[1],)),\n",
    "        K.layers.Dense(1,activation='linear'),\n",
    "    ])\n",
    "    opt=K.optimizers.Adam(lr=learning_rate, decay=learning_rate/epochs)\n",
    "    model.compile(optimizer=opt, loss=penalized_loss,metrics=[penalized_loss])\n",
    "    sampler=UnderSampler(X_train,y_train,batch_size=batch_size)\n",
    "    model.fit_generator(sampler,\n",
    "                        shuffle=False,\n",
    "                        epochs=epochs,\n",
    "                        steps_per_epoch=steps,\n",
    "                        validation_data=(X_dev,y_dev),\n",
    "                        callbacks=[tensorboard_callback])\n",
    "    return model"
   ]
  },
  {
   "cell_type": "markdown",
   "metadata": {},
   "source": [
    "## Experiment"
   ]
  },
  {
   "cell_type": "code",
   "execution_count": 10,
   "metadata": {},
   "outputs": [],
   "source": [
    "def experiment(learning_rate,epochs,batch_size,name,steps):\n",
    "    model=train_model(epochs=epochs,batch_size=batch_size,learning_rate=learning_rate,steps=steps)\n",
    "    y_pred_dev=model.predict(X_dev)\n",
    "    rmse_report(y_dev,y_pred_dev,title='{} - RMSE report'.format(name))\n",
    "    plot_history(model,title='{} - Train/Dev MSE'.format(name))\n",
    "    return model"
   ]
  },
  {
   "cell_type": "code",
   "execution_count": 11,
   "metadata": {},
   "outputs": [
    {
     "name": "stdout",
     "output_type": "stream",
     "text": [
      "Epoch 1/60\n",
      "300/300 [==============================] - 3s 12ms/step - loss: 0.5873 - penalized_loss: 0.5873 - val_loss: 0.5314 - val_penalized_loss: 0.5314\n",
      "Epoch 2/60\n",
      "300/300 [==============================] - 4s 14ms/step - loss: 0.4402 - penalized_loss: 0.4402 - val_loss: 0.4718 - val_penalized_loss: 0.4718\n",
      "Epoch 3/60\n",
      "300/300 [==============================] - 4s 12ms/step - loss: 0.4282 - penalized_loss: 0.4282 - val_loss: 0.4685 - val_penalized_loss: 0.4685\n",
      "Epoch 4/60\n",
      "300/300 [==============================] - 5s 15ms/step - loss: 0.4194 - penalized_loss: 0.4194 - val_loss: 0.5290 - val_penalized_loss: 0.5290\n",
      "Epoch 5/60\n",
      "300/300 [==============================] - 4s 12ms/step - loss: 0.4105 - penalized_loss: 0.4105 - val_loss: 0.4990 - val_penalized_loss: 0.4990\n",
      "Epoch 6/60\n",
      "300/300 [==============================] - 4s 13ms/step - loss: 0.4052 - penalized_loss: 0.4052 - val_loss: 0.5011 - val_penalized_loss: 0.5011\n",
      "Epoch 7/60\n",
      "300/300 [==============================] - 3s 11ms/step - loss: 0.4005 - penalized_loss: 0.4005 - val_loss: 0.5395 - val_penalized_loss: 0.5395\n",
      "Epoch 8/60\n",
      "300/300 [==============================] - 4s 14ms/step - loss: 0.3925 - penalized_loss: 0.3925 - val_loss: 0.4657 - val_penalized_loss: 0.4657\n",
      "Epoch 9/60\n",
      "300/300 [==============================] - 4s 12ms/step - loss: 0.3923 - penalized_loss: 0.3923 - val_loss: 0.4633 - val_penalized_loss: 0.4633\n",
      "Epoch 10/60\n",
      "300/300 [==============================] - 4s 14ms/step - loss: 0.3872 - penalized_loss: 0.3872 - val_loss: 0.5093 - val_penalized_loss: 0.5093\n",
      "Epoch 11/60\n",
      "300/300 [==============================] - 4s 12ms/step - loss: 0.3857 - penalized_loss: 0.3857 - val_loss: 0.4987 - val_penalized_loss: 0.4987\n",
      "Epoch 12/60\n",
      "300/300 [==============================] - 4s 13ms/step - loss: 0.3785 - penalized_loss: 0.3785 - val_loss: 0.4256 - val_penalized_loss: 0.4256\n",
      "Epoch 13/60\n",
      "300/300 [==============================] - 3s 11ms/step - loss: 0.3820 - penalized_loss: 0.3820 - val_loss: 0.4153 - val_penalized_loss: 0.4153\n",
      "Epoch 14/60\n",
      "300/300 [==============================] - 4s 14ms/step - loss: 0.3749 - penalized_loss: 0.3749 - val_loss: 0.4419 - val_penalized_loss: 0.4419\n",
      "Epoch 15/60\n",
      "300/300 [==============================] - 4s 12ms/step - loss: 0.3777 - penalized_loss: 0.3777 - val_loss: 0.4632 - val_penalized_loss: 0.4632\n",
      "Epoch 16/60\n",
      "300/300 [==============================] - 4s 15ms/step - loss: 0.3721 - penalized_loss: 0.3721 - val_loss: 0.4446 - val_penalized_loss: 0.4446\n",
      "Epoch 17/60\n",
      "300/300 [==============================] - 4s 13ms/step - loss: 0.3708 - penalized_loss: 0.3708 - val_loss: 0.4587 - val_penalized_loss: 0.4587\n",
      "Epoch 18/60\n",
      "300/300 [==============================] - 4s 12ms/step - loss: 0.3638 - penalized_loss: 0.3638 - val_loss: 0.4493 - val_penalized_loss: 0.4493\n",
      "Epoch 19/60\n",
      "300/300 [==============================] - 4s 13ms/step - loss: 0.3686 - penalized_loss: 0.3686 - val_loss: 0.4681 - val_penalized_loss: 0.4681\n",
      "Epoch 20/60\n",
      "300/300 [==============================] - 4s 13ms/step - loss: 0.3636 - penalized_loss: 0.3636 - val_loss: 0.4468 - val_penalized_loss: 0.4468\n",
      "Epoch 21/60\n",
      "300/300 [==============================] - 4s 13ms/step - loss: 0.3623 - penalized_loss: 0.3623 - val_loss: 0.4239 - val_penalized_loss: 0.4239\n",
      "Epoch 22/60\n",
      "300/300 [==============================] - 4s 13ms/step - loss: 0.3643 - penalized_loss: 0.3643 - val_loss: 0.4224 - val_penalized_loss: 0.4224\n",
      "Epoch 23/60\n",
      "300/300 [==============================] - 4s 13ms/step - loss: 0.3619 - penalized_loss: 0.3619 - val_loss: 0.4061 - val_penalized_loss: 0.4061\n",
      "Epoch 24/60\n",
      "300/300 [==============================] - 3s 11ms/step - loss: 0.3613 - penalized_loss: 0.3613 - val_loss: 0.5024 - val_penalized_loss: 0.5024\n",
      "Epoch 25/60\n",
      "300/300 [==============================] - 4s 13ms/step - loss: 0.3556 - penalized_loss: 0.3556 - val_loss: 0.4105 - val_penalized_loss: 0.4105\n",
      "Epoch 26/60\n",
      "300/300 [==============================] - 4s 13ms/step - loss: 0.3597 - penalized_loss: 0.3597 - val_loss: 0.4339 - val_penalized_loss: 0.4339\n",
      "Epoch 27/60\n",
      "300/300 [==============================] - 4s 13ms/step - loss: 0.3580 - penalized_loss: 0.3580 - val_loss: 0.4344 - val_penalized_loss: 0.4344\n",
      "Epoch 28/60\n",
      "300/300 [==============================] - 4s 13ms/step - loss: 0.3597 - penalized_loss: 0.3597 - val_loss: 0.4614 - val_penalized_loss: 0.4614\n",
      "Epoch 29/60\n",
      "300/300 [==============================] - 4s 13ms/step - loss: 0.3556 - penalized_loss: 0.3556 - val_loss: 0.4728 - val_penalized_loss: 0.4728\n",
      "Epoch 30/60\n",
      "300/300 [==============================] - 3s 11ms/step - loss: 0.3548 - penalized_loss: 0.3548 - val_loss: 0.4458 - val_penalized_loss: 0.4458\n",
      "Epoch 31/60\n",
      "300/300 [==============================] - 4s 12ms/step - loss: 0.3548 - penalized_loss: 0.3548 - val_loss: 0.4117 - val_penalized_loss: 0.4117\n",
      "Epoch 32/60\n",
      "300/300 [==============================] - 4s 14ms/step - loss: 0.3490 - penalized_loss: 0.3490 - val_loss: 0.4496 - val_penalized_loss: 0.4496\n",
      "Epoch 33/60\n",
      "300/300 [==============================] - 3s 11ms/step - loss: 0.3541 - penalized_loss: 0.3541 - val_loss: 0.4765 - val_penalized_loss: 0.4765\n",
      "Epoch 34/60\n",
      "300/300 [==============================] - 4s 14ms/step - loss: 0.3494 - penalized_loss: 0.3494 - val_loss: 0.3931 - val_penalized_loss: 0.3931\n",
      "Epoch 35/60\n",
      "300/300 [==============================] - 4s 13ms/step - loss: 0.3514 - penalized_loss: 0.3514 - val_loss: 0.4889 - val_penalized_loss: 0.4889\n",
      "Epoch 36/60\n",
      "300/300 [==============================] - 4s 13ms/step - loss: 0.3503 - penalized_loss: 0.3503 - val_loss: 0.4518 - val_penalized_loss: 0.4518\n",
      "Epoch 37/60\n",
      "300/300 [==============================] - 3s 12ms/step - loss: 0.3503 - penalized_loss: 0.3503 - val_loss: 0.4194 - val_penalized_loss: 0.4194\n",
      "Epoch 38/60\n",
      "300/300 [==============================] - 4s 15ms/step - loss: 0.3472 - penalized_loss: 0.3472 - val_loss: 0.3942 - val_penalized_loss: 0.3942\n",
      "Epoch 39/60\n",
      "300/300 [==============================] - 3s 11ms/step - loss: 0.3497 - penalized_loss: 0.3497 - val_loss: 0.4178 - val_penalized_loss: 0.4178\n",
      "Epoch 40/60\n",
      "300/300 [==============================] - 4s 15ms/step - loss: 0.3471 - penalized_loss: 0.3471 - val_loss: 0.4309 - val_penalized_loss: 0.4309\n",
      "Epoch 41/60\n",
      "300/300 [==============================] - 4s 12ms/step - loss: 0.3451 - penalized_loss: 0.3451 - val_loss: 0.4098 - val_penalized_loss: 0.4098\n",
      "Epoch 42/60\n",
      "300/300 [==============================] - 4s 12ms/step - loss: 0.3464 - penalized_loss: 0.3464 - val_loss: 0.4331 - val_penalized_loss: 0.4331\n",
      "Epoch 43/60\n",
      "300/300 [==============================] - 3s 11ms/step - loss: 0.3431 - penalized_loss: 0.3431 - val_loss: 0.4474 - val_penalized_loss: 0.4474\n",
      "Epoch 44/60\n",
      "300/300 [==============================] - 4s 15ms/step - loss: 0.3429 - penalized_loss: 0.3429 - val_loss: 0.4328 - val_penalized_loss: 0.4328\n",
      "Epoch 45/60\n",
      "300/300 [==============================] - 4s 12ms/step - loss: 0.3431 - penalized_loss: 0.3431 - val_loss: 0.4365 - val_penalized_loss: 0.4365\n",
      "Epoch 46/60\n",
      "300/300 [==============================] - 4s 15ms/step - loss: 0.3407 - penalized_loss: 0.3407 - val_loss: 0.4331 - val_penalized_loss: 0.4331\n",
      "Epoch 47/60\n",
      "300/300 [==============================] - 4s 12ms/step - loss: 0.3417 - penalized_loss: 0.3417 - val_loss: 0.4401 - val_penalized_loss: 0.4401\n",
      "Epoch 48/60\n",
      "300/300 [==============================] - 4s 12ms/step - loss: 0.3415 - penalized_loss: 0.3415 - val_loss: 0.4241 - val_penalized_loss: 0.4241\n",
      "Epoch 49/60\n",
      "300/300 [==============================] - 4s 13ms/step - loss: 0.3423 - penalized_loss: 0.3423 - val_loss: 0.4264 - val_penalized_loss: 0.4264\n",
      "Epoch 50/60\n",
      "300/300 [==============================] - 4s 12ms/step - loss: 0.3391 - penalized_loss: 0.3391 - val_loss: 0.4217 - val_penalized_loss: 0.4217\n",
      "Epoch 51/60\n",
      "300/300 [==============================] - 4s 13ms/step - loss: 0.3409 - penalized_loss: 0.3409 - val_loss: 0.4426 - val_penalized_loss: 0.4426\n",
      "Epoch 52/60\n",
      "300/300 [==============================] - 3s 12ms/step - loss: 0.3391 - penalized_loss: 0.3391 - val_loss: 0.4729 - val_penalized_loss: 0.4729\n",
      "Epoch 53/60\n",
      "300/300 [==============================] - 4s 14ms/step - loss: 0.3389 - penalized_loss: 0.3389 - val_loss: 0.4222 - val_penalized_loss: 0.4222\n",
      "Epoch 54/60\n",
      "300/300 [==============================] - 4s 12ms/step - loss: 0.3398 - penalized_loss: 0.3398 - val_loss: 0.4291 - val_penalized_loss: 0.4291\n",
      "Epoch 55/60\n",
      "300/300 [==============================] - 4s 12ms/step - loss: 0.3377 - penalized_loss: 0.3377 - val_loss: 0.4032 - val_penalized_loss: 0.4032\n",
      "Epoch 56/60\n",
      "300/300 [==============================] - 4s 13ms/step - loss: 0.3408 - penalized_loss: 0.3408 - val_loss: 0.3993 - val_penalized_loss: 0.3993\n",
      "Epoch 57/60\n",
      "300/300 [==============================] - 4s 13ms/step - loss: 0.3349 - penalized_loss: 0.3349 - val_loss: 0.4096 - val_penalized_loss: 0.4096\n",
      "Epoch 58/60\n",
      "300/300 [==============================] - 4s 13ms/step - loss: 0.3376 - penalized_loss: 0.3376 - val_loss: 0.4362 - val_penalized_loss: 0.4362\n",
      "Epoch 59/60\n",
      "300/300 [==============================] - 4s 14ms/step - loss: 0.3371 - penalized_loss: 0.3371 - val_loss: 0.4088 - val_penalized_loss: 0.4088\n",
      "Epoch 60/60\n",
      "300/300 [==============================] - 3s 12ms/step - loss: 0.3365 - penalized_loss: 0.3365 - val_loss: 0.4205 - val_penalized_loss: 0.4205\n"
     ]
    },
    {
     "data": {
      "text/html": [
       "\n",
       "    <h2> model - RMSE report </h2>\n",
       "    <h3> RMSE </h3>\n",
       "    <hr>\n",
       "    <div>\n",
       "        <table>\n",
       "            <tr>\n",
       "                <td>RMSE (baseline &forall;1.0)</td>\n",
       "                <td>1.53</td>\n",
       "            </tr>\n",
       "            <tr>\n",
       "                <td>RMSE</td>\n",
       "                <td>1.32</td>\n",
       "            </tr>\n",
       "        </table>\n",
       "    <hr>\n",
       "    <h3> Partial RMSE </h3>\n",
       "        <table>\n",
       "            <tr>\n",
       "                <td>Mean partial RMSE (baseline &forall;1.0)</td>\n",
       "                <td>2.0</td>\n",
       "            </tr>\n",
       "            <tr>\n",
       "                <td>Max partial RMSE (baseline &forall;1.0)</td>\n",
       "                <td>1.414</td>\n",
       "            </tr>\n",
       "            <tr>\n",
       "                <td>St.dev. partial RMSE (baseline &forall;1.0)</td>\n",
       "                <td>4.0</td>\n",
       "            </tr>\n",
       "            <tr>\n",
       "                <td>Mean partial RMSE</td>\n",
       "                <td><b>0.977</b></td>\n",
       "            </tr>\n",
       "            <tr>\n",
       "                <td>Max partial RMSE</td>\n",
       "                <td>0.296</td>\n",
       "            </tr>\n",
       "            <tr>\n",
       "                <td>St.dev. partial RMSE</td>\n",
       "                <td>1.497</td>\n",
       "            </tr>            \n",
       "        </table>\n",
       "    </div>\n",
       "    <h3> Improvement over baseline (&forall;1.0) </h3>\n",
       "    <hr>\n",
       "    <div>\n",
       "        <table>\n",
       "            <tr>\n",
       "                <td>RMSE</td>\n",
       "                <td>0.21</td>\n",
       "            </tr>\n",
       "            <tr>\n",
       "                <td>Mean partial RMSE</td>\n",
       "                <td><b>1.023</b></td>\n",
       "            </tr>\n",
       "            <tr>\n",
       "                <td>Max partial RMSE</td>\n",
       "                <td>2.503</td>\n",
       "            </tr>\n",
       "        </table>\n",
       "    </div>\n",
       "    \n",
       "    <h3> Partial RMSE detailed</h3>\n",
       "    <hr>\n",
       "    <div>\n",
       "        <table>\n",
       "            <tr>\n",
       "                <th>Review Score</th>\n",
       "                <th>RMSE</th>\n",
       "                <th>RMSE baseline (&forall;1.0)</th>\n",
       "                <th>Improvement over baseline</th>\n",
       "            </tr>\n",
       "            \n",
       "    <tr>\n",
       "        <td>\n",
       "            5.0\n",
       "        </td>\n",
       "        <td>\n",
       "            1.497\n",
       "        </td>\n",
       "        <td>\n",
       "            0.0\n",
       "        </td>\n",
       "        <td>\n",
       "            -1.497\n",
       "        </td>\n",
       "    </tr>\n",
       "    \n",
       "\n",
       "    <tr>\n",
       "        <td>\n",
       "            4.0\n",
       "        </td>\n",
       "        <td>\n",
       "            1.092\n",
       "        </td>\n",
       "        <td>\n",
       "            1.0\n",
       "        </td>\n",
       "        <td>\n",
       "            -0.092\n",
       "        </td>\n",
       "    </tr>\n",
       "    \n",
       "\n",
       "    <tr>\n",
       "        <td>\n",
       "            3.0\n",
       "        </td>\n",
       "        <td>\n",
       "            0.822\n",
       "        </td>\n",
       "        <td>\n",
       "            2.0\n",
       "        </td>\n",
       "        <td>\n",
       "            1.178\n",
       "        </td>\n",
       "    </tr>\n",
       "    \n",
       "\n",
       "    <tr>\n",
       "        <td>\n",
       "            2.0\n",
       "        </td>\n",
       "        <td>\n",
       "            0.653\n",
       "        </td>\n",
       "        <td>\n",
       "            3.0\n",
       "        </td>\n",
       "        <td>\n",
       "            2.347\n",
       "        </td>\n",
       "    </tr>\n",
       "    \n",
       "\n",
       "    <tr>\n",
       "        <td>\n",
       "            1.0\n",
       "        </td>\n",
       "        <td>\n",
       "            0.817\n",
       "        </td>\n",
       "        <td>\n",
       "            4.0\n",
       "        </td>\n",
       "        <td>\n",
       "            3.183\n",
       "        </td>\n",
       "    </tr>\n",
       "    \n",
       "        </table>\n",
       "    </div>\n",
       "    "
      ],
      "text/plain": [
       "<IPython.core.display.HTML object>"
      ]
     },
     "metadata": {},
     "output_type": "display_data"
    },
    {
     "data": {
      "image/png": "[encoded data removed]",
      "text/plain": [
       "<Figure size 432x288 with 1 Axes>"
      ]
     },
     "metadata": {
      "needs_background": "light"
     },
     "output_type": "display_data"
    }
   ],
   "source": [
    "model=experiment(learning_rate=0.04,epochs=60,batch_size=256,steps=300,name='model')"
   ]
  },
  {
   "cell_type": "code",
   "execution_count": 12,
   "metadata": {},
   "outputs": [
    {
     "name": "stdout",
     "output_type": "stream",
     "text": [
      "Model: \"sequential\"\n",
      "_________________________________________________________________\n",
      "Layer (type)                 Output Shape              Param #   \n",
      "=================================================================\n",
      "dense (Dense)                (None, 256)               51456     \n",
      "_________________________________________________________________\n",
      "dense_1 (Dense)              (None, 1)                 257       \n",
      "=================================================================\n",
      "Total params: 51,713\n",
      "Trainable params: 51,713\n",
      "Non-trainable params: 0\n",
      "_________________________________________________________________\n"
     ]
    }
   ],
   "source": [
    "model.summary()"
   ]
  },
  {
   "cell_type": "code",
   "execution_count": 13,
   "metadata": {},
   "outputs": [],
   "source": [
    "## Persist model"
   ]
  },
  {
   "cell_type": "code",
   "execution_count": 14,
   "metadata": {},
   "outputs": [],
   "source": [
    "model.save('/home/kvassay/data/z/models/E3b/keras_regressor.h5')"
   ]
  },
  {
   "cell_type": "code",
   "execution_count": null,
   "metadata": {},
   "outputs": [],
   "source": []
  }
 ],
 "metadata": {
  "kernelspec": {
   "display_name": "Python 3",
   "language": "python",
   "name": "python3"
  },
  "language_info": {
   "codemirror_mode": {
    "name": "ipython",
    "version": 3
   },
   "file_extension": ".py",
   "mimetype": "text/x-python",
   "name": "python",
   "nbconvert_exporter": "python",
   "pygments_lexer": "ipython3",
   "version": "3.6.7"
  }
 },
 "nbformat": 4,
 "nbformat_minor": 2
}
