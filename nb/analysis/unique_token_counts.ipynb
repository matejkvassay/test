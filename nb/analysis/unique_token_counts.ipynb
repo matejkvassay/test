{
 "cells": [
  {
   "cell_type": "code",
   "execution_count": 2,
   "metadata": {},
   "outputs": [],
   "source": [
    "import pickle\n",
    "from collections import Counter\n",
    "from tqdm import tqdm"
   ]
  },
  {
   "cell_type": "code",
   "execution_count": 3,
   "metadata": {},
   "outputs": [],
   "source": [
    "DATASET='/home/kvassay/data/z/data/reviews_train_test_dev1_{}.pickle'\n",
    "TYPE='tok'"
   ]
  },
  {
   "cell_type": "code",
   "execution_count": 7,
   "metadata": {},
   "outputs": [
    {
     "name": "stdout",
     "output_type": "stream",
     "text": [
      "CPU times: user 4.36 s, sys: 736 ms, total: 5.1 s\n",
      "Wall time: 5.09 s\n"
     ]
    }
   ],
   "source": [
    "%%time\n",
    "with open(DATASET.format(TYPE),'rb') as f:\n",
    "    train,_,_=pickle.load(f)"
   ]
  },
  {
   "cell_type": "code",
   "execution_count": 8,
   "metadata": {},
   "outputs": [
    {
     "name": "stderr",
     "output_type": "stream",
     "text": [
      "100%|██████████| 551399/551399 [00:26<00:00, 20909.74it/s]"
     ]
    },
    {
     "name": "stdout",
     "output_type": "stream",
     "text": [
      "CPU times: user 26.4 s, sys: 185 ms, total: 26.6 s\n",
      "Wall time: 26.4 s\n"
     ]
    },
    {
     "name": "stderr",
     "output_type": "stream",
     "text": [
      "\n"
     ]
    }
   ],
   "source": [
    "%%time\n",
    "counter_summ=Counter()\n",
    "counter_text=Counter()\n",
    "for x in tqdm(train):\n",
    "    counter_summ.update(Counter([y.lower() for y in x['summary']]))\n",
    "    counter_text.update(Counter([y.lower() for y in x['text']]))"
   ]
  },
  {
   "cell_type": "markdown",
   "metadata": {},
   "source": [
    "#### Text\n",
    "- top frequency words mostly stopwords"
   ]
  },
  {
   "cell_type": "code",
   "execution_count": 24,
   "metadata": {},
   "outputs": [
    {
     "data": {
      "text/plain": [
       "143727"
      ]
     },
     "execution_count": 24,
     "metadata": {},
     "output_type": "execute_result"
    }
   ],
   "source": [
    "len(set(counter_text.keys()))"
   ]
  },
  {
   "cell_type": "code",
   "execution_count": 25,
   "metadata": {},
   "outputs": [
    {
     "data": {
      "text/plain": [
       "[('.', 2576156),\n",
       " ('be', 1900560),\n",
       " ('the', 1814651),\n",
       " (',', 1688130),\n",
       " ('a', 1515122),\n",
       " ('i', 1460403),\n",
       " ('and', 1247477),\n",
       " ('to', 986505),\n",
       " ('have', 982469),\n",
       " (' ', 956052),\n",
       " ('it', 905512),\n",
       " ('this', 827979),\n",
       " ('of', 777574),\n",
       " ('not', 633662),\n",
       " ('for', 535723),\n",
       " ('in', 531133),\n",
       " ('that', 468578),\n",
       " ('my', 449719),\n",
       " ('!', 413205),\n",
       " ('-pron-', 400606),\n",
       " ('but', 364662),\n",
       " ('with', 342484),\n",
       " ('you', 323899),\n",
       " ('do', 292872),\n",
       " ('-', 285090),\n",
       " ('they', 280174),\n",
       " ('like', 275748),\n",
       " ('on', 264182),\n",
       " ('good', 257997),\n",
       " ('much', 256866)]"
      ]
     },
     "execution_count": 25,
     "metadata": {},
     "output_type": "execute_result"
    }
   ],
   "source": [
    "counter_text.most_common(30)"
   ]
  },
  {
   "cell_type": "markdown",
   "metadata": {},
   "source": [
    "#### Summary\n",
    "- lots imporatnt words with high frequency"
   ]
  },
  {
   "cell_type": "code",
   "execution_count": 26,
   "metadata": {},
   "outputs": [
    {
     "data": {
      "text/plain": [
       "34808"
      ]
     },
     "execution_count": 26,
     "metadata": {},
     "output_type": "execute_result"
    }
   ],
   "source": [
    "len(set(counter_summ.keys()))"
   ]
  },
  {
   "cell_type": "code",
   "execution_count": 27,
   "metadata": {},
   "outputs": [
    {
     "data": {
      "text/plain": [
       "[('!', 186966),\n",
       " ('great', 71045),\n",
       " (',', 60163),\n",
       " ('the', 53857),\n",
       " ('good', 51674),\n",
       " ('a', 49545),\n",
       " ('not', 44651),\n",
       " ('for', 39243),\n",
       " ('.', 38233),\n",
       " ('be', 36605),\n",
       " ('and', 34268),\n",
       " ('love', 33926),\n",
       " ('this', 32201),\n",
       " ('my', 28353),\n",
       " ('-', 27949),\n",
       " ('have', 27362),\n",
       " ('it', 26870),\n",
       " ('coffee', 24561),\n",
       " ('but', 24468),\n",
       " ('taste', 23940),\n",
       " ('tea', 21765),\n",
       " ('to', 20941),\n",
       " ('best', 20849),\n",
       " ('i', 20101),\n",
       " ('of', 19930),\n",
       " ('product', 19894),\n",
       " ('delicious', 18272),\n",
       " ('dog', 17721),\n",
       " ('...', 16491),\n",
       " ('well', 16473)]"
      ]
     },
     "execution_count": 27,
     "metadata": {},
     "output_type": "execute_result"
    }
   ],
   "source": [
    "counter_summ.most_common(30)"
   ]
  },
  {
   "cell_type": "code",
   "execution_count": null,
   "metadata": {},
   "outputs": [],
   "source": []
  }
 ],
 "metadata": {
  "kernelspec": {
   "display_name": "Python 3",
   "language": "python",
   "name": "python3"
  },
  "language_info": {
   "codemirror_mode": {
    "name": "ipython",
    "version": 3
   },
   "file_extension": ".py",
   "mimetype": "text/x-python",
   "name": "python",
   "nbconvert_exporter": "python",
   "pygments_lexer": "ipython3",
   "version": "3.6.7"
  }
 },
 "nbformat": 4,
 "nbformat_minor": 2
}
