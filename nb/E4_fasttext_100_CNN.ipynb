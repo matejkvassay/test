{
 "cells": [
  {
   "cell_type": "code",
   "execution_count": 1,
   "metadata": {},
   "outputs": [],
   "source": [
    "import pickle\n",
    "import os\n",
    "import re\n",
    "import numpy as np\n",
    "import spacy\n",
    "import tensorflow as tf\n",
    "import tensorflow.keras as K\n",
    "from tensorflow.keras.preprocessing.sequence import pad_sequences\n",
    "from datetime import datetime\n",
    "from sklearn.preprocessing import normalize as scikit_normalize\n",
    "from evaluation import plot_history\n",
    "from evaluation import rmse_report\n",
    "from sampling import UnderSampler3D\n",
    "from fasttext_embedding import FastTextEmbeddingBag\n",
    "from spacy.lang.en.stop_words import STOP_WORDS\n",
    "from tqdm import tqdm\n",
    "\n",
    "%matplotlib inline\n",
    "%load_ext tensorboard"
   ]
  },
  {
   "cell_type": "code",
   "execution_count": 2,
   "metadata": {},
   "outputs": [],
   "source": [
    "FROM_CHECKPOINT=True\n",
    "\n",
    "DATASET='/home/kvassay/data/z/data/reviews_train_test_dev1_{}.pickle'\n",
    "TYPE='tok'\n",
    "TB_LOG_DIR='/home/kvassay/data/z/log/E4/scalars/'\n",
    "VEC_DIM=100\n",
    "FASTTEXT='/home/kvassay/data/z/models/fasttext/cbow_{}_e{}_w{}.bin'.format(VEC_DIM,20,5)\n",
    "SEQ_PADDING=50\n",
    "CHECKPOINT_DIR='/tmp/z/checkpoint_dim{}_pad{}/'.format(VEC_DIM,SEQ_PADDING)\n",
    "ALLOWED_SPECIAL=tuple(['?','!',':(', ':)', ':D',':-)',':-D',':\\'(',':/',':-/','<3',':-P',':P'])"
   ]
  },
  {
   "cell_type": "markdown",
   "metadata": {},
   "source": [
    "## Read data"
   ]
  },
  {
   "cell_type": "code",
   "execution_count": 3,
   "metadata": {},
   "outputs": [
    {
     "name": "stdout",
     "output_type": "stream",
     "text": [
      "CPU times: user 4.66 s, sys: 1.09 s, total: 5.76 s\n",
      "Wall time: 5.73 s\n"
     ]
    }
   ],
   "source": [
    "%%time\n",
    "with open(DATASET.format(TYPE),'rb') as f:\n",
    "    train,dev,_=pickle.load(f)"
   ]
  },
  {
   "cell_type": "markdown",
   "metadata": {},
   "source": [
    "## Load models"
   ]
  },
  {
   "cell_type": "code",
   "execution_count": 4,
   "metadata": {},
   "outputs": [
    {
     "name": "stderr",
     "output_type": "stream",
     "text": [
      "\n"
     ]
    },
    {
     "name": "stdout",
     "output_type": "stream",
     "text": [
      "CPU times: user 2.07 s, sys: 977 ms, total: 3.04 s\n",
      "Wall time: 2.79 s\n"
     ]
    }
   ],
   "source": [
    "%%time\n",
    "fasttext=FastTextEmbeddingBag(FASTTEXT)"
   ]
  },
  {
   "cell_type": "markdown",
   "metadata": {},
   "source": [
    "## Preprocess text + extract features\n",
    "- filter out EN stop-words (and, or, ...)\n",
    "- filter out non-allowed special tokens (we want to keep smileys and !,?)"
   ]
  },
  {
   "cell_type": "code",
   "execution_count": 5,
   "metadata": {},
   "outputs": [],
   "source": [
    "rx_special= re.compile(\"|\".join(re.escape(s) for s in ALLOWED_SPECIAL))\n",
    "\n",
    "def word_filter(word):\n",
    "    if word in STOP_WORDS:\n",
    "        return False\n",
    "    if not word.isalpha():\n",
    "        if not rx_special.findall(word):\n",
    "            return False\n",
    "    else:\n",
    "        if len(word)<3:\n",
    "            return False\n",
    "    return True\n",
    "\n",
    "def preprocess_text(text):\n",
    "    return [x.lower() for x in text if word_filter(x.lower())]\n",
    "\n",
    "def preprocess_texts(dataset,text_keys=['summary','text']):\n",
    "    for sample in tqdm(dataset):\n",
    "        for key in text_keys:\n",
    "            sample[key]=preprocess_text(sample[key])\n",
    "    return dataset"
   ]
  },
  {
   "cell_type": "code",
   "execution_count": 6,
   "metadata": {},
   "outputs": [
    {
     "name": "stdout",
     "output_type": "stream",
     "text": [
      "CPU times: user 3 µs, sys: 1e+03 ns, total: 4 µs\n",
      "Wall time: 7.87 µs\n"
     ]
    }
   ],
   "source": [
    "%%time\n",
    "if not FROM_CHECKPOINT:\n",
    "    train=preprocess_texts(train)\n",
    "    dev=preprocess_texts(dev)"
   ]
  },
  {
   "cell_type": "markdown",
   "metadata": {},
   "source": [
    "## Extract features\n",
    "- transform texts to averages of their fastText vectors\n",
    "- concatenate summary & text average vectors into single one"
   ]
  },
  {
   "cell_type": "code",
   "execution_count": 7,
   "metadata": {},
   "outputs": [],
   "source": [
    "def pad_vecs(vecs_mtx,length):\n",
    "    return pad_sequences(vecs_mtx,\n",
    "                         maxlen=length,\n",
    "                         dtype='float32',\n",
    "                        padding='post',\n",
    "                        truncating='post')\n",
    "\n",
    "def extract_features(dataset, fasttext):\n",
    "    default_vec=np.zeros(VEC_DIM,dtype=np.float32)\n",
    "    vecs_all=[]\n",
    "    for sample in tqdm(dataset):\n",
    "        all_words=sample['summary']+sample['text']\n",
    "        if all_words:\n",
    "            vecs=fasttext.forward([x for x in all_words])\n",
    "        else:\n",
    "            vecs=np.array([default_vec])\n",
    "        vecs=scikit_normalize(vecs)\n",
    "        vecs=vecs.reshape(1,vecs.shape[0],vecs.shape[1])         \n",
    "        vecs = pad_vecs(vecs, SEQ_PADDING)\n",
    "        vecs_all.append(vecs)\n",
    "    vecs_all=np.array(vecs_all)\n",
    "    vecs_all=vecs_all.reshape(vecs_all.shape[0],vecs_all.shape[2],vecs_all.shape[3])\n",
    "    return vecs_all"
   ]
  },
  {
   "cell_type": "code",
   "execution_count": 8,
   "metadata": {},
   "outputs": [],
   "source": [
    "def load_checkpoint():\n",
    "    with open(CHECKPOINT_DIR+'X_train.npy','rb') as f:\n",
    "        X_train=np.load(f)\n",
    "    with open(CHECKPOINT_DIR+'X_dev.npy','rb') as f:\n",
    "        X_dev=np.load(f)\n",
    "    with open(CHECKPOINT_DIR+'y_train.npy','rb') as f:\n",
    "        y_train=np.load(f)\n",
    "    with open(CHECKPOINT_DIR+'y_dev.npy','rb') as f:\n",
    "        y_dev=np.load(f)\n",
    "    return X_train,X_dev,y_train,y_dev\n",
    "        \n",
    "def checkpoint(X_train,X_dev,y_train,y_dev):\n",
    "    if not os.path.exists(CHECKPOINT_DIR):\n",
    "        os.makedirs(CHECKPOINT_DIR)\n",
    "    with open(CHECKPOINT_DIR+'X_train.npy','wb') as f:\n",
    "        np.save(f,X_train)\n",
    "    with open(CHECKPOINT_DIR+'X_dev.npy','wb') as f:\n",
    "        np.save(f,X_dev)\n",
    "    with open(CHECKPOINT_DIR+'y_train.npy','wb') as f:\n",
    "        np.save(f,y_train)\n",
    "    with open(CHECKPOINT_DIR+'y_dev.npy','wb') as f:\n",
    "        np.save(f,y_dev)"
   ]
  },
  {
   "cell_type": "code",
   "execution_count": 9,
   "metadata": {},
   "outputs": [
    {
     "name": "stdout",
     "output_type": "stream",
     "text": [
      "CPU times: user 203 ms, sys: 9.88 s, total: 10.1 s\n",
      "Wall time: 1min 11s\n"
     ]
    }
   ],
   "source": [
    "%%time\n",
    "if not FROM_CHECKPOINT:\n",
    "    X_train=extract_features(train,fasttext)\n",
    "    X_dev=extract_features(dev,fasttext)\n",
    "    y_train=np.array([x['score'] for x in train])\n",
    "    y_dev=np.array([x['score'] for x in dev])\n",
    "    print('Train samples shape: {}, Dev samples shape: {}'.format(X_train.shape,X_dev.shape))\n",
    "else:\n",
    "    X_train,X_dev,y_train,y_dev=load_checkpoint()"
   ]
  },
  {
   "cell_type": "code",
   "execution_count": 10,
   "metadata": {},
   "outputs": [
    {
     "name": "stdout",
     "output_type": "stream",
     "text": [
      "CPU times: user 2 µs, sys: 3 µs, total: 5 µs\n",
      "Wall time: 8.34 µs\n"
     ]
    }
   ],
   "source": [
    "%%time\n",
    "if not FROM_CHECKPOINT:\n",
    "    checkpoint(X_train,X_dev,y_train,y_dev)"
   ]
  },
  {
   "cell_type": "markdown",
   "metadata": {},
   "source": [
    "## Train"
   ]
  },
  {
   "cell_type": "markdown",
   "metadata": {},
   "source": [
    "## Experiment"
   ]
  },
  {
   "cell_type": "code",
   "execution_count": 11,
   "metadata": {},
   "outputs": [],
   "source": [
    "def experiment(learning_rate,epochs,batch_size,name,steps):\n",
    "    model=train_model(epochs=epochs,batch_size=batch_size,learning_rate=learning_rate,steps=steps)\n",
    "    y_pred_dev=model.predict(X_dev)\n",
    "    rmse_report(y_dev,y_pred_dev,title='{} - RMSE report'.format(name))\n",
    "    plot_history(model,title='{} - Train/Dev MSE'.format(name))\n",
    "    return model"
   ]
  },
  {
   "cell_type": "code",
   "execution_count": 12,
   "metadata": {},
   "outputs": [],
   "source": [
    "def get_tb_callback():\n",
    "    suffix=datetime.now().strftime(\"%Y%m%d-%H%M%S\")\n",
    "    log_dir= os.path.join(TB_LOG_DIR,suffix)\n",
    "    return K.callbacks.TensorBoard(log_dir=os.path.join(log_dir))\n",
    "\n",
    "def train_model(batch_size,learning_rate, epochs,steps):\n",
    "    DROPRATE=0.2\n",
    "    tensorboard_callback = get_tb_callback()\n",
    "    model = K.models.Sequential([\n",
    "        K.layers.Conv1D(256, 3, activation='relu', input_shape=(X_train.shape[1],X_train.shape[2])),\n",
    "        K.layers.MaxPooling1D(3),\n",
    "        K.layers.BatchNormalization(),\n",
    "        K.layers.Dropout(DROPRATE),\n",
    "        K.layers.Conv1D(256, 3, activation='relu'),\n",
    "        K.layers.MaxPooling1D(3),\n",
    "        K.layers.BatchNormalization(),\n",
    "        K.layers.Dropout(DROPRATE),\n",
    "        K.layers.GlobalMaxPooling1D(),\n",
    "        K.layers.BatchNormalization(),\n",
    "        K.layers.Dropout(DROPRATE),\n",
    "        K.layers.Dense(256,activation='relu'),\n",
    "        K.layers.Dense(1,activation='linear')])\n",
    "    opt=K.optimizers.Adam(lr=learning_rate, decay=learning_rate/epochs)\n",
    "    model.compile(optimizer=opt, loss='mean_squared_error')\n",
    "    sampler=UnderSampler3D(X_train,y_train,batch_size=batch_size)\n",
    "    model.fit_generator(sampler,\n",
    "                        shuffle=False,\n",
    "                        epochs=epochs,\n",
    "                        steps_per_epoch=steps,\n",
    "                        validation_data=(X_dev,y_dev),\n",
    "                        callbacks=[tensorboard_callback])\n",
    "    return model"
   ]
  },
  {
   "cell_type": "code",
   "execution_count": null,
   "metadata": {},
   "outputs": [
    {
     "name": "stdout",
     "output_type": "stream",
     "text": [
      "Epoch 1/200\n",
      "100/100 [==============================] - 6s 64ms/step - loss: 10.8981 - val_loss: 1.6151\n",
      "Epoch 2/200\n",
      "100/100 [==============================] - 11s 109ms/step - loss: 1.3748 - val_loss: 1.2681\n",
      "Epoch 3/200\n",
      "100/100 [==============================] - 11s 109ms/step - loss: 1.1428 - val_loss: 1.5683\n",
      "Epoch 4/200\n",
      "100/100 [==============================] - 6s 62ms/step - loss: 1.1008 - val_loss: 1.4057\n",
      "Epoch 5/200\n",
      "100/100 [==============================] - 11s 112ms/step - loss: 1.0365 - val_loss: 1.3580\n",
      "Epoch 6/200\n",
      "100/100 [==============================] - 11s 108ms/step - loss: 1.0033 - val_loss: 1.2521\n",
      "Epoch 7/200\n",
      "100/100 [==============================] - 6s 62ms/step - loss: 0.9740 - val_loss: 1.2120\n",
      "Epoch 8/200\n",
      "100/100 [==============================] - 11s 111ms/step - loss: 0.9558 - val_loss: 1.4369\n",
      "Epoch 9/200\n",
      "100/100 [==============================] - 11s 108ms/step - loss: 0.9196 - val_loss: 1.3690\n",
      "Epoch 10/200\n",
      "100/100 [==============================] - 11s 111ms/step - loss: 0.9015 - val_loss: 1.3257\n",
      "Epoch 11/200\n",
      "100/100 [==============================] - 6s 62ms/step - loss: 0.8816 - val_loss: 1.0521\n",
      "Epoch 12/200\n",
      "100/100 [==============================] - 11s 111ms/step - loss: 0.8624 - val_loss: 1.0102\n",
      "Epoch 13/200\n",
      "100/100 [==============================] - 11s 109ms/step - loss: 0.8420 - val_loss: 1.0646\n",
      "Epoch 14/200\n",
      "100/100 [==============================] - 6s 62ms/step - loss: 0.8366 - val_loss: 0.9476\n",
      "Epoch 15/200\n",
      "100/100 [==============================] - 11s 114ms/step - loss: 0.8243 - val_loss: 1.0305\n",
      "Epoch 16/200\n",
      "100/100 [==============================] - 11s 107ms/step - loss: 0.8009 - val_loss: 1.0756\n",
      "Epoch 17/200\n",
      "100/100 [==============================] - 11s 113ms/step - loss: 0.7968 - val_loss: 1.1600\n",
      "Epoch 18/200\n",
      "100/100 [==============================] - 6s 59ms/step - loss: 0.7968 - val_loss: 1.0449\n",
      "Epoch 19/200\n",
      "100/100 [==============================] - 11s 110ms/step - loss: 0.7677 - val_loss: 0.9096\n",
      "Epoch 20/200\n",
      "100/100 [==============================] - 11s 109ms/step - loss: 0.7643 - val_loss: 1.0480\n",
      "Epoch 21/200\n",
      "100/100 [==============================] - 6s 62ms/step - loss: 0.7558 - val_loss: 0.7703\n",
      "Epoch 22/200\n",
      "100/100 [==============================] - 11s 112ms/step - loss: 0.7351 - val_loss: 0.8695\n",
      "Epoch 23/200\n",
      "100/100 [==============================] - 11s 108ms/step - loss: 0.7368 - val_loss: 0.8699\n",
      "Epoch 24/200\n",
      "100/100 [==============================] - 11s 112ms/step - loss: 0.7261 - val_loss: 0.9265\n",
      "Epoch 25/200\n",
      "100/100 [==============================] - 6s 62ms/step - loss: 0.7210 - val_loss: 0.6957\n",
      "Epoch 26/200\n",
      "100/100 [==============================] - 11s 109ms/step - loss: 0.7057 - val_loss: 0.7750\n",
      "Epoch 27/200\n",
      "100/100 [==============================] - 11s 110ms/step - loss: 0.7108 - val_loss: 0.8569\n",
      "Epoch 28/200\n",
      "100/100 [==============================] - 6s 62ms/step - loss: 0.7045 - val_loss: 0.8205\n",
      "Epoch 29/200\n",
      "100/100 [==============================] - 11s 110ms/step - loss: 0.6877 - val_loss: 0.7544\n",
      "Epoch 30/200\n",
      "100/100 [==============================] - 11s 109ms/step - loss: 0.6780 - val_loss: 0.7154\n",
      "Epoch 31/200\n",
      "100/100 [==============================] - 6s 63ms/step - loss: 0.6841 - val_loss: 0.7794\n",
      "Epoch 32/200\n",
      "100/100 [==============================] - 11s 112ms/step - loss: 0.6659 - val_loss: 0.7329\n",
      "Epoch 33/200\n",
      "100/100 [==============================] - 11s 107ms/step - loss: 0.6595 - val_loss: 0.9023\n",
      "Epoch 34/200\n",
      "100/100 [==============================] - 11s 110ms/step - loss: 0.6658 - val_loss: 0.7440\n",
      "Epoch 35/200\n",
      "100/100 [==============================] - 6s 61ms/step - loss: 0.6535 - val_loss: 0.7943\n",
      "Epoch 36/200\n",
      "100/100 [==============================] - 11s 112ms/step - loss: 0.6468 - val_loss: 0.6108\n",
      "Epoch 37/200\n",
      "100/100 [==============================] - 11s 108ms/step - loss: 0.6525 - val_loss: 0.7495\n",
      "Epoch 38/200\n",
      "100/100 [==============================] - 6s 63ms/step - loss: 0.6447 - val_loss: 0.6283\n",
      "Epoch 39/200\n",
      "100/100 [==============================] - 11s 112ms/step - loss: 0.6348 - val_loss: 0.6850\n",
      "Epoch 40/200\n",
      "100/100 [==============================] - 11s 109ms/step - loss: 0.6332 - val_loss: 0.7655\n",
      "Epoch 41/200\n",
      "100/100 [==============================] - 11s 113ms/step - loss: 0.6297 - val_loss: 0.6746\n",
      "Epoch 42/200\n",
      "100/100 [==============================] - 6s 62ms/step - loss: 0.6184 - val_loss: 0.7402\n",
      "Epoch 43/200\n",
      "100/100 [==============================] - 11s 112ms/step - loss: 0.6138 - val_loss: 0.7981\n",
      "Epoch 44/200\n",
      "100/100 [==============================] - 11s 109ms/step - loss: 0.6181 - val_loss: 0.7583\n",
      "Epoch 45/200\n",
      "100/100 [==============================] - 6s 62ms/step - loss: 0.6117 - val_loss: 0.6547\n",
      "Epoch 46/200\n",
      "100/100 [==============================] - 11s 113ms/step - loss: 0.6035 - val_loss: 0.7873\n",
      "Epoch 47/200\n",
      "100/100 [==============================] - 11s 109ms/step - loss: 0.6035 - val_loss: 0.8001\n",
      "Epoch 48/200\n",
      "100/100 [==============================] - 11s 113ms/step - loss: 0.6031 - val_loss: 0.8335\n",
      "Epoch 49/200\n",
      "100/100 [==============================] - 6s 62ms/step - loss: 0.5937 - val_loss: 0.6441\n",
      "Epoch 50/200\n",
      "100/100 [==============================] - 11s 110ms/step - loss: 0.5879 - val_loss: 0.8805\n",
      "Epoch 51/200\n",
      "100/100 [==============================] - 11s 109ms/step - loss: 0.5887 - val_loss: 0.7643\n",
      "Epoch 52/200\n",
      "100/100 [==============================] - 6s 62ms/step - loss: 0.5889 - val_loss: 0.6860\n",
      "Epoch 53/200\n",
      "100/100 [==============================] - 11s 114ms/step - loss: 0.5783 - val_loss: 0.9106\n",
      "Epoch 54/200\n",
      "100/100 [==============================] - 11s 109ms/step - loss: 0.5685 - val_loss: 0.6601\n",
      "Epoch 55/200\n",
      "100/100 [==============================] - 11s 114ms/step - loss: 0.5805 - val_loss: 0.7255\n",
      "Epoch 56/200\n",
      "100/100 [==============================] - 6s 61ms/step - loss: 0.5644 - val_loss: 0.6900\n",
      "Epoch 57/200\n",
      "100/100 [==============================] - 11s 111ms/step - loss: 0.5685 - val_loss: 0.6437\n",
      "Epoch 58/200\n",
      "100/100 [==============================] - 11s 110ms/step - loss: 0.5697 - val_loss: 0.6677\n",
      "Epoch 59/200\n",
      "100/100 [==============================] - 6s 62ms/step - loss: 0.5605 - val_loss: 0.8726\n",
      "Epoch 60/200\n",
      "100/100 [==============================] - 11s 113ms/step - loss: 0.5630 - val_loss: 0.6262\n",
      "Epoch 61/200\n",
      "100/100 [==============================] - 11s 108ms/step - loss: 0.5613 - val_loss: 0.8193\n",
      "Epoch 62/200\n",
      "100/100 [==============================] - 6s 64ms/step - loss: 0.5501 - val_loss: 0.7163\n",
      "Epoch 63/200\n",
      "100/100 [==============================] - 11s 112ms/step - loss: 0.5494 - val_loss: 0.5729\n",
      "Epoch 64/200\n",
      "100/100 [==============================] - 11s 109ms/step - loss: 0.5538 - val_loss: 0.5538\n",
      "Epoch 65/200\n",
      "100/100 [==============================] - 11s 111ms/step - loss: 0.5440 - val_loss: 0.6852\n",
      "Epoch 66/200\n",
      "100/100 [==============================] - 6s 63ms/step - loss: 0.5313 - val_loss: 0.7809\n",
      "Epoch 67/200\n",
      "100/100 [==============================] - 11s 114ms/step - loss: 0.5360 - val_loss: 0.6212\n",
      "Epoch 68/200\n",
      "100/100 [==============================] - 11s 109ms/step - loss: 0.5476 - val_loss: 0.5651\n",
      "Epoch 69/200\n",
      "100/100 [==============================] - 6s 63ms/step - loss: 0.5375 - val_loss: 0.7080\n",
      "Epoch 70/200\n",
      "100/100 [==============================] - 11s 111ms/step - loss: 0.5254 - val_loss: 0.7633\n",
      "Epoch 71/200\n",
      "100/100 [==============================] - 11s 111ms/step - loss: 0.5255 - val_loss: 0.6748\n",
      "Epoch 72/200\n",
      "100/100 [==============================] - 11s 113ms/step - loss: 0.5257 - val_loss: 0.6189\n",
      "Epoch 73/200\n",
      "100/100 [==============================] - 6s 62ms/step - loss: 0.5198 - val_loss: 0.6340\n",
      "Epoch 74/200\n",
      "100/100 [==============================] - 11s 111ms/step - loss: 0.5188 - val_loss: 0.7200\n",
      "Epoch 75/200\n",
      "100/100 [==============================] - 11s 109ms/step - loss: 0.5187 - val_loss: 0.7158\n",
      "Epoch 76/200\n",
      "100/100 [==============================] - 6s 63ms/step - loss: 0.5134 - val_loss: 0.6644\n",
      "Epoch 77/200\n",
      "100/100 [==============================] - 11s 113ms/step - loss: 0.5130 - val_loss: 0.7334\n",
      "Epoch 78/200\n",
      "100/100 [==============================] - 11s 109ms/step - loss: 0.5177 - val_loss: 0.5919\n",
      "Epoch 79/200\n",
      "100/100 [==============================] - 11s 113ms/step - loss: 0.5130 - val_loss: 0.6952\n",
      "Epoch 80/200\n",
      "100/100 [==============================] - 6s 62ms/step - loss: 0.5085 - val_loss: 0.6204\n",
      "Epoch 81/200\n",
      "100/100 [==============================] - 11s 110ms/step - loss: 0.5015 - val_loss: 0.6134\n",
      "Epoch 82/200\n",
      "100/100 [==============================] - 11s 110ms/step - loss: 0.5016 - val_loss: 0.7683\n",
      "Epoch 83/200\n",
      "100/100 [==============================] - 6s 63ms/step - loss: 0.5019 - val_loss: 0.7416\n",
      "Epoch 84/200\n",
      "100/100 [==============================] - 11s 112ms/step - loss: 0.4951 - val_loss: 0.5942\n",
      "Epoch 85/200\n",
      "100/100 [==============================] - 11s 110ms/step - loss: 0.4910 - val_loss: 0.7089\n",
      "Epoch 86/200\n",
      "100/100 [==============================] - 6s 64ms/step - loss: 0.4960 - val_loss: 0.6025\n",
      "Epoch 87/200\n",
      "100/100 [==============================] - 11s 111ms/step - loss: 0.4931 - val_loss: 0.6080\n",
      "Epoch 88/200\n",
      "100/100 [==============================] - 11s 110ms/step - loss: 0.4859 - val_loss: 0.7080\n",
      "Epoch 89/200\n",
      "100/100 [==============================] - 11s 111ms/step - loss: 0.4894 - val_loss: 0.5718\n",
      "Epoch 90/200\n",
      "100/100 [==============================] - 6s 62ms/step - loss: 0.4898 - val_loss: 0.5651\n",
      "Epoch 91/200\n",
      "100/100 [==============================] - 11s 112ms/step - loss: 0.4816 - val_loss: 0.6674\n",
      "Epoch 92/200\n",
      "100/100 [==============================] - 11s 108ms/step - loss: 0.4828 - val_loss: 0.5614\n",
      "Epoch 93/200\n",
      "100/100 [==============================] - 6s 63ms/step - loss: 0.4882 - val_loss: 0.6502\n",
      "Epoch 94/200\n",
      "100/100 [==============================] - 11s 110ms/step - loss: 0.4755 - val_loss: 0.6643\n",
      "Epoch 95/200\n",
      "100/100 [==============================] - 11s 110ms/step - loss: 0.4767 - val_loss: 0.6047\n",
      "Epoch 96/200\n",
      "100/100 [==============================] - 11s 111ms/step - loss: 0.4728 - val_loss: 0.6383\n",
      "Epoch 97/200\n",
      "100/100 [==============================] - 6s 62ms/step - loss: 0.4736 - val_loss: 0.7515\n",
      "Epoch 98/200\n",
      "100/100 [==============================] - 11s 113ms/step - loss: 0.4658 - val_loss: 0.6212\n",
      "Epoch 99/200\n",
      "100/100 [==============================] - 11s 108ms/step - loss: 0.4740 - val_loss: 0.6694\n",
      "Epoch 100/200\n",
      "100/100 [==============================] - 6s 63ms/step - loss: 0.4721 - val_loss: 0.6739\n",
      "Epoch 101/200\n",
      "100/100 [==============================] - 11s 110ms/step - loss: 0.4649 - val_loss: 0.5335\n",
      "Epoch 102/200\n",
      "100/100 [==============================] - 11s 109ms/step - loss: 0.4701 - val_loss: 0.5287\n",
      "Epoch 103/200\n",
      "100/100 [==============================] - 11s 112ms/step - loss: 0.4694 - val_loss: 0.5544\n",
      "Epoch 104/200\n",
      "100/100 [==============================] - 6s 62ms/step - loss: 0.4679 - val_loss: 0.5281\n",
      "Epoch 105/200\n",
      "100/100 [==============================] - 11s 109ms/step - loss: 0.4602 - val_loss: 0.6688\n",
      "Epoch 106/200\n",
      "100/100 [==============================] - 11s 109ms/step - loss: 0.4619 - val_loss: 0.5861\n",
      "Epoch 107/200\n",
      "100/100 [==============================] - 6s 63ms/step - loss: 0.4588 - val_loss: 0.6223\n",
      "Epoch 108/200\n",
      "100/100 [==============================] - 11s 111ms/step - loss: 0.4605 - val_loss: 0.5525\n",
      "Epoch 109/200\n",
      "100/100 [==============================] - 11s 109ms/step - loss: 0.4582 - val_loss: 0.6907\n",
      "Epoch 110/200\n",
      "100/100 [==============================] - 11s 111ms/step - loss: 0.4551 - val_loss: 0.6364\n",
      "Epoch 111/200\n",
      "100/100 [==============================] - 6s 59ms/step - loss: 0.4543 - val_loss: 0.6176\n",
      "Epoch 112/200\n",
      "100/100 [==============================] - 11s 108ms/step - loss: 0.4483 - val_loss: 0.5273\n",
      "Epoch 113/200\n",
      "100/100 [==============================] - 11s 107ms/step - loss: 0.4554 - val_loss: 0.5898\n",
      "Epoch 114/200\n",
      "100/100 [==============================] - 6s 58ms/step - loss: 0.4444 - val_loss: 0.5178\n",
      "Epoch 115/200\n",
      "100/100 [==============================] - 11s 111ms/step - loss: 0.4431 - val_loss: 0.5724\n",
      "Epoch 116/200\n",
      "100/100 [==============================] - 11s 106ms/step - loss: 0.4414 - val_loss: 0.6467\n",
      "Epoch 117/200\n",
      "100/100 [==============================] - 6s 59ms/step - loss: 0.4497 - val_loss: 0.6122\n",
      "Epoch 118/200\n",
      "100/100 [==============================] - 11s 108ms/step - loss: 0.4412 - val_loss: 0.4961\n",
      "Epoch 119/200\n",
      " 44/100 [============>.................] - ETA: 3s - loss: 0.4456"
     ]
    }
   ],
   "source": [
    "model=experiment(learning_rate=0.04,epochs=200,batch_size=1024,steps=100,name='model')"
   ]
  },
  {
   "cell_type": "code",
   "execution_count": null,
   "metadata": {},
   "outputs": [],
   "source": [
    "model.summary()"
   ]
  },
  {
   "cell_type": "code",
   "execution_count": null,
   "metadata": {},
   "outputs": [],
   "source": []
  }
 ],
 "metadata": {
  "kernelspec": {
   "display_name": "Python 3",
   "language": "python",
   "name": "python3"
  },
  "language_info": {
   "codemirror_mode": {
    "name": "ipython",
    "version": 3
   },
   "file_extension": ".py",
   "mimetype": "text/x-python",
   "name": "python",
   "nbconvert_exporter": "python",
   "pygments_lexer": "ipython3",
   "version": "3.6.7"
  }
 },
 "nbformat": 4,
 "nbformat_minor": 2
}
