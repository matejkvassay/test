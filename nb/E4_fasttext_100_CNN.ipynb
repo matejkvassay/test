{
 "cells": [
  {
   "cell_type": "code",
   "execution_count": 1,
   "metadata": {},
   "outputs": [],
   "source": [
    "import pickle\n",
    "import os\n",
    "import re\n",
    "import numpy as np\n",
    "import spacy\n",
    "import tensorflow as tf\n",
    "import tensorflow.keras as K\n",
    "from tensorflow.keras.preprocessing.sequence import pad_sequences\n",
    "from datetime import datetime\n",
    "from sklearn.preprocessing import normalize as scikit_normalize\n",
    "from evaluation import plot_history\n",
    "from evaluation import rmse_report\n",
    "from sampling import UnderSampler3D\n",
    "from fasttext_embedding import FastTextEmbeddingBag\n",
    "from spacy.lang.en.stop_words import STOP_WORDS\n",
    "from tqdm import tqdm\n",
    "\n",
    "%matplotlib inline\n",
    "%load_ext tensorboard"
   ]
  },
  {
   "cell_type": "code",
   "execution_count": 2,
   "metadata": {},
   "outputs": [],
   "source": [
    "FROM_CHECKPOINT=True\n",
    "\n",
    "DATASET='/home/kvassay/data/z/data/reviews_train_test_dev1_{}.pickle'\n",
    "TYPE='tok'\n",
    "TB_LOG_DIR='/home/kvassay/data/z/log/E4/scalars/'\n",
    "VEC_DIM=100\n",
    "FASTTEXT='/home/kvassay/data/z/models/fasttext/cbow_{}_e{}_w{}.bin'.format(VEC_DIM,20,5)\n",
    "SEQ_PADDING=50\n",
    "CHECKPOINT_DIR='/tmp/z/checkpoint_dim{}_pad{}/'.format(VEC_DIM,SEQ_PADDING)\n",
    "ALLOWED_SPECIAL=tuple(['?','!',':(', ':)', ':D',':-)',':-D',':\\'(',':/',':-/','<3',':-P',':P'])"
   ]
  },
  {
   "cell_type": "markdown",
   "metadata": {},
   "source": [
    "## Read data"
   ]
  },
  {
   "cell_type": "code",
   "execution_count": 3,
   "metadata": {},
   "outputs": [
    {
     "name": "stdout",
     "output_type": "stream",
     "text": [
      "CPU times: user 4.67 s, sys: 1.25 s, total: 5.91 s\n",
      "Wall time: 6.96 s\n"
     ]
    }
   ],
   "source": [
    "%%time\n",
    "with open(DATASET.format(TYPE),'rb') as f:\n",
    "    train,dev,_=pickle.load(f)"
   ]
  },
  {
   "cell_type": "markdown",
   "metadata": {},
   "source": [
    "## Load models"
   ]
  },
  {
   "cell_type": "code",
   "execution_count": 4,
   "metadata": {},
   "outputs": [
    {
     "name": "stdout",
     "output_type": "stream",
     "text": [
      "CPU times: user 2 µs, sys: 0 ns, total: 2 µs\n",
      "Wall time: 4.05 µs\n"
     ]
    }
   ],
   "source": [
    "%%time\n",
    "if not FROM_CHECKPOINT:\n",
    "    fasttext=FastTextEmbeddingBag(FASTTEXT)"
   ]
  },
  {
   "cell_type": "markdown",
   "metadata": {},
   "source": [
    "## Preprocess text + extract features\n",
    "- filter out EN stop-words (and, or, ...)\n",
    "- filter out non-allowed special tokens (we want to keep smileys and !,?)"
   ]
  },
  {
   "cell_type": "code",
   "execution_count": null,
   "metadata": {},
   "outputs": [],
   "source": [
    "rx_special= re.compile(\"|\".join(re.escape(s) for s in ALLOWED_SPECIAL))\n",
    "\n",
    "def word_filter(word):\n",
    "    if word in STOP_WORDS:\n",
    "        return False\n",
    "    if not word.isalpha():\n",
    "        if not rx_special.findall(word):\n",
    "            return False\n",
    "    else:\n",
    "        if len(word)<3:\n",
    "            return False\n",
    "    return True\n",
    "\n",
    "def preprocess_text(text):\n",
    "    return [x.lower() for x in text if word_filter(x.lower())]\n",
    "\n",
    "def preprocess_texts(dataset,text_keys=['summary','text']):\n",
    "    for sample in tqdm(dataset):\n",
    "        for key in text_keys:\n",
    "            sample[key]=preprocess_text(sample[key])\n",
    "    return dataset"
   ]
  },
  {
   "cell_type": "code",
   "execution_count": null,
   "metadata": {},
   "outputs": [
    {
     "name": "stdout",
     "output_type": "stream",
     "text": [
      "CPU times: user 3 µs, sys: 1e+03 ns, total: 4 µs\n",
      "Wall time: 5.72 µs\n"
     ]
    }
   ],
   "source": [
    "%%time\n",
    "if not FROM_CHECKPOINT:\n",
    "    train=preprocess_texts(train)\n",
    "    dev=preprocess_texts(dev)"
   ]
  },
  {
   "cell_type": "markdown",
   "metadata": {},
   "source": [
    "## Extract features\n",
    "- transform texts to averages of their fastText vectors\n",
    "- concatenate summary & text average vectors into single one"
   ]
  },
  {
   "cell_type": "code",
   "execution_count": null,
   "metadata": {},
   "outputs": [],
   "source": [
    "def pad_vecs(vecs_mtx,length):\n",
    "    return pad_sequences(vecs_mtx,\n",
    "                         maxlen=length,\n",
    "                         dtype='float32',\n",
    "                        padding='post',\n",
    "                        truncating='post')\n",
    "\n",
    "def extract_features(dataset, fasttext):\n",
    "    default_vec=np.zeros(VEC_DIM,dtype=np.float32)\n",
    "    vecs_all=[]\n",
    "    for sample in tqdm(dataset):\n",
    "        all_words=sample['summary']+sample['text']\n",
    "        if all_words:\n",
    "            vecs=fasttext.forward([x for x in all_words])\n",
    "        else:\n",
    "            vecs=np.array([default_vec])\n",
    "        vecs=scikit_normalize(vecs)\n",
    "        vecs=vecs.reshape(1,vecs.shape[0],vecs.shape[1])         \n",
    "        vecs = pad_vecs(vecs, SEQ_PADDING)\n",
    "        vecs_all.append(vecs)\n",
    "    vecs_all=np.array(vecs_all)\n",
    "    vecs_all=vecs_all.reshape(vecs_all.shape[0],vecs_all.shape[2],vecs_all.shape[3])\n",
    "    return vecs_all"
   ]
  },
  {
   "cell_type": "code",
   "execution_count": null,
   "metadata": {},
   "outputs": [],
   "source": [
    "def load_checkpoint():\n",
    "    with open(CHECKPOINT_DIR+'X_train.npy','rb') as f:\n",
    "        X_train=np.load(f)\n",
    "    with open(CHECKPOINT_DIR+'X_dev.npy','rb') as f:\n",
    "        X_dev=np.load(f)\n",
    "    with open(CHECKPOINT_DIR+'y_train.npy','rb') as f:\n",
    "        y_train=np.load(f)\n",
    "    with open(CHECKPOINT_DIR+'y_dev.npy','rb') as f:\n",
    "        y_dev=np.load(f)\n",
    "    return X_train,X_dev,y_train,y_dev\n",
    "        \n",
    "def checkpoint(X_train,X_dev,y_train,y_dev):\n",
    "    if not os.path.exists(CHECKPOINT_DIR):\n",
    "        os.makedirs(CHECKPOINT_DIR)\n",
    "    with open(CHECKPOINT_DIR+'X_train.npy','wb') as f:\n",
    "        np.save(f,X_train)\n",
    "    with open(CHECKPOINT_DIR+'X_dev.npy','wb') as f:\n",
    "        np.save(f,X_dev)\n",
    "    with open(CHECKPOINT_DIR+'y_train.npy','wb') as f:\n",
    "        np.save(f,y_train)\n",
    "    with open(CHECKPOINT_DIR+'y_dev.npy','wb') as f:\n",
    "        np.save(f,y_dev)"
   ]
  },
  {
   "cell_type": "code",
   "execution_count": null,
   "metadata": {},
   "outputs": [
    {
     "name": "stdout",
     "output_type": "stream",
     "text": [
      "CPU times: user 86.8 ms, sys: 6.86 s, total: 6.94 s\n",
      "Wall time: 40.4 s\n"
     ]
    }
   ],
   "source": [
    "%%time\n",
    "if not FROM_CHECKPOINT:\n",
    "    X_train=extract_features(train,fasttext)\n",
    "    X_dev=extract_features(dev,fasttext)\n",
    "    y_train=np.array([x['score'] for x in train])\n",
    "    y_dev=np.array([x['score'] for x in dev])\n",
    "    print('Train samples shape: {}, Dev samples shape: {}'.format(X_train.shape,X_dev.shape))\n",
    "else:\n",
    "    X_train,X_dev,y_train,y_dev=load_checkpoint()"
   ]
  },
  {
   "cell_type": "code",
   "execution_count": null,
   "metadata": {},
   "outputs": [
    {
     "name": "stdout",
     "output_type": "stream",
     "text": [
      "CPU times: user 1e+03 ns, sys: 1 µs, total: 2 µs\n",
      "Wall time: 4.29 µs\n"
     ]
    }
   ],
   "source": [
    "%%time\n",
    "if not FROM_CHECKPOINT:\n",
    "    checkpoint(X_train,X_dev,y_train,y_dev)"
   ]
  },
  {
   "cell_type": "markdown",
   "metadata": {},
   "source": [
    "## Experiment"
   ]
  },
  {
   "cell_type": "code",
   "execution_count": null,
   "metadata": {},
   "outputs": [],
   "source": [
    "def experiment(learning_rate,epochs,batch_size,name,steps):\n",
    "    model=train_model(epochs=epochs,batch_size=batch_size,learning_rate=learning_rate,steps=steps)\n",
    "    y_pred_dev=model.predict(X_dev)\n",
    "    rmse_report(y_dev,y_pred_dev,title='{} - RMSE report'.format(name))\n",
    "    plot_history(model,title='{} - Train/Dev MSE'.format(name))\n",
    "    return model"
   ]
  },
  {
   "cell_type": "code",
   "execution_count": null,
   "metadata": {},
   "outputs": [],
   "source": [
    "def get_tb_callback():\n",
    "    suffix=datetime.now().strftime(\"%Y%m%d-%H%M%S\")\n",
    "    log_dir= os.path.join(TB_LOG_DIR,suffix)\n",
    "    return K.callbacks.TensorBoard(log_dir=os.path.join(log_dir))\n",
    "\n",
    "def train_model(batch_size,learning_rate, epochs,steps):\n",
    "    DROPRATE=0.1\n",
    "    tensorboard_callback = get_tb_callback()\n",
    "    model = K.models.Sequential([\n",
    "        K.layers.Conv1D(256, 10, activation='relu',strides=2,padding='same',\n",
    "                        input_shape=(X_train.shape[1],X_train.shape[2])),\n",
    "        K.layers.GlobalMaxPooling1D(),\n",
    "        K.layers.Dense(256,activation='relu'),\n",
    "        K.layers.Dense(1,activation='linear')])\n",
    "    opt=K.optimizers.Adam(lr=learning_rate, decay=learning_rate/epochs)\n",
    "    model.compile(optimizer=opt, loss='mean_squared_error')\n",
    "    sampler=UnderSampler3D(X_train,y_train,batch_size=batch_size)\n",
    "    model.fit_generator(sampler,\n",
    "                        shuffle=False,\n",
    "                        epochs=epochs,\n",
    "                        steps_per_epoch=steps,\n",
    "                        validation_data=(X_dev,y_dev),\n",
    "                        callbacks=[tensorboard_callback])\n",
    "    return model"
   ]
  },
  {
   "cell_type": "code",
   "execution_count": null,
   "metadata": {},
   "outputs": [
    {
     "name": "stdout",
     "output_type": "stream",
     "text": [
      "Epoch 1/200\n",
      "300/300 [==============================] - 6s 19ms/step - loss: 19.3133 - val_loss: 1.1522\n",
      "Epoch 2/200\n",
      "300/300 [==============================] - 10s 33ms/step - loss: 0.9645 - val_loss: 1.0241\n",
      "Epoch 3/200\n",
      "300/300 [==============================] - 5s 15ms/step - loss: 0.8746 - val_loss: 1.2147\n",
      "Epoch 4/200\n",
      "300/300 [==============================] - 10s 34ms/step - loss: 0.8437 - val_loss: 1.3102\n",
      "Epoch 5/200\n",
      "300/300 [==============================] - 5s 16ms/step - loss: 0.8061 - val_loss: 1.1426\n",
      "Epoch 6/200\n",
      "300/300 [==============================] - 9s 31ms/step - loss: 0.7647 - val_loss: 0.9578\n",
      "Epoch 7/200\n",
      "300/300 [==============================] - 5s 16ms/step - loss: 0.7453 - val_loss: 1.3695\n",
      "Epoch 8/200\n",
      "300/300 [==============================] - 10s 32ms/step - loss: 0.7268 - val_loss: 1.0740\n",
      "Epoch 9/200\n",
      "300/300 [==============================] - 5s 15ms/step - loss: 0.7050 - val_loss: 0.8348\n",
      "Epoch 10/200\n",
      "300/300 [==============================] - 9s 31ms/step - loss: 0.6880 - val_loss: 0.8852\n",
      "Epoch 11/200\n",
      "300/300 [==============================] - 5s 17ms/step - loss: 0.6732 - val_loss: 0.9199\n",
      "Epoch 12/200\n",
      "300/300 [==============================] - 9s 31ms/step - loss: 0.6408 - val_loss: 0.9995\n",
      "Epoch 13/200\n",
      "300/300 [==============================] - 5s 17ms/step - loss: 0.6451 - val_loss: 0.9878\n",
      "Epoch 14/200\n",
      "300/300 [==============================] - 10s 32ms/step - loss: 0.6079 - val_loss: 0.8967\n",
      "Epoch 15/200\n",
      "300/300 [==============================] - 4s 15ms/step - loss: 0.6067 - val_loss: 0.9111\n",
      "Epoch 16/200\n",
      "300/300 [==============================] - 10s 33ms/step - loss: 0.5764 - val_loss: 0.9074\n",
      "Epoch 17/200\n",
      "300/300 [==============================] - 10s 32ms/step - loss: 0.5740 - val_loss: 0.7305\n",
      "Epoch 18/200\n",
      "300/300 [==============================] - 5s 16ms/step - loss: 0.5438 - val_loss: 0.7785\n",
      "Epoch 19/200\n",
      "300/300 [==============================] - 10s 32ms/step - loss: 0.5597 - val_loss: 0.8486\n",
      "Epoch 20/200\n",
      "300/300 [==============================] - 5s 16ms/step - loss: 0.5156 - val_loss: 0.7218\n",
      "Epoch 21/200\n",
      "300/300 [==============================] - 10s 33ms/step - loss: 0.5117 - val_loss: 0.7240\n",
      "Epoch 22/200\n",
      "300/300 [==============================] - 5s 17ms/step - loss: 0.4999 - val_loss: 0.8901\n",
      "Epoch 23/200\n",
      "300/300 [==============================] - 10s 33ms/step - loss: 0.4868 - val_loss: 0.7059\n",
      "Epoch 24/200\n",
      "300/300 [==============================] - 5s 16ms/step - loss: 0.4690 - val_loss: 0.7158\n",
      "Epoch 25/200\n",
      "300/300 [==============================] - 10s 32ms/step - loss: 0.4615 - val_loss: 0.7960\n",
      "Epoch 26/200\n",
      "300/300 [==============================] - 5s 16ms/step - loss: 0.4524 - val_loss: 0.9448\n",
      "Epoch 27/200\n",
      "300/300 [==============================] - 10s 32ms/step - loss: 0.4371 - val_loss: 0.6993\n",
      "Epoch 28/200\n",
      "300/300 [==============================] - 5s 16ms/step - loss: 0.4457 - val_loss: 0.8728\n",
      "Epoch 29/200\n",
      "300/300 [==============================] - 10s 32ms/step - loss: 0.4096 - val_loss: 0.6394\n",
      "Epoch 30/200\n",
      "300/300 [==============================] - 5s 17ms/step - loss: 0.4245 - val_loss: 0.7914\n",
      "Epoch 31/200\n",
      "300/300 [==============================] - 9s 31ms/step - loss: 0.3930 - val_loss: 0.7565\n",
      "Epoch 32/200\n",
      "300/300 [==============================] - 10s 33ms/step - loss: 0.4096 - val_loss: 0.7632\n",
      "Epoch 33/200\n",
      "300/300 [==============================] - 5s 17ms/step - loss: 0.3770 - val_loss: 0.8008\n",
      "Epoch 34/200\n",
      "300/300 [==============================] - 9s 31ms/step - loss: 0.3862 - val_loss: 0.7770\n",
      "Epoch 35/200\n",
      "300/300 [==============================] - 5s 17ms/step - loss: 0.3628 - val_loss: 0.7760\n",
      "Epoch 36/200\n",
      "300/300 [==============================] - 10s 32ms/step - loss: 0.3572 - val_loss: 0.7989\n",
      "Epoch 37/200\n",
      "300/300 [==============================] - 5s 15ms/step - loss: 0.3480 - val_loss: 0.6574\n",
      "Epoch 38/200\n",
      "300/300 [==============================] - 10s 32ms/step - loss: 0.3489 - val_loss: 0.6063\n",
      "Epoch 39/200\n",
      "300/300 [==============================] - 5s 17ms/step - loss: 0.3396 - val_loss: 0.6747\n",
      "Epoch 40/200\n",
      "300/300 [==============================] - 9s 31ms/step - loss: 0.3299 - val_loss: 0.6919\n",
      "Epoch 41/200\n",
      "300/300 [==============================] - 5s 16ms/step - loss: 0.3282 - val_loss: 0.6041\n",
      "Epoch 42/200\n",
      "300/300 [==============================] - 10s 33ms/step - loss: 0.3148 - val_loss: 0.6449\n",
      "Epoch 43/200\n",
      "300/300 [==============================] - 5s 15ms/step - loss: 0.3179 - val_loss: 0.6231\n",
      "Epoch 44/200\n",
      "300/300 [==============================] - 10s 33ms/step - loss: 0.3042 - val_loss: 0.6888\n",
      "Epoch 45/200\n",
      "300/300 [==============================] - 5s 15ms/step - loss: 0.3075 - val_loss: 0.6775\n",
      "Epoch 46/200\n",
      "300/300 [==============================] - 10s 32ms/step - loss: 0.2895 - val_loss: 0.6586\n",
      "Epoch 47/200\n",
      "300/300 [==============================] - 4s 15ms/step - loss: 0.2978 - val_loss: 0.6728\n",
      "Epoch 48/200\n",
      "300/300 [==============================] - 9s 31ms/step - loss: 0.2746 - val_loss: 0.7000\n",
      "Epoch 49/200\n",
      "300/300 [==============================] - 10s 33ms/step - loss: 0.2817 - val_loss: 0.5924\n",
      "Epoch 50/200\n",
      "300/300 [==============================] - 5s 16ms/step - loss: 0.2717 - val_loss: 0.6648\n",
      "Epoch 51/200\n",
      "300/300 [==============================] - 10s 33ms/step - loss: 0.2758 - val_loss: 0.6863\n",
      "Epoch 52/200\n",
      "300/300 [==============================] - 5s 16ms/step - loss: 0.2654 - val_loss: 0.7781\n",
      "Epoch 53/200\n",
      "300/300 [==============================] - 10s 32ms/step - loss: 0.2635 - val_loss: 0.6571\n",
      "Epoch 54/200\n",
      "300/300 [==============================] - 5s 17ms/step - loss: 0.2542 - val_loss: 0.6644\n",
      "Epoch 55/200\n",
      "300/300 [==============================] - 10s 32ms/step - loss: 0.2579 - val_loss: 0.6859\n",
      "Epoch 56/200\n",
      "300/300 [==============================] - 5s 15ms/step - loss: 0.2489 - val_loss: 0.6137\n",
      "Epoch 57/200\n",
      "300/300 [==============================] - 10s 32ms/step - loss: 0.2431 - val_loss: 0.6055\n",
      "Epoch 58/200\n",
      "300/300 [==============================] - 5s 17ms/step - loss: 0.2405 - val_loss: 0.6056\n",
      "Epoch 59/200\n",
      "300/300 [==============================] - 9s 31ms/step - loss: 0.2274 - val_loss: 0.5922\n",
      "Epoch 60/200\n",
      "300/300 [==============================] - 5s 17ms/step - loss: 0.2390 - val_loss: 0.6951\n",
      "Epoch 61/200\n",
      "300/300 [==============================] - 10s 33ms/step - loss: 0.2217 - val_loss: 0.5972\n",
      "Epoch 62/200\n",
      "300/300 [==============================] - 5s 15ms/step - loss: 0.2263 - val_loss: 0.6676\n",
      "Epoch 63/200\n",
      "300/300 [==============================] - 10s 32ms/step - loss: 0.2099 - val_loss: 0.5947\n",
      "Epoch 64/200\n",
      "300/300 [==============================] - 10s 32ms/step - loss: 0.2201 - val_loss: 0.6260\n",
      "Epoch 65/200\n",
      "300/300 [==============================] - 5s 15ms/step - loss: 0.2116 - val_loss: 0.6010\n",
      "Epoch 66/200\n",
      "300/300 [==============================] - 10s 32ms/step - loss: 0.2111 - val_loss: 0.6057\n",
      "Epoch 67/200\n",
      "300/300 [==============================] - 5s 16ms/step - loss: 0.2009 - val_loss: 0.6039\n",
      "Epoch 68/200\n",
      "300/300 [==============================] - 9s 32ms/step - loss: 0.2020 - val_loss: 0.6736\n",
      "Epoch 69/200\n",
      "300/300 [==============================] - 5s 17ms/step - loss: 0.1968 - val_loss: 0.6134\n",
      "Epoch 70/200\n",
      "300/300 [==============================] - 10s 33ms/step - loss: 0.1999 - val_loss: 0.6878\n",
      "Epoch 71/200\n",
      "300/300 [==============================] - 4s 15ms/step - loss: 0.1915 - val_loss: 0.6286\n",
      "Epoch 72/200\n",
      "300/300 [==============================] - 10s 33ms/step - loss: 0.1882 - val_loss: 0.6212\n",
      "Epoch 73/200\n",
      "300/300 [==============================] - 5s 15ms/step - loss: 0.1886 - val_loss: 0.5996\n",
      "Epoch 74/200\n",
      "300/300 [==============================] - 10s 32ms/step - loss: 0.1799 - val_loss: 0.6278\n",
      "Epoch 75/200\n",
      "300/300 [==============================] - 5s 15ms/step - loss: 0.1844 - val_loss: 0.6555\n",
      "Epoch 76/200\n",
      "300/300 [==============================] - 10s 32ms/step - loss: 0.1768 - val_loss: 0.5973\n",
      "Epoch 77/200\n",
      "300/300 [==============================] - 5s 16ms/step - loss: 0.1828 - val_loss: 0.6012\n",
      "Epoch 78/200\n",
      "300/300 [==============================] - 9s 31ms/step - loss: 0.1702 - val_loss: 0.5945\n",
      "Epoch 79/200\n",
      "300/300 [==============================] - 10s 33ms/step - loss: 0.1749 - val_loss: 0.5953\n",
      "Epoch 80/200\n",
      "300/300 [==============================] - 5s 16ms/step - loss: 0.1640 - val_loss: 0.6437\n",
      "Epoch 81/200\n",
      "300/300 [==============================] - 9s 31ms/step - loss: 0.1692 - val_loss: 0.5925\n",
      "Epoch 82/200\n",
      "300/300 [==============================] - 5s 16ms/step - loss: 0.1645 - val_loss: 0.6098\n",
      "Epoch 83/200\n",
      "300/300 [==============================] - 10s 32ms/step - loss: 0.1639 - val_loss: 0.6092\n",
      "Epoch 84/200\n",
      "300/300 [==============================] - 5s 15ms/step - loss: 0.1624 - val_loss: 0.5965\n",
      "Epoch 85/200\n",
      "300/300 [==============================] - 9s 31ms/step - loss: 0.1575 - val_loss: 0.6309\n",
      "Epoch 86/200\n",
      "300/300 [==============================] - 5s 17ms/step - loss: 0.1596 - val_loss: 0.6733\n",
      "Epoch 87/200\n",
      "300/300 [==============================] - 9s 31ms/step - loss: 0.1558 - val_loss: 0.6087\n",
      "Epoch 88/200\n",
      "300/300 [==============================] - 5s 17ms/step - loss: 0.1523 - val_loss: 0.5871\n",
      "Epoch 89/200\n",
      "300/300 [==============================] - 10s 33ms/step - loss: 0.1528 - val_loss: 0.6436\n",
      "Epoch 90/200\n",
      "300/300 [==============================] - 4s 15ms/step - loss: 0.1516 - val_loss: 0.6535\n",
      "Epoch 91/200\n",
      "300/300 [==============================] - 10s 33ms/step - loss: 0.1448 - val_loss: 0.5858\n",
      "Epoch 92/200\n",
      "300/300 [==============================] - 5s 16ms/step - loss: 0.1465 - val_loss: 0.5794\n",
      "Epoch 93/200\n",
      "300/300 [==============================] - 9s 31ms/step - loss: 0.1467 - val_loss: 0.6033\n",
      "Epoch 94/200\n",
      "300/300 [==============================] - 5s 15ms/step - loss: 0.1434 - val_loss: 0.5951\n",
      "Epoch 95/200\n",
      "300/300 [==============================] - 9s 31ms/step - loss: 0.1374 - val_loss: 0.6007\n",
      "Epoch 96/200\n",
      "300/300 [==============================] - 10s 32ms/step - loss: 0.1413 - val_loss: 0.6005\n",
      "Epoch 97/200\n",
      "300/300 [==============================] - 5s 16ms/step - loss: 0.1356 - val_loss: 0.6392\n",
      "Epoch 98/200\n",
      "300/300 [==============================] - 10s 33ms/step - loss: 0.1335 - val_loss: 0.5989\n",
      "Epoch 99/200\n",
      "300/300 [==============================] - 5s 15ms/step - loss: 0.1327 - val_loss: 0.6045\n",
      "Epoch 100/200\n",
      "300/300 [==============================] - 10s 32ms/step - loss: 0.1343 - val_loss: 0.6157\n",
      "Epoch 101/200\n",
      "300/300 [==============================] - 5s 16ms/step - loss: 0.1318 - val_loss: 0.5912\n",
      "Epoch 102/200\n",
      "300/300 [==============================] - 10s 32ms/step - loss: 0.1307 - val_loss: 0.5893\n",
      "Epoch 103/200\n",
      "300/300 [==============================] - 5s 15ms/step - loss: 0.1321 - val_loss: 0.6140\n",
      "Epoch 104/200\n",
      "117/300 [==========>...................] - ETA: 2s - loss: 0.1342"
     ]
    }
   ],
   "source": [
    "model=experiment(learning_rate=0.04,epochs=200,batch_size=256,steps=300,name='model')"
   ]
  },
  {
   "cell_type": "code",
   "execution_count": null,
   "metadata": {},
   "outputs": [],
   "source": [
    "model.summary()"
   ]
  },
  {
   "cell_type": "code",
   "execution_count": null,
   "metadata": {},
   "outputs": [],
   "source": [
    "## Persist"
   ]
  },
  {
   "cell_type": "code",
   "execution_count": null,
   "metadata": {},
   "outputs": [],
   "source": [
    "model.save('/home/kvassay/data/z/models/E4/keras_cnn.h5')"
   ]
  }
 ],
 "metadata": {
  "kernelspec": {
   "display_name": "Python 3",
   "language": "python",
   "name": "python3"
  },
  "language_info": {
   "codemirror_mode": {
    "name": "ipython",
    "version": 3
   },
   "file_extension": ".py",
   "mimetype": "text/x-python",
   "name": "python",
   "nbconvert_exporter": "python",
   "pygments_lexer": "ipython3",
   "version": "3.6.7"
  }
 },
 "nbformat": 4,
 "nbformat_minor": 2
}
