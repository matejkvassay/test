{
 "cells": [
  {
   "cell_type": "code",
   "execution_count": 48,
   "metadata": {},
   "outputs": [
    {
     "name": "stdout",
     "output_type": "stream",
     "text": [
      "The tensorboard extension is already loaded. To reload it, use:\n",
      "  %reload_ext tensorboard\n"
     ]
    }
   ],
   "source": [
    "import pickle\n",
    "import os\n",
    "import re\n",
    "import numpy as np\n",
    "import spacy\n",
    "import tensorflow as tf\n",
    "import tensorflow.keras as K\n",
    "from datetime import datetime\n",
    "from sklearn.preprocessing import normalize as scikit_normalize\n",
    "from evaluation import plot_history\n",
    "from evaluation import rmse_report\n",
    "from sampling import UnderSampler\n",
    "from fasttext_embedding import FastTextEmbeddingBag\n",
    "from spacy.lang.en.stop_words import STOP_WORDS\n",
    "from tqdm import tqdm\n",
    "\n",
    "%matplotlib inline\n",
    "%load_ext tensorboard"
   ]
  },
  {
   "cell_type": "code",
   "execution_count": 62,
   "metadata": {},
   "outputs": [],
   "source": [
    "DATASET='/home/kvassay/data/z/data/reviews_train_test_dev1_{}.pickle'\n",
    "TYPE='tok'\n",
    "TB_LOG_DIR='/home/kvassay/data/z/log/E3/scalars/'\n",
    "VEC_DIM=100\n",
    "FASTTEXT='/home/kvassay/data/z/models/fasttext/sent_tok_lc_{}.bin'.format(VEC_DIM)\n",
    "ALLOWED_SPECIAL=tuple(['?','!',':(', ':)', ':D',':-)',':-D',':\\'(',':/',':-/','<3',':-P',':P'])"
   ]
  },
  {
   "cell_type": "markdown",
   "metadata": {},
   "source": [
    "## Read data"
   ]
  },
  {
   "cell_type": "code",
   "execution_count": 77,
   "metadata": {},
   "outputs": [
    {
     "name": "stdout",
     "output_type": "stream",
     "text": [
      "CPU times: user 6.8 s, sys: 765 ms, total: 7.57 s\n",
      "Wall time: 7.56 s\n"
     ]
    }
   ],
   "source": [
    "%%time\n",
    "with open(DATASET.format(TYPE),'rb') as f:\n",
    "    train,dev,_=pickle.load(f)"
   ]
  },
  {
   "cell_type": "markdown",
   "metadata": {},
   "source": [
    "## Load models"
   ]
  },
  {
   "cell_type": "code",
   "execution_count": 16,
   "metadata": {},
   "outputs": [
    {
     "name": "stderr",
     "output_type": "stream",
     "text": [
      "\n"
     ]
    },
    {
     "name": "stdout",
     "output_type": "stream",
     "text": [
      "CPU times: user 9.63 s, sys: 1.93 s, total: 11.6 s\n",
      "Wall time: 16.7 s\n"
     ]
    }
   ],
   "source": [
    "%%time\n",
    "fasttext=FastTextEmbeddingBag(FASTTEXT)"
   ]
  },
  {
   "cell_type": "markdown",
   "metadata": {},
   "source": [
    "## Preprocess text + extract features\n",
    "- filter out EN stop-words (and, or, ...)\n",
    "- filter out non-allowed special tokens (we want to keep smileys and !,?)"
   ]
  },
  {
   "cell_type": "code",
   "execution_count": 80,
   "metadata": {},
   "outputs": [],
   "source": [
    "rx_special= re.compile(\"|\".join(re.escape(s) for s in ALLOWED_SPECIAL))\n",
    "\n",
    "def word_filter(word):\n",
    "    if word in STOP_WORDS:\n",
    "        return False\n",
    "    if not word.isalpha():\n",
    "        if not rx_special.findall(word):\n",
    "            return False\n",
    "    return True\n",
    "\n",
    "def preprocess_text(text):\n",
    "    return [x.lower() for x in text if word_filter(x.lower())]\n",
    "\n",
    "def preprocess_texts(dataset,text_keys=['summary','text']):\n",
    "    for sample in tqdm(dataset):\n",
    "        for key in text_keys:\n",
    "            sample[key]=preprocess_text(sample[key])\n",
    "    return dataset"
   ]
  },
  {
   "cell_type": "code",
   "execution_count": 81,
   "metadata": {},
   "outputs": [
    {
     "name": "stderr",
     "output_type": "stream",
     "text": [
      "100%|██████████| 551399/551399 [00:19<00:00, 28006.13it/s]\n",
      "100%|██████████| 8527/8527 [00:00<00:00, 24019.65it/s]"
     ]
    },
    {
     "name": "stdout",
     "output_type": "stream",
     "text": [
      "CPU times: user 20.1 s, sys: 104 ms, total: 20.2 s\n",
      "Wall time: 20 s\n"
     ]
    },
    {
     "name": "stderr",
     "output_type": "stream",
     "text": [
      "\n"
     ]
    }
   ],
   "source": [
    "%%time\n",
    "train=preprocess_texts(train)\n",
    "dev=preprocess_texts(dev)"
   ]
  },
  {
   "cell_type": "markdown",
   "metadata": {},
   "source": [
    "## Extract features"
   ]
  },
  {
   "cell_type": "code",
   "execution_count": 24,
   "metadata": {},
   "outputs": [
    {
     "ename": "SyntaxError",
     "evalue": "invalid syntax (<ipython-input-24-8e87b3ea1690>, line 2)",
     "output_type": "error",
     "traceback": [
      "\u001b[0;36m  File \u001b[0;32m\"<ipython-input-24-8e87b3ea1690>\"\u001b[0;36m, line \u001b[0;32m2\u001b[0m\n\u001b[0;31m    DEFAULT_VEC=\u001b[0m\n\u001b[0m                ^\u001b[0m\n\u001b[0;31mSyntaxError\u001b[0m\u001b[0;31m:\u001b[0m invalid syntax\n"
     ]
    }
   ],
   "source": [
    "def extract_features2(sample, fasttext):\n",
    "    DEFAULT_VEC=\n",
    "    vecs_summary=fasttext.forward([x.lower() for x in sample['summary']])\n",
    "    vecs_text = fasttext.forward([x.lower() for x in sample['text']])\n",
    "    avg_summary = np.mean(vecs_summary,axis=0)\n",
    "    avg_text = np.mean(vecs_text,axis=0)\n",
    "    return scikit_normalize(np.concatenate((avg_summary,avg_text), axis=0).reshape(1,-1))"
   ]
  },
  {
   "cell_type": "code",
   "execution_count": null,
   "metadata": {},
   "outputs": [],
   "source": []
  }
 ],
 "metadata": {
  "kernelspec": {
   "display_name": "Python 3",
   "language": "python",
   "name": "python3"
  },
  "language_info": {
   "codemirror_mode": {
    "name": "ipython",
    "version": 3
   },
   "file_extension": ".py",
   "mimetype": "text/x-python",
   "name": "python",
   "nbconvert_exporter": "python",
   "pygments_lexer": "ipython3",
   "version": "3.6.7"
  }
 },
 "nbformat": 4,
 "nbformat_minor": 2
}
